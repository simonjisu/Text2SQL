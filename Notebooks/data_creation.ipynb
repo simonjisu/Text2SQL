{
 "cells": [
  {
   "cell_type": "code",
   "execution_count": 5,
   "id": "further-scratch",
   "metadata": {},
   "outputs": [],
   "source": [
    "from pathlib import Path\n",
    "import re\n",
    "import records\n",
    "from babel.numbers import parse_decimal, NumberFormatError\n",
    "\n",
    "schema_re = re.compile(r'\\((.+)\\)')\n",
    "num_re = re.compile(r'[-+]?\\d*\\.\\d+|\\d+')\n",
    "\n",
    "db_path = Path(\"./private/db\")\n",
    "db = records.Database(f\"sqlite:///{db_path / 'samsung_new.db'}\")"
   ]
  },
  {
   "cell_type": "markdown",
   "id": "60408fe2-b661-4fd0-b1d5-b9a3194167aa",
   "metadata": {},
   "source": [
    "테이블 명 확인해보기"
   ]
  },
  {
   "cell_type": "code",
   "execution_count": 3,
   "id": "unable-mills",
   "metadata": {},
   "outputs": [
    {
     "data": {
      "text/plain": [
       "['company', 'kospi', 'receipts']"
      ]
     },
     "execution_count": 3,
     "metadata": {},
     "output_type": "execute_result"
    }
   ],
   "source": [
    "db.get_table_names()"
   ]
  },
  {
   "cell_type": "markdown",
   "id": "ebaf9ff4-5eb1-4d78-878f-b4dcdb8df25f",
   "metadata": {},
   "source": [
    "계정명 확인해보기"
   ]
  },
  {
   "cell_type": "code",
   "execution_count": 6,
   "id": "imperial-browse",
   "metadata": {},
   "outputs": [
    {
     "data": {
      "text/plain": [
       "array(['유동자산', '비유동자산', '자산총계', '유동부채', '비유동부채', '부채총계', '이익잉여금', '자본총계',\n",
       "       '매출액', '영업이익', '법인세차감전 순이익', '당기순이익', '자본금'], dtype=object)"
      ]
     },
     "execution_count": 6,
     "metadata": {},
     "output_type": "execute_result"
    }
   ],
   "source": [
    "# receipts 를 판다스 테이블로 불러옴\n",
    "df_receipts = db.query(\"SELECT * FROM 'receipts'\").export(\"df\")\n",
    "# account_nm 계정명\n",
    "df_receipts[\"account_nm\"].unique()"
   ]
  },
  {
   "cell_type": "markdown",
   "id": "5901e832-8cfc-4ea7-88c4-d53ab9fb32d8",
   "metadata": {},
   "source": [
    "각 Column에 해당하는 의미\n",
    "- rcept_no: 접수번호\n",
    "- corp_code: 사업 연도\n",
    "- stock_code: 종목 코드\n",
    "- reprt_code: 보고서 코드\n",
    "- account_nm: 계정명 (예: 자본총계)\n",
    "- fs_div: 개별/연결구분 ('CFS'=연결재무제표, 'OFS'=재무제표)\n",
    "- fs_nm: 개별/연결명 ('연결재무제표' 또는 '재무제표')\n",
    "- sj_div: 재무제표구분 ('BS'=재무상태표, 'IS'=손익계산서)\n",
    "- sj_nm: 재무제표명 ( '재무상태표' 또는 '손익계산서')\n",
    "- thstrm_nm: 당기명\n",
    "- thstrm_dt: 당기일자\n",
    "- thstrm_amount: 당기금액\n",
    "- thstrm_add_amount: 당기누적금액\n",
    "- frmtrm_nm: 전기명\n",
    "- frmtrm_dt: 전기일자\n",
    "- frmtrm_amount: 전기금액\n",
    "- frmtrm_add_amount: 전기누적금액\n",
    "- bfefrmtrm_nm: 전전기명\n",
    "- bfefrmtrm_dt: 전전일자\n",
    "- bfefrmtrm_amount: 전전기금액"
   ]
  },
  {
   "cell_type": "markdown",
   "id": "9bfbaca9-814c-46fc-b3e7-76b240ab2735",
   "metadata": {},
   "source": [
    "테이블 스키마 확인"
   ]
  },
  {
   "cell_type": "code",
   "execution_count": 9,
   "id": "noble-plaintiff",
   "metadata": {},
   "outputs": [
    {
     "data": {
      "text/plain": [
       "{'index': 'INTEGER',\n",
       " 'rcept_no': 'TEXT',\n",
       " 'reprt_code': 'TEXT',\n",
       " 'bsns_year': 'INTEGER',\n",
       " 'corp_code': 'TEXT',\n",
       " 'stock_code': 'TEXT',\n",
       " 'fs_div': 'TEXT',\n",
       " 'fs_nm': 'TEXT',\n",
       " 'sj_div': 'TEXT',\n",
       " 'sj_nm': 'TEXT',\n",
       " 'account_nm': 'TEXT',\n",
       " 'thstrm_nm': 'TEXT',\n",
       " 'thstrm_dt': 'TEXT',\n",
       " 'thstrm_amount': 'INTEGER',\n",
       " 'frmtrm_nm': 'TEXT',\n",
       " 'frmtrm_dt': 'TEXT',\n",
       " 'frmtrm_amount': 'INTEGER',\n",
       " 'bfefrmtrm_nm': 'TEXT',\n",
       " 'bfefrmtrm_dt': 'TEXT',\n",
       " 'bfefrmtrm_amount': 'INTEGER'}"
      ]
     },
     "execution_count": 9,
     "metadata": {},
     "output_type": "execute_result"
    }
   ],
   "source": [
    "table_id = \"receipts\"\n",
    "table_info = db.query('SELECT sql from sqlite_master WHERE tbl_name = :name', name=table_id).all()[0].sql\n",
    "schema_str = schema_re.findall(table_info.replace(\"\\n\", \"\"))[0]\n",
    "schema = {}\n",
    "for tup in schema_str.split(', '):\n",
    "    c, t = tup.split()\n",
    "    schema[c.strip('\"')] = t\n",
    "schema"
   ]
  },
  {
   "cell_type": "code",
   "execution_count": 7,
   "id": "2c996dba-8fb5-46fd-9b1a-943f40c79555",
   "metadata": {},
   "outputs": [
    {
     "data": {
      "text/plain": [
       "Index(['index', 'rcept_no', 'reprt_code', 'bsns_year', 'corp_code',\n",
       "       'stock_code', 'fs_div', 'fs_nm', 'sj_div', 'sj_nm', 'account_nm',\n",
       "       'thstrm_nm', 'thstrm_dt', 'thstrm_amount', 'frmtrm_nm', 'frmtrm_dt',\n",
       "       'frmtrm_amount', 'bfefrmtrm_nm', 'bfefrmtrm_dt', 'bfefrmtrm_amount'],\n",
       "      dtype='object')"
      ]
     },
     "execution_count": 7,
     "metadata": {},
     "output_type": "execute_result"
    }
   ],
   "source": [
    "# receipts 테이블의 칼람명: SELECT 할 때 칼럼명을 불러야함\n",
    "df_receipts.columns"
   ]
  },
  {
   "cell_type": "markdown",
   "id": "ed4bf266-73c1-4967-a50b-ac1617593558",
   "metadata": {},
   "source": [
    "쿼리가 맞게 써졌는지 확인하는 방법:\n",
    "\n",
    "- 한글은 '' 로 감싸줘야함\n",
    "- 삼성전자의 2020년도의 유동자산은 어떻게 돼? \n",
    "    - SELECT는 당기금액인 thstrm_amount 선택해야하고\n",
    "    - FROM 은 테이블 명인 receipts\n",
    "    - WHERE 문은 조건인 2020년도면 회계연도인 bsns_year = 2020 와 조회하고 싶은 계정명 account_nm = '유동자산' "
   ]
  },
  {
   "cell_type": "code",
   "execution_count": 10,
   "metadata": {},
   "outputs": [
    {
     "output_type": "execute_result",
     "data": {
      "text/plain": [
       "{'frmtrm_amount': 26413442000000}"
      ]
     },
     "metadata": {},
     "execution_count": 10
    }
   ],
   "source": [
    "db.query(\"SELECT frmtrm_amount FROM receipts WHERE account_nm = '영업이익' AND bsns_year = 2016\").all()[0].as_dict()"
   ]
  },
  {
   "cell_type": "code",
   "execution_count": 16,
   "id": "8ff04873-b2e0-4968-9392-be0b069faa52",
   "metadata": {},
   "outputs": [
    {
     "output_type": "execute_result",
     "data": {
      "text/plain": [
       "198215579000000"
      ]
     },
     "metadata": {},
     "execution_count": 16
    }
   ],
   "source": [
    "list(db.query(\"SELECT thstrm_amount FROM receipts WHERE account_nm = '유동자산' AND bsns_year = 2020\").all()[0].as_dict().values())[0]"
   ]
  },
  {
   "cell_type": "markdown",
   "id": "85a51362-359c-4c25-85ab-4d13210358c5",
   "metadata": {},
   "source": [
    "판다스 테이블로 직접 조회해서 확인해보는 방법도 있음"
   ]
  },
  {
   "cell_type": "code",
   "execution_count": 15,
   "id": "f908c0ea-ccaa-412c-be63-747a3cf00f48",
   "metadata": {},
   "outputs": [
    {
     "data": {
      "text/plain": [
       "60    198215579000000\n",
       "Name: thstrm_amount, dtype: int64"
      ]
     },
     "execution_count": 15,
     "metadata": {},
     "output_type": "execute_result"
    }
   ],
   "source": [
    "df_receipts.loc[(df_receipts[\"bsns_year\"] == 2020) & (df_receipts[\"account_nm\"] == \"유동자산\"), \"thstrm_amount\"]"
   ]
  },
  {
   "cell_type": "markdown",
   "id": "98422762-ff60-45df-9a53-6d30715370b1",
   "metadata": {},
   "source": [
    "## 만들어야할 형태\n",
    "\n",
    "tsv 파일에 다음과 같은 string을 print 하면 됨"
   ]
  },
  {
   "cell_type": "code",
   "execution_count": 17,
   "id": "efb9f430-7331-4f38-b156-80ca589cae54",
   "metadata": {},
   "outputs": [
    {
     "name": "stdout",
     "output_type": "stream",
     "text": [
      "삼성전자의 2020년도의 유동자산은 어떻게 돼?\tSELECT thstrm_amount FROM receipts WHERE account_nm = '유동자산' AND bsns_year = 2020\t198215579000000\n"
     ]
    }
   ],
   "source": [
    "s = [\n",
    "    \"삼성전자의 2020년도의 유동자산은 어떻게 돼?\",  # Question\n",
    "    \"SELECT thstrm_amount FROM receipts WHERE account_nm = '유동자산' AND bsns_year = 2020\",  # SQL\n",
    "    \"198215579000000\"  # Answer\n",
    "] \n",
    "print(\"\\t\".join(s))"
   ]
  },
  {
   "cell_type": "markdown",
   "id": "dc006bc4-f522-44eb-b75e-4128b86d756a",
   "metadata": {},
   "source": [
    "---"
   ]
  },
  {
   "cell_type": "markdown",
   "id": "intermediate-activity",
   "metadata": {},
   "source": [
    "## 데이터 예시\n",
    "\n",
    "우선 terminology, `[시간]`, `[항목]`의 토큰을 정의하고, 그 다음에 unique한 자연어 질의 먼저 생성하고 SQL을 만들어야 할듯\n",
    "\n",
    "- 자연어 질의: 제 51 기에 삼성전자의 이익잉여금은 어떻게 돼?\n",
    "- SQL: \n",
    "    ```SQL\n",
    "    /* Possible answer 1 */\n",
    "    SELECT frmtrm_amount FROM receipts WHERE account_nm = '이익잉여금' AND bsns_year = 2020\n",
    "    /* Possible answer 2 */\n",
    "    SELECT thstrm_amount FROM receipts WHERE account_nm = '이익잉여금' AND bsns_year = 2019\n",
    "    /* Possible answer 3 */\n",
    "    SELECT thstrm_amount FROM receipts WHERE account_nm = '이익잉여금' AND thstrm_nm = '제 51 기'\n",
    "    /* Possible answer 4 */\n",
    "    SELECT frmtrm_amount FROM receipts WHERE account_nm = '이익잉여금' AND frmtrm_nm = '제 51 기'\n",
    "    ```\n",
    "\n",
    "<details>\n",
    "<summary>Jsonl 형태:</summary>\n",
    "\n",
    "```json\n",
    "{\n",
    "   \"phase\":1,\n",
    "   \"question\":\"제 51 기에 삼성전자의 유동자산은 어떻게 돼?\",\n",
    "   \"sql\":{\n",
    "      \"conds\":[\n",
    "         [10, 0, \"이익잉여금\"], [3, 0, 2020]\n",
    "      ],\n",
    "      \"sel\":16,\n",
    "      \"agg\":0\n",
    "   },\n",
    "   \"table_id\":\"receipts\"\n",
    "}\n",
    "{\n",
    "   \"phase\":1,\n",
    "   \"question\":\"제 51 기에 삼성전자의 유동자산은 어떻게 돼?\",\n",
    "   \"sql\":{\n",
    "      \"conds\":[\n",
    "         [10, 0, \"이익잉여금\"], [3, 0, 2019]\n",
    "      ],\n",
    "      \"sel\":13,\n",
    "      \"agg\":0\n",
    "   },\n",
    "   \"table_id\":\"receipts\"\n",
    "}\n",
    "...\n",
    "```\n",
    "</details>\n",
    "\n",
    "- `phase`: the phase in which the dataset was collected. We collected WikiSQL in two phases.\n",
    "- `question`: the natural language question written by the worker.\n",
    "- `table_id`: the ID of the table to which this question is addressed.\n",
    "- `sql`: the SQL query corresponding to the question. This has the following subfields:\n",
    "  - `sel`: the numerical index of the column that is being selected. You can find the actual column from the table.\n",
    "  - `agg`: the numerical index of the aggregation operator that is being used. You can find the actual operator from `Query.agg_ops` in `lib/query.py`.\n",
    "  - `conds`: a list of triplets `(column_index, operator_index, condition)` where:\n",
    "    - `column_index`: the numerical index of the condition column that is being used. You can find the actual column from the table.\n",
    "    - `operator_index`: the numerical index of the condition operator that is being used. You can find the actual operator from `Query.cond_ops` in `lib/query.py`.\n",
    "    - `condition`: the comparison value for the condition, in either `string` or `float` type."
   ]
  },
  {
   "cell_type": "markdown",
   "id": "spoken-instrumentation",
   "metadata": {},
   "source": [
    "질문: \n",
    "\n",
    "1. 계정항목?\n",
    "2. 추가 간단한 질문들?"
   ]
  },
  {
   "cell_type": "code",
   "execution_count": 2,
   "id": "official-explosion",
   "metadata": {},
   "outputs": [
    {
     "output_type": "error",
     "ename": "OperationalError",
     "evalue": "(sqlite3.OperationalError) no such table: receipts\n[SQL: SELECT frmtrm_amount FROM receipts WHERE account_nm = '이익잉여금' AND bsns_year = 2020]\n(Background on this error at: http://sqlalche.me/e/14/e3q8)",
     "traceback": [
      "\u001b[0;31m---------------------------------------------------------------------------\u001b[0m",
      "\u001b[0;31mOperationalError\u001b[0m                          Traceback (most recent call last)",
      "\u001b[0;32m~/opt/anaconda3/envs/t2sql/lib/python3.7/site-packages/sqlalchemy/engine/base.py\u001b[0m in \u001b[0;36m_execute_context\u001b[0;34m(self, dialect, constructor, statement, parameters, execution_options, *args, **kw)\u001b[0m\n\u001b[1;32m   1770\u001b[0m                     self.dialect.do_execute(\n\u001b[0;32m-> 1771\u001b[0;31m                         \u001b[0mcursor\u001b[0m\u001b[0;34m,\u001b[0m \u001b[0mstatement\u001b[0m\u001b[0;34m,\u001b[0m \u001b[0mparameters\u001b[0m\u001b[0;34m,\u001b[0m \u001b[0mcontext\u001b[0m\u001b[0;34m\u001b[0m\u001b[0;34m\u001b[0m\u001b[0m\n\u001b[0m\u001b[1;32m   1772\u001b[0m                     )\n",
      "\u001b[0;32m~/opt/anaconda3/envs/t2sql/lib/python3.7/site-packages/sqlalchemy/engine/default.py\u001b[0m in \u001b[0;36mdo_execute\u001b[0;34m(self, cursor, statement, parameters, context)\u001b[0m\n\u001b[1;32m    716\u001b[0m     \u001b[0;32mdef\u001b[0m \u001b[0mdo_execute\u001b[0m\u001b[0;34m(\u001b[0m\u001b[0mself\u001b[0m\u001b[0;34m,\u001b[0m \u001b[0mcursor\u001b[0m\u001b[0;34m,\u001b[0m \u001b[0mstatement\u001b[0m\u001b[0;34m,\u001b[0m \u001b[0mparameters\u001b[0m\u001b[0;34m,\u001b[0m \u001b[0mcontext\u001b[0m\u001b[0;34m=\u001b[0m\u001b[0;32mNone\u001b[0m\u001b[0;34m)\u001b[0m\u001b[0;34m:\u001b[0m\u001b[0;34m\u001b[0m\u001b[0;34m\u001b[0m\u001b[0m\n\u001b[0;32m--> 717\u001b[0;31m         \u001b[0mcursor\u001b[0m\u001b[0;34m.\u001b[0m\u001b[0mexecute\u001b[0m\u001b[0;34m(\u001b[0m\u001b[0mstatement\u001b[0m\u001b[0;34m,\u001b[0m \u001b[0mparameters\u001b[0m\u001b[0;34m)\u001b[0m\u001b[0;34m\u001b[0m\u001b[0;34m\u001b[0m\u001b[0m\n\u001b[0m\u001b[1;32m    718\u001b[0m \u001b[0;34m\u001b[0m\u001b[0m\n",
      "\u001b[0;31mOperationalError\u001b[0m: no such table: receipts",
      "\nThe above exception was the direct cause of the following exception:\n",
      "\u001b[0;31mOperationalError\u001b[0m                          Traceback (most recent call last)",
      "\u001b[0;32m<ipython-input-2-dbf8a3e8a867>\u001b[0m in \u001b[0;36m<module>\u001b[0;34m\u001b[0m\n\u001b[1;32m      6\u001b[0m ]\n\u001b[1;32m      7\u001b[0m \u001b[0;32mfor\u001b[0m \u001b[0msql\u001b[0m \u001b[0;32min\u001b[0m \u001b[0msqls\u001b[0m\u001b[0;34m:\u001b[0m\u001b[0;34m\u001b[0m\u001b[0;34m\u001b[0m\u001b[0m\n\u001b[0;32m----> 8\u001b[0;31m     \u001b[0mres\u001b[0m \u001b[0;34m=\u001b[0m \u001b[0mdb\u001b[0m\u001b[0;34m.\u001b[0m\u001b[0mquery\u001b[0m\u001b[0;34m(\u001b[0m\u001b[0msql\u001b[0m\u001b[0;34m)\u001b[0m\u001b[0;34m\u001b[0m\u001b[0;34m\u001b[0m\u001b[0m\n\u001b[0m\u001b[1;32m      9\u001b[0m     \u001b[0mprint\u001b[0m\u001b[0;34m(\u001b[0m\u001b[0mres\u001b[0m\u001b[0;34m.\u001b[0m\u001b[0mas_dict\u001b[0m\u001b[0;34m(\u001b[0m\u001b[0;34m)\u001b[0m\u001b[0;34m[\u001b[0m\u001b[0;36m0\u001b[0m\u001b[0;34m]\u001b[0m\u001b[0;34m)\u001b[0m\u001b[0;34m\u001b[0m\u001b[0;34m\u001b[0m\u001b[0m\n",
      "\u001b[0;32m~/opt/anaconda3/envs/t2sql/lib/python3.7/site-packages/records.py\u001b[0m in \u001b[0;36mquery\u001b[0;34m(self, query, fetchall, **params)\u001b[0m\n\u001b[1;32m    296\u001b[0m         \"\"\"\n\u001b[1;32m    297\u001b[0m         \u001b[0;32mwith\u001b[0m \u001b[0mself\u001b[0m\u001b[0;34m.\u001b[0m\u001b[0mget_connection\u001b[0m\u001b[0;34m(\u001b[0m\u001b[0;32mTrue\u001b[0m\u001b[0;34m)\u001b[0m \u001b[0;32mas\u001b[0m \u001b[0mconn\u001b[0m\u001b[0;34m:\u001b[0m\u001b[0;34m\u001b[0m\u001b[0;34m\u001b[0m\u001b[0m\n\u001b[0;32m--> 298\u001b[0;31m             \u001b[0;32mreturn\u001b[0m \u001b[0mconn\u001b[0m\u001b[0;34m.\u001b[0m\u001b[0mquery\u001b[0m\u001b[0;34m(\u001b[0m\u001b[0mquery\u001b[0m\u001b[0;34m,\u001b[0m \u001b[0mfetchall\u001b[0m\u001b[0;34m,\u001b[0m \u001b[0;34m**\u001b[0m\u001b[0mparams\u001b[0m\u001b[0;34m)\u001b[0m\u001b[0;34m\u001b[0m\u001b[0;34m\u001b[0m\u001b[0m\n\u001b[0m\u001b[1;32m    299\u001b[0m \u001b[0;34m\u001b[0m\u001b[0m\n\u001b[1;32m    300\u001b[0m     \u001b[0;32mdef\u001b[0m \u001b[0mbulk_query\u001b[0m\u001b[0;34m(\u001b[0m\u001b[0mself\u001b[0m\u001b[0;34m,\u001b[0m \u001b[0mquery\u001b[0m\u001b[0;34m,\u001b[0m \u001b[0;34m*\u001b[0m\u001b[0mmultiparams\u001b[0m\u001b[0;34m)\u001b[0m\u001b[0;34m:\u001b[0m\u001b[0;34m\u001b[0m\u001b[0;34m\u001b[0m\u001b[0m\n",
      "\u001b[0;32m~/opt/anaconda3/envs/t2sql/lib/python3.7/site-packages/records.py\u001b[0m in \u001b[0;36mquery\u001b[0;34m(self, query, fetchall, **params)\u001b[0m\n\u001b[1;32m    362\u001b[0m \u001b[0;34m\u001b[0m\u001b[0m\n\u001b[1;32m    363\u001b[0m         \u001b[0;31m# Execute the given query.\u001b[0m\u001b[0;34m\u001b[0m\u001b[0;34m\u001b[0m\u001b[0;34m\u001b[0m\u001b[0m\n\u001b[0;32m--> 364\u001b[0;31m         \u001b[0mcursor\u001b[0m \u001b[0;34m=\u001b[0m \u001b[0mself\u001b[0m\u001b[0;34m.\u001b[0m\u001b[0m_conn\u001b[0m\u001b[0;34m.\u001b[0m\u001b[0mexecute\u001b[0m\u001b[0;34m(\u001b[0m\u001b[0mtext\u001b[0m\u001b[0;34m(\u001b[0m\u001b[0mquery\u001b[0m\u001b[0;34m)\u001b[0m\u001b[0;34m,\u001b[0m \u001b[0;34m**\u001b[0m\u001b[0mparams\u001b[0m\u001b[0;34m)\u001b[0m \u001b[0;31m# TODO: PARAMS GO HERE\u001b[0m\u001b[0;34m\u001b[0m\u001b[0;34m\u001b[0m\u001b[0m\n\u001b[0m\u001b[1;32m    365\u001b[0m \u001b[0;34m\u001b[0m\u001b[0m\n\u001b[1;32m    366\u001b[0m         \u001b[0;31m# Row-by-row Record generator.\u001b[0m\u001b[0;34m\u001b[0m\u001b[0;34m\u001b[0m\u001b[0;34m\u001b[0m\u001b[0m\n",
      "\u001b[0;32m~/opt/anaconda3/envs/t2sql/lib/python3.7/site-packages/sqlalchemy/engine/base.py\u001b[0m in \u001b[0;36mexecute\u001b[0;34m(self, statement, *multiparams, **params)\u001b[0m\n\u001b[1;32m   1260\u001b[0m             )\n\u001b[1;32m   1261\u001b[0m         \u001b[0;32melse\u001b[0m\u001b[0;34m:\u001b[0m\u001b[0;34m\u001b[0m\u001b[0;34m\u001b[0m\u001b[0m\n\u001b[0;32m-> 1262\u001b[0;31m             \u001b[0;32mreturn\u001b[0m \u001b[0mmeth\u001b[0m\u001b[0;34m(\u001b[0m\u001b[0mself\u001b[0m\u001b[0;34m,\u001b[0m \u001b[0mmultiparams\u001b[0m\u001b[0;34m,\u001b[0m \u001b[0mparams\u001b[0m\u001b[0;34m,\u001b[0m \u001b[0m_EMPTY_EXECUTION_OPTS\u001b[0m\u001b[0;34m)\u001b[0m\u001b[0;34m\u001b[0m\u001b[0;34m\u001b[0m\u001b[0m\n\u001b[0m\u001b[1;32m   1263\u001b[0m \u001b[0;34m\u001b[0m\u001b[0m\n\u001b[1;32m   1264\u001b[0m     \u001b[0;32mdef\u001b[0m \u001b[0m_execute_function\u001b[0m\u001b[0;34m(\u001b[0m\u001b[0mself\u001b[0m\u001b[0;34m,\u001b[0m \u001b[0mfunc\u001b[0m\u001b[0;34m,\u001b[0m \u001b[0mmultiparams\u001b[0m\u001b[0;34m,\u001b[0m \u001b[0mparams\u001b[0m\u001b[0;34m,\u001b[0m \u001b[0mexecution_options\u001b[0m\u001b[0;34m)\u001b[0m\u001b[0;34m:\u001b[0m\u001b[0;34m\u001b[0m\u001b[0;34m\u001b[0m\u001b[0m\n",
      "\u001b[0;32m~/opt/anaconda3/envs/t2sql/lib/python3.7/site-packages/sqlalchemy/sql/elements.py\u001b[0m in \u001b[0;36m_execute_on_connection\u001b[0;34m(self, connection, multiparams, params, execution_options, _force)\u001b[0m\n\u001b[1;32m    323\u001b[0m         \u001b[0;32mif\u001b[0m \u001b[0m_force\u001b[0m \u001b[0;32mor\u001b[0m \u001b[0mself\u001b[0m\u001b[0;34m.\u001b[0m\u001b[0msupports_execution\u001b[0m\u001b[0;34m:\u001b[0m\u001b[0;34m\u001b[0m\u001b[0;34m\u001b[0m\u001b[0m\n\u001b[1;32m    324\u001b[0m             return connection._execute_clauseelement(\n\u001b[0;32m--> 325\u001b[0;31m                 \u001b[0mself\u001b[0m\u001b[0;34m,\u001b[0m \u001b[0mmultiparams\u001b[0m\u001b[0;34m,\u001b[0m \u001b[0mparams\u001b[0m\u001b[0;34m,\u001b[0m \u001b[0mexecution_options\u001b[0m\u001b[0;34m\u001b[0m\u001b[0;34m\u001b[0m\u001b[0m\n\u001b[0m\u001b[1;32m    326\u001b[0m             )\n\u001b[1;32m    327\u001b[0m         \u001b[0;32melse\u001b[0m\u001b[0;34m:\u001b[0m\u001b[0;34m\u001b[0m\u001b[0;34m\u001b[0m\u001b[0m\n",
      "\u001b[0;32m~/opt/anaconda3/envs/t2sql/lib/python3.7/site-packages/sqlalchemy/engine/base.py\u001b[0m in \u001b[0;36m_execute_clauseelement\u001b[0;34m(self, elem, multiparams, params, execution_options)\u001b[0m\n\u001b[1;32m   1459\u001b[0m             \u001b[0melem\u001b[0m\u001b[0;34m,\u001b[0m\u001b[0;34m\u001b[0m\u001b[0;34m\u001b[0m\u001b[0m\n\u001b[1;32m   1460\u001b[0m             \u001b[0mextracted_params\u001b[0m\u001b[0;34m,\u001b[0m\u001b[0;34m\u001b[0m\u001b[0;34m\u001b[0m\u001b[0m\n\u001b[0;32m-> 1461\u001b[0;31m             \u001b[0mcache_hit\u001b[0m\u001b[0;34m=\u001b[0m\u001b[0mcache_hit\u001b[0m\u001b[0;34m,\u001b[0m\u001b[0;34m\u001b[0m\u001b[0;34m\u001b[0m\u001b[0m\n\u001b[0m\u001b[1;32m   1462\u001b[0m         )\n\u001b[1;32m   1463\u001b[0m         \u001b[0;32mif\u001b[0m \u001b[0mhas_events\u001b[0m\u001b[0;34m:\u001b[0m\u001b[0;34m\u001b[0m\u001b[0;34m\u001b[0m\u001b[0m\n",
      "\u001b[0;32m~/opt/anaconda3/envs/t2sql/lib/python3.7/site-packages/sqlalchemy/engine/base.py\u001b[0m in \u001b[0;36m_execute_context\u001b[0;34m(self, dialect, constructor, statement, parameters, execution_options, *args, **kw)\u001b[0m\n\u001b[1;32m   1812\u001b[0m         \u001b[0;32mexcept\u001b[0m \u001b[0mBaseException\u001b[0m \u001b[0;32mas\u001b[0m \u001b[0me\u001b[0m\u001b[0;34m:\u001b[0m\u001b[0;34m\u001b[0m\u001b[0;34m\u001b[0m\u001b[0m\n\u001b[1;32m   1813\u001b[0m             self._handle_dbapi_exception(\n\u001b[0;32m-> 1814\u001b[0;31m                 \u001b[0me\u001b[0m\u001b[0;34m,\u001b[0m \u001b[0mstatement\u001b[0m\u001b[0;34m,\u001b[0m \u001b[0mparameters\u001b[0m\u001b[0;34m,\u001b[0m \u001b[0mcursor\u001b[0m\u001b[0;34m,\u001b[0m \u001b[0mcontext\u001b[0m\u001b[0;34m\u001b[0m\u001b[0;34m\u001b[0m\u001b[0m\n\u001b[0m\u001b[1;32m   1815\u001b[0m             )\n\u001b[1;32m   1816\u001b[0m \u001b[0;34m\u001b[0m\u001b[0m\n",
      "\u001b[0;32m~/opt/anaconda3/envs/t2sql/lib/python3.7/site-packages/sqlalchemy/engine/base.py\u001b[0m in \u001b[0;36m_handle_dbapi_exception\u001b[0;34m(self, e, statement, parameters, cursor, context)\u001b[0m\n\u001b[1;32m   1993\u001b[0m             \u001b[0;32melif\u001b[0m \u001b[0mshould_wrap\u001b[0m\u001b[0;34m:\u001b[0m\u001b[0;34m\u001b[0m\u001b[0;34m\u001b[0m\u001b[0m\n\u001b[1;32m   1994\u001b[0m                 util.raise_(\n\u001b[0;32m-> 1995\u001b[0;31m                     \u001b[0msqlalchemy_exception\u001b[0m\u001b[0;34m,\u001b[0m \u001b[0mwith_traceback\u001b[0m\u001b[0;34m=\u001b[0m\u001b[0mexc_info\u001b[0m\u001b[0;34m[\u001b[0m\u001b[0;36m2\u001b[0m\u001b[0;34m]\u001b[0m\u001b[0;34m,\u001b[0m \u001b[0mfrom_\u001b[0m\u001b[0;34m=\u001b[0m\u001b[0me\u001b[0m\u001b[0;34m\u001b[0m\u001b[0;34m\u001b[0m\u001b[0m\n\u001b[0m\u001b[1;32m   1996\u001b[0m                 )\n\u001b[1;32m   1997\u001b[0m             \u001b[0;32melse\u001b[0m\u001b[0;34m:\u001b[0m\u001b[0;34m\u001b[0m\u001b[0;34m\u001b[0m\u001b[0m\n",
      "\u001b[0;32m~/opt/anaconda3/envs/t2sql/lib/python3.7/site-packages/sqlalchemy/util/compat.py\u001b[0m in \u001b[0;36mraise_\u001b[0;34m(***failed resolving arguments***)\u001b[0m\n\u001b[1;32m    205\u001b[0m \u001b[0;34m\u001b[0m\u001b[0m\n\u001b[1;32m    206\u001b[0m         \u001b[0;32mtry\u001b[0m\u001b[0;34m:\u001b[0m\u001b[0;34m\u001b[0m\u001b[0;34m\u001b[0m\u001b[0m\n\u001b[0;32m--> 207\u001b[0;31m             \u001b[0;32mraise\u001b[0m \u001b[0mexception\u001b[0m\u001b[0;34m\u001b[0m\u001b[0;34m\u001b[0m\u001b[0m\n\u001b[0m\u001b[1;32m    208\u001b[0m         \u001b[0;32mfinally\u001b[0m\u001b[0;34m:\u001b[0m\u001b[0;34m\u001b[0m\u001b[0;34m\u001b[0m\u001b[0m\n\u001b[1;32m    209\u001b[0m             \u001b[0;31m# credit to\u001b[0m\u001b[0;34m\u001b[0m\u001b[0;34m\u001b[0m\u001b[0;34m\u001b[0m\u001b[0m\n",
      "\u001b[0;32m~/opt/anaconda3/envs/t2sql/lib/python3.7/site-packages/sqlalchemy/engine/base.py\u001b[0m in \u001b[0;36m_execute_context\u001b[0;34m(self, dialect, constructor, statement, parameters, execution_options, *args, **kw)\u001b[0m\n\u001b[1;32m   1769\u001b[0m                 \u001b[0;32mif\u001b[0m \u001b[0;32mnot\u001b[0m \u001b[0mevt_handled\u001b[0m\u001b[0;34m:\u001b[0m\u001b[0;34m\u001b[0m\u001b[0;34m\u001b[0m\u001b[0m\n\u001b[1;32m   1770\u001b[0m                     self.dialect.do_execute(\n\u001b[0;32m-> 1771\u001b[0;31m                         \u001b[0mcursor\u001b[0m\u001b[0;34m,\u001b[0m \u001b[0mstatement\u001b[0m\u001b[0;34m,\u001b[0m \u001b[0mparameters\u001b[0m\u001b[0;34m,\u001b[0m \u001b[0mcontext\u001b[0m\u001b[0;34m\u001b[0m\u001b[0;34m\u001b[0m\u001b[0m\n\u001b[0m\u001b[1;32m   1772\u001b[0m                     )\n\u001b[1;32m   1773\u001b[0m \u001b[0;34m\u001b[0m\u001b[0m\n",
      "\u001b[0;32m~/opt/anaconda3/envs/t2sql/lib/python3.7/site-packages/sqlalchemy/engine/default.py\u001b[0m in \u001b[0;36mdo_execute\u001b[0;34m(self, cursor, statement, parameters, context)\u001b[0m\n\u001b[1;32m    715\u001b[0m \u001b[0;34m\u001b[0m\u001b[0m\n\u001b[1;32m    716\u001b[0m     \u001b[0;32mdef\u001b[0m \u001b[0mdo_execute\u001b[0m\u001b[0;34m(\u001b[0m\u001b[0mself\u001b[0m\u001b[0;34m,\u001b[0m \u001b[0mcursor\u001b[0m\u001b[0;34m,\u001b[0m \u001b[0mstatement\u001b[0m\u001b[0;34m,\u001b[0m \u001b[0mparameters\u001b[0m\u001b[0;34m,\u001b[0m \u001b[0mcontext\u001b[0m\u001b[0;34m=\u001b[0m\u001b[0;32mNone\u001b[0m\u001b[0;34m)\u001b[0m\u001b[0;34m:\u001b[0m\u001b[0;34m\u001b[0m\u001b[0;34m\u001b[0m\u001b[0m\n\u001b[0;32m--> 717\u001b[0;31m         \u001b[0mcursor\u001b[0m\u001b[0;34m.\u001b[0m\u001b[0mexecute\u001b[0m\u001b[0;34m(\u001b[0m\u001b[0mstatement\u001b[0m\u001b[0;34m,\u001b[0m \u001b[0mparameters\u001b[0m\u001b[0;34m)\u001b[0m\u001b[0;34m\u001b[0m\u001b[0;34m\u001b[0m\u001b[0m\n\u001b[0m\u001b[1;32m    718\u001b[0m \u001b[0;34m\u001b[0m\u001b[0m\n\u001b[1;32m    719\u001b[0m     \u001b[0;32mdef\u001b[0m \u001b[0mdo_execute_no_params\u001b[0m\u001b[0;34m(\u001b[0m\u001b[0mself\u001b[0m\u001b[0;34m,\u001b[0m \u001b[0mcursor\u001b[0m\u001b[0;34m,\u001b[0m \u001b[0mstatement\u001b[0m\u001b[0;34m,\u001b[0m \u001b[0mcontext\u001b[0m\u001b[0;34m=\u001b[0m\u001b[0;32mNone\u001b[0m\u001b[0;34m)\u001b[0m\u001b[0;34m:\u001b[0m\u001b[0;34m\u001b[0m\u001b[0;34m\u001b[0m\u001b[0m\n",
      "\u001b[0;31mOperationalError\u001b[0m: (sqlite3.OperationalError) no such table: receipts\n[SQL: SELECT frmtrm_amount FROM receipts WHERE account_nm = '이익잉여금' AND bsns_year = 2020]\n(Background on this error at: http://sqlalche.me/e/14/e3q8)"
     ]
    }
   ],
   "source": [
    "sqls = [\n",
    "    \"SELECT frmtrm_amount FROM receipts WHERE account_nm = '이익잉여금' AND bsns_year = 2020\",\n",
    "    \"SELECT thstrm_amount FROM receipts WHERE account_nm = '이익잉여금' AND bsns_year = 2019\",\n",
    "    \"SELECT thstrm_amount FROM receipts WHERE account_nm = '이익잉여금' AND thstrm_nm = '제 51 기'\",\n",
    "    \"SELECT frmtrm_amount FROM receipts WHERE account_nm = '이익잉여금' AND frmtrm_nm = '제 51 기'\"\n",
    "]\n",
    "for sql in sqls:\n",
    "    res = db.query(sql)\n",
    "    print(res.as_dict()[0])"
   ]
  },
  {
   "cell_type": "code",
   "execution_count": 167,
   "id": "floating-civilian",
   "metadata": {},
   "outputs": [],
   "source": [
    "import json\n",
    "from typing import Union\n",
    "from moz_sql_parser import parse as sql_parser\n",
    "schema_re = re.compile(r'\\((.+)\\)')\n",
    "\n",
    "class Generator:\n",
    "    \n",
    "    agg_ops = [\"\", \"MAX\", \"MIN\", \"COUNT\", \"SUM\", \"AVG\"]\n",
    "    cond_ops = [\"=\", \">\", \"<\", \"OP\", \">=\", \"<=\"]\n",
    "    cond_ops_dict = {\"eq\": \"=\", \"lt\": \"<\",  \"lte\": \"<=\", \"gt\": \">\", \"gte\": \">=\", \"neq\": \"<>\"}\n",
    "\n",
    "    syms = [\"SELECT\", \"WHERE\", \"AND\", \"COL\", \"TABLE\", \"CAPTION\", \"PAGE\", \"SECTION\", \"OP\", \"COND\", \"QUESTION\", \"AGG\", \"AGGOPS\", \"CONDOPS\"]\n",
    "    \n",
    "    def __init__(self, db_path: Union[Path, str]) -> None:\n",
    "        self.db = records.Database(f\"sqlite:///{db_path}\")\n",
    "        self._reset()\n",
    "        \n",
    "    def _reset(self) -> None:\n",
    "        self.table_id = None\n",
    "        self.schema = None\n",
    "        self.col2idx = None\n",
    "        \n",
    "    def get_schema_info(self, table_id: str) -> None:\n",
    "        table_info = self.db.query('SELECT sql from sqlite_master WHERE tbl_name = :name', name=table_id).all()[0].sql\n",
    "        schema_str = schema_re.findall(table_info.replace(\"\\n\", \"\"))[0]\n",
    "        schema = {}\n",
    "        for tup in schema_str.split(', '):\n",
    "            c, t = tup.split()\n",
    "            schema[c.strip('\"')] = t\n",
    "        col2idx = {c: i for i, c in enumerate(schema.keys())}\n",
    "        \n",
    "        self.table_id = table_id\n",
    "        self.schema = schema\n",
    "        self.col2idx = col2idx\n",
    "    \n",
    "    def to_jsonl(self, sql: str, question: str) -> dict:\n",
    "        r\"\"\"\n",
    "        # Only 1 agg and select\n",
    "        example:\n",
    "        - sql: \"SELECT frmtrm_amount FROM receipts WHERE account_nm = '이익잉여금' AND bsns_year = 2020\",\n",
    "        - question: \"제 51 기에 삼성전자의 유동자산은 어떻게 돼?\"\n",
    "        \n",
    "        return:\n",
    "        {\n",
    "           \"phase\":1,\n",
    "           \"question\":\"제 51 기에 삼성전자의 유동자산은 어떻게 돼?\",\n",
    "           \"sql\":{\n",
    "              \"conds\":[\n",
    "                 [10, 0, \"이익잉여금\"], [3, 0, 2020]\n",
    "              ],\n",
    "              \"sel\":16,\n",
    "              \"agg\":0\n",
    "           },\n",
    "           \"table_id\":\"receipts\"\n",
    "        }\n",
    "        \n",
    "        \"\"\"\n",
    "        \n",
    "        parsed = sql_parser(sql)\n",
    "        table_id = parsed[\"from\"]\n",
    "        jsonl = {\"phase\": 1, \"question\": question, \"table_id\": table_id, \"sql\": {}}\n",
    "        \n",
    "        if (self.table_id is None) or (self.table_id != table_id):\n",
    "            self.get_schema_info(table_id)\n",
    "#         else:\n",
    "#             raise AttributeError(\"No schema information, please make sure to call `self.get_schema_info`\")\n",
    "        \n",
    "        select_parsed = parsed[\"select\"][\"value\"]\n",
    "        if isinstance(select_parsed, dict):\n",
    "            # Only 1 agg and select\n",
    "            agg_name = list(select_parsed)[0]\n",
    "            agg = self.agg_ops.index(agg_name.upper())\n",
    "            select_name = select_parsed[agg]\n",
    "        elif isinstance(select_parsed, str):\n",
    "            agg = 0\n",
    "            select_name = select_parsed\n",
    "        else:\n",
    "            raise TypeError(f\"Parsed in select clause should be `str` or `dict` type, Current is {select_parsed}\")\n",
    "        select = self.col2idx.get(select_name)\n",
    "        \n",
    "        conds_parsed = parsed[\"where\"]\n",
    "        conds = []\n",
    "        for operator, conditions in conds_parsed.items():\n",
    "            cond = {operator.upper(): []}\n",
    "            for condition in conditions:\n",
    "                key, values = tuple(condition.items())[0]\n",
    "\n",
    "                if self.cond_ops_dict.get(key) is None:\n",
    "                    raise KeyError(f\"No operator: {key}\")\n",
    "                else:\n",
    "                    op = self.cond_ops_dict.get(key)\n",
    "                    op_idx = self.cond_ops.index(op)\n",
    "                    \n",
    "                if self.col2idx.get(values[0]) is None:\n",
    "                    raise KeyError(f\"No column name: {values[0]}\")\n",
    "                else:\n",
    "                    col_idx = self.col2idx.get(values[0])\n",
    "                    \n",
    "                \n",
    "                if isinstance(values[1], dict):\n",
    "                    # make sure all string values insert '' when parse to sql again\n",
    "                    cond_value = values[1][\"literal\"]\n",
    "                else:\n",
    "                    cond_value = values[1]\n",
    "                cond[operator.upper()].append([col_idx, op_idx, cond_value])\n",
    "            conds.append(cond)\n",
    "        \n",
    "        jsonl[\"sql\"][\"sel\"] = select\n",
    "        jsonl[\"sql\"][\"agg\"] = agg\n",
    "        jsonl[\"sql\"][\"conds\"] = conds\n",
    "        return jsonl\n",
    "        "
   ]
  },
  {
   "cell_type": "code",
   "execution_count": 168,
   "id": "global-complaint",
   "metadata": {},
   "outputs": [],
   "source": [
    "sql_gen = Generator(db_path=db_path / \"samsung_new.db\")"
   ]
  },
  {
   "cell_type": "code",
   "execution_count": 169,
   "id": "subtle-january",
   "metadata": {},
   "outputs": [],
   "source": [
    "sql_gen.schema"
   ]
  },
  {
   "cell_type": "code",
   "execution_count": 170,
   "id": "designed-magazine",
   "metadata": {},
   "outputs": [],
   "source": [
    "jsons = []\n",
    "for sql in sqls:\n",
    "    jsons.append(sql_gen.to_jsonl(sql, \"제 51 기에 삼성전자의 이익잉여금은 어떻게 돼?\"))"
   ]
  },
  {
   "cell_type": "code",
   "execution_count": 171,
   "id": "selected-shopping",
   "metadata": {},
   "outputs": [
    {
     "data": {
      "text/plain": [
       "[{'phase': 1,\n",
       "  'question': '제 51 기에 삼성전자의 유동자산은 어떻게 돼?',\n",
       "  'table_id': 'receipts',\n",
       "  'sql': {'sel': 16,\n",
       "   'agg': 0,\n",
       "   'conds': [{'AND': [[10, 0, '이익잉여금'], [3, 0, 2020]]}]}},\n",
       " {'phase': 1,\n",
       "  'question': '제 51 기에 삼성전자의 유동자산은 어떻게 돼?',\n",
       "  'table_id': 'receipts',\n",
       "  'sql': {'sel': 13,\n",
       "   'agg': 0,\n",
       "   'conds': [{'AND': [[10, 0, '이익잉여금'], [3, 0, 2019]]}]}},\n",
       " {'phase': 1,\n",
       "  'question': '제 51 기에 삼성전자의 유동자산은 어떻게 돼?',\n",
       "  'table_id': 'receipts',\n",
       "  'sql': {'sel': 13,\n",
       "   'agg': 0,\n",
       "   'conds': [{'AND': [[10, 0, '이익잉여금'], [11, 0, '제 51 기']]}]}},\n",
       " {'phase': 1,\n",
       "  'question': '제 51 기에 삼성전자의 유동자산은 어떻게 돼?',\n",
       "  'table_id': 'receipts',\n",
       "  'sql': {'sel': 16,\n",
       "   'agg': 0,\n",
       "   'conds': [{'AND': [[10, 0, '이익잉여금'], [14, 0, '제 51 기']]}]}}]"
      ]
     },
     "execution_count": 171,
     "metadata": {},
     "output_type": "execute_result"
    }
   ],
   "source": [
    "jsons"
   ]
  }
 ],
 "metadata": {
  "kernelspec": {
   "name": "python3710jvsc74a57bd0af542be4a8450fa7d83b277d293c7a9824db21cc637ad20fe5f56faec51b2c12",
   "display_name": "Python 3.7.10 64-bit ('t2sql': conda)"
  },
  "language_info": {
   "codemirror_mode": {
    "name": "ipython",
    "version": 3
   },
   "file_extension": ".py",
   "mimetype": "text/x-python",
   "name": "python",
   "nbconvert_exporter": "python",
   "pygments_lexer": "ipython3",
   "version": "3.7.10"
  }
 },
 "nbformat": 4,
 "nbformat_minor": 5
}