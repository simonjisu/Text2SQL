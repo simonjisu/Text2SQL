{
 "cells": [
  {
   "cell_type": "code",
   "execution_count": 1,
   "id": "7a819b17",
   "metadata": {},
   "outputs": [],
   "source": [
    "from pathlib import Path\n",
    "import re\n",
    "import records\n",
    "from babel.numbers import parse_decimal, NumberFormatError\n",
    "\n",
    "schema_re = re.compile(r'\\((.+)\\)')\n",
    "num_re = re.compile(r'[-+]?\\d*\\.\\d+|\\d+')\n",
    "\n",
    "db_path = Path(\"./private\")\n",
    "db = records.Database(f\"sqlite:///{db_path / 'kospi.db'}\")"
   ]
  },
  {
   "cell_type": "markdown",
   "id": "28db0595",
   "metadata": {},
   "source": [
    "테이블 명 확인해보기"
   ]
  },
  {
   "cell_type": "code",
   "execution_count": 2,
   "id": "6f0e6e77",
   "metadata": {
    "tags": []
   },
   "outputs": [
    {
     "data": {
      "text/plain": [
       "['363280', '365550', '900140', 'company', 'kospi']"
      ]
     },
     "execution_count": 2,
     "metadata": {},
     "output_type": "execute_result"
    }
   ],
   "source": [
    "db.get_table_names()[-5:]"
   ]
  },
  {
   "cell_type": "code",
   "execution_count": 20,
   "id": "d7059a78-5f48-4ca8-8735-e465c13ae2f3",
   "metadata": {},
   "outputs": [],
   "source": [
    "with open(\"./company_codes.txt\", \"w\", encoding=\"utf-8\") as file:\n",
    "    for c in db.get_table_names()[:-2]:\n",
    "        print(c, file=file)"
   ]
  },
  {
   "cell_type": "markdown",
   "id": "2f34746e",
   "metadata": {},
   "source": [
    "각 Column에 해당하는 의미\n",
    "- rcept_no: 접수번호\n",
    "- corp_code: 사업 연도\n",
    "- stock_code: 종목 코드\n",
    "- reprt_code: 보고서 코드\n",
    "- account_nm: 계정명 (예: 자본총계)\n",
    "- fs_div: 개별/연결구분 ('CFS'=연결재무제표, 'OFS'=재무제표)\n",
    "- fs_nm: 개별/연결명 ('연결재무제표' 또는 '재무제표')\n",
    "- sj_div: 재무제표구분 ('BS'=재무상태표, 'IS'=손익계산서)\n",
    "- sj_nm: 재무제표명 ( '재무상태표' 또는 '손익계산서')\n",
    "- thstrm_nm: 당기명\n",
    "- thstrm_dt: 당기일자\n",
    "- thstrm_amount: 당기금액\n",
    "- thstrm_add_amount: 당기누적금액\n",
    "- frmtrm_nm: 전기명\n",
    "- frmtrm_dt: 전기일자\n",
    "- frmtrm_amount: 전기금액\n",
    "- frmtrm_add_amount: 전기누적금액\n",
    "- bfefrmtrm_nm: 전전기명\n",
    "- bfefrmtrm_dt: 전전일자\n",
    "- bfefrmtrm_amount: 전전기금액"
   ]
  },
  {
   "cell_type": "markdown",
   "id": "bc5b6215",
   "metadata": {},
   "source": [
    "테이블 스키마 확인"
   ]
  },
  {
   "cell_type": "code",
   "execution_count": 3,
   "id": "22a6f7cc",
   "metadata": {},
   "outputs": [
    {
     "data": {
      "text/plain": [
       "{'index': 'INTEGER',\n",
       " 'rcept_no': 'TEXT',\n",
       " 'reprt_code': 'TEXT',\n",
       " 'bsns_year': 'INTEGER',\n",
       " 'corp_code': 'TEXT',\n",
       " 'stock_code': 'TEXT',\n",
       " 'fs_div': 'TEXT',\n",
       " 'fs_nm': 'TEXT',\n",
       " 'sj_div': 'TEXT',\n",
       " 'sj_nm': 'TEXT',\n",
       " 'account_nm': 'TEXT',\n",
       " 'thstrm_nm': 'TEXT',\n",
       " 'thstrm_dt': 'TEXT',\n",
       " 'thstrm_amount': 'INTEGER'}"
      ]
     },
     "execution_count": 3,
     "metadata": {},
     "output_type": "execute_result"
    }
   ],
   "source": [
    "table_id = \"095570\"\n",
    "table_info = db.query('SELECT sql from sqlite_master WHERE tbl_name = :name', name=table_id).all()[0].sql\n",
    "schema_str = schema_re.findall(table_info.replace(\"\\n\", \"\"))[0]\n",
    "schema = {}\n",
    "for tup in schema_str.split(', '):\n",
    "    c, t = tup.split()\n",
    "    schema[c.strip('\"')] = t\n",
    "schema"
   ]
  },
  {
   "cell_type": "markdown",
   "id": "6b56da86",
   "metadata": {},
   "source": [
    "# Data Generation\n",
    "\n",
    "1. Kospi\n",
    "2. Company\n",
    "2. recepts: stock codes\n",
    "\n",
    "## Table: KOSPI\n",
    "\n",
    "질문 리스트\n",
    "\n",
    "- 심볼에 해당하는 회사 이름: `SELECT Name FROM kospi WHERE Symbol = '095570'`\n",
    "- 섹터:\n",
    "    - 심볼에 해당하는 섹터는 ? `SELECT Sector FROM kospi WHERE Symbol = '095570'`\n",
    "    - 이름에 해당하는 섹터는 ? `SELECT Sector FROM kospi WHERE Symbol = 'AJ네트웍스'`\n",
    "- 산업:\n",
    "    - 심볼에 해당하는 산업은 ? `SELECT Industry FROM kospi WHERE Symbol = '095570'`\n",
    "    - 이름에 해당하는 산업은 ? `SELECT Industry FROM kospi WHERE Symbol = 'AJ네트웍스'`\n",
    "    \n",
    "반대로는?\n",
    "\n",
    "- 산업: \n",
    "    - XX 업을하는 회사는 어디? `SELECT Name FROM kospi WHERE Sector = '산업용 기계 및 장비 임대업'`\n",
    "    - XX 업을하는 회사 심볼은? `SELECT Symbol FROM kospi WHERE Sector = '산업용 기계 및 장비 임대업'`"
   ]
  },
  {
   "cell_type": "code",
   "execution_count": 4,
   "id": "74fdcfbd",
   "metadata": {},
   "outputs": [
    {
     "name": "stdout",
     "output_type": "stream",
     "text": [
      "[('NanumBarunGothic', 'C:\\\\Users\\\\simon\\\\AppData\\\\Local\\\\Microsoft\\\\Windows\\\\Fonts\\\\NanumBarunGothicLight.ttf'), ('NanumBarunGothic', 'C:\\\\Users\\\\simon\\\\AppData\\\\Local\\\\Microsoft\\\\Windows\\\\Fonts\\\\NanumBarunGothicBold.ttf'), ('NanumBarunGothic', 'C:\\\\Users\\\\simon\\\\AppData\\\\Local\\\\Microsoft\\\\Windows\\\\Fonts\\\\NanumBarunGothic.ttf'), ('NanumBarunGothic', 'C:\\\\Users\\\\simon\\\\AppData\\\\Local\\\\Microsoft\\\\Windows\\\\Fonts\\\\NanumBarunGothicUltraLight.ttf')]\n"
     ]
    }
   ],
   "source": [
    "import os\n",
    "from pyjosa.josa import Josa \n",
    "import seaborn as sns\n",
    "import matplotlib as mpl\n",
    "import matplotlib.pyplot as plt\n",
    "import matplotlib.font_manager as fm\n",
    "from tqdm.notebook import tqdm\n",
    "\n",
    "# 그래프에서 마이너스 폰트 깨지는 문제에 대한 대처\n",
    "mpl.rcParams['axes.unicode_minus'] = False\n",
    "if os.name == \"nt\":\n",
    "    print([(f.name, f.fname) for f in fm.fontManager.ttflist if 'Nanum' in f.name])\n",
    "    plt.rcParams[\"font.family\"] = 'NanumBarunGothic'\n",
    "else:\n",
    "    if len([(f.name, f.fname) for f in fm.fontManager.ttflist if 'Nanum' in f.name]) == 0:\n",
    "        fm.fontManager.addfont(\"/usr/share/fonts/truetype/nanum-gothic/NanumGothic.ttf\")\n",
    "    print([(f.name, f.fname) for f in fm.fontManager.ttflist if 'Nanum' in f.name])\n",
    "    plt.rcParams[\"font.family\"] = 'NanumGothic'"
   ]
  },
  {
   "cell_type": "code",
   "execution_count": 5,
   "id": "afcc71a3",
   "metadata": {},
   "outputs": [
    {
     "data": {
      "text/html": [
       "<div>\n",
       "<style scoped>\n",
       "    .dataframe tbody tr th:only-of-type {\n",
       "        vertical-align: middle;\n",
       "    }\n",
       "\n",
       "    .dataframe tbody tr th {\n",
       "        vertical-align: top;\n",
       "    }\n",
       "\n",
       "    .dataframe thead th {\n",
       "        text-align: right;\n",
       "    }\n",
       "</style>\n",
       "<table border=\"1\" class=\"dataframe\">\n",
       "  <thead>\n",
       "    <tr style=\"text-align: right;\">\n",
       "      <th></th>\n",
       "      <th>index</th>\n",
       "      <th>Symbol</th>\n",
       "      <th>Market</th>\n",
       "      <th>Name</th>\n",
       "      <th>Sector</th>\n",
       "      <th>Industry</th>\n",
       "      <th>ListingDate</th>\n",
       "      <th>SettleMonth</th>\n",
       "      <th>Representative</th>\n",
       "      <th>HomePage</th>\n",
       "      <th>Region</th>\n",
       "    </tr>\n",
       "  </thead>\n",
       "  <tbody>\n",
       "    <tr>\n",
       "      <th>0</th>\n",
       "      <td>0</td>\n",
       "      <td>095570</td>\n",
       "      <td>KOSPI</td>\n",
       "      <td>AJ네트웍스</td>\n",
       "      <td>산업용 기계 및 장비 임대업</td>\n",
       "      <td>렌탈(파렛트, OA장비, 건설장비)</td>\n",
       "      <td>2015-08-21</td>\n",
       "      <td>12월</td>\n",
       "      <td>박대현</td>\n",
       "      <td>http://www.ajnet.co.kr</td>\n",
       "      <td>서울특별시</td>\n",
       "    </tr>\n",
       "    <tr>\n",
       "      <th>1</th>\n",
       "      <td>1</td>\n",
       "      <td>006840</td>\n",
       "      <td>KOSPI</td>\n",
       "      <td>AK홀딩스</td>\n",
       "      <td>기타 금융업</td>\n",
       "      <td>지주사업</td>\n",
       "      <td>1999-08-11</td>\n",
       "      <td>12월</td>\n",
       "      <td>채형석, 이석주(각자 대표이사)</td>\n",
       "      <td>http://www.aekyunggroup.co.kr</td>\n",
       "      <td>서울특별시</td>\n",
       "    </tr>\n",
       "    <tr>\n",
       "      <th>2</th>\n",
       "      <td>2</td>\n",
       "      <td>027410</td>\n",
       "      <td>KOSPI</td>\n",
       "      <td>BGF</td>\n",
       "      <td>기타 금융업</td>\n",
       "      <td>지주회사</td>\n",
       "      <td>2014-05-19</td>\n",
       "      <td>12월</td>\n",
       "      <td>홍정국</td>\n",
       "      <td>http://www.bgf.co.kr</td>\n",
       "      <td>서울특별시</td>\n",
       "    </tr>\n",
       "    <tr>\n",
       "      <th>3</th>\n",
       "      <td>3</td>\n",
       "      <td>282330</td>\n",
       "      <td>KOSPI</td>\n",
       "      <td>BGF리테일</td>\n",
       "      <td>종합 소매업</td>\n",
       "      <td>체인화 편의점</td>\n",
       "      <td>2017-12-08</td>\n",
       "      <td>12월</td>\n",
       "      <td>이건준</td>\n",
       "      <td>http://www.bgfretail.com</td>\n",
       "      <td>서울특별시</td>\n",
       "    </tr>\n",
       "    <tr>\n",
       "      <th>4</th>\n",
       "      <td>4</td>\n",
       "      <td>138930</td>\n",
       "      <td>KOSPI</td>\n",
       "      <td>BNK금융지주</td>\n",
       "      <td>기타 금융업</td>\n",
       "      <td>금융지주회사</td>\n",
       "      <td>2011-03-30</td>\n",
       "      <td>12월</td>\n",
       "      <td>김지완</td>\n",
       "      <td>http://www.bnkfg.com</td>\n",
       "      <td>부산광역시</td>\n",
       "    </tr>\n",
       "  </tbody>\n",
       "</table>\n",
       "</div>"
      ],
      "text/plain": [
       "   index  Symbol Market     Name           Sector             Industry  \\\n",
       "0      0  095570  KOSPI   AJ네트웍스  산업용 기계 및 장비 임대업  렌탈(파렛트, OA장비, 건설장비)   \n",
       "1      1  006840  KOSPI    AK홀딩스           기타 금융업                 지주사업   \n",
       "2      2  027410  KOSPI      BGF           기타 금융업                 지주회사   \n",
       "3      3  282330  KOSPI   BGF리테일           종합 소매업              체인화 편의점   \n",
       "4      4  138930  KOSPI  BNK금융지주           기타 금융업               금융지주회사   \n",
       "\n",
       "  ListingDate SettleMonth     Representative                       HomePage  \\\n",
       "0  2015-08-21         12월                박대현         http://www.ajnet.co.kr   \n",
       "1  1999-08-11         12월  채형석, 이석주(각자 대표이사)  http://www.aekyunggroup.co.kr   \n",
       "2  2014-05-19         12월                홍정국           http://www.bgf.co.kr   \n",
       "3  2017-12-08         12월                이건준       http://www.bgfretail.com   \n",
       "4  2011-03-30         12월                김지완           http://www.bnkfg.com   \n",
       "\n",
       "  Region  \n",
       "0  서울특별시  \n",
       "1  서울특별시  \n",
       "2  서울특별시  \n",
       "3  서울특별시  \n",
       "4  부산광역시  "
      ]
     },
     "execution_count": 5,
     "metadata": {},
     "output_type": "execute_result"
    }
   ],
   "source": [
    "df_kospi = db.query(\"SELECT * FROM kospi\").export(\"df\")\n",
    "df_kospi.head()"
   ]
  },
  {
   "cell_type": "code",
   "execution_count": 6,
   "id": "c73519ba",
   "metadata": {},
   "outputs": [],
   "source": [
    "data_path = Path(\"./newdata\") / \"total\"\n",
    "if not data_path.exists():\n",
    "    data_path.mkdir(parents=True)"
   ]
  },
  {
   "cell_type": "code",
   "execution_count": 7,
   "id": "d06a8c47",
   "metadata": {},
   "outputs": [
    {
     "data": {
      "image/png": "[encoded data removed]",
      "text/plain": [
       "<Figure size 864x1152 with 1 Axes>"
      ]
     },
     "metadata": {
      "needs_background": "light"
     },
     "output_type": "display_data"
    }
   ],
   "source": [
    "fig, ax = plt.subplots(1, 1, figsize=(12, 16))\n",
    "sns.countplot(y=\"Sector\", data=df_kospi, ax=ax)\n",
    "plt.tight_layout()\n",
    "plt.show()"
   ]
  },
  {
   "cell_type": "code",
   "execution_count": 8,
   "id": "be018210",
   "metadata": {},
   "outputs": [],
   "source": [
    "def create_kospi(df):\n",
    "    data = []\n",
    "    symbol_unique = df[\"Symbol\"].unique()\n",
    "    name_unique = df[\"Name\"].unique()\n",
    "    cols_1 = [\"Name\", \"Sector\", \"Industry\"]\n",
    "    logger = tqdm(desc=\"Creating\")\n",
    "    for col in cols_1:\n",
    "        if col == \"Name\":\n",
    "            for nl_q in ['의 회사 이름이 어떻게 돼?', '의 회사 이름은 뭐야?']:\n",
    "                for symbol in symbol_unique:\n",
    "                    s = f\"{symbol}{nl_q}\\t\"\n",
    "                    s += f'SELECT {col} FROM kospi WHERE Symbol = \"{symbol}\"'\n",
    "                    data.append(s)\n",
    "                    logger.update()\n",
    "\n",
    "        elif col == \"Sector\":\n",
    "            for nl_q in [' 회사 무슨 업종이야?', '가 속하는 섹터가 어떻게 돼?', \"의 섹터는 뭐야?\"]:\n",
    "                for symbol in symbol_unique:\n",
    "                    s = f\"{symbol}{nl_q}\\t\"\n",
    "                    s += f'SELECT {col} FROM kospi WHERE Symbol = \"{symbol}\"'\n",
    "                    data.append(s)\n",
    "                    logger.update()\n",
    "                    \n",
    "                for name in name_unique:\n",
    "                    s = f\"{name}{nl_q}\\t\"\n",
    "                    s += f'SELECT {col} FROM kospi WHERE Name = \"{name}\"'\n",
    "                    data.append(s)\n",
    "                    logger.update()\n",
    "                    \n",
    "                    \n",
    "        elif col == \"Industry\":\n",
    "            for nl_q in [' 회사의 산업은?', '가 속하는 산업이 어떻게 돼?']:\n",
    "                for symbol in symbol_unique:\n",
    "                    s = f\"{symbol}{nl_q}\\t\"\n",
    "                    s += f'SELECT {col} FROM kospi WHERE Symbol = \"{symbol}\"'\n",
    "                    data.append(s)\n",
    "                    logger.update()\n",
    "                    \n",
    "                for name in name_unique:\n",
    "                    s = f\"{name}{nl_q}\\t\"\n",
    "                    s += f'SELECT {col} FROM kospi WHERE Name = \"{name}\"'\n",
    "                    data.append(s)\n",
    "                    logger.update()\n",
    "    \n",
    "    cols_2 = [\"Symbol\", \"Name\"]\n",
    "    sector_unique = df[\"Sector\"].unique()\n",
    "    indus_unique = df[\"Industry\"].unique()\n",
    "    for sec in sector_unique:\n",
    "        for nl_q in [f\"{Josa.get_josa(sec, '을')} 하는 회사는 어디야?\", \"섹터에 속한 회사들은 뭐가 있어?\"]:\n",
    "            for col in cols_2:\n",
    "                s = f\"{sec}{nl_q}\\t\"\n",
    "                s += f'SELECT {col} FROM kospi WHERE Sector = \"{sec}\"'\n",
    "                data.append(s)\n",
    "                logger.update()\n",
    "    for ind in indus_unique:\n",
    "        for nl_q in [f\"{Josa.get_josa(sec, '을')} 하는 회사는 어디야?\", \"산업에 속한 회사들은 뭐가 있어?\"]:\n",
    "            for col in cols_2:\n",
    "                s = f\"{ind}{nl_q}\\t\"\n",
    "                s += f'SELECT {col} FROM kospi WHERE Industry = \"{ind}\"'\n",
    "                data.append(s)\n",
    "                logger.update()\n",
    "                \n",
    "    logger.close()\n",
    "    return data"
   ]
  },
  {
   "cell_type": "code",
   "execution_count": 9,
   "id": "83c5c07d",
   "metadata": {},
   "outputs": [
    {
     "data": {
      "application/vnd.jupyter.widget-view+json": {
       "model_id": "91a3b3f6fffc40eb8b56e6903ecf8384",
       "version_major": 2,
       "version_minor": 0
      },
      "text/plain": [
       "Creating: 0it [00:00, ?it/s]"
      ]
     },
     "metadata": {},
     "output_type": "display_data"
    }
   ],
   "source": [
    "kospi_data = create_kospi(df_kospi)"
   ]
  },
  {
   "cell_type": "code",
   "execution_count": 10,
   "id": "e5015c6d",
   "metadata": {},
   "outputs": [],
   "source": [
    "with (data_path / \"kospi.tsv\").open(\"w\", encoding=\"utf-8\") as file:\n",
    "    for line in kospi_data:\n",
    "        print(line, file=file)"
   ]
  },
  {
   "cell_type": "markdown",
   "id": "5e685292",
   "metadata": {},
   "source": [
    "## Table: Company\n",
    "\n",
    "질문 리스트\n",
    "- CEO 이름:\n",
    "    - 심볼에 해당하는 CEO는?  `SELECT ceo_nm FROM kospi WHERE stock_code == '095570'`\n",
    "    - 이름에 해당하는 CEO는?  `SELECT ceo_nm FROM kospi WHERE stock_name == 'AJ네트웍스'`\n",
    "    - 영어이름에 해당하는 CEO는?  `SELECT ceo_nm FROM kospi WHERE corp_name_eng == 'AJ Networks Co.,Ltd.'`\n",
    "- 주소:\n",
    "    - 심볼에 해당하는 CEO는?  `SELECT adres FROM kospi WHERE stock_code == '095570'`\n",
    "    - 이름에 해당하는 CEO는?  `SELECT adres FROM kospi WHERE stock_name == 'AJ네트웍스'`\n",
    "    - 영어이름에 해당하는 CEO는?  `SELECT adres FROM kospi WHERE corp_name_eng == 'AJ Networks Co.,Ltd.'`\n",
    "- 홈페이지:\n",
    "    - 심볼에 해당하는 CEO는?  `SELECT hm_url FROM kospi WHERE stock_code == '095570'`\n",
    "    - 이름에 해당하는 CEO는?  `SELECT hm_url FROM kospi WHERE stock_name == 'AJ네트웍스'`\n",
    "    - 영어이름에 해당하는 CEO는?  `SELECT hm_url FROM kospi WHERE corp_name_eng == 'AJ Networks Co.,Ltd.'`"
   ]
  },
  {
   "cell_type": "code",
   "execution_count": 11,
   "id": "d933bc36",
   "metadata": {},
   "outputs": [
    {
     "data": {
      "text/html": [
       "<div>\n",
       "<style scoped>\n",
       "    .dataframe tbody tr th:only-of-type {\n",
       "        vertical-align: middle;\n",
       "    }\n",
       "\n",
       "    .dataframe tbody tr th {\n",
       "        vertical-align: top;\n",
       "    }\n",
       "\n",
       "    .dataframe thead th {\n",
       "        text-align: right;\n",
       "    }\n",
       "</style>\n",
       "<table border=\"1\" class=\"dataframe\">\n",
       "  <thead>\n",
       "    <tr style=\"text-align: right;\">\n",
       "      <th></th>\n",
       "      <th>index</th>\n",
       "      <th>corp_name</th>\n",
       "      <th>corp_name_eng</th>\n",
       "      <th>stock_name</th>\n",
       "      <th>stock_code</th>\n",
       "      <th>ceo_nm</th>\n",
       "      <th>corp_cls</th>\n",
       "      <th>jurir_no</th>\n",
       "      <th>bizr_no</th>\n",
       "      <th>adres</th>\n",
       "      <th>hm_url</th>\n",
       "      <th>ir_url</th>\n",
       "      <th>phn_no</th>\n",
       "      <th>fax_no</th>\n",
       "      <th>induty_code</th>\n",
       "      <th>est_dt</th>\n",
       "      <th>acc_mt</th>\n",
       "    </tr>\n",
       "  </thead>\n",
       "  <tbody>\n",
       "    <tr>\n",
       "      <th>0</th>\n",
       "      <td>0</td>\n",
       "      <td>AJ네트웍스 주식회사</td>\n",
       "      <td>AJ Networks Co.,Ltd.</td>\n",
       "      <td>AJ네트웍스</td>\n",
       "      <td>095570</td>\n",
       "      <td>박대현</td>\n",
       "      <td>Y</td>\n",
       "      <td>1101111874654</td>\n",
       "      <td>2148648586</td>\n",
       "      <td>서울특별시 송파구 정의로8길 9 (문정동,AJ빌딩)</td>\n",
       "      <td>www.ajnet.co.kr</td>\n",
       "      <td></td>\n",
       "      <td>02-6363-9999</td>\n",
       "      <td>02-6240-0888</td>\n",
       "      <td>76320</td>\n",
       "      <td>20000210</td>\n",
       "      <td>12</td>\n",
       "    </tr>\n",
       "    <tr>\n",
       "      <th>1</th>\n",
       "      <td>1</td>\n",
       "      <td>AK홀딩스(주)</td>\n",
       "      <td>AK Holdings, Inc.</td>\n",
       "      <td>AK홀딩스</td>\n",
       "      <td>006840</td>\n",
       "      <td>채형석, 이석주(각자 대표이사)</td>\n",
       "      <td>Y</td>\n",
       "      <td>1101110029721</td>\n",
       "      <td>1138110894</td>\n",
       "      <td>서울특별시 마포구 양화로 188 -</td>\n",
       "      <td>www.aekyunggroup.co.kr</td>\n",
       "      <td></td>\n",
       "      <td>02-768-2923</td>\n",
       "      <td>02-768-2904</td>\n",
       "      <td>64992</td>\n",
       "      <td>19701013</td>\n",
       "      <td>12</td>\n",
       "    </tr>\n",
       "    <tr>\n",
       "      <th>2</th>\n",
       "      <td>2</td>\n",
       "      <td>(주)비지에프</td>\n",
       "      <td>BGF CO., LTD.</td>\n",
       "      <td>BGF</td>\n",
       "      <td>027410</td>\n",
       "      <td>홍정국</td>\n",
       "      <td>Y</td>\n",
       "      <td>1101111105215</td>\n",
       "      <td>1208144752</td>\n",
       "      <td>서울특별시 강남구 테헤란로 405</td>\n",
       "      <td>www.bgf.co.kr</td>\n",
       "      <td></td>\n",
       "      <td>1577-3663</td>\n",
       "      <td>02-7081398</td>\n",
       "      <td>64992</td>\n",
       "      <td>19941201</td>\n",
       "      <td>12</td>\n",
       "    </tr>\n",
       "    <tr>\n",
       "      <th>3</th>\n",
       "      <td>3</td>\n",
       "      <td>(주)비지에프리테일</td>\n",
       "      <td>BGF retail CO., LTD.</td>\n",
       "      <td>BGF리테일</td>\n",
       "      <td>282330</td>\n",
       "      <td>이건준</td>\n",
       "      <td>Y</td>\n",
       "      <td>1101116555770</td>\n",
       "      <td>8938800792</td>\n",
       "      <td>서울특별시 강남구 테헤란로 405 BGF사옥</td>\n",
       "      <td>www.bgfretail.com</td>\n",
       "      <td></td>\n",
       "      <td>02-1577-8007</td>\n",
       "      <td>02-528-6820</td>\n",
       "      <td>47122</td>\n",
       "      <td>20171101</td>\n",
       "      <td>12</td>\n",
       "    </tr>\n",
       "    <tr>\n",
       "      <th>4</th>\n",
       "      <td>4</td>\n",
       "      <td>(주)BNK금융지주</td>\n",
       "      <td>BNK Financial Group Inc.</td>\n",
       "      <td>BNK금융지주</td>\n",
       "      <td>138930</td>\n",
       "      <td>김지완</td>\n",
       "      <td>Y</td>\n",
       "      <td>1801110750893</td>\n",
       "      <td>6058605385</td>\n",
       "      <td>부산광역시 남구 문현금융로 30(문현동)</td>\n",
       "      <td>www.bnkfg.com</td>\n",
       "      <td></td>\n",
       "      <td>051-620-3023</td>\n",
       "      <td>051-620-3040</td>\n",
       "      <td>64992</td>\n",
       "      <td>20110315</td>\n",
       "      <td>12</td>\n",
       "    </tr>\n",
       "  </tbody>\n",
       "</table>\n",
       "</div>"
      ],
      "text/plain": [
       "   index    corp_name             corp_name_eng stock_name stock_code  \\\n",
       "0      0  AJ네트웍스 주식회사      AJ Networks Co.,Ltd.     AJ네트웍스     095570   \n",
       "1      1     AK홀딩스(주)         AK Holdings, Inc.      AK홀딩스     006840   \n",
       "2      2      (주)비지에프             BGF CO., LTD.        BGF     027410   \n",
       "3      3   (주)비지에프리테일      BGF retail CO., LTD.     BGF리테일     282330   \n",
       "4      4   (주)BNK금융지주  BNK Financial Group Inc.    BNK금융지주     138930   \n",
       "\n",
       "              ceo_nm corp_cls       jurir_no     bizr_no  \\\n",
       "0                박대현        Y  1101111874654  2148648586   \n",
       "1  채형석, 이석주(각자 대표이사)        Y  1101110029721  1138110894   \n",
       "2                홍정국        Y  1101111105215  1208144752   \n",
       "3                이건준        Y  1101116555770  8938800792   \n",
       "4                김지완        Y  1801110750893  6058605385   \n",
       "\n",
       "                          adres                  hm_url ir_url        phn_no  \\\n",
       "0  서울특별시 송파구 정의로8길 9 (문정동,AJ빌딩)         www.ajnet.co.kr         02-6363-9999   \n",
       "1           서울특별시 마포구 양화로 188 -  www.aekyunggroup.co.kr          02-768-2923   \n",
       "2            서울특별시 강남구 테헤란로 405           www.bgf.co.kr            1577-3663   \n",
       "3      서울특별시 강남구 테헤란로 405 BGF사옥       www.bgfretail.com         02-1577-8007   \n",
       "4        부산광역시 남구 문현금융로 30(문현동)           www.bnkfg.com         051-620-3023   \n",
       "\n",
       "         fax_no induty_code    est_dt acc_mt  \n",
       "0  02-6240-0888       76320  20000210     12  \n",
       "1   02-768-2904       64992  19701013     12  \n",
       "2    02-7081398       64992  19941201     12  \n",
       "3   02-528-6820       47122  20171101     12  \n",
       "4  051-620-3040       64992  20110315     12  "
      ]
     },
     "execution_count": 11,
     "metadata": {},
     "output_type": "execute_result"
    }
   ],
   "source": [
    "df_company = db.query(\"SELECT * FROM company\").export(\"df\")\n",
    "df_company.head()"
   ]
  },
  {
   "cell_type": "code",
   "execution_count": 12,
   "id": "4202dc67",
   "metadata": {},
   "outputs": [],
   "source": [
    "def create_company(df):\n",
    "    data = []\n",
    "    stock_code_unique = df[\"stock_code\"].unique()\n",
    "    stock_name_unique = df[\"stock_name\"].unique()\n",
    "    corp_name_eng_unique = df[\"corp_name_eng\"].unique()\n",
    "    cols_1 = [\"ceo_nm\", \"adres\", \"hm_url\"]\n",
    "    logger = tqdm(desc=\"Creating\")\n",
    "    for col in cols_1:\n",
    "        if col == \"ceo_nm\":\n",
    "            for nl_q in [' 회사의 CEO는 누구야?', ' 회사의 CEO 이름은 뭐야?']:\n",
    "                for symbol in stock_code_unique:\n",
    "                    s = f\"{symbol}{nl_q}\\t\"\n",
    "                    s += f'SELECT {col} FROM company WHERE stock_code = \"{symbol}\"'\n",
    "                    data.append(s)\n",
    "                    logger.update()\n",
    "                for name in stock_name_unique:\n",
    "                    s = f\"{name}{nl_q}\\t\"\n",
    "                    s += f'SELECT {col} FROM company WHERE stock_name = \"{name}\"'\n",
    "                    data.append(s)\n",
    "                    logger.update()\n",
    "                for eng_name in corp_name_eng_unique:\n",
    "                    s = f\"{eng_name}{nl_q}\\t\"\n",
    "                    s += f'SELECT {col} FROM company WHERE corp_name_eng = \"{eng_name}\"'\n",
    "                    data.append(s)\n",
    "                    logger.update()\n",
    "        elif col == \"adres\":\n",
    "            for nl_q in [' 회사 주소는 뭐야?', ' 회사는 어디에 있어?']:\n",
    "                for symbol in stock_code_unique:\n",
    "                    s = f\"{symbol}{nl_q}\\t\"\n",
    "                    s += f'SELECT {col} FROM company WHERE stock_code = \"{symbol}\"'\n",
    "                    data.append(s)\n",
    "                    logger.update()\n",
    "                for name in stock_name_unique:\n",
    "                    s = f\"{name}{nl_q}\\t\"\n",
    "                    s += f'SELECT {col} FROM company WHERE stock_name = \"{name}\"'\n",
    "                    data.append(s)\n",
    "                    logger.update()\n",
    "                for eng_name in corp_name_eng_unique:\n",
    "                    s = f\"{eng_name}{nl_q}\\t\"\n",
    "                    s += f'SELECT {col} FROM company WHERE corp_name_eng = \"{eng_name}\"'\n",
    "                    data.append(s)\n",
    "                    logger.update()\n",
    "        elif col == \"hm_url\":\n",
    "            for nl_q in [' 회사의 홈페이지 주소는?', ' 회사의 웹주소가 뭐야?']:\n",
    "                for symbol in stock_code_unique:\n",
    "                    s = f\"{symbol}{nl_q}\\t\"\n",
    "                    s += f'SELECT {col} FROM company WHERE stock_code = \"{symbol}\"'\n",
    "                    data.append(s)\n",
    "                    logger.update()\n",
    "                for name in stock_name_unique:\n",
    "                    s = f\"{name}{nl_q}\\t\"\n",
    "                    s += f'SELECT {col} FROM company WHERE stock_name = \"{name}\"'\n",
    "                    data.append(s)\n",
    "                    logger.update()\n",
    "                for eng_name in corp_name_eng_unique:\n",
    "                    s = f\"{eng_name}{nl_q}\\t\"\n",
    "                    s += f'SELECT {col} FROM company WHERE corp_name_eng = \"{eng_name}\"'\n",
    "                    data.append(s)\n",
    "                    logger.update()\n",
    "    \n",
    "    logger.close()\n",
    "    return data"
   ]
  },
  {
   "cell_type": "code",
   "execution_count": 13,
   "id": "4bc31727",
   "metadata": {},
   "outputs": [
    {
     "data": {
      "application/vnd.jupyter.widget-view+json": {
       "model_id": "b4a1c677f3b54bb7a4d3c73ba9848f61",
       "version_major": 2,
       "version_minor": 0
      },
      "text/plain": [
       "Creating: 0it [00:00, ?it/s]"
      ]
     },
     "metadata": {},
     "output_type": "display_data"
    }
   ],
   "source": [
    "company_data = create_company(df_company)"
   ]
  },
  {
   "cell_type": "code",
   "execution_count": 14,
   "id": "a0111882",
   "metadata": {},
   "outputs": [],
   "source": [
    "with (data_path / \"company.tsv\").open(\"w\", encoding=\"utf-8\") as file:\n",
    "    for line in company_data:\n",
    "        print(line, file=file)"
   ]
  },
  {
   "cell_type": "markdown",
   "id": "a6b6c0b8",
   "metadata": {},
   "source": [
    "## Table: 재무제표\n",
    "\n",
    "질문 리스트\n",
    "\n",
    "- 리포트 번호:\n",
    "    - 심볼에 해당하는 xx년도의 리포트 번호?  `SELECT rcept_no FROM '095570' WHERE bsns_year = 2018`\n",
    "    - 심볼에 해당하는 제 xx 기의 리포트 번호?  `SELECT rcept_no FROM'095570' WHERE thstrm_nm = '제 19 기'`\n",
    "- 계정명:\n",
    "    - (계정)명은 어디에 속하는지(재무상태표/손익계산서): `SELECT sj_nm FROM '095570' WHERE account_nm = '유동자산'`\n",
    "    - 심볼에 해당하는 xx년도의 (계정)은?  `SELECT thstrm_amount FROM '095570' WHERE account_nm = '유동자산' AND bsns_year = 2018`\n",
    "    - 심볼에 해당하는 제 xx 기의 (계정)은?  `SELECT thstrm_amount FROM '095570' WHERE account_nm = '유동자산' AND thstrm_nm = '제 19 기'`\n",
    "- 기간:\n",
    "    - 제 xx 기는 언제를 말하는거지? `SELECT thstrm_dt FROM '095570' WHERE thstrm_nm = '제 19 기'`"
   ]
  },
  {
   "cell_type": "code",
   "execution_count": 15,
   "id": "2bf60f67",
   "metadata": {},
   "outputs": [
    {
     "data": {
      "text/plain": [
       "array(['유동자산', '비유동자산', '자산총계', '유동부채', '비유동부채', '부채총계', '자본금', '이익잉여금',\n",
       "       '자본총계', '매출액', '영업이익', '법인세차감전 순이익', '당기순이익'], dtype=object)"
      ]
     },
     "execution_count": 15,
     "metadata": {},
     "output_type": "execute_result"
    }
   ],
   "source": [
    "# receipts 를 판다스 테이블로 불러옴\n",
    "df_receipts = db.query(\"SELECT * FROM '095570'\").export(\"df\")\n",
    "# account_nm 계정명\n",
    "df_receipts[\"account_nm\"].unique()"
   ]
  },
  {
   "cell_type": "code",
   "execution_count": 16,
   "id": "0a92c63f",
   "metadata": {},
   "outputs": [
    {
     "data": {
      "text/html": [
       "<div>\n",
       "<style scoped>\n",
       "    .dataframe tbody tr th:only-of-type {\n",
       "        vertical-align: middle;\n",
       "    }\n",
       "\n",
       "    .dataframe tbody tr th {\n",
       "        vertical-align: top;\n",
       "    }\n",
       "\n",
       "    .dataframe thead th {\n",
       "        text-align: right;\n",
       "    }\n",
       "</style>\n",
       "<table border=\"1\" class=\"dataframe\">\n",
       "  <thead>\n",
       "    <tr style=\"text-align: right;\">\n",
       "      <th></th>\n",
       "      <th>index</th>\n",
       "      <th>rcept_no</th>\n",
       "      <th>reprt_code</th>\n",
       "      <th>bsns_year</th>\n",
       "      <th>corp_code</th>\n",
       "      <th>stock_code</th>\n",
       "      <th>fs_div</th>\n",
       "      <th>fs_nm</th>\n",
       "      <th>sj_div</th>\n",
       "      <th>sj_nm</th>\n",
       "      <th>account_nm</th>\n",
       "      <th>thstrm_nm</th>\n",
       "      <th>thstrm_dt</th>\n",
       "      <th>thstrm_amount</th>\n",
       "    </tr>\n",
       "  </thead>\n",
       "  <tbody>\n",
       "    <tr>\n",
       "      <th>0</th>\n",
       "      <td>0</td>\n",
       "      <td>20190531001150</td>\n",
       "      <td>11011</td>\n",
       "      <td>2018</td>\n",
       "      <td>00365387</td>\n",
       "      <td>095570</td>\n",
       "      <td>CFS</td>\n",
       "      <td>연결재무제표</td>\n",
       "      <td>BS</td>\n",
       "      <td>재무상태표</td>\n",
       "      <td>유동자산</td>\n",
       "      <td>제 19 기</td>\n",
       "      <td>2018.12.31 현재</td>\n",
       "      <td>1511355997808</td>\n",
       "    </tr>\n",
       "    <tr>\n",
       "      <th>1</th>\n",
       "      <td>1</td>\n",
       "      <td>20190531001150</td>\n",
       "      <td>11011</td>\n",
       "      <td>2018</td>\n",
       "      <td>00365387</td>\n",
       "      <td>095570</td>\n",
       "      <td>CFS</td>\n",
       "      <td>연결재무제표</td>\n",
       "      <td>BS</td>\n",
       "      <td>재무상태표</td>\n",
       "      <td>비유동자산</td>\n",
       "      <td>제 19 기</td>\n",
       "      <td>2018.12.31 현재</td>\n",
       "      <td>1063783463551</td>\n",
       "    </tr>\n",
       "    <tr>\n",
       "      <th>2</th>\n",
       "      <td>2</td>\n",
       "      <td>20190531001150</td>\n",
       "      <td>11011</td>\n",
       "      <td>2018</td>\n",
       "      <td>00365387</td>\n",
       "      <td>095570</td>\n",
       "      <td>CFS</td>\n",
       "      <td>연결재무제표</td>\n",
       "      <td>BS</td>\n",
       "      <td>재무상태표</td>\n",
       "      <td>자산총계</td>\n",
       "      <td>제 19 기</td>\n",
       "      <td>2018.12.31 현재</td>\n",
       "      <td>2575139461359</td>\n",
       "    </tr>\n",
       "    <tr>\n",
       "      <th>3</th>\n",
       "      <td>3</td>\n",
       "      <td>20190531001150</td>\n",
       "      <td>11011</td>\n",
       "      <td>2018</td>\n",
       "      <td>00365387</td>\n",
       "      <td>095570</td>\n",
       "      <td>CFS</td>\n",
       "      <td>연결재무제표</td>\n",
       "      <td>BS</td>\n",
       "      <td>재무상태표</td>\n",
       "      <td>유동부채</td>\n",
       "      <td>제 19 기</td>\n",
       "      <td>2018.12.31 현재</td>\n",
       "      <td>1609070172105</td>\n",
       "    </tr>\n",
       "    <tr>\n",
       "      <th>4</th>\n",
       "      <td>4</td>\n",
       "      <td>20190531001150</td>\n",
       "      <td>11011</td>\n",
       "      <td>2018</td>\n",
       "      <td>00365387</td>\n",
       "      <td>095570</td>\n",
       "      <td>CFS</td>\n",
       "      <td>연결재무제표</td>\n",
       "      <td>BS</td>\n",
       "      <td>재무상태표</td>\n",
       "      <td>비유동부채</td>\n",
       "      <td>제 19 기</td>\n",
       "      <td>2018.12.31 현재</td>\n",
       "      <td>474261316507</td>\n",
       "    </tr>\n",
       "  </tbody>\n",
       "</table>\n",
       "</div>"
      ],
      "text/plain": [
       "   index        rcept_no reprt_code  bsns_year corp_code stock_code fs_div  \\\n",
       "0      0  20190531001150      11011       2018  00365387     095570    CFS   \n",
       "1      1  20190531001150      11011       2018  00365387     095570    CFS   \n",
       "2      2  20190531001150      11011       2018  00365387     095570    CFS   \n",
       "3      3  20190531001150      11011       2018  00365387     095570    CFS   \n",
       "4      4  20190531001150      11011       2018  00365387     095570    CFS   \n",
       "\n",
       "    fs_nm sj_div  sj_nm account_nm thstrm_nm      thstrm_dt  thstrm_amount  \n",
       "0  연결재무제표     BS  재무상태표       유동자산    제 19 기  2018.12.31 현재  1511355997808  \n",
       "1  연결재무제표     BS  재무상태표      비유동자산    제 19 기  2018.12.31 현재  1063783463551  \n",
       "2  연결재무제표     BS  재무상태표       자산총계    제 19 기  2018.12.31 현재  2575139461359  \n",
       "3  연결재무제표     BS  재무상태표       유동부채    제 19 기  2018.12.31 현재  1609070172105  \n",
       "4  연결재무제표     BS  재무상태표      비유동부채    제 19 기  2018.12.31 현재   474261316507  "
      ]
     },
     "execution_count": 16,
     "metadata": {},
     "output_type": "execute_result"
    }
   ],
   "source": [
    "df_receipts.head()"
   ]
  },
  {
   "cell_type": "code",
   "execution_count": 43,
   "id": "634d012d",
   "metadata": {},
   "outputs": [],
   "source": [
    "def create_receipts(df, table_id, logger):\n",
    "    data = []\n",
    "    account_unique = df[\"account_nm\"].unique()\n",
    "    bsns_year_unique = df[\"bsns_year\"].unique()\n",
    "    thstrm_unique = df[\"thstrm_nm\"].unique()\n",
    "    report_no_unique = df[\"rcept_no\"].unique()\n",
    "    \n",
    "    for term in thstrm_unique:\n",
    "        for nl_q in [\"는 언제를 말하는 거야?\", \"는 언제야?\"]:\n",
    "            s = f\"{table_id}의 {term}{nl_q}\\t\"\n",
    "            s += f'SELECT thstrm_dt FROM \"{table_id}\" WHERE thstrm_nm = \"{term}\"'\n",
    "            data.append(s)\n",
    "            logger.update()\n",
    "            \n",
    "    for rpt_no in report_no_unique:\n",
    "        for nl_q in ['의 접수번호는 뭐야?', ' 의 접수번호는?', '의 보고서 번호가 어떻게 돼?']:\n",
    "            for bsns_year in bsns_year_unique:\n",
    "                s = f\"{table_id}의 {bsns_year}연도{nl_q}\\t\"\n",
    "                s += f'SELECT rcept_no FROM \"{table_id}\" WHERE bsns_year = {bsns_year}'\n",
    "                data.append(s)\n",
    "                logger.update()\n",
    "\n",
    "            for term in thstrm_unique:\n",
    "                s = f\"{table_id}의 {term}{nl_q}\\t\"\n",
    "                s += f'SELECT rcept_no FROM \"{table_id}\" WHERE thstrm_nm = \"{term}\"'\n",
    "                data.append(s)\n",
    "                logger.update()\n",
    "        \n",
    "    for account in account_unique:\n",
    "        for nl_q in [Josa.get_josa(account, \"은\") + f\" 어느 재무보고서에 속하니?\", Josa.get_josa(account, \"은\") + \" 어떤 재무제표야?\"]:\n",
    "            s = f\"{account}{nl_q}\\t\"\n",
    "            s += f'SELECT sj_nm FROM \"{table_id}\" WHERE account_nm = \"{account}\"'\n",
    "            data.append(s)\n",
    "            logger.update()\n",
    "        \n",
    "        for nl_q in [Josa.get_josa(account, \"은\") + \" 얼마야?\", Josa.get_josa(account, \"은\") + \" 어떻게 돼?\"]:\n",
    "            for bsns_year in bsns_year_unique:\n",
    "            \n",
    "                s = f\"{table_id}의 {bsns_year}연도의 {account}{nl_q}\\t\"\n",
    "                s += f'SELECT thstrm_amount FROM \"{table_id}\" WHERE account_nm = \"{account}\" AND bsns_year = {bsns_year}'\n",
    "                data.append(s)\n",
    "                logger.update()\n",
    "                \n",
    "                s = f\"{table_id}의 {bsns_year}연도의 {account}{nl_q}\\t\"\n",
    "                s += f'SELECT thstrm_amount FROM \"{table_id}\" WHERE bsns_year = {bsns_year} AND account_nm = \"{account}\"'\n",
    "                data.append(s)\n",
    "                logger.update()\n",
    "                \n",
    "                s = f\"{bsns_year}년 {table_id}의 {account}{nl_q}\\t\"\n",
    "                s += f'SELECT thstrm_amount FROM \"{table_id}\" WHERE account_nm = \"{account}\" AND bsns_year = {bsns_year}'\n",
    "                data.append(s)\n",
    "                logger.update()\n",
    "                \n",
    "                s = f\"{bsns_year}년 {table_id}의 {account}{nl_q}\\t\"\n",
    "                s += f'SELECT thstrm_amount FROM \"{table_id}\" WHERE bsns_year = {bsns_year} AND account_nm = \"{account}\"'\n",
    "                data.append(s)\n",
    "                logger.update()\n",
    "                \n",
    "            for term in thstrm_unique:\n",
    "                s = f\"{table_id}의 {term} {account}{nl_q}\\t\"\n",
    "                s += f'SELECT thstrm_amount FROM \"{table_id}\" WHERE account_nm = \"{account}\" AND thstrm_nm = \"{term}\"'\n",
    "                data.append(s)\n",
    "                logger.update()\n",
    "                \n",
    "                s = f\"{table_id}의 {term} {account}{nl_q}\\t\"\n",
    "                s += f'SELECT thstrm_amount FROM \"{table_id}\" WHERE thstrm_nm = \"{term}\" AND account_nm = \"{account}\"'\n",
    "                data.append(s)\n",
    "                logger.update()\n",
    "                \n",
    "                s = f\"{term} {table_id}의 {account}{nl_q}\\t\"\n",
    "                s += f'SELECT thstrm_amount FROM \"{table_id}\" WHERE account_nm = \"{account}\" AND thstrm_nm = \"{term}\"'\n",
    "                data.append(s)\n",
    "                logger.update()\n",
    "                \n",
    "                s = f\"{term} {table_id}의 {account}{nl_q}\\t\"\n",
    "                s += f'SELECT thstrm_amount FROM \"{table_id}\" WHERE thstrm_nm = \"{term}\" AND account_nm = \"{account}\"'\n",
    "                data.append(s)\n",
    "                logger.update()\n",
    "    return data"
   ]
  },
  {
   "cell_type": "code",
   "execution_count": 44,
   "id": "7ba55bad",
   "metadata": {},
   "outputs": [
    {
     "data": {
      "application/vnd.jupyter.widget-view+json": {
       "model_id": "8bcb30c65c1b4fe2a7fcdd3b5ee6944a",
       "version_major": 2,
       "version_minor": 0
      },
      "text/plain": [
       "0it [00:00, ?it/s]"
      ]
     },
     "metadata": {},
     "output_type": "display_data"
    }
   ],
   "source": [
    "receipts_tables = db.get_table_names()[:-2]\n",
    "data_dist = []\n",
    "logger = tqdm()\n",
    "for t in receipts_tables:\n",
    "    logger.set_description(f\"Creating {t}\")\n",
    "    df_receipts = db.query(f'SELECT * FROM \"{t}\"').export(\"df\")\n",
    "    receipts_data = create_receipts(df_receipts, t, logger)\n",
    "    data_dist.append(len(receipts_data))\n",
    "    with (data_path / f\"{t}.tsv\").open(\"w\", encoding=\"utf-8\") as file:\n",
    "        for line in receipts_data:\n",
    "            print(line, file=file)"
   ]
  },
  {
   "cell_type": "code",
   "execution_count": 45,
   "id": "fde4d747",
   "metadata": {},
   "outputs": [
    {
     "data": {
      "image/png": "[encoded data removed]",
      "text/plain": [
       "<Figure size 720x432 with 1 Axes>"
      ]
     },
     "metadata": {
      "needs_background": "light"
     },
     "output_type": "display_data"
    }
   ],
   "source": [
    "fig, ax = plt.subplots(1, 1, figsize=(10, 6))\n",
    "sns.histplot(data_dist, ax=ax, stat=\"count\", binwidth=20)\n",
    "ax.set_xlabel(\"Number of data\")\n",
    "plt.show()"
   ]
  },
  {
   "cell_type": "code",
   "execution_count": 47,
   "id": "001d06c4",
   "metadata": {},
   "outputs": [
    {
     "data": {
      "text/plain": [
       "array([224, 242, 436, 470, 560, 610, 660, 710])"
      ]
     },
     "execution_count": 47,
     "metadata": {},
     "output_type": "execute_result"
    }
   ],
   "source": [
    "import numpy as np\n",
    "\n",
    "np.unique(data_dist)"
   ]
  },
  {
   "cell_type": "markdown",
   "id": "9a4ee67e",
   "metadata": {},
   "source": [
    "# Train Test split by stock code"
   ]
  },
  {
   "cell_type": "code",
   "execution_count": 48,
   "id": "d415869d",
   "metadata": {},
   "outputs": [],
   "source": [
    "!rm -rf ./newdata/train\n",
    "!rm -rf ./newdata/test"
   ]
  },
  {
   "cell_type": "code",
   "execution_count": 49,
   "id": "e0dfc84e",
   "metadata": {},
   "outputs": [
    {
     "name": "stdout",
     "output_type": "stream",
     "text": [
      "Train: 637 / Test: 113\n",
      "Number of train data pairs: 441248\n",
      "Number of test data pairs: 78832\n"
     ]
    }
   ],
   "source": [
    "data_files = [p for p in data_path.glob(\"*\") if p.name.strip(\".tsv\") not in [\"company\", \"kospi\"]]\n",
    "\n",
    "split_ratio = 0.85\n",
    "n_codes = len(receipts_tables)\n",
    "n_train = int(n_codes * split_ratio)\n",
    "n_test = n_codes - n_train\n",
    "print(f\"Train: {n_train} / Test: {n_test}\")\n",
    "idxes = np.random.permutation(np.arange(n_codes))\n",
    "train_idxes, test_idxes = idxes[:n_train], idxes[n_train:]\n",
    "train_files = np.array(data_files)[train_idxes]\n",
    "test_files = np.array(data_files)[test_idxes]\n",
    "print(f\"Number of train data pairs: {np.array(data_dist)[train_idxes].sum()}\")\n",
    "print(f\"Number of test data pairs: {np.array(data_dist)[test_idxes].sum()}\")"
   ]
  },
  {
   "cell_type": "code",
   "execution_count": 50,
   "id": "6c20e83a",
   "metadata": {},
   "outputs": [],
   "source": [
    "# take data that have database\n",
    "def save_data(path, data):\n",
    "    if not isinstance(path, Path):\n",
    "        path = Path(path)\n",
    "    with path.open(\"w\", encoding=\"utf-8\") as file:\n",
    "        for line in data:\n",
    "            print(line, file=file)\n",
    "\n",
    "if not (data_path.parent / \"train\").exists():\n",
    "    (data_path.parent / \"train\").mkdir(parents=True)\n",
    "if not (data_path.parent / \"test\").exists():\n",
    "    (data_path.parent / \"test\").mkdir(parents=True)"
   ]
  },
  {
   "cell_type": "code",
   "execution_count": 51,
   "id": "d4d12d19",
   "metadata": {},
   "outputs": [
    {
     "name": "stdout",
     "output_type": "stream",
     "text": [
      "Kospi - Train/Test: (637, 113)\n",
      "Company - Train/Test: (637, 113)\n"
     ]
    },
    {
     "data": {
      "application/vnd.jupyter.widget-view+json": {
       "model_id": "2a7073eba6b84fb995da5c86d6c7388a",
       "version_major": 2,
       "version_minor": 0
      },
      "text/plain": [
       "Creating: 0it [00:00, ?it/s]"
      ]
     },
     "metadata": {},
     "output_type": "display_data"
    },
    {
     "data": {
      "application/vnd.jupyter.widget-view+json": {
       "model_id": "949134b4728d4de0807d24a0cb990bb9",
       "version_major": 2,
       "version_minor": 0
      },
      "text/plain": [
       "Creating: 0it [00:00, ?it/s]"
      ]
     },
     "metadata": {},
     "output_type": "display_data"
    },
    {
     "data": {
      "application/vnd.jupyter.widget-view+json": {
       "model_id": "67781cc4fd4f40c18cd27e8b15d213a4",
       "version_major": 2,
       "version_minor": 0
      },
      "text/plain": [
       "Creating: 0it [00:00, ?it/s]"
      ]
     },
     "metadata": {},
     "output_type": "display_data"
    },
    {
     "data": {
      "application/vnd.jupyter.widget-view+json": {
       "model_id": "e43042f3e63942ea8c5024f7b87a5bba",
       "version_major": 2,
       "version_minor": 0
      },
      "text/plain": [
       "Creating: 0it [00:00, ?it/s]"
      ]
     },
     "metadata": {},
     "output_type": "display_data"
    }
   ],
   "source": [
    "train_codes = [p.name.strip(\".tsv\") for p in train_files]\n",
    "test_codes = [p.name.strip(\".tsv\") for p in test_files]\n",
    "\n",
    "df_kospi_selected_train = df_kospi.loc[df_kospi[\"Symbol\"].isin(train_codes)].reset_index(drop=True)\n",
    "df_kospi_selected_test = df_kospi.loc[df_kospi[\"Symbol\"].isin(test_codes)].reset_index(drop=True)\n",
    "print(f\"Kospi - Train/Test: {len(df_kospi_selected_train), len(df_kospi_selected_test)}\")\n",
    "df_company_selected_train = df_company.loc[df_company[\"stock_code\"].isin(train_codes)].reset_index(drop=True)\n",
    "df_company_selected_test = df_company.loc[df_company[\"stock_code\"].isin(test_codes)].reset_index(drop=True)\n",
    "print(f\"Company - Train/Test: {len(df_company_selected_train), len(df_company_selected_test)}\")\n",
    "\n",
    "for df, name in zip(\n",
    "        [df_kospi_selected_train, df_kospi_selected_test, df_company_selected_train, df_company_selected_test],\n",
    "        [\"kospi_train\", \"kospi_test\", \"company_train\", \"company_test\"]\n",
    "    ):\n",
    "    typ, folder = name.split(\"_\")\n",
    "    genfunc = create_kospi if typ == \"kospi\" else create_company\n",
    "    data = genfunc(df)\n",
    "    save_data(data_path.parent / folder / f\"{typ}.tsv\", data)"
   ]
  },
  {
   "cell_type": "code",
   "execution_count": 54,
   "id": "c96b440a",
   "metadata": {},
   "outputs": [],
   "source": [
    "from shutil import copyfile\n",
    "for x in train_files:\n",
    "    copyfile(x, data_path.parent / \"train\" / x.name)\n",
    "for x in test_files:\n",
    "    copyfile(x, data_path.parent / \"test\" / x.name)"
   ]
  },
  {
   "cell_type": "code",
   "execution_count": 55,
   "id": "774c3588",
   "metadata": {},
   "outputs": [
    {
     "name": "stdout",
     "output_type": "stream",
     "text": [
      "639 115\n"
     ]
    }
   ],
   "source": [
    "train_tables = [x.name.strip(\".tsv\") for x in (data_path.parent / \"train\").glob(\"*.tsv\")]\n",
    "test_tables = [x.name.strip(\".tsv\") for x in (data_path.parent / \"test\").glob(\"*.tsv\")]\n",
    "print(len(train_tables), len(test_tables))"
   ]
  },
  {
   "cell_type": "code",
   "execution_count": 56,
   "id": "360bd70f",
   "metadata": {},
   "outputs": [],
   "source": [
    "from dbengine import DBEngine\n",
    "import jsonlines\n",
    "dbengine = DBEngine(db_path / 'kospi.db')"
   ]
  },
  {
   "cell_type": "code",
   "execution_count": 57,
   "id": "5d09aab6",
   "metadata": {},
   "outputs": [],
   "source": [
    "def to_jsonl(dbengine, data_path, typ):\n",
    "    writer = jsonlines.Writer((data_path.parent / typ / f\"{typ}.jsonl\").open(\"w\"))\n",
    "    logger = tqdm(desc=f\"generating: {typ}.jsonl\")\n",
    "    for x in (data_path.parent / typ).glob(\"*.tsv\"):\n",
    "        logger.set_postfix_str(x.name)\n",
    "        with x.open(\"r\", encoding=\"utf-8\") as reader:\n",
    "            data = [line.strip() for line in reader.readlines()]\n",
    "        for line in data:\n",
    "            question, sql = line.split(\"\\t\")\n",
    "            writer.write(dbengine.to_jsonl_sql(sql, question))\n",
    "            logger.update()\n",
    "    writer.close()"
   ]
  },
  {
   "cell_type": "code",
   "execution_count": 58,
   "id": "63530481",
   "metadata": {},
   "outputs": [
    {
     "data": {
      "application/vnd.jupyter.widget-view+json": {
       "model_id": "dc8fa4ab5642415f90efc9d7bdcd887d",
       "version_major": 2,
       "version_minor": 0
      },
      "text/plain": [
       "generating: train.jsonl: 0it [00:00, ?it/s]"
      ]
     },
     "metadata": {},
     "output_type": "display_data"
    }
   ],
   "source": [
    "to_jsonl(dbengine, data_path, typ=\"train\")"
   ]
  },
  {
   "cell_type": "code",
   "execution_count": 59,
   "id": "5753d6d9",
   "metadata": {},
   "outputs": [
    {
     "data": {
      "application/vnd.jupyter.widget-view+json": {
       "model_id": "62033ce6f4a14e08953bcda4f87c32ee",
       "version_major": 2,
       "version_minor": 0
      },
      "text/plain": [
       "generating: test.jsonl: 0it [00:00, ?it/s]"
      ]
     },
     "metadata": {},
     "output_type": "display_data"
    }
   ],
   "source": [
    "to_jsonl(dbengine, data_path, typ=\"test\")"
   ]
  },
  {
   "cell_type": "code",
   "execution_count": 69,
   "id": "b17b3bd5",
   "metadata": {},
   "outputs": [
    {
     "name": "stdout",
     "output_type": "stream",
     "text": [
      "Train rows 463238\n",
      "Test rows 82865\n"
     ]
    }
   ],
   "source": [
    "with (data_path.parent / \"train\" / \"train.jsonl\").open(\"r\", encoding=\"utf-8\") as reader:\n",
    "    print(\"Train rows\", len(reader.readlines()))\n",
    "with (data_path.parent / \"test\" / \"test.jsonl\").open(\"r\", encoding=\"utf-8\") as reader:\n",
    "    print(\"Test rows\", len(reader.readlines()))"
   ]
  },
  {
   "cell_type": "markdown",
   "id": "dfbf323f",
   "metadata": {},
   "source": [
    "## Table"
   ]
  },
  {
   "cell_type": "code",
   "execution_count": 63,
   "id": "6460b4d3",
   "metadata": {},
   "outputs": [],
   "source": [
    "def get_tables(dbengine, data_path, typ):\n",
    "    tables = [x.name.strip(\".tsv\") for x in (data_path.parent / typ).glob(\"*.tsv\")]\n",
    "    logger = tqdm(desc=f\"generating: {typ}.tables.jsonl\")\n",
    "    writer = jsonlines.Writer((data_path.parent / typ / f\"{typ}.tables.jsonl\").open(\"w\"))\n",
    "    for t in tables:\n",
    "        table_jsonl = dbengine.to_jsonl_table(t)\n",
    "        writer.write(table_jsonl)\n",
    "        logger.update()\n",
    "    writer.close()"
   ]
  },
  {
   "cell_type": "code",
   "execution_count": 64,
   "id": "37c22eb8",
   "metadata": {},
   "outputs": [
    {
     "data": {
      "application/vnd.jupyter.widget-view+json": {
       "model_id": "75fcc639f452422a8767bec0ba26b760",
       "version_major": 2,
       "version_minor": 0
      },
      "text/plain": [
       "generating: train.table.jsonl: 0it [00:00, ?it/s]"
      ]
     },
     "metadata": {},
     "output_type": "display_data"
    }
   ],
   "source": [
    "get_tables(dbengine, data_path, \"train\")"
   ]
  },
  {
   "cell_type": "code",
   "execution_count": 65,
   "id": "9568a427",
   "metadata": {},
   "outputs": [
    {
     "data": {
      "application/vnd.jupyter.widget-view+json": {
       "model_id": "4508fe2a44df44868a9f32a1ba0264ef",
       "version_major": 2,
       "version_minor": 0
      },
      "text/plain": [
       "generating: test.table.jsonl: 0it [00:00, ?it/s]"
      ]
     },
     "metadata": {},
     "output_type": "display_data"
    }
   ],
   "source": [
    "get_tables(dbengine, data_path, \"test\")"
   ]
  },
  {
   "cell_type": "markdown",
   "id": "c077b6cf",
   "metadata": {},
   "source": [
    "---"
   ]
  },
  {
   "cell_type": "markdown",
   "id": "e3996f3f",
   "metadata": {},
   "source": [
    "# Check Data Loading"
   ]
  },
  {
   "cell_type": "code",
   "execution_count": 70,
   "id": "381a9fef",
   "metadata": {},
   "outputs": [],
   "source": [
    "from typing import Union, List, Tuple, Dict, Any\n",
    "import json\n",
    "\n",
    "def load_data(sql_path: Union[Path, str], table_path: Union[Path, str]) -> Tuple[List[Dict[str, Any]], Dict[str, Any]]:\n",
    "    \"\"\"Load data from path\n",
    "\n",
    "    Args:\n",
    "        sql_path (Union[Path, str]): dataset path which contains NL with SQL queries (+answers)\n",
    "        table_path (Union[Path, str]): table information contains table name, header and values\n",
    "\n",
    "    Returns:\n",
    "        Tuple[List[Dict[str, Any]], Dict[str, Any]]: [description]\n",
    "    \"\"\"    \n",
    "    path_sql = Path(sql_path)\n",
    "    path_table = Path(table_path)\n",
    "\n",
    "    dataset = load_sqls(path_sql)\n",
    "    table = load_tables(path_table)\n",
    "\n",
    "    return dataset, table\n",
    "\n",
    "def load_sqls(path_sql):\n",
    "    dataset = []\n",
    "    with path_sql.open(\"r\", encoding=\"utf-8\") as f:\n",
    "        for idx, line in enumerate(f):\n",
    "            x = json.loads(line.strip())\n",
    "            dataset.append(x)\n",
    "    return dataset\n",
    "\n",
    "def load_tables(path_table):\n",
    "    table = {}\n",
    "    with path_table.open(\"r\", encoding=\"utf-8\") as f:\n",
    "        for idx, line in enumerate(f):\n",
    "            x = json.loads(line.strip())\n",
    "            table[x['id']] = x\n",
    "    return table"
   ]
  },
  {
   "cell_type": "code",
   "execution_count": 71,
   "id": "85d448bd",
   "metadata": {},
   "outputs": [],
   "source": [
    "sql_path = \"./newdata/train/train.jsonl\"\n",
    "table_path = \"./newdata/train/train.tables.jsonl\""
   ]
  },
  {
   "cell_type": "code",
   "execution_count": 72,
   "id": "6454c2ae",
   "metadata": {},
   "outputs": [],
   "source": [
    "dataset, table = load_data(sql_path, table_path)"
   ]
  },
  {
   "cell_type": "code",
   "execution_count": 73,
   "id": "714e0894",
   "metadata": {},
   "outputs": [],
   "source": [
    "def get_batch_data(data: List[Dict[str, Any]], table: Dict[str, Dict[str, List[Any]]], start_tkn=\"[S]\", end_tkn=\"[E]\", \n",
    "                   only_question=False) -> Tuple[List[str], List[str], List[Dict[str, Any]]]:\n",
    "    \"\"\"[summary]\n",
    "\n",
    "    Args:\n",
    "        data (List[Dict[str, Any]]): [description]\n",
    "        dbengine (DBEngine): [description]\n",
    "        start_tkn (str, optional): [description]. Defaults to \"[S]\".\n",
    "        end_tkn (str, optional): [description]. Defaults to \"[E]\".\n",
    "\n",
    "    Returns:\n",
    "        Tuple[List[str], List[str], List[Dict[str, Any]]]: [description]\n",
    "    \"\"\"    \n",
    "    batch_qs = [jsonl[\"question\"] for jsonl in data]\n",
    "\n",
    "    tid = [jsonl[\"table_id\"] for jsonl in data]\n",
    "    batch_ts = []\n",
    "    for table_id in tid:\n",
    "        table_str = f\"{table_id}\" + \"\".join([\n",
    "            f\"[COL]{col}\" for col in table[table_id][\"header\"]\n",
    "        ])\n",
    "        # TODO: [EXP] Experiment for generate column directly\n",
    "        # table_str = f\"{start_tkn}{table_id}{end_tkn}\" + \"\".join([\n",
    "        #     f\"{col_tkn}{start_tkn}{col}{end_tkn}\" for col in dbengine.schema\n",
    "        # ]) \n",
    "        batch_ts.append(table_str)\n",
    "    if only_question:\n",
    "        return batch_qs, batch_ts\n",
    "\n",
    "    batch_sqls = [jsonl[\"sql\"] for jsonl in data]\n",
    "    return batch_qs, batch_ts, batch_sqls"
   ]
  },
  {
   "cell_type": "code",
   "execution_count": 74,
   "id": "4edcd523",
   "metadata": {},
   "outputs": [
    {
     "data": {
      "text/plain": [
       "['000040의 제 58 기는 언제를 말하는 거야?',\n",
       " '000040의 제 58 기는 언제야?',\n",
       " '000040의 제 59 기는 언제를 말하는 거야?',\n",
       " '000040의 제 59 기는 언제야?',\n",
       " '000040의 제 60 기는 언제를 말하는 거야?']"
      ]
     },
     "execution_count": 74,
     "metadata": {},
     "output_type": "execute_result"
    }
   ],
   "source": [
    "batch_qs, batch_ts, batch_sqls = get_batch_data(dataset[:5], table, only_question=False)\n",
    "batch_qs[:5]"
   ]
  },
  {
   "cell_type": "code",
   "execution_count": 75,
   "id": "b6b64e5a",
   "metadata": {},
   "outputs": [],
   "source": [
    "batch_qs, batch_ts = get_batch_data(dataset[:5], table, only_question=True)"
   ]
  },
  {
   "cell_type": "code",
   "execution_count": 76,
   "id": "f171d3a9",
   "metadata": {},
   "outputs": [
    {
     "data": {
      "text/plain": [
       "['000040의 제 58 기는 언제를 말하는 거야?',\n",
       " '000040의 제 58 기는 언제야?',\n",
       " '000040의 제 59 기는 언제를 말하는 거야?',\n",
       " '000040의 제 59 기는 언제야?',\n",
       " '000040의 제 60 기는 언제를 말하는 거야?']"
      ]
     },
     "execution_count": 76,
     "metadata": {},
     "output_type": "execute_result"
    }
   ],
   "source": [
    "batch_qs[:5]"
   ]
  },
  {
   "cell_type": "code",
   "execution_count": null,
   "id": "563b7adb",
   "metadata": {},
   "outputs": [],
   "source": []
  }
 ],
 "metadata": {
  "kernelspec": {
   "display_name": "Python 3",
   "language": "python",
   "name": "python3"
  },
  "language_info": {
   "codemirror_mode": {
    "name": "ipython",
    "version": 3
   },
   "file_extension": ".py",
   "mimetype": "text/x-python",
   "name": "python",
   "nbconvert_exporter": "python",
   "pygments_lexer": "ipython3",
   "version": "3.8.10"
  }
 },
 "nbformat": 4,
 "nbformat_minor": 5
}
