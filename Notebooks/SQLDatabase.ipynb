{
 "cells": [
  {
   "cell_type": "markdown",
   "id": "3ad5ad8c",
   "metadata": {},
   "source": [
    "# Parse tables to database\n",
    "\n",
    "https://nbviewer.jupyter.org/github/FinanceData/OpenDartReader/blob/master/docs/OpenDartReader_reference_manual.ipynb\n",
    "\n",
    "\n",
    "```\n",
    "KOSPI\n",
    "└── Companys\n",
    "    └── Receipts\n",
    "        ├── BS: Financial statement(Balance Sheet)\n",
    "        ├── IS: Income Statement\n",
    "        ├── CIS: Comprehensive Income Statement\n",
    "        ├── CF: Cash flow statement\n",
    "        └── SCE: Statement of Changes in Equity\n",
    "```"
   ]
  },
  {
   "cell_type": "markdown",
   "id": "8d22bc3a",
   "metadata": {},
   "source": [
    "<p align=\"center\">\n",
    "    <img alt=\"Alt Text\" src=\"https://g.gravizo.com/svg?digraph%20G%20%7B%0A%20%201%20%5Blabel%3D%22KOSPI%22%2C%20fontcolor%3Dblack%2C%20shape%3Dbox%5D%3B%0A%20%202%20%5Blabel%3D%22Company1%22%2C%20fontcolor%3Dblack%2C%20shape%3Dbox%5D%3B%0A%20%203%20%5Blabel%3D%22Company2%22%2C%20fontcolor%3Dblack%2C%20shape%3Dbox%5D%3B%0A%20%204%20%5Blabel%3D%22...%22%2C%20fontcolor%3Dblack%2C%20shape%3Dbox%5D%3B%0A%20%205%20%5Blabel%3D%22Receipt%20No.1%22%2C%20fontcolor%3Dblack%2C%20shape%3Dbox%5D%3B%0A%20%206%20%5Blabel%3D%22Receipt%20No.2%22%2C%20fontcolor%3Dblack%2C%20shape%3Dbox%5D%3B%20%20%20%20%0A%20%207%20%5Blabel%3D%22...%22%2C%20fontcolor%3Dblack%2C%20shape%3Dbox%5D%3B%0A%20%208%20%5Blabel%3D%22BS%22%2C%20fontcolor%3Dblack%2C%20shape%3Dbox%5D%3B%0A%20%209%20%5Blabel%3D%22IS%22%2C%20fontcolor%3Dblack%2C%20shape%3Dbox%5D%3B%0A%20%2010%20%5Blabel%3D%22CIS%22%2C%20fontcolor%3Dblack%2C%20shape%3Dbox%5D%3B%0A%20%2011%20%5Blabel%3D%22CF%22%2C%20fontcolor%3Dblack%2C%20shape%3Dbox%5D%3B%0A%20%2012%20%5Blabel%3D%22SCE%22%2C%20fontcolor%3Dblack%2C%20shape%3Dbox%5D%3B%0A%20%201%20-%3E%202%20-%3E%205%3B%0A%20%201%20-%3E%203%3B%0A%20%201%20-%3E%204%3B%0A%20%202%20-%3E%206%3B%0A%20%202%20-%3E%207%3B%0A%20%206%20-%3E%208%3B%0A%20%206%20-%3E%209%3B%0A%20%206%20-%3E%2010%3B%0A%20%206%20-%3E%2011%3B%0A%20%206%20-%3E%2012%3B%0A%7D\" />\n",
    "</p>\n",
    "<details>\n",
    "<summary>How to create graph in markdown?</summary>\n",
    "\n",
    "```python\n",
    "from urllib.parse import quote\n",
    "raw = \"\"\"digraph G {\n",
    "  1 [label=\"KOSPI\", fontcolor=black, shape=box];\n",
    "  2 [label=\"Company1\", fontcolor=black, shape=box];\n",
    "  3 [label=\"Company2\", fontcolor=black, shape=box];\n",
    "  4 [label=\"...\", fontcolor=black, shape=box];\n",
    "  5 [label=\"Receipt No.1\", fontcolor=black, shape=box];\n",
    "  6 [label=\"Receipt No.2\", fontcolor=black, shape=box];    \n",
    "  7 [label=\"...\", fontcolor=black, shape=box];\n",
    "  8 [label=\"BS\", fontcolor=black, shape=box];\n",
    "  9 [label=\"IS\", fontcolor=black, shape=box];\n",
    "  10 [label=\"CIS\", fontcolor=black, shape=box];\n",
    "  11 [label=\"CF\", fontcolor=black, shape=box];\n",
    "  12 [label=\"SCE\", fontcolor=black, shape=box];\n",
    "  1 -> 2 -> 5;\n",
    "  1 -> 3;\n",
    "  1 -> 4;\n",
    "  2 -> 6;\n",
    "  2 -> 7;\n",
    "  6 -> 8;\n",
    "  6 -> 9;\n",
    "  6 -> 10;\n",
    "  6 -> 11;\n",
    "  6 -> 12;\n",
    "}\"\"\"\n",
    "txt = quote(raw)\n",
    "```\n",
    "    \n",
    "copy the text behind https://g.gravizo.com/svg?\n",
    "</details>"
   ]
  },
  {
   "cell_type": "markdown",
   "id": "e31c53e9",
   "metadata": {},
   "source": [
    "# Finance DataReader"
   ]
  },
  {
   "cell_type": "code",
   "execution_count": 1,
   "id": "388b93fe",
   "metadata": {},
   "outputs": [],
   "source": [
    "from private.apikey import APIKEY\n",
    "\n",
    "import pandas as pd\n",
    "import OpenDartReader\n",
    "import FinanceDataReader as fdr\n",
    "\n",
    "dart = OpenDartReader(APIKEY) "
   ]
  },
  {
   "cell_type": "code",
   "execution_count": 2,
   "id": "c942ecaf",
   "metadata": {},
   "outputs": [],
   "source": [
    "stocks = fdr.StockListing(\"KOSPI\")\n",
    "stocks = stocks.loc[~stocks[\"Sector\"].isnull(), :]\n",
    "stocks_syms = stocks[\"Symbol\"].values\n",
    "stocks = stocks.reset_index(drop=True)"
   ]
  },
  {
   "cell_type": "code",
   "execution_count": 7,
   "id": "20086570",
   "metadata": {},
   "outputs": [
    {
     "name": "stdout",
     "output_type": "stream",
     "text": [
      "Symbol object\n",
      "Market object\n",
      "Name object\n",
      "Sector object\n",
      "Industry object\n",
      "ListingDate datetime64[ns]\n",
      "SettleMonth object\n",
      "Representative object\n",
      "HomePage object\n",
      "Region object\n"
     ]
    }
   ],
   "source": [
    "for c in stocks.columns:\n",
    "    print(c, stocks[c].dtype)"
   ]
  },
  {
   "cell_type": "code",
   "execution_count": 8,
   "id": "95fed870",
   "metadata": {},
   "outputs": [],
   "source": [
    "stocks[\"ListingDate\"] = stocks[\"ListingDate\"].astype(str)"
   ]
  },
  {
   "cell_type": "code",
   "execution_count": 11,
   "id": "532aa5ca",
   "metadata": {},
   "outputs": [],
   "source": [
    "import sqlite3\n",
    "from pathlib import Path\n",
    "\n",
    "db_path = Path(\"./private/\")\n",
    "conn = sqlite3.connect(db_path / \"kospi.db\")\n",
    "# Samsung Electronic: 005930\n",
    "# conn = sqlite3.connect(db_path / \"samsung_new.db\")\n",
    "c = conn.cursor()"
   ]
  },
  {
   "cell_type": "code",
   "execution_count": 12,
   "id": "faf19e1e",
   "metadata": {},
   "outputs": [],
   "source": [
    "stocks.to_sql(\"kospi\", conn, index=True)"
   ]
  },
  {
   "cell_type": "markdown",
   "id": "9014a773",
   "metadata": {},
   "source": [
    "## Company Basic\n",
    "\n",
    "- corp_name: 정식명칭\n",
    "- corp_name_eng: 영문명칭\n",
    "- stock_name: 종목명 또는 약식명칭 \n",
    "- stock_code: 상장회사인 경우 주식의 종목코드\n",
    "- ceo_nm: 대표자명\n",
    "- crop_cls: 법인구분\n",
    "- jurir_no: 법인등록번호\n",
    "- bizr_no: 사업자등록번호\n",
    "- adres: 주소\n",
    "- hm_url: 홈페이지\n",
    "- ir_url: IR홈페이지\n",
    "- phn_no: 전화번호\n",
    "- fax_no: 팩스번호\n",
    "- induty_code: 업종코드\n",
    "- estdt: 설립일\n",
    "- acc_mt: 결산월"
   ]
  },
  {
   "cell_type": "code",
   "execution_count": 13,
   "id": "9092d7ec",
   "metadata": {},
   "outputs": [],
   "source": [
    "from tqdm.notebook import tqdm"
   ]
  },
  {
   "cell_type": "code",
   "execution_count": 14,
   "id": "196ee614",
   "metadata": {},
   "outputs": [
    {
     "data": {
      "application/vnd.jupyter.widget-view+json": {
       "model_id": "325b6bc8513743388f09378bd2f03a22",
       "version_major": 2,
       "version_minor": 0
      },
      "text/plain": [
       "  0%|          | 0/810 [00:00<?, ?it/s]"
      ]
     },
     "metadata": {},
     "output_type": "display_data"
    }
   ],
   "source": [
    "basic_cols = [\n",
    "    'corp_name', 'corp_name_eng', 'stock_name', 'stock_code', 'ceo_nm', 'corp_cls', \n",
    "    'jurir_no', 'bizr_no', 'adres', 'hm_url', 'ir_url', 'phn_no', 'fax_no', 'induty_code', 'est_dt', 'acc_mt'\n",
    "]\n",
    "df_basic = pd.DataFrame([dart.company(s) for s in tqdm(stocks_syms)]).loc[:, basic_cols]\n",
    "df_basic.to_sql(\"company\", conn, index=True)"
   ]
  },
  {
   "cell_type": "code",
   "execution_count": 15,
   "id": "e51fd3ff",
   "metadata": {},
   "outputs": [
    {
     "name": "stdout",
     "output_type": "stream",
     "text": [
      "corp_name object\n",
      "corp_name_eng object\n",
      "stock_name object\n",
      "stock_code object\n",
      "ceo_nm object\n",
      "corp_cls object\n",
      "jurir_no object\n",
      "bizr_no object\n",
      "adres object\n",
      "hm_url object\n",
      "ir_url object\n",
      "phn_no object\n",
      "fax_no object\n",
      "induty_code object\n",
      "est_dt object\n",
      "acc_mt object\n"
     ]
    }
   ],
   "source": [
    "for col in df_basic.columns:\n",
    "    print(col, df_basic[col].dtype)"
   ]
  },
  {
   "cell_type": "code",
   "execution_count": 14,
   "id": "54bcdd2b",
   "metadata": {
    "tags": []
   },
   "outputs": [],
   "source": [
    "# df_samsung = pd.DataFrame([dart.company(\"005930\")]).loc[:, basic_cols]\n",
    "\n",
    "# DROP TABLE if exists\n",
    "# sql = \"DROP TABLE company\"\n",
    "# res = c.execute(sql)\n",
    "\n",
    "# insert into \"company\" table\n",
    "# df_samsung.to_sql(\"company\", conn, index=True)"
   ]
  },
  {
   "cell_type": "code",
   "execution_count": 18,
   "id": "d65cf6b9",
   "metadata": {},
   "outputs": [
    {
     "name": "stdout",
     "output_type": "stream",
     "text": [
      "index: 0\n",
      "corp_name: AJ네트웍스 주식회사\n",
      "corp_name_eng: AJ Networks Co.,Ltd.\n",
      "stock_name: AJ네트웍스\n",
      "stock_code: 095570\n",
      "ceo_nm: 박대현\n",
      "corp_cls: Y\n",
      "jurir_no: 1101111874654\n",
      "bizr_no: 2148648586\n",
      "adres: 서울특별시 송파구 정의로8길 9 (문정동,AJ빌딩)\n",
      "hm_url: www.ajnet.co.kr\n",
      "ir_url: \n",
      "phn_no: 02-6363-9999\n",
      "fax_no: 02-6240-0888\n",
      "induty_code: 76320\n",
      "est_dt: 20000210\n",
      "acc_mt: 12\n"
     ]
    }
   ],
   "source": [
    "sql = \"SELECT * FROM company\"\n",
    "res = c.execute(sql)\n",
    "col_company = list(map(lambda x: x[0], res.description))\n",
    "for col, value in zip(col_company, res.fetchone()):\n",
    "    print(f\"{col}: {value}\")"
   ]
  },
  {
   "cell_type": "markdown",
   "id": "24af0185",
   "metadata": {},
   "source": [
    "## Report\n",
    "\n",
    "- corp (문자열): 검색대상 회사의 종목코드를 지정합니다. 고유번호, 회사이름도 가능합니다.\n",
    "- key_word (문자열): 조회 내용 지정, 아래 \"key_word 항목\"을 참고하십시오 ('증자','배당','자기주식','최대주주','최대주주변동','소액주주','임원','직원','임원개인보수','임원전체보수','개인별보수','타법인출자')\n",
    "- bsns_year (문자열 혹은 정수값): 사업연도\n",
    "- reprt_code (문자열): 보고서 코드 ('11013'=1분기보고서, '11012'=반기보고서, '11014'=3분기보고서, '11011'=사업보고서)\n",
    "\n",
    "반환값 (DataFrame): 조회 결과를 데이터프레임(DataFrame)으로 반환합니다. 데이터프레임의 각 컬럼은 다음과 같습니다.\n",
    "\n",
    "- rcept_no: 접수번호\n",
    "- corp_cls: 법인구분 Y(유가), K(코스닥), N(코넥스), E(기타)\n",
    "- corp_code: 고유번호\n",
    "- corp_name: 법인명\n",
    "\n",
    "key_word 항목 지정에 따라 결과 데이터의 컬럼이 달라집니다. '배당' - 배당에 관한 사항\n",
    "\n",
    "- se: 구분. 유상증자(주주배정), 전환권행사 등\n",
    "- stock_knd: 주식 종류\n",
    "- thstrm: 당기\n",
    "- frmtrm: 전기\n",
    "- lwfr: 전전기"
   ]
  },
  {
   "cell_type": "code",
   "execution_count": 19,
   "id": "c04b5cd2",
   "metadata": {},
   "outputs": [],
   "source": [
    "corp = \"005930\"\n",
    "bsns_year = 2020"
   ]
  },
  {
   "cell_type": "code",
   "execution_count": 20,
   "id": "742e0c69",
   "metadata": {},
   "outputs": [
    {
     "data": {
      "text/html": [
       "<div>\n",
       "<style scoped>\n",
       "    .dataframe tbody tr th:only-of-type {\n",
       "        vertical-align: middle;\n",
       "    }\n",
       "\n",
       "    .dataframe tbody tr th {\n",
       "        vertical-align: top;\n",
       "    }\n",
       "\n",
       "    .dataframe thead th {\n",
       "        text-align: right;\n",
       "    }\n",
       "</style>\n",
       "<table border=\"1\" class=\"dataframe\">\n",
       "  <thead>\n",
       "    <tr style=\"text-align: right;\">\n",
       "      <th></th>\n",
       "      <th>rcept_no</th>\n",
       "      <th>corp_cls</th>\n",
       "      <th>corp_code</th>\n",
       "      <th>corp_name</th>\n",
       "      <th>nm</th>\n",
       "      <th>ofcps</th>\n",
       "      <th>mendng_totamt</th>\n",
       "      <th>mendng_totamt_ct_incls_mendng</th>\n",
       "    </tr>\n",
       "  </thead>\n",
       "  <tbody>\n",
       "    <tr>\n",
       "      <th>0</th>\n",
       "      <td>20210309000744</td>\n",
       "      <td>Y</td>\n",
       "      <td>00126380</td>\n",
       "      <td>삼성전자</td>\n",
       "      <td>권오현</td>\n",
       "      <td>고 문</td>\n",
       "      <td>17,233,000,000</td>\n",
       "      <td>-</td>\n",
       "    </tr>\n",
       "    <tr>\n",
       "      <th>1</th>\n",
       "      <td>20210309000744</td>\n",
       "      <td>Y</td>\n",
       "      <td>00126380</td>\n",
       "      <td>삼성전자</td>\n",
       "      <td>윤부근</td>\n",
       "      <td>고 문</td>\n",
       "      <td>11,527,000,000</td>\n",
       "      <td>-</td>\n",
       "    </tr>\n",
       "    <tr>\n",
       "      <th>2</th>\n",
       "      <td>20210309000744</td>\n",
       "      <td>Y</td>\n",
       "      <td>00126380</td>\n",
       "      <td>삼성전자</td>\n",
       "      <td>신종균</td>\n",
       "      <td>고 문</td>\n",
       "      <td>11,327,000,000</td>\n",
       "      <td>-</td>\n",
       "    </tr>\n",
       "    <tr>\n",
       "      <th>3</th>\n",
       "      <td>20210309000744</td>\n",
       "      <td>Y</td>\n",
       "      <td>00126380</td>\n",
       "      <td>삼성전자</td>\n",
       "      <td>전동수</td>\n",
       "      <td>前고문</td>\n",
       "      <td>10,908,000,000</td>\n",
       "      <td>-</td>\n",
       "    </tr>\n",
       "    <tr>\n",
       "      <th>4</th>\n",
       "      <td>20210309000744</td>\n",
       "      <td>Y</td>\n",
       "      <td>00126380</td>\n",
       "      <td>삼성전자</td>\n",
       "      <td>김기남</td>\n",
       "      <td>대표이사</td>\n",
       "      <td>8,274,000,000</td>\n",
       "      <td>-</td>\n",
       "    </tr>\n",
       "  </tbody>\n",
       "</table>\n",
       "</div>"
      ],
      "text/plain": [
       "         rcept_no corp_cls corp_code corp_name   nm ofcps   mendng_totamt  \\\n",
       "0  20210309000744        Y  00126380      삼성전자  권오현   고 문  17,233,000,000   \n",
       "1  20210309000744        Y  00126380      삼성전자  윤부근   고 문  11,527,000,000   \n",
       "2  20210309000744        Y  00126380      삼성전자  신종균   고 문  11,327,000,000   \n",
       "3  20210309000744        Y  00126380      삼성전자  전동수   前고문  10,908,000,000   \n",
       "4  20210309000744        Y  00126380      삼성전자  김기남  대표이사   8,274,000,000   \n",
       "\n",
       "  mendng_totamt_ct_incls_mendng  \n",
       "0                             -  \n",
       "1                             -  \n",
       "2                             -  \n",
       "3                             -  \n",
       "4                             -  "
      ]
     },
     "execution_count": 20,
     "metadata": {},
     "output_type": "execute_result"
    }
   ],
   "source": [
    "# ['증자', '배당', '자기주식', '최대주주', '최대주주변동', '소액주주', '임원', '직원', '임원개인보수', '임원전체보수', '개인별보수', '타법인출자']\n",
    "dart.report(corp, '개인별보수', bsns_year, reprt_code='11011')"
   ]
  },
  {
   "cell_type": "markdown",
   "id": "87e91b0a",
   "metadata": {},
   "source": [
    "## Finstate\n",
    "- corp (문자열): 검색대상 회사의 종목코드를 지정합니다. 고유번호, 회사이름도 가능합니다.\n",
    "- bsns_year (문자열 혹은 정수값): 사업연도\n",
    "- reprt_code (문자열): 보고서 코드 ('11013'=1분기보고서, '11012'=반기보고서, '11014'=3분기보고서, '11011'=사업보고서)\n",
    "\n",
    "반환값 (DataFrame): 조회 결과를 데이터프레임(DataFrame)으로 반환합니다. 데이터프레임의 각 컬럼은 다음과 같습니다.\n",
    "\n",
    "- rcept_no: 접수번호\n",
    "- corp_code: 사업 연도\n",
    "- stock_code: 종목 코드\n",
    "- reprt_code: 보고서 코드\n",
    "- account_nm: 계정명 (예: 자본총계)\n",
    "- fs_div: 개별/연결구분 ('CFS'=연결재무제표, 'OFS'=재무제표)\n",
    "- fs_nm: 개별/연결명 ('연결재무제표' 또는 '재무제표')\n",
    "- sj_div: 재무제표구분 ('BS'=재무상태표, 'IS'=손익계산서)\n",
    "- sj_nm: 재무제표명 ( '재무상태표' 또는 '손익계산서')\n",
    "- thstrm_nm: 당기명\n",
    "- thstrm_dt: 당기일자\n",
    "- thstrm_amount: 당기금액\n",
    "- thstrm_add_amount: 당기누적금액\n",
    "- frmtrm_nm: 전기명\n",
    "- frmtrm_dt: 전기일자\n",
    "- frmtrm_amount: 전기금액\n",
    "- frmtrm_add_amount: 전기누적금액\n",
    "- bfefrmtrm_nm: 전전기명\n",
    "- bfefrmtrm_dt: 전전일자\n",
    "- bfefrmtrm_amount: 전전기금액\n",
    "- ord: 계정과목 정렬순서"
   ]
  },
  {
   "cell_type": "code",
   "execution_count": 21,
   "id": "cda6ab80",
   "metadata": {},
   "outputs": [
    {
     "data": {
      "text/html": [
       "<div>\n",
       "<style scoped>\n",
       "    .dataframe tbody tr th:only-of-type {\n",
       "        vertical-align: middle;\n",
       "    }\n",
       "\n",
       "    .dataframe tbody tr th {\n",
       "        vertical-align: top;\n",
       "    }\n",
       "\n",
       "    .dataframe thead th {\n",
       "        text-align: right;\n",
       "    }\n",
       "</style>\n",
       "<table border=\"1\" class=\"dataframe\">\n",
       "  <thead>\n",
       "    <tr style=\"text-align: right;\">\n",
       "      <th></th>\n",
       "      <th></th>\n",
       "      <th></th>\n",
       "      <th></th>\n",
       "      <th>thstrm_amount</th>\n",
       "    </tr>\n",
       "    <tr>\n",
       "      <th>thstrm_nm</th>\n",
       "      <th>fs_div</th>\n",
       "      <th>sj_div</th>\n",
       "      <th>account_nm</th>\n",
       "      <th></th>\n",
       "    </tr>\n",
       "  </thead>\n",
       "  <tbody>\n",
       "    <tr>\n",
       "      <th rowspan=\"26\" valign=\"top\">제 52 기</th>\n",
       "      <th rowspan=\"13\" valign=\"top\">CFS</th>\n",
       "      <th rowspan=\"9\" valign=\"top\">BS</th>\n",
       "      <th>부채총계</th>\n",
       "      <td>102287702000000</td>\n",
       "    </tr>\n",
       "    <tr>\n",
       "      <th>비유동부채</th>\n",
       "      <td>26683351000000</td>\n",
       "    </tr>\n",
       "    <tr>\n",
       "      <th>비유동자산</th>\n",
       "      <td>180020139000000</td>\n",
       "    </tr>\n",
       "    <tr>\n",
       "      <th>유동부채</th>\n",
       "      <td>75604351000000</td>\n",
       "    </tr>\n",
       "    <tr>\n",
       "      <th>유동자산</th>\n",
       "      <td>198215579000000</td>\n",
       "    </tr>\n",
       "    <tr>\n",
       "      <th>이익잉여금</th>\n",
       "      <td>271068211000000</td>\n",
       "    </tr>\n",
       "    <tr>\n",
       "      <th>자본금</th>\n",
       "      <td>897514000000</td>\n",
       "    </tr>\n",
       "    <tr>\n",
       "      <th>자본총계</th>\n",
       "      <td>275948016000000</td>\n",
       "    </tr>\n",
       "    <tr>\n",
       "      <th>자산총계</th>\n",
       "      <td>378235718000000</td>\n",
       "    </tr>\n",
       "    <tr>\n",
       "      <th rowspan=\"4\" valign=\"top\">IS</th>\n",
       "      <th>당기순이익</th>\n",
       "      <td>26407832000000</td>\n",
       "    </tr>\n",
       "    <tr>\n",
       "      <th>매출액</th>\n",
       "      <td>236806988000000</td>\n",
       "    </tr>\n",
       "    <tr>\n",
       "      <th>법인세차감전 순이익</th>\n",
       "      <td>36345117000000</td>\n",
       "    </tr>\n",
       "    <tr>\n",
       "      <th>영업이익</th>\n",
       "      <td>35993876000000</td>\n",
       "    </tr>\n",
       "    <tr>\n",
       "      <th rowspan=\"13\" valign=\"top\">OFS</th>\n",
       "      <th rowspan=\"9\" valign=\"top\">BS</th>\n",
       "      <th>부채총계</th>\n",
       "      <td>46347703000000</td>\n",
       "    </tr>\n",
       "    <tr>\n",
       "      <th>비유동부채</th>\n",
       "      <td>1934799000000</td>\n",
       "    </tr>\n",
       "    <tr>\n",
       "      <th>비유동자산</th>\n",
       "      <td>155865878000000</td>\n",
       "    </tr>\n",
       "    <tr>\n",
       "      <th>유동부채</th>\n",
       "      <td>44412904000000</td>\n",
       "    </tr>\n",
       "    <tr>\n",
       "      <th>유동자산</th>\n",
       "      <td>73798549000000</td>\n",
       "    </tr>\n",
       "    <tr>\n",
       "      <th>이익잉여금</th>\n",
       "      <td>178284102000000</td>\n",
       "    </tr>\n",
       "    <tr>\n",
       "      <th>자본금</th>\n",
       "      <td>897514000000</td>\n",
       "    </tr>\n",
       "    <tr>\n",
       "      <th>자본총계</th>\n",
       "      <td>183316724000000</td>\n",
       "    </tr>\n",
       "    <tr>\n",
       "      <th>자산총계</th>\n",
       "      <td>229664427000000</td>\n",
       "    </tr>\n",
       "    <tr>\n",
       "      <th rowspan=\"4\" valign=\"top\">IS</th>\n",
       "      <th>당기순이익</th>\n",
       "      <td>15615018000000</td>\n",
       "    </tr>\n",
       "    <tr>\n",
       "      <th>매출액</th>\n",
       "      <td>166311191000000</td>\n",
       "    </tr>\n",
       "    <tr>\n",
       "      <th>법인세차감전 순이익</th>\n",
       "      <td>20451923000000</td>\n",
       "    </tr>\n",
       "    <tr>\n",
       "      <th>영업이익</th>\n",
       "      <td>20518974000000</td>\n",
       "    </tr>\n",
       "  </tbody>\n",
       "</table>\n",
       "</div>"
      ],
      "text/plain": [
       "                                      thstrm_amount\n",
       "thstrm_nm fs_div sj_div account_nm                 \n",
       "제 52 기    CFS    BS     부채총계        102287702000000\n",
       "                        비유동부채        26683351000000\n",
       "                        비유동자산       180020139000000\n",
       "                        유동부채         75604351000000\n",
       "                        유동자산        198215579000000\n",
       "                        이익잉여금       271068211000000\n",
       "                        자본금            897514000000\n",
       "                        자본총계        275948016000000\n",
       "                        자산총계        378235718000000\n",
       "                 IS     당기순이익        26407832000000\n",
       "                        매출액         236806988000000\n",
       "                        법인세차감전 순이익   36345117000000\n",
       "                        영업이익         35993876000000\n",
       "          OFS    BS     부채총계         46347703000000\n",
       "                        비유동부채         1934799000000\n",
       "                        비유동자산       155865878000000\n",
       "                        유동부채         44412904000000\n",
       "                        유동자산         73798549000000\n",
       "                        이익잉여금       178284102000000\n",
       "                        자본금            897514000000\n",
       "                        자본총계        183316724000000\n",
       "                        자산총계        229664427000000\n",
       "                 IS     당기순이익        15615018000000\n",
       "                        매출액         166311191000000\n",
       "                        법인세차감전 순이익   20451923000000\n",
       "                        영업이익         20518974000000"
      ]
     },
     "execution_count": 21,
     "metadata": {},
     "output_type": "execute_result"
    }
   ],
   "source": [
    "df_summary = dart.finstate(corp, bsns_year, reprt_code=\"11011\")\n",
    "for col in [\"thstrm_amount\", \"frmtrm_amount\", \"bfefrmtrm_amount\"]:\n",
    "    df_summary.loc[:, col] = df_summary.loc[:, col].apply(lambda x: int(\"\".join(x.split(\",\"))))\n",
    "    \n",
    "cols = [\"fs_div\", \"sj_div\", \"account_nm\", \"thstrm_nm\", \"thstrm_amount\"] # \"frmtrm_nm\", \"frmtrm_amount\", \"bfefrmtrm_nm\", \"bfefrmtrm_amount\"]\n",
    "df_summary.loc[:, cols].groupby([\"thstrm_nm\", \"fs_div\", \"sj_div\", \"account_nm\"]).agg(\"sum\")"
   ]
  },
  {
   "cell_type": "code",
   "execution_count": 22,
   "id": "5b1ba4bc",
   "metadata": {},
   "outputs": [
    {
     "data": {
      "text/plain": [
       "array(['유동자산', '비유동자산', '자산총계', '유동부채', '비유동부채', '부채총계', '자본금', '이익잉여금',\n",
       "       '자본총계', '매출액', '영업이익', '법인세차감전 순이익', '당기순이익'], dtype=object)"
      ]
     },
     "execution_count": 22,
     "metadata": {},
     "output_type": "execute_result"
    }
   ],
   "source": [
    "df_summary[\"account_nm\"].unique()"
   ]
  },
  {
   "cell_type": "code",
   "execution_count": 23,
   "id": "01868dab",
   "metadata": {},
   "outputs": [
    {
     "data": {
      "text/html": [
       "<div>\n",
       "<style scoped>\n",
       "    .dataframe tbody tr th:only-of-type {\n",
       "        vertical-align: middle;\n",
       "    }\n",
       "\n",
       "    .dataframe tbody tr th {\n",
       "        vertical-align: top;\n",
       "    }\n",
       "\n",
       "    .dataframe thead th {\n",
       "        text-align: right;\n",
       "    }\n",
       "</style>\n",
       "<table border=\"1\" class=\"dataframe\">\n",
       "  <thead>\n",
       "    <tr style=\"text-align: right;\">\n",
       "      <th></th>\n",
       "      <th>fs_div</th>\n",
       "      <th>fs_nm</th>\n",
       "    </tr>\n",
       "  </thead>\n",
       "  <tbody>\n",
       "    <tr>\n",
       "      <th>0</th>\n",
       "      <td>CFS</td>\n",
       "      <td>연결재무제표</td>\n",
       "    </tr>\n",
       "    <tr>\n",
       "      <th>13</th>\n",
       "      <td>OFS</td>\n",
       "      <td>재무제표</td>\n",
       "    </tr>\n",
       "  </tbody>\n",
       "</table>\n",
       "</div>"
      ],
      "text/plain": [
       "   fs_div   fs_nm\n",
       "0     CFS  연결재무제표\n",
       "13    OFS    재무제표"
      ]
     },
     "execution_count": 23,
     "metadata": {},
     "output_type": "execute_result"
    }
   ],
   "source": [
    "df_summary.loc[:, [\"fs_div\", \"fs_nm\"]].loc[~df_summary.loc[:, [\"fs_div\", \"fs_nm\"]].duplicated(keep=\"first\")]"
   ]
  },
  {
   "cell_type": "markdown",
   "id": "52cc29ca",
   "metadata": {},
   "source": [
    "## Query 와 SQL 만들기\n",
    "\n",
    "- [시간]: BS: '제\\*\\*기', '20\\*\\*년도', '올해', '작년' / IS: '20\\*\\*년도 부터 20\\*\\*년 까지', \n",
    "- [계정]: BS: '유동자산', '비유동자산', '자산총계', '유동부채', '비유동부채', '부채총계', '자본금', '이익잉여금', '자본총계' / IS: '매출액', '영업이익', '법인세차감전 순이익', '당기순이익'\n",
    "- [질문]: '얼마나돼', '얼마야', '어떻게돼'\n",
    "\n",
    "**format의 형태**\n",
    "\n",
    "틀린 질문을 만들수 없게 로직짜기\n",
    "\n",
    "단순 계정 관련 질문:\n",
    "- Q: 삼성전자 [시간]의 [계정]은/는 [질문]? \n",
    "- Q: [시간]에서 삼성전자의 [계정]은/는 [질문]?"
   ]
  },
  {
   "cell_type": "markdown",
   "id": "39b22ac0",
   "metadata": {},
   "source": [
    "## XBRL 표준계정과목체계(계정과목)"
   ]
  },
  {
   "cell_type": "code",
   "execution_count": 24,
   "id": "a224b909",
   "metadata": {},
   "outputs": [],
   "source": [
    "df_bs1 = dart.xbrl_taxonomy(sj_div=\"BS1\")\n",
    "df_is1 = dart.xbrl_taxonomy(sj_div=\"IS1\")\n",
    "bs1_dict = {k: v for k, v in df_bs1.loc[:, [\"label_kor\", \"account_nm\"]].values}\n",
    "is1_dict = {k: v for k, v in df_is1.loc[:, [\"label_kor\", \"account_nm\"]].values}"
   ]
  },
  {
   "cell_type": "code",
   "execution_count": 25,
   "id": "cccb109f",
   "metadata": {},
   "outputs": [
    {
     "name": "stdout",
     "output_type": "stream",
     "text": [
      "당기순이익(손실) ProfitLoss\n"
     ]
    }
   ],
   "source": [
    "for x, v in list(is1_dict.items()):\n",
    "    if \"당기순이익\" in x:\n",
    "        print(x, v)\n",
    "        break"
   ]
  },
  {
   "cell_type": "code",
   "execution_count": 28,
   "id": "7a981f1d",
   "metadata": {},
   "outputs": [],
   "source": [
    "account_dict = {\n",
    "    \"유동자산\" : \"CurrentAssets\",\n",
    "    \"비유동자산\" : \"NoncurrentAssets\",\n",
    "    \"자산총계\" : \"Assets\",\n",
    "    \"유동부채\" : \"CurrentLiabilities\",\n",
    "    \"비유동부채\" : \"NoncurrentLiabilities\",\n",
    "    \"부채총계\" : \"Liabilities\",\n",
    "    \"자본금\" : \"IssuedCapital\",\n",
    "    \"이익잉여금\" : \"RetainedEarnings\",\n",
    "    \"자본총계\" : \"Equity\",\n",
    "    \"매출액\" : \"Revenue\",\n",
    "    \"영업이익\" : \"OperatingIncomeLoss\",\n",
    "    \"법인세차감전 순이익\" : \"ProfitLossBeforeTax\",\n",
    "    \"당기순이익\" : \"ProfitLoss\"\n",
    "}"
   ]
  },
  {
   "cell_type": "code",
   "execution_count": 29,
   "id": "61f631ce",
   "metadata": {},
   "outputs": [
    {
     "name": "stdout",
     "output_type": "stream",
     "text": [
      "유동자산 = CurrentAssets\n",
      "비유동자산 = NoncurrentAssets\n",
      "자산총계 = Assets\n",
      "유동부채 = CurrentLiabilities\n",
      "비유동부채 = NoncurrentLiabilities\n",
      "부채총계 = Liabilities\n",
      "자본금 = IssuedCapital\n",
      "이익잉여금 = RetainedEarnings\n",
      "자본총계 = Equity\n",
      "매출액 = Revenue\n",
      "영업이익 = OperatingIncomeLoss\n",
      "법인세차감전 순이익 = ProfitLossBeforeTax\n",
      "당기순이익 = ProfitLoss\n"
     ]
    }
   ],
   "source": [
    "for sj, acc in df_summary.loc[df_summary[\"fs_div\"] == \"CFS\", [\"sj_div\", \"account_nm\"]].values:\n",
    "    print(f\"{acc} = {account_dict.get(acc)}\")"
   ]
  },
  {
   "cell_type": "code",
   "execution_count": 26,
   "id": "e98cf2d2",
   "metadata": {},
   "outputs": [],
   "source": [
    "def preprocess_finstate(df):\n",
    "#     account_dict = {\n",
    "#         \"유동자산\" : \"CurrentAssets\",\n",
    "#         \"비유동자산\" : \"NoncurrentAssets\",\n",
    "#         \"자산총계\" : \"Assets\",\n",
    "#         \"유동부채\" : \"CurrentLiabilities\",\n",
    "#         \"비유동부채\" : \"NoncurrentLiabilities\",\n",
    "#         \"부채총계\" : \"Liabilities\",\n",
    "#         \"자본금\" : \"IssuedCapital\",\n",
    "#         \"이익잉여금\" : \"RetainedEarnings\",\n",
    "#         \"자본총계\" : \"Equity\",\n",
    "#         \"매출액\" : \"Revenue\",\n",
    "#         \"영업이익\" : \"OperatingIncomeLoss\",\n",
    "#         \"법인세차감전 순이익\" : \"ProfitLossBeforeTax\",\n",
    "#         \"당기순이익\" : \"ProfitLoss\"\n",
    "#     }\n",
    "#     df.loc[:, \"account_nm\"] = df.loc[:, \"account_nm\"].apply(account_dict.get)\n",
    "\n",
    "    for col in [\"thstrm_amount\", \"frmtrm_amount\", \"bfefrmtrm_amount\"]:\n",
    "        if col in df.columns:\n",
    "            df.loc[:, col] = df.loc[:, col].apply(lambda x: int(\"\".join(x.split(\",\"))))\n",
    "            \n",
    "    return df"
   ]
  },
  {
   "cell_type": "code",
   "execution_count": 33,
   "id": "e06f6a70",
   "metadata": {},
   "outputs": [],
   "source": [
    "corp = \"005930\"\n",
    "bsns_years = list(range(2015, 2021))"
   ]
  },
  {
   "cell_type": "code",
   "execution_count": 37,
   "id": "7c889d88",
   "metadata": {},
   "outputs": [],
   "source": [
    "df_receipts = pd.concat([preprocess_finstate(dart.finstate(corp, bsns_year, reprt_code=\"11011\")).iloc[:12, :-1] for bsns_year in bsns_years]).reset_index(drop=True)\n",
    "df_receipts.loc[:, \"bsns_year\"] = df_receipts.loc[:, \"bsns_year\"].astype(int)"
   ]
  },
  {
   "cell_type": "markdown",
   "id": "33e33401",
   "metadata": {},
   "source": [
    "## receipts all"
   ]
  },
  {
   "cell_type": "markdown",
   "id": "4e5eee4e",
   "metadata": {},
   "source": [
    "당기 만 저장"
   ]
  },
  {
   "cell_type": "code",
   "execution_count": 28,
   "id": "df4c173e",
   "metadata": {},
   "outputs": [],
   "source": [
    "import time"
   ]
  },
  {
   "cell_type": "code",
   "execution_count": 29,
   "id": "86366a63",
   "metadata": {
    "tags": []
   },
   "outputs": [
    {
     "data": {
      "application/vnd.jupyter.widget-view+json": {
       "model_id": "18255c3c7ae84a93a5c788104f5bfa82",
       "version_major": 2,
       "version_minor": 0
      },
      "text/plain": [
       "  0%|          | 0/810 [00:00<?, ?it/s]"
      ]
     },
     "metadata": {},
     "output_type": "display_data"
    }
   ],
   "source": [
    "select_columns = ['rcept_no', 'reprt_code', 'bsns_year', 'corp_code', 'stock_code', 'fs_div', 'fs_nm', 'sj_div', 'sj_nm', 'account_nm', 'thstrm_nm','thstrm_dt', 'thstrm_amount']\n",
    "bsns_years = list(range(2018, 2021))\n",
    "dfs = {}\n",
    "for corp in tqdm(stocks_syms):\n",
    "    dfs[corp] = []\n",
    "    for bsns_year in bsns_years:\n",
    "        df = dart.finstate(corp, bsns_year)\n",
    "        time.sleep(1)\n",
    "        if df is None:\n",
    "            continue\n",
    "        else:\n",
    "            df = df.loc[:12, select_columns]\n",
    "            df.loc[df[\"thstrm_amount\"] == \"-\", \"thstrm_amount\"] = \"0\"\n",
    "            df.loc[:, \"thstrm_amount\"] = df.loc[:, \"thstrm_amount\"].apply(lambda x: int(\"\".join(x.split(\",\")))).astype(int)\n",
    "            df.loc[:, \"bsns_year\"] = df.loc[:, \"bsns_year\"].astype(int)\n",
    "            dfs[corp].append(df)"
   ]
  },
  {
   "cell_type": "code",
   "execution_count": 30,
   "id": "b52eb75f",
   "metadata": {},
   "outputs": [
    {
     "data": {
      "application/vnd.jupyter.widget-view+json": {
       "model_id": "622d620faa864c2cbb1403c7b523fd79",
       "version_major": 2,
       "version_minor": 0
      },
      "text/plain": [
       "  0%|          | 0/810 [00:00<?, ?it/s]"
      ]
     },
     "metadata": {},
     "output_type": "display_data"
    },
    {
     "data": {
      "text/plain": [
       "60"
      ]
     },
     "execution_count": 30,
     "metadata": {},
     "output_type": "execute_result"
    }
   ],
   "source": [
    "# 59 companys don's have receipts for now\n",
    "sum([True if len(dfs[corp]) == 0 else False for corp in tqdm(stocks_syms)])"
   ]
  },
  {
   "cell_type": "code",
   "execution_count": 31,
   "id": "544c5d9b",
   "metadata": {},
   "outputs": [
    {
     "data": {
      "application/vnd.jupyter.widget-view+json": {
       "model_id": "8932e636721a46e787571d48048c8f06",
       "version_major": 2,
       "version_minor": 0
      },
      "text/plain": [
       "  0%|          | 0/810 [00:00<?, ?it/s]"
      ]
     },
     "metadata": {},
     "output_type": "display_data"
    }
   ],
   "source": [
    "# save to sql\n",
    "for corp in tqdm(stocks_syms):\n",
    "    if len(dfs[corp]) == 0:\n",
    "        continue\n",
    "    df = pd.concat(dfs[corp]).reset_index(drop=True)\n",
    "    table_name = f\"{corp}\"\n",
    "    df.to_sql(table_name, conn, index=True)"
   ]
  }
 ],
 "metadata": {
  "kernelspec": {
   "display_name": "Python 3",
   "language": "python",
   "name": "python3"
  },
  "language_info": {
   "codemirror_mode": {
    "name": "ipython",
    "version": 3
   },
   "file_extension": ".py",
   "mimetype": "text/x-python",
   "name": "python",
   "nbconvert_exporter": "python",
   "pygments_lexer": "ipython3",
   "version": "3.7.10"
  },
  "metadata": {
   "interpreter": {
    "hash": "aee8b7b246df8f9039afb4144a1f6fd8d2ca17a180786b69acc140d282b71a49"
   }
  }
 },
 "nbformat": 4,
 "nbformat_minor": 5
}
