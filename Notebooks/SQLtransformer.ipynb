{
 "cells": [
  {
   "cell_type": "markdown",
   "id": "d2e54dd0",
   "metadata": {},
   "source": [
    "# TEXT2SQL with transformers"
   ]
  },
  {
   "cell_type": "code",
   "execution_count": 2,
   "id": "5e44f63b",
   "metadata": {},
   "outputs": [
    {
     "name": "stdout",
     "output_type": "stream",
     "text": [
      "PyTroch Version: 1.8.1\n",
      "Transfomers Version: 4.6.1\n"
     ]
    }
   ],
   "source": [
    "import torch\n",
    "import torch.nn as nn\n",
    "import torch.optim as optim\n",
    "import transformers\n",
    "print(f\"PyTroch Version: {torch.__version__}\")\n",
    "print(f\"Transfomers Version: {transformers.__version__}\")"
   ]
  },
  {
   "cell_type": "code",
   "execution_count": 3,
   "id": "34f2f2ad",
   "metadata": {},
   "outputs": [],
   "source": [
    "from typing import Tuple, Dict, List, Union, Any"
   ]
  },
  {
   "cell_type": "markdown",
   "id": "62c6bbc7",
   "metadata": {},
   "source": [
    "## Data to build"
   ]
  },
  {
   "cell_type": "code",
   "execution_count": 10,
   "id": "78913fa6",
   "metadata": {},
   "outputs": [],
   "source": [
    "from pathlib import Path\n",
    "import re\n",
    "import records\n",
    "\n",
    "schema_re = re.compile(r'\\((.+)\\)')\n",
    "num_re = re.compile(r'[-+]?\\d*\\.\\d+|\\d+')\n",
    "\n",
    "db_path = Path(\"./private\")\n",
    "db = records.Database(f\"sqlite:///{db_path / 'samsung_new.db'}\")\n",
    "\n",
    "table_id = \"receipts\"\n",
    "table_info = db.query('SELECT sql from sqlite_master WHERE tbl_name = :name', name=table_id).all()[0].sql\n",
    "schema_str = schema_re.findall(table_info.replace(\"\\n\", \"\"))[0]\n",
    "schema = {}\n",
    "for tup in schema_str.split(', '):\n",
    "    c, t = tup.split()\n",
    "    schema[c.strip('\"')] = t"
   ]
  },
  {
   "cell_type": "code",
   "execution_count": 11,
   "id": "df325e28",
   "metadata": {},
   "outputs": [
    {
     "data": {
      "text/plain": [
       "{'index': 'INTEGER',\n",
       " 'rcept_no': 'TEXT',\n",
       " 'reprt_code': 'TEXT',\n",
       " 'bsns_year': 'INTEGER',\n",
       " 'corp_code': 'TEXT',\n",
       " 'stock_code': 'TEXT',\n",
       " 'fs_div': 'TEXT',\n",
       " 'fs_nm': 'TEXT',\n",
       " 'sj_div': 'TEXT',\n",
       " 'sj_nm': 'TEXT',\n",
       " 'account_nm': 'TEXT',\n",
       " 'thstrm_nm': 'TEXT',\n",
       " 'thstrm_dt': 'TEXT',\n",
       " 'thstrm_amount': 'INTEGER',\n",
       " 'frmtrm_nm': 'TEXT',\n",
       " 'frmtrm_dt': 'TEXT',\n",
       " 'frmtrm_amount': 'INTEGER',\n",
       " 'bfefrmtrm_nm': 'TEXT',\n",
       " 'bfefrmtrm_dt': 'TEXT',\n",
       " 'bfefrmtrm_amount': 'INTEGER'}"
      ]
     },
     "execution_count": 11,
     "metadata": {},
     "output_type": "execute_result"
    }
   ],
   "source": [
    "# sqlite can have NULL, INTEGER, REAL, TEXT, BLOB data type\n",
    "schema"
   ]
  },
  {
   "cell_type": "code",
   "execution_count": 12,
   "id": "3e0c13f9",
   "metadata": {},
   "outputs": [
    {
     "data": {
      "text/plain": [
       "{'INTEGER', 'TEXT'}"
      ]
     },
     "execution_count": 12,
     "metadata": {},
     "output_type": "execute_result"
    }
   ],
   "source": [
    "set(schema.values())"
   ]
  },
  {
   "cell_type": "code",
   "execution_count": 13,
   "id": "11809ac1",
   "metadata": {},
   "outputs": [
    {
     "data": {
      "text/plain": [
       "'[CLS] 제 51 기에 삼성전자의 유동자산은 어떻게 돼? [T] receipts [C] index [INTEGER] [C] rcept_no [TEXT] [C] reprt_code [TEXT] [C] bsns_year [INTEGER] [C] corp_code [TEXT] [C] stock_code [TEXT] [C] fs_div [TEXT] [C] fs_nm [TEXT] [C] sj_div [TEXT] [C] sj_nm [TEXT] [C] account_nm [TEXT] [C] thstrm_nm [TEXT] [C] thstrm_dt [TEXT] [C] thstrm_amount [INTEGER] [C] frmtrm_nm [TEXT] [C] frmtrm_dt [TEXT] [C] frmtrm_amount [INTEGER] [C] bfefrmtrm_nm [TEXT] [C] bfefrmtrm_dt [TEXT] [C] bfefrmtrm_amount [INTEGER]'"
      ]
     },
     "execution_count": 13,
     "metadata": {},
     "output_type": "execute_result"
    }
   ],
   "source": [
    "question = \"제 51 기에 삼성전자의 유동자산은 어떻게 돼?\"\n",
    "cls_token = \"[CLS]\"\n",
    "table_token = \"[T]\"\n",
    "column_token = \"[C]\"\n",
    "\n",
    "f\"{cls_token} {question} [T] {table_id} \" + \" \".join([f\"{column_token} {col} [{typ}]\" for col, typ in schema.items()])"
   ]
  },
  {
   "cell_type": "markdown",
   "id": "37f09690",
   "metadata": {},
   "source": [
    "## Build a cumstom Tokenizer\n",
    "\n",
    "https://huggingface.co/docs/tokenizers/python/latest/pipeline.html"
   ]
  },
  {
   "cell_type": "markdown",
   "id": "ebd7ee0e",
   "metadata": {},
   "source": [
    "### Normalization\n",
    "\n",
    "- `normalizers`는 raw text를 더 깨끗하게 만드는 과정이다.\n",
    "- `NFD` 사용하게 되면 한글은 자음 모음으로 분리된다.\n",
    "    - NFD(Normalization Form Canonical Decomposition) = 조합형\n",
    "    - NFC(Normalizaiton Form Canonical Compostion) = 완성형"
   ]
  },
  {
   "cell_type": "code",
   "execution_count": 7,
   "id": "4528adfa",
   "metadata": {},
   "outputs": [
    {
     "name": "stdout",
     "output_type": "stream",
     "text": [
      "제 51 기에 삼성전자의 유동자산은 어떻게 돼?\n",
      "ᄌ/ᅦ/ /5/1/ /ᄀ/ᅵ/ᄋ/ᅦ/ /ᄉ/ᅡ/ᆷ/ᄉ/ᅥ/ᆼ/ᄌ/ᅥ/ᆫ/ᄌ/ᅡ/ᄋ/ᅴ/ /ᄋ/ᅲ/ᄃ/ᅩ/ᆼ/ᄌ/ᅡ/ᄉ/ᅡ/ᆫ/ᄋ/ᅳ/ᆫ/ /ᄋ/ᅥ/ᄄ/ᅥ/ᇂ/ᄀ/ᅦ/ /ᄃ/ᅫ/?\n"
     ]
    }
   ],
   "source": [
    "from tokenizers import normalizers\n",
    "from tokenizers.normalizers import NFD, StripAccents\n",
    "\n",
    "normalizer = normalizers.Sequence([NFD(), StripAccents()])\n",
    "# 일반 출력시 합쳐져서 보이지만, for문을 사용하면 분리된다. \n",
    "print(normalizer.normalize_str(question))\n",
    "print(\"/\".join([x for x in normalizer.normalize_str(question)]))"
   ]
  },
  {
   "cell_type": "markdown",
   "id": "f24142f4",
   "metadata": {},
   "source": [
    "### Pre-Tokenization\n",
    "\n",
    "- `pre_tokenizers`는 텍스트를 더 작은 토큰으로 분리하는 과정이다.\n",
    "- `Whitespace`는 토큰을 공백을 기준으로 나누면 string의 위치를 같이 반환한다. (start + end) - 기준 regex: `\\w+|[^\\w\\s]+`\n",
    "- `Punctuation`은 문장 부호를 각각 분리한다. \n",
    "- `Digits`를 통해 숫자를 각각 분리할지 말지 결정할 수 있다. "
   ]
  },
  {
   "cell_type": "code",
   "execution_count": 8,
   "id": "2492e493",
   "metadata": {},
   "outputs": [
    {
     "name": "stdout",
     "output_type": "stream",
     "text": [
      "Whitespace: \n",
      "[('제', (0, 1)), ('51', (2, 4)), ('기에', (5, 7)), ('삼성전자의', (8, 13)), ('유동자산은', (14, 19)), ('어떻게', (20, 23)), ('돼', (24, 25)), ('?', (25, 26))]\n",
      "Digits individual: False\n",
      "[('제', (0, 1)), ('51', (2, 4)), ('기에', (5, 7)), ('삼성전자의', (8, 13)), ('유동자산은', (14, 19)), ('어떻게', (20, 23)), ('돼', (24, 25)), ('?????', (25, 30))]\n",
      "Punctuation + Individual Digits\n",
      "[('제', (0, 1)), ('5', (2, 3)), ('1', (3, 4)), ('기에', (5, 7)), ('삼성전자의', (8, 13)), ('유동자산은', (14, 19)), ('어떻게', (20, 23)), ('돼', (24, 25)), ('?', (25, 26)), ('?', (26, 27)), ('?', (27, 28)), ('?', (28, 29)), ('?', (29, 30))]\n"
     ]
    }
   ],
   "source": [
    "from tokenizers import pre_tokenizers\n",
    "from tokenizers.pre_tokenizers import Whitespace, Punctuation, Digits\n",
    "\n",
    "print(\"Whitespace: \")\n",
    "print(Whitespace().pre_tokenize_str(question))\n",
    "\n",
    "print(\"Digits individual: False\")\n",
    "pre_tokenizer = pre_tokenizers.Sequence([Whitespace(), Digits(individual_digits=False)])\n",
    "print(pre_tokenizer.pre_tokenize_str(question + \"????\"))\n",
    "\n",
    "print(\"Punctuation + Individual Digits\")\n",
    "pre_tokenizer = pre_tokenizers.Sequence([Whitespace(), Punctuation(), Digits(individual_digits=True)])\n",
    "print(pre_tokenizer.pre_tokenize_str(question + \"????\"))"
   ]
  },
  {
   "cell_type": "markdown",
   "id": "acbbeff6",
   "metadata": {},
   "source": [
    "### The Model\n",
    "\n",
    "- `BPE`: Byte-Pair Encoding 토큰화, 자주 등장하는 character를 합쳐서 표현하는 알고리즘\n",
    "- `Unigram`: 확률적으로 최적의 subword 토큰을 결정\n",
    "- `WordLevel`: 단어 단위의 토큰화\n",
    "- `WordPiece`: Google WordPiece 토큰화"
   ]
  },
  {
   "cell_type": "code",
   "execution_count": 38,
   "id": "1e774115",
   "metadata": {},
   "outputs": [],
   "source": [
    "from tokenizers.models import BPE, Unigram, WordLevel, WordPiece"
   ]
  },
  {
   "cell_type": "markdown",
   "id": "6c67fd70",
   "metadata": {},
   "source": [
    "### Post-Processing\n",
    "\n",
    "- `processors` 에서 후처리를 할 수 있다.\n",
    "- `TemplateProcessing`을 이용해 원하는 형태로 토큰을 분리할 수 있다."
   ]
  },
  {
   "cell_type": "code",
   "execution_count": 42,
   "id": "dad10a16",
   "metadata": {},
   "outputs": [],
   "source": [
    "from tokenizers.processors import PostProcessor"
   ]
  },
  {
   "cell_type": "code",
   "execution_count": null,
   "id": "08ed118b",
   "metadata": {},
   "outputs": [],
   "source": [
    "from tokenizers.processors import TemplateProcessing\n",
    "\n",
    "post_processor = TemplateProcessing(\n",
    "    single=\"[CLS] $A [T] $B [C] $B\",\n",
    "    pair=\"[CLS] $A [T] $B:1 [C] $B:1\",\n",
    "    special_tokens=[(\"[CLS]\", 1), (\"[SEP]\", 2)]#, (\"[T]\", 3), (\"[C]\", 4), (\"[INTEGER]\", 5), (\"[REAL]\", 6), (\"[TEXT]\", 7), (\"[BLOB]\", 8)],\n",
    ")"
   ]
  },
  {
   "cell_type": "markdown",
   "id": "a06448dc",
   "metadata": {},
   "source": [
    "---"
   ]
  },
  {
   "cell_type": "markdown",
   "id": "ae80fa71",
   "metadata": {},
   "source": [
    "- https://huggingface.co/docs/tokenizers/python/latest/index.html\n",
    "- https://huggingface.co/transformers/main_classes/tokenizer.html?highlight=pretrainedtokenizer#transformers.PreTrainedTokenizer"
   ]
  },
  {
   "cell_type": "code",
   "execution_count": 14,
   "id": "6284c6af",
   "metadata": {},
   "outputs": [
    {
     "data": {
      "text/plain": [
       "'제 51 기에 삼성전자의 유동자산은 어떻게 돼? [T] receipts [SEP]index[SEP]rcept_no[SEP]reprt_code[SEP]bsns_year[SEP]corp_code[SEP]stock_code[SEP]fs_div[SEP]fs_nm[SEP]sj_div[SEP]sj_nm[SEP]account_nm[SEP]thstrm_nm[SEP]thstrm_dt[SEP]thstrm_amount[SEP]frmtrm_nm[SEP]frmtrm_dt[SEP]frmtrm_amount[SEP]bfefrmtrm_nm[SEP]bfefrmtrm_dt[SEP]bfefrmtrm_amount'"
      ]
     },
     "execution_count": 14,
     "metadata": {},
     "output_type": "execute_result"
    }
   ],
   "source": [
    "input_str = f\"{question} [T] {table_id} \" + \"\".join([f\"[SEP]{col}\" for col in schema]) \n",
    "# \" \".join([f\"{column_token} {col} [{typ}]\" for col, typ in schema.items()])\n",
    "input_str"
   ]
  },
  {
   "cell_type": "code",
   "execution_count": 15,
   "id": "e92449e1",
   "metadata": {},
   "outputs": [],
   "source": [
    "batch_qs = [\"제 51 기에 삼성전자의 유동자산은 어떻게 돼?\", \"2020년도 삼성전자의 유동자산은 얼마?\"]\n",
    "table_str = f\"[T]{table_id}\" + \"\".join([f\"[SEP]{col}\" for col in schema]) \n",
    "batch_ts = [table_str] * len(batch_qs)"
   ]
  },
  {
   "cell_type": "code",
   "execution_count": 16,
   "id": "0870694c-179a-405c-807c-a672c904121d",
   "metadata": {},
   "outputs": [],
   "source": [
    "from KoBertTokenizer import KoBertTokenizer"
   ]
  },
  {
   "cell_type": "code",
   "execution_count": 17,
   "id": "f6821b1a",
   "metadata": {},
   "outputs": [],
   "source": [
    "# new_special_tokens = [\"[T]\", \"[C]\", \"[INTEGER]\", \"[REAL]\", \"[TEXT]\", \"[BLOB]\"]\n",
    "# new_special_tokens = list(map(lambda x: AddedToken(x, single_word=True, normalized=False), new_special_tokens))\n",
    "# tokenizer = KoBertTokenizer.from_pretrained('monologg/kobert', add_special_tokens=True, additional_special_tokens=new_special_tokens)\n",
    "tokenizer = KoBertTokenizer.from_pretrained('monologg/kobert')"
   ]
  },
  {
   "cell_type": "code",
   "execution_count": 18,
   "id": "586388a6-ce7a-432b-801b-8b977306367c",
   "metadata": {},
   "outputs": [
    {
     "data": {
      "text/plain": [
       "{}"
      ]
     },
     "execution_count": 18,
     "metadata": {},
     "output_type": "execute_result"
    }
   ],
   "source": [
    "special_tokenes2idx = dict(zip(tokenizer.additional_special_tokens, tokenizer.additional_special_tokens_ids))\n",
    "special_tokenes2idx"
   ]
  },
  {
   "cell_type": "code",
   "execution_count": 19,
   "id": "9826cafc",
   "metadata": {},
   "outputs": [
    {
     "data": {
      "text/plain": [
       "dict_keys(['input_ids', 'token_type_ids', 'attention_mask'])"
      ]
     },
     "execution_count": 19,
     "metadata": {},
     "output_type": "execute_result"
    }
   ],
   "source": [
    "encode_input = tokenizer(\n",
    "    batch_qs, batch_ts, \n",
    "    max_length=512, padding=True, truncation=True, return_tensors=\"pt\", \n",
    "    return_attention_mask=True, \n",
    "    return_special_tokens_mask=False, \n",
    ")\n",
    "encode_input.keys()"
   ]
  },
  {
   "cell_type": "code",
   "execution_count": 20,
   "id": "419bfac6",
   "metadata": {
    "tags": []
   },
   "outputs": [],
   "source": [
    "batch_size, max_length = encode_input[\"input_ids\"].size()\n",
    "question_mask = torch.bitwise_and(encode_input[\"token_type_ids\"] == 0, encode_input[\"attention_mask\"].bool())\n",
    "question_mask[:, 0] = False  # [CLS] mask out\n",
    "question_mask[:, -1] = False  # [SEP] mask out\n",
    "\n",
    "# table_mask = torch.where(\n",
    "#     (encode_input[\"input_ids\"] == 8002), \n",
    "#     torch.ones_like(encode_input[\"input_ids\"], dtype=torch.bool), \n",
    "#     torch.zeros_like(encode_input[\"input_ids\"], dtype=torch.bool)\n",
    "# )\n",
    "# column_mask = torch.where(\n",
    "#     (encode_input[\"input_ids\"] == 8003),\n",
    "#     torch.ones_like(encode_input[\"input_ids\"], dtype=torch.bool), \n",
    "#     torch.zeros_like(encode_input[\"input_ids\"], dtype=torch.bool)\n",
    "# )"
   ]
  },
  {
   "cell_type": "code",
   "execution_count": 21,
   "id": "03b989bf",
   "metadata": {},
   "outputs": [
    {
     "name": "stdout",
     "output_type": "stream",
     "text": [
      "[CLS] 제 51 기에 삼성전자의 유동자산은 어떻게 돼?[SEP] [T]receipts[SEP] index[SEP] rcept_no[SEP] reprt_code[SEP] bsns_year[SEP] corp_code[SEP] stock_code[SEP] fs_div[SEP] fs_nm[SEP] sj_div[SEP] sj_nm[SEP] account_nm[SEP] thstrm_nm[SEP] thstrm_dt[SEP] thstrm_amount[SEP] frmtrm_nm[SEP] frmtrm_dt[SEP] frmtrm_amount[SEP] bfefrmtrm_nm[SEP] bfefrmtrm_dt[SEP] bfefrmtrm_amount[SEP]\n",
      "\n",
      "[CLS] 2020년도 삼성전자의 유동자산은 얼마?[SEP] [T]receipts[SEP] index[SEP] rcept_no[SEP] reprt_code[SEP] bsns_year[SEP] corp_code[SEP] stock_code[SEP] fs_div[SEP] fs_nm[SEP] sj_div[SEP] sj_nm[SEP] account_nm[SEP] thstrm_nm[SEP] thstrm_dt[SEP] thstrm_amount[SEP] frmtrm_nm[SEP] frmtrm_dt[SEP] frmtrm_amount[SEP] bfefrmtrm_nm[SEP] bfefrmtrm_dt[SEP] bfefrmtrm_amount[SEP][PAD][PAD]\n",
      "\n"
     ]
    }
   ],
   "source": [
    "for x in encode_input[\"input_ids\"]:\n",
    "    print(tokenizer.decode(x, skip_special_tokens=False))\n",
    "    print()"
   ]
  },
  {
   "cell_type": "code",
   "execution_count": 22,
   "id": "a9c45eb3",
   "metadata": {},
   "outputs": [
    {
     "name": "stdout",
     "output_type": "stream",
     "text": [
      "--- type_ids = 0\n",
      "[CLS] 제 51 기에 삼성전자의 유동자산은 어떻게 돼?[SEP]\n",
      "--- type_ids = 1\n",
      "[T]receipts[SEP] index[SEP] rcept_no[SEP] reprt_code[SEP] bsns_year[SEP] corp_code[SEP] stock_code[SEP] fs_div[SEP] fs_nm[SEP] sj_div[SEP] sj_nm[SEP] account_nm[SEP] thstrm_nm[SEP] thstrm_dt[SEP] thstrm_amount[SEP] frmtrm_nm[SEP] frmtrm_dt[SEP] frmtrm_amount[SEP] bfefrmtrm_nm[SEP] bfefrmtrm_dt[SEP] bfefrmtrm_amount[SEP]\n",
      "\n",
      "--- type_ids = 0\n",
      "[CLS] 2020년도 삼성전자의 유동자산은 얼마?[SEP]\n",
      "--- type_ids = 1\n",
      "[T]receipts[SEP] index[SEP] rcept_no[SEP] reprt_code[SEP] bsns_year[SEP] corp_code[SEP] stock_code[SEP] fs_div[SEP] fs_nm[SEP] sj_div[SEP] sj_nm[SEP] account_nm[SEP] thstrm_nm[SEP] thstrm_dt[SEP] thstrm_amount[SEP] frmtrm_nm[SEP] frmtrm_dt[SEP] frmtrm_amount[SEP] bfefrmtrm_nm[SEP] bfefrmtrm_dt[SEP] bfefrmtrm_amount[SEP]\n",
      "\n"
     ]
    }
   ],
   "source": [
    "for inputs, type_ids in zip(encode_input[\"input_ids\"], encode_input[\"token_type_ids\"]):\n",
    "    print(\"--- type_ids = 0\")\n",
    "    print(tokenizer.decode(inputs[type_ids == 0]).replace(\"[PAD]\", \"\"))\n",
    "    print(\"--- type_ids = 1\")\n",
    "    print(tokenizer.decode(inputs[type_ids == 1]))\n",
    "    print()"
   ]
  },
  {
   "cell_type": "markdown",
   "id": "1bc3f9c0-0c9c-45b3-8eff-b902bb65ca6e",
   "metadata": {},
   "source": [
    "## Encoder"
   ]
  },
  {
   "cell_type": "code",
   "execution_count": 23,
   "id": "4da48d04",
   "metadata": {},
   "outputs": [
    {
     "data": {
      "text/plain": [
       "Embedding(8002, 768, padding_idx=1)"
      ]
     },
     "execution_count": 23,
     "metadata": {},
     "output_type": "execute_result"
    }
   ],
   "source": [
    "from transformers import BertModel, BertConfig\n",
    "model = BertModel.from_pretrained(\"monologg/kobert\")\n",
    "model.resize_token_embeddings(len(tokenizer))"
   ]
  },
  {
   "cell_type": "code",
   "execution_count": 52,
   "id": "f2f21403-a43a-4618-87fd-21928c7b5426",
   "metadata": {},
   "outputs": [],
   "source": [
    "model.config.output_hidden_states = True"
   ]
  },
  {
   "cell_type": "code",
   "execution_count": 53,
   "id": "80fc48fc",
   "metadata": {},
   "outputs": [],
   "source": [
    "encode_output = model(**encode_input)"
   ]
  },
  {
   "cell_type": "code",
   "execution_count": 58,
   "id": "be8f92f8-6bb1-4988-811e-2dfb6e074791",
   "metadata": {},
   "outputs": [
    {
     "data": {
      "text/plain": [
       "13"
      ]
     },
     "execution_count": 58,
     "metadata": {},
     "output_type": "execute_result"
    }
   ],
   "source": [
    "len(encode_output.hidden_states)"
   ]
  },
  {
   "cell_type": "markdown",
   "id": "98f8e440-8366-4997-b607-1d0028a313d0",
   "metadata": {},
   "source": [
    "## Decoder\n",
    "\n",
    "<img src=\"https://drive.google.com/uc?id=1PW9oAXfW-ZI-jxGn5q9O_gzUIZnNYaet\" alt=\"Sqlova Decoder Architecture \" width=\"100%\" height=\"auto\">"
   ]
  },
  {
   "cell_type": "markdown",
   "id": "79a9be35-0d9e-4eaf-b956-87b7cd2ef99c",
   "metadata": {},
   "source": [
    "### Select Column\n",
    "\n",
    "$$\\begin{aligned} \n",
    "s(n\\vert c) &= D_c^T W E_n \\\\\n",
    "p(n\\vert c) &= \\text{softmax}(s(n\\vert c))\\\\\n",
    "C_c &= \\sum_n p(n \\vert c) E_n \\\\\n",
    "s_{sc}(c) &= W  \\tanh ([WD_c; WC_c]) \\\\\n",
    "p_{sc}(c) &= \\text{softmax}(s_{sc}(c))\n",
    "\\end{aligned}$$\n",
    "\n",
    "$E_n$ is LSTM output of $n$-th token of question, $D_c$ is the encoding of header $c$, $C_n$ is context vector of question for given column, $[\\cdot ; \\cdot]$ is concatenation of two vectors, $p_{sc}(c)$ is probability of generating column c."
   ]
  },
  {
   "cell_type": "code",
   "execution_count": null,
   "id": "2c013d5d",
   "metadata": {},
   "outputs": [],
   "source": [
    "class DecoderAttention(nn.Module):\n",
    "    r\"\"\"Decoder Attention Module\"\"\"\n",
    "    def __init__(self, in_features, out_features):\n",
    "        r\"\"\"\n",
    "        Attention Module\n",
    "        $$ f(X) = W_1 \\tanh ( W_2 X ) $$\n",
    "        \"\"\"\n",
    "        self.W1 = nn.Linear(in_features, out_features)\n",
    "        self.W2 = nn.Linear(in_features, out_features)\n",
    "\n",
    "class SelectDecoder(nn.Module):\n",
    "    r\"\"\"SELECT Decoder\"\"\"\n",
    "    def __init__(self, input_size: int, hidden_size: int, num_layers: int, dropout_ratio:float) -> None:\n",
    "        super().__init__()\n",
    "        self.input_size = input_size\n",
    "        self.hidden_size = hidden_size\n",
    "        self.num_layers = num_layers\n",
    "        self.dropout_ratio = dropout_ratio\n",
    "        \n",
    "        self.lstm_q = nn.LSTM(input_size, int(hidden_size / 2), num_layers, dropout=dropout_ratio, batch_first=True, bidirectional=True)\n",
    "        self.lstm_h = nn.LSTM(input_size, int(hidden_size / 2), num_layers, dropout=dropout_ratio, batch_first=True, bidirectional=True)"
   ]
  },
  {
   "cell_type": "code",
   "execution_count": null,
   "id": "4a0c5cbb",
   "metadata": {},
   "outputs": [],
   "source": [
    "class Decoder(nn.Module):\n",
    "    def __init__(self, )"
   ]
  },
  {
   "cell_type": "code",
   "execution_count": null,
   "id": "a9ba472e",
   "metadata": {},
   "outputs": [],
   "source": []
  },
  {
   "cell_type": "code",
   "execution_count": null,
   "id": "9937b83c",
   "metadata": {},
   "outputs": [],
   "source": []
  },
  {
   "cell_type": "code",
   "execution_count": null,
   "id": "70294fa0",
   "metadata": {},
   "outputs": [],
   "source": []
  },
  {
   "cell_type": "code",
   "execution_count": null,
   "id": "8f555bae",
   "metadata": {},
   "outputs": [],
   "source": []
  },
  {
   "cell_type": "code",
   "execution_count": null,
   "id": "b4947934",
   "metadata": {},
   "outputs": [],
   "source": []
  },
  {
   "cell_type": "code",
   "execution_count": 301,
   "id": "5cd12706",
   "metadata": {},
   "outputs": [
    {
     "data": {
      "text/plain": [
       "torch.Size([2, 247, 768])"
      ]
     },
     "execution_count": 301,
     "metadata": {},
     "output_type": "execute_result"
    }
   ],
   "source": [
    "encode_output.last_hidden_state.size()"
   ]
  },
  {
   "cell_type": "code",
   "execution_count": 303,
   "id": "484a3443",
   "metadata": {},
   "outputs": [
    {
     "data": {
      "text/plain": [
       "torch.Size([2, 768])"
      ]
     },
     "execution_count": 303,
     "metadata": {},
     "output_type": "execute_result"
    }
   ],
   "source": [
    "encode_output.pooler_output.size()"
   ]
  },
  {
   "cell_type": "code",
   "execution_count": 1,
   "id": "3511a4d0-a18e-497f-9611-23f8e713153a",
   "metadata": {},
   "outputs": [],
   "source": [
    "class DBEngine:\n",
    "\n",
    "    def __init__(self, fdb):\n",
    "        #fdb = 'data/test.db'\n",
    "        self.db = records.Database('sqlite:///{}'.format(fdb))\n",
    "\n",
    "    def execute_query(self, table_id, query, *args, **kwargs):\n",
    "        return self.execute(table_id, query.sel_index, query.agg_index, query.conditions, *args, **kwargs)\n",
    "\n",
    "    def execute(self, table_id, select_index, aggregation_index, conditions, lower=True):\n",
    "        if not table_id.startswith('table'):\n",
    "            table_id = 'table_{}'.format(table_id.replace('-', '_'))\n",
    "            \n",
    "        table_info = self.db.query('SELECT sql from sqlite_master WHERE tbl_name = :name', name=table_id).all()[0].sql.replace('\\n','')\n",
    "        schema_str = schema_re.findall(table_info)[0]\n",
    "        schema = {}\n",
    "        for tup in schema_str.split(', '):\n",
    "            c, t = tup.split()\n",
    "            schema[c] = t\n",
    "        select = 'col{}'.format(select_index)\n",
    "        agg = agg_ops[aggregation_index]\n",
    "        if agg:\n",
    "            select = '{}({})'.format(agg, select)\n",
    "        where_clause = []\n",
    "        where_map = {}\n",
    "        for col_index, op, val in conditions:\n",
    "            if lower and (isinstance(val, str) or isinstance(val, str)):\n",
    "                val = val.lower()\n",
    "            if schema['col{}'.format(col_index)] == 'real' and not isinstance(val, (int, float)):\n",
    "                try:\n",
    "                    # print('!!!!!!value of val is: ', val, 'type is: ', type(val))\n",
    "                    # val = float(parse_decimal(val)) # somehow it generates error.\n",
    "                    val = float(parse_decimal(val, locale='en_US'))\n",
    "                    # print('!!!!!!After: val', val)\n",
    "\n",
    "                except NumberFormatError as e:\n",
    "                    try:\n",
    "                        val = float(num_re.findall(val)[0]) # need to understand and debug this part.\n",
    "                    except:\n",
    "                        # Although column is of number, selected one is not number. Do nothing in this case.\n",
    "                        pass\n",
    "            where_clause.append('col{} {} :col{}'.format(col_index, cond_ops[op], col_index))\n",
    "            where_map['col{}'.format(col_index)] = val\n",
    "        where_str = ''\n",
    "        if where_clause:\n",
    "            where_str = 'WHERE ' + ' AND '.join(where_clause)\n",
    "        query = 'SELECT {} AS result FROM {} {}'.format(select, table_id, where_str)\n",
    "\n",
    "        #print query\n",
    "        out = self.db.query(query, **where_map)\n",
    "\n",
    "        return [o.result for o in out]\n",
    "\n",
    "    def execute_return_query(self, table_id, select_index, aggregation_index, conditions, lower=True):\n",
    "        if not table_id.startswith('table'):\n",
    "            table_id = 'table_{}'.format(table_id.replace('-', '_'))\n",
    "        table_info = self.db.query('SELECT sql from sqlite_master WHERE tbl_name = :name', name=table_id).all()[0].sql.replace('\\n','')\n",
    "        schema_str = schema_re.findall(table_info)[0]\n",
    "        schema = {}\n",
    "        for tup in schema_str.split(', '):\n",
    "            c, t = tup.split()\n",
    "            schema[c] = t\n",
    "        select = 'col{}'.format(select_index)\n",
    "        agg = agg_ops[aggregation_index]\n",
    "        if agg:\n",
    "            select = '{}({})'.format(agg, select)\n",
    "        where_clause = []\n",
    "        where_map = {}\n",
    "        for col_index, op, val in conditions:\n",
    "            if lower and (isinstance(val, str) or isinstance(val, str)):\n",
    "                val = val.lower()\n",
    "            if schema['col{}'.format(col_index)] == 'real' and not isinstance(val, (int, float)):\n",
    "                try:\n",
    "                    # print('!!!!!!value of val is: ', val, 'type is: ', type(val))\n",
    "                    # val = float(parse_decimal(val)) # somehow it generates error.\n",
    "                    val = float(parse_decimal(val, locale='en_US'))\n",
    "                    # print('!!!!!!After: val', val)\n",
    "\n",
    "                except NumberFormatError as e:\n",
    "                    val = float(num_re.findall(val)[0])\n",
    "            where_clause.append('col{} {} :col{}'.format(col_index, cond_ops[op], col_index))\n",
    "            where_map['col{}'.format(col_index)] = val\n",
    "        where_str = ''\n",
    "        if where_clause:\n",
    "            where_str = 'WHERE ' + ' AND '.join(where_clause)\n",
    "        query = 'SELECT {} AS result FROM {} {}'.format(select, table_id, where_str)\n",
    "\n",
    "        #print query\n",
    "        out = self.db.query(query, **where_map)\n",
    "\n",
    "\n",
    "        return [o.result for o in out], query\n",
    "    def show_table(self, table_id):\n",
    "        if not table_id.startswith('table'):\n",
    "            table_id = 'table_{}'.format(table_id.replace('-', '_'))\n",
    "        rows = self.db.query('select * from ' +table_id)\n",
    "        print(rows.dataset)"
   ]
  },
  {
   "cell_type": "markdown",
   "id": "55e67524",
   "metadata": {},
   "source": [
    "---"
   ]
  },
  {
   "cell_type": "markdown",
   "id": "dd55059e-d6c9-408f-814c-b033cab9390b",
   "metadata": {},
   "source": [
    "# SQLova Model"
   ]
  },
  {
   "cell_type": "code",
   "execution_count": 1,
   "id": "48a33621-b5c9-4d76-a2aa-d78677e31b8c",
   "metadata": {},
   "outputs": [],
   "source": [
    "from sqlova.model.nl2sql.wikisql_models import *"
   ]
  },
  {
   "cell_type": "code",
   "execution_count": 2,
   "id": "7529bcf0-8e99-4bba-bd7a-22b939d2d742",
   "metadata": {},
   "outputs": [],
   "source": [
    "import json\n",
    "import torch\n",
    "from pathlib import Path\n",
    "from tqdm.notebook import tqdm"
   ]
  },
  {
   "cell_type": "code",
   "execution_count": 3,
   "id": "01ee9ced-fdef-4358-9f0c-f053a2b52343",
   "metadata": {},
   "outputs": [],
   "source": [
    "from typing import Tuple, Dict, List"
   ]
  },
  {
   "cell_type": "code",
   "execution_count": 9,
   "id": "c085a56d-85a1-41cb-abb2-f394913f1c72",
   "metadata": {},
   "outputs": [],
   "source": [
    "def load_data():\n",
    "    path_sql = Path(\"NLSQL.jsonl\")\n",
    "    path_table = Path(\"table.jsonl\")\n",
    "\n",
    "    data = []\n",
    "    table = {}\n",
    "    with path_sql.open(\"r\") as f:\n",
    "        for idx, line in enumerate(f):\n",
    "            t1 = json.loads(line.strip())\n",
    "            data.append(t1)\n",
    "\n",
    "    with path_table.open(\"r\") as f:\n",
    "        for idx, line in enumerate(f):\n",
    "            t1 = json.loads(line.strip())\n",
    "            table[t1['id']] = t1\n",
    "            \n",
    "    return data, table"
   ]
  },
  {
   "cell_type": "code",
   "execution_count": 10,
   "id": "1f6f8ed8-564b-4909-a7f9-5c363edce4f0",
   "metadata": {},
   "outputs": [],
   "source": [
    "data, table = load_data()"
   ]
  },
  {
   "cell_type": "code",
   "execution_count": 11,
   "id": "9d362022-77bb-4ae3-97b3-d2003aa35455",
   "metadata": {},
   "outputs": [],
   "source": [
    "import os\n",
    "\n",
    "# multiprocessing lib doesn’t have it implemented on Windows\n",
    "# https://discuss.pytorch.org/t/cant-pickle-local-object-dataloader-init-locals-lambda/31857/14\n",
    "num_workers = 0 if os.name == \"nt\" else 4"
   ]
  },
  {
   "cell_type": "code",
   "execution_count": 12,
   "id": "3902ead7-51b1-4de0-8793-6794e54f7cb3",
   "metadata": {},
   "outputs": [],
   "source": [
    "data_loader = torch.utils.data.DataLoader(\n",
    "    batch_size=2,\n",
    "    dataset=data,\n",
    "    shuffle=True,\n",
    "    num_workers=num_workers,\n",
    "    collate_fn=lambda x: x # now dictionary values are not merged!\n",
    ")"
   ]
  },
  {
   "cell_type": "markdown",
   "id": "0da6b581-20e9-421f-9acf-3a4a2659733e",
   "metadata": {},
   "source": [
    "db"
   ]
  },
  {
   "cell_type": "code",
   "execution_count": 13,
   "id": "1c271e90-4679-411b-be4c-68838216fcb1",
   "metadata": {},
   "outputs": [],
   "source": [
    "from tsv2jsonl import DBEngine"
   ]
  },
  {
   "cell_type": "code",
   "execution_count": 14,
   "id": "3cb56ff9-d066-4e8f-9ab7-9b8c0a31ee46",
   "metadata": {},
   "outputs": [],
   "source": [
    "db_path = Path(\"./private\")\n",
    "dbengine = DBEngine(db_path / \"samsung_new.db\")"
   ]
  },
  {
   "cell_type": "code",
   "execution_count": 180,
   "id": "c4109f12-ec32-44f2-9c30-e0e605ed7c87",
   "metadata": {},
   "outputs": [],
   "source": [
    "table_schema_lengths = []\n",
    "for t in dbengine.db.get_table_names():\n",
    "    dbengine.get_schema_info(t)\n",
    "    table_schema_lengths.append(len(dbengine.schema))"
   ]
  },
  {
   "cell_type": "code",
   "execution_count": 229,
   "id": "2f0b990a-3abc-4754-b0af-b146cd1e165d",
   "metadata": {},
   "outputs": [],
   "source": [
    "# engine = DBEngine(db_path / \"samsung_new.db\")\n",
    "# engine.execute(table_id=\"receipts\", query)"
   ]
  },
  {
   "cell_type": "markdown",
   "id": "b27704e9-1abd-4c4b-a283-9d66f95717a9",
   "metadata": {},
   "source": [
    "get models"
   ]
  },
  {
   "cell_type": "code",
   "execution_count": 222,
   "id": "33626976-5176-48f9-bb10-b27e4ba44322",
   "metadata": {},
   "outputs": [],
   "source": [
    "from KoBertTokenizer import KoBertTokenizer\n",
    "from transformers import BertModel, BertConfig\n",
    "\n",
    "def get_bert(model_path: str, device: str, max_col_length: int, output_hidden_states: bool=False):\n",
    "    \n",
    "    special_tokens = [\"[S]\", \"[E]\", \"[COL]\"] # sequence start, sequence end, column tokens\n",
    "    tokenizer = KoBertTokenizer.from_pretrained(model_path, add_special_tokens=True, additional_special_tokens=special_tokens)\n",
    "    config = BertConfig.from_pretrained(model_path)\n",
    "    config.output_hidden_states = output_hidden_states\n",
    "    \n",
    "    model = BertModel.from_pretrained(model_path)\n",
    "    model.resize_token_embeddings(len(tokenizer))\n",
    "    model.config.output_hidden_states = output_hidden_states\n",
    "    model.to(device)\n",
    "    \n",
    "    return model, tokenizer, config"
   ]
  },
  {
   "cell_type": "code",
   "execution_count": 223,
   "id": "82ef0167-c362-42d2-8d5a-563ca170cfcb",
   "metadata": {},
   "outputs": [
    {
     "name": "stderr",
     "output_type": "stream",
     "text": [
      "Special tokens have been added in the vocabulary, make sure the associated word embeddings are fine-tuned or trained.\n"
     ]
    }
   ],
   "source": [
    "model_path = \"monologg/kobert\"\n",
    "device = \"cpu\" # \"cuda\" if torch.cuda.is_available() else \"cpu\" \n",
    "\n",
    "agg_ops = ['', 'MAX', 'MIN', 'COUNT', 'SUM', 'AVG']\n",
    "cond_ops = ['=', '>', '<', 'OP']\n",
    "\n",
    "num_target_layers = 1  # \"The Number of final layers of BERT to be used in downstream task.\"\n",
    "# Get BERT\n",
    "model_bert, tokenizer_bert, config_bert = get_bert(model_path=model_path, device=device, max_col_length=max(table_schema_lengths))\n",
    "\n",
    "# Get Seq-to-SQL\n",
    "iS = config_bert.hidden_size * num_target_layers  # Seq-to-SQL input vector dimenstion\n",
    "hS = 100\n",
    "lS = 2\n",
    "dr = 0.3\n",
    "\n",
    "n_cond_ops = len(cond_ops)\n",
    "n_agg_ops = len(agg_ops)\n",
    "model = Seq2SQL_v1(iS, hS, lS, dr, n_cond_ops, n_agg_ops)\n",
    "model = model.to(device)"
   ]
  },
  {
   "cell_type": "markdown",
   "id": "575ddda1-1c56-4d24-91a3-0fab01fe18c1",
   "metadata": {},
   "source": [
    "get parameters"
   ]
  },
  {
   "cell_type": "code",
   "execution_count": 224,
   "id": "39652653-a67d-4d9c-b1fb-89c0cacb5c16",
   "metadata": {},
   "outputs": [],
   "source": [
    "lr = 1e-3\n",
    "lr_bert = 1e-5\n",
    "\n",
    "opt = torch.optim.AdamW(filter(lambda p: p.requires_grad, model.parameters()),\n",
    "                               lr=lr, weight_decay=0)\n",
    "opt_bert = torch.optim.AdamW(filter(lambda p: p.requires_grad, model_bert.parameters()),\n",
    "                            lr=lr_bert, weight_decay=0)"
   ]
  },
  {
   "cell_type": "code",
   "execution_count": 225,
   "id": "16bd5a31-a9b7-4269-915a-8e391f3fb474",
   "metadata": {},
   "outputs": [],
   "source": [
    "model.train()\n",
    "model_bert.train()\n",
    "\n",
    "ave_loss = 0\n",
    "cnt = 0  # count the # of examples\n",
    "cnt_sc = 0  # count the # of correct predictions of select column\n",
    "cnt_sa = 0  # of selectd aggregation\n",
    "cnt_wn = 0  # of where number\n",
    "cnt_wc = 0  # of where column\n",
    "cnt_wo = 0  # of where operator\n",
    "cnt_wv = 0  # of where-value\n",
    "cnt_wvi = 0  # of where-value index (on question tokens)\n",
    "cnt_lx = 0  # of logical form acc\n",
    "cnt_x = 0  # of execution acc"
   ]
  },
  {
   "cell_type": "code",
   "execution_count": 226,
   "id": "ba36de40-b991-4e32-84e3-de6918d7fa40",
   "metadata": {
    "tags": []
   },
   "outputs": [
    {
     "data": {
      "application/vnd.jupyter.widget-view+json": {
       "model_id": "d82f66f2c1bd4c87828fdbf45209d31e",
       "version_major": 2,
       "version_minor": 0
      },
      "text/plain": [
       "TRAIN:   0%|          | 0/21120 [00:00<?, ?it/s]"
      ]
     },
     "metadata": {},
     "output_type": "display_data"
    }
   ],
   "source": [
    "st_pos = 0\n",
    "\n",
    "for iB, data in enumerate(tqdm(data_loader, desc='TRAIN')):\n",
    "    cnt += len(data)\n",
    "    \n",
    "    if cnt < st_pos:\n",
    "        continue\n",
    "    break"
   ]
  },
  {
   "cell_type": "code",
   "execution_count": 186,
   "id": "cab98c11-1186-49a1-916d-7149d31175d4",
   "metadata": {},
   "outputs": [
    {
     "data": {
      "text/plain": [
       "2"
      ]
     },
     "execution_count": 186,
     "metadata": {},
     "output_type": "execute_result"
    }
   ],
   "source": [
    "len(data)"
   ]
  },
  {
   "cell_type": "code",
   "execution_count": 227,
   "id": "bb4928cc-ddd3-4f40-892b-f3d97c6b7314",
   "metadata": {},
   "outputs": [],
   "source": [
    "start_tkn = tokenizer_bert.additional_special_tokens[0]\n",
    "start_tkn_id = tokenizer_bert.additional_special_tokens_ids[0]\n",
    "end_tkn = tokenizer_bert.additional_special_tokens[1]\n",
    "end_tkn_id = tokenizer_bert.additional_special_tokens_ids[1]\n",
    "\n",
    "batch_qs = [jsonl[\"question\"] for jsonl in data]\n",
    "tid = [jsonl[\"table_id\"] for jsonl in data]\n",
    "batch_sqls = [jsonl[\"sql\"] for jsonl in data]\n",
    "batch_ts = []\n",
    "for table_id in tid:\n",
    "    dbengine.get_schema_info(table_id)\n",
    "    table_str = f\"{start_tkn}{table_id}{end_tkn}\" + \"\".join([\n",
    "        f\"[COL]{start_tkn}{col}{end_tkn}\" for col in dbengine.schema\n",
    "    ]) \n",
    "    batch_ts.append(table_str)\n",
    "    \n",
    "encode_input = tokenizer_bert(\n",
    "    batch_qs, batch_ts, \n",
    "    max_length=512, padding=True, truncation=True, return_tensors=\"pt\", \n",
    "    return_attention_mask=True, \n",
    "    return_special_tokens_mask=False, \n",
    ")"
   ]
  },
  {
   "cell_type": "code",
   "execution_count": 228,
   "id": "83bc941a-7350-473c-9d9c-6122054d8409",
   "metadata": {},
   "outputs": [
    {
     "name": "stdout",
     "output_type": "stream",
     "text": [
      "[CLS] 삼성전자의 2017 비유동부채가 어떻게 돼?[SEP] [S] receipts [E] [COL] [S] index [E] [COL] [S] rcept_no [E] [COL] [S] reprt_code [E] [COL] [S] bsns_year [E] [COL] [S] corp_code [E] [COL] [S] stock_code [E] [COL] [S] fs_div [E] [COL] [S] fs_nm [E] [COL] [S] sj_div [E] [COL] [S] sj_nm [E] [COL] [S] account_nm [E] [COL] [S] thstrm_nm [E] [COL] [S] thstrm_dt [E] [COL] [S] thstrm_amount [E] [COL] [S] frmtrm_nm [E] [COL] [S] frmtrm_dt [E] [COL] [S] frmtrm_amount [E] [COL] [S] bfefrmtrm_nm [E] [COL] [S] bfefrmtrm_dt [E] [COL] [S] bfefrmtrm_amount [E] [SEP]\n"
     ]
    }
   ],
   "source": [
    "print(tokenizer_bert.decode(encode_input[\"input_ids\"][0]))"
   ]
  },
  {
   "cell_type": "code",
   "execution_count": 369,
   "id": "72ca7ece-1ee1-4213-8f78-17c8df16544c",
   "metadata": {},
   "outputs": [],
   "source": [
    "def get_answer(input_ids, mask, batch_size, start_tkn_id, end_tkn_id):\n",
    "    r\"\"\"\n",
    "    answer should include end token: [E]\n",
    "    \"\"\"\n",
    "    masked_input_ids = input_ids[mask]\n",
    "    start_tkn_mask = masked_input_ids == start_tkn_id\n",
    "    end_tkn_mask = masked_input_ids == end_tkn_id\n",
    "    table_col_length = masked_input_ids.view(batch_size, -1).size(1)\n",
    "    start_end_mask = torch.bitwise_or(start_tkn_mask, end_tkn_mask)\n",
    "    index = torch.arange(table_col_length).repeat(batch_size)[start_end_mask].view(batch_size, -1, 2)\n",
    "    tkn_lengths = index[:, :, 1] - index[:, :, 0]\n",
    "    answer_col_tkns = [x.split(tkn_length.tolist()) for x, tkn_length in zip(\n",
    "        masked_input_ids[~start_tkn_mask].view(batch_size, -1), tkn_lengths)]\n",
    "    return answer_col_tkns\n",
    "\n",
    "# def get_decoder_input_mask(input_ids, mask, batch_size, end_tkn_id):\n",
    "#     r\"\"\"\n",
    "#     input should only include end token: [S]\n",
    "#     \"\"\"\n",
    "#     end_tkn_mask = input_ids == end_tkn_id\n",
    "#     end_index = torch.arange(input_ids.size(1)).repeat(batch_size)[end_tkn_mask.view(-1)].view(batch_size, -1)\n",
    "#     return mask.scatter(1, end_index, False)\n",
    "\n",
    "def get_decoder_input_mask(input_ids, mask, batch_size, end_tkn_id):\n",
    "    r\"\"\"\n",
    "    input should only contains word tokens:\n",
    "    \"\"\"\n",
    "    start_tkn_mask = input_ids == start_tkn_id\n",
    "    end_tkn_mask = input_ids == end_tkn_id\n",
    "    start_end_mask = torch.bitwise_or(start_tkn_mask, end_tkn_mask)\n",
    "    index = torch.arange(input_ids.size(1)).repeat(batch_size)[start_end_mask.view(-1)].view(batch_size, -1)\n",
    "    return mask.scatter(1, index, False)"
   ]
  },
  {
   "cell_type": "code",
   "execution_count": 370,
   "id": "491b721a-34fd-497a-860a-c2750efd8337",
   "metadata": {},
   "outputs": [],
   "source": [
    "def get_input_mask_and_answer(encode_input, tokenizer):\n",
    "    r\"\"\"\n",
    "    table -> database table name(id)\n",
    "    header -> database header\n",
    "    \n",
    "    returns:\n",
    "        input_question_mask, input_table_mask, input_header_mask, answer_table_tkns, answer_header_tkns\n",
    "    \"\"\"\n",
    "    batch_size, max_length = encode_input[\"input_ids\"].size()\n",
    "    sep_tkn_mask = encode_input[\"input_ids\"] == tokenizer.sep_token_id\n",
    "    start_tkn_id, end_tkn_id, col_tkn_id = tokenizer.additional_special_tokens_ids\n",
    "    \n",
    "    input_question_mask = torch.bitwise_and(encode_input[\"token_type_ids\"] == 0, encode_input[\"attention_mask\"].bool())\n",
    "    input_question_mask = torch.bitwise_and(input_question_mask, ~sep_tkn_mask) # [SEP] mask out\n",
    "    input_question_mask[:, 0] = False  # [CLS] mask out\n",
    "\n",
    "    db_mask = torch.bitwise_and(encode_input[\"token_type_ids\"] == 1, encode_input[\"attention_mask\"].bool())\n",
    "    db_mask = torch.bitwise_xor(db_mask, sep_tkn_mask)\n",
    "    col_tkn_mask = encode_input[\"input_ids\"] == col_tkn_id\n",
    "    db_mask = torch.bitwise_and(db_mask, ~col_tkn_mask)\n",
    "    # split table_mask and header_mask\n",
    "    input_idx = torch.arange(max_length).repeat(batch_size, 1)\n",
    "    db_idx = input_idx[db_mask]\n",
    "    table_header_tkn_idx = db_idx[db_idx > 0]\n",
    "    table_start_idx = table_header_tkn_idx.view(batch_size, -1)[:, 0] + 1\n",
    "    start_tkn_idx = table_header_tkn_idx[1:][table_header_tkn_idx.diff() == 2].view(batch_size, -1)\n",
    "    table_end_sep_idx = start_tkn_idx[:, 0] - 1\n",
    "    split_size = torch.stack([\n",
    "        table_end_sep_idx-table_start_idx+1, table_header_tkn_idx.view(batch_size, -1).size(1)-(table_end_sep_idx-table_start_idx+1)\n",
    "    ]).transpose(0, 1)\n",
    "\n",
    "    # Token idx\n",
    "    table_tkn_idx, header_tkn_idx = map(\n",
    "        lambda x: torch.stack(x), \n",
    "        zip(*[torch.split(x, size.tolist()) for x, size in zip(table_header_tkn_idx.view(batch_size, -1), split_size)])\n",
    "    )\n",
    "\n",
    "    table_tkn_idx = table_tkn_idx[:, 1:]\n",
    "    # Mask include [S] & [E] tokens\n",
    "    table_tkn_mask = torch.zeros_like(encode_input[\"input_ids\"], dtype=torch.bool).scatter(1, table_tkn_idx, True)\n",
    "    header_tkn_mask = torch.zeros_like(encode_input[\"input_ids\"], dtype=torch.bool).scatter(1, header_tkn_idx, True)\n",
    "\n",
    "    # For Answer, Maskout [S] for table & header \n",
    "    answer_table_tkns = get_answer(\n",
    "        encode_input[\"input_ids\"], table_tkn_mask, batch_size, start_tkn_id, end_tkn_id\n",
    "    )\n",
    "    answer_header_tkns = get_answer(\n",
    "        encode_input[\"input_ids\"], header_tkn_mask, batch_size, start_tkn_id, end_tkn_id\n",
    "    )\n",
    "\n",
    "    # For Decoder Input, Maskout [S], [E] for table & header  \n",
    "    input_table_mask = get_decoder_input_mask(\n",
    "        encode_input[\"input_ids\"], table_tkn_mask, batch_size, end_tkn_id\n",
    "    )\n",
    "    input_header_mask = get_decoder_input_mask(\n",
    "        encode_input[\"input_ids\"], header_tkn_mask, batch_size, end_tkn_id\n",
    "    )\n",
    "    \n",
    "    # [COL] token mask: this is for attention\n",
    "    col_tkn_idx = input_idx[col_tkn_mask].view(batch_size, -1)\n",
    "    input_col_mask = torch.zeros_like(encode_input[\"input_ids\"], dtype=torch.bool).scatter(1, col_tkn_idx, True)\n",
    "    \n",
    "    return input_question_mask, input_table_mask, input_header_mask, input_col_mask, answer_table_tkns, answer_header_tkns"
   ]
  },
  {
   "cell_type": "code",
   "execution_count": 372,
   "id": "6e4eba5d-17b1-4f4d-b648-6b6a32a44881",
   "metadata": {},
   "outputs": [],
   "source": [
    "input_question_mask, input_table_mask, input_header_mask, input_col_mask, answer_table_tkns, answer_header_tkns \\\n",
    "    = get_input_mask_and_answer(encode_input, tokenizer_bert)"
   ]
  },
  {
   "cell_type": "code",
   "execution_count": 373,
   "id": "1a7c9f4f-2eb7-4bfb-a828-c72591636d9a",
   "metadata": {},
   "outputs": [
    {
     "name": "stdout",
     "output_type": "stream",
     "text": [
      "삼성전자의 2017 비유동부채가 어떻게 돼? 삼성전자 49기 유동자산이 몇이야?\n",
      "receipts receipts\n",
      "index rcept_no reprt_code bsns_year corp_code stock_code fs_div fs_nm sj_div sj_nm account_nm thstrm_nm thstrm_dt thstrm_amount frmtrm_nm frmtrm_dt frmtrm_amount bfefrmtrm_nm bfefrmtrm_dt bfefrmtrm_amount index rcept_no reprt_code bsns_year corp_code stock_code fs_div fs_nm sj_div sj_nm account_nm thstrm_nm thstrm_dt thstrm_amount frmtrm_nm frmtrm_dt frmtrm_amount bfefrmtrm_nm bfefrmtrm_dt bfefrmtrm_amount\n",
      "[COL] [COL] [COL] [COL] [COL] [COL] [COL] [COL] [COL] [COL] [COL] [COL] [COL] [COL] [COL] [COL] [COL] [COL] [COL] [COL] [COL] [COL] [COL] [COL] [COL] [COL] [COL] [COL] [COL] [COL] [COL] [COL] [COL] [COL] [COL] [COL] [COL] [COL] [COL] [COL]\n",
      "---answer table tokens---\n",
      "[(tensor([ 517,  437,  382,  389,  405,  432,  442,  440, 8003]),), (tensor([ 517,  437,  382,  389,  405,  432,  442,  440, 8003]),)]\n",
      "---answer column tokens---\n",
      "--- batch ---\n",
      "tensor([517, 409, 388, 389, 457])\n",
      "tensor([517, 435, 382, 389, 432, 442, 365, 425, 427])\n",
      "tensor([517, 437, 432, 435, 442, 365, 385, 388, 389])\n",
      "tensor([517, 380, 440, 425, 440, 365, 458, 389, 375])\n",
      "tensor([705, 430, 432, 365, 385, 388, 389])\n",
      "tensor([517, 441, 427, 382, 415, 365, 385, 388, 389])\n",
      "tensor([517, 398, 440, 365, 388, 405, 453])\n",
      "tensor([517, 398, 440, 365, 425, 423])\n",
      "tensor([517, 440, 414, 365, 388, 405, 453])\n",
      "tensor([517, 440, 414, 365, 425, 423])\n",
      "tensor([517, 369, 385, 449, 442, 365, 425, 423])\n",
      "tensor([517, 444, 441, 435, 423, 365, 425, 423])\n",
      "tensor([517, 444, 441, 435, 423, 365, 388, 442])\n",
      "tensor([517, 444, 441, 435, 423, 365, 373, 427, 449, 442])\n",
      "tensor([517, 398, 435, 423, 442, 435, 423, 365, 425, 423])\n",
      "tensor([517, 398, 435, 423, 442, 435, 423, 365, 388, 442])\n",
      "tensor([517, 398, 435, 423, 442, 435, 423, 365, 373, 427, 449, 442])\n",
      "tensor([517, 380, 398, 389, 398, 435, 423, 442, 435, 423, 365, 425, 423])\n",
      "tensor([517, 380, 398, 389, 398, 435, 423, 442, 435, 423, 365, 388, 442])\n",
      "tensor([517, 380, 398, 389, 398, 435, 423, 442, 435, 423, 365, 373, 427, 449,\n",
      "        442])\n",
      "--- batch ---\n",
      "tensor([517, 409, 388, 389, 457])\n",
      "tensor([517, 435, 382, 389, 432, 442, 365, 425, 427])\n",
      "tensor([517, 437, 432, 435, 442, 365, 385, 388, 389])\n",
      "tensor([517, 380, 440, 425, 440, 365, 458, 389, 375])\n",
      "tensor([705, 430, 432, 365, 385, 388, 389])\n",
      "tensor([517, 441, 427, 382, 415, 365, 385, 388, 389])\n",
      "tensor([517, 398, 440, 365, 388, 405, 453])\n",
      "tensor([517, 398, 440, 365, 425, 423])\n",
      "tensor([517, 440, 414, 365, 388, 405, 453])\n",
      "tensor([517, 440, 414, 365, 425, 423])\n",
      "tensor([517, 369, 385, 449, 442, 365, 425, 423])\n",
      "tensor([517, 444, 441, 435, 423, 365, 425, 423])\n",
      "tensor([517, 444, 441, 435, 423, 365, 388, 442])\n",
      "tensor([517, 444, 441, 435, 423, 365, 373, 427, 449, 442])\n",
      "tensor([517, 398, 435, 423, 442, 435, 423, 365, 425, 423])\n",
      "tensor([517, 398, 435, 423, 442, 435, 423, 365, 388, 442])\n",
      "tensor([517, 398, 435, 423, 442, 435, 423, 365, 373, 427, 449, 442])\n",
      "tensor([517, 380, 398, 389, 398, 435, 423, 442, 435, 423, 365, 425, 423])\n",
      "tensor([517, 380, 398, 389, 398, 435, 423, 442, 435, 423, 365, 388, 442])\n",
      "tensor([517, 380, 398, 389, 398, 435, 423, 442, 435, 423, 365, 373, 427, 449,\n",
      "        442])\n"
     ]
    }
   ],
   "source": [
    "print(tokenizer_bert.decode(encode_input[\"input_ids\"][input_question_mask]))\n",
    "print(tokenizer_bert.decode(encode_input[\"input_ids\"][input_table_mask]))\n",
    "print(tokenizer_bert.decode(encode_input[\"input_ids\"][input_header_mask]))\n",
    "print(tokenizer_bert.decode(encode_input[\"input_ids\"][input_col_mask]))\n",
    "print(\"---answer table tokens---\")\n",
    "print(answer_table_tkns)\n",
    "print(\"---answer column tokens---\")\n",
    "for b in answer_col_tkns:\n",
    "    print(\"--- batch ---\")\n",
    "    for x in b:\n",
    "        print(x)"
   ]
  },
  {
   "cell_type": "code",
   "execution_count": 374,
   "id": "0bc65aab-8e5a-40ae-8015-928bd5acb305",
   "metadata": {},
   "outputs": [],
   "source": [
    "encode_output = model_bert(**encode_input)"
   ]
  },
  {
   "cell_type": "code",
   "execution_count": 375,
   "id": "78ac5fd7-7288-4a0c-b774-e14930034885",
   "metadata": {},
   "outputs": [
    {
     "data": {
      "text/plain": [
       "odict_keys(['last_hidden_state', 'pooler_output'])"
      ]
     },
     "execution_count": 375,
     "metadata": {},
     "output_type": "execute_result"
    }
   ],
   "source": [
    "encode_output.keys()"
   ]
  },
  {
   "cell_type": "code",
   "execution_count": 376,
   "id": "807e5a61-ef8a-40c4-a9bb-c750b72d6d4e",
   "metadata": {},
   "outputs": [],
   "source": [
    "def pad(batches: Tuple[torch.Tensor], lengths: List[int], model: BertModel, pad_idx: int=1) -> torch.Tensor:\n",
    "    padded = []\n",
    "    max_length = max(lengths)\n",
    "    for x in batches:\n",
    "        if len(x) < max_length:\n",
    "            pad_tensor = model.embeddings.word_embeddings(torch.LongTensor([pad_idx]*(max_length - len(x))))\n",
    "            padded.append(torch.cat([x, pad_tensor]))\n",
    "        else:\n",
    "            padded.append(x)\n",
    "    return torch.stack(padded)\n",
    "\n",
    "def get_decoder_batches(encode_output, mask, model, pad_idx):\n",
    "    lengths = mask.sum(1)\n",
    "    tensors = encode_output.last_hidden_state[mask, :]\n",
    "    batches = torch.split(tensors, lengths.tolist())\n",
    "    if lengths.ne(lengths.max()).sum().item() != 0:\n",
    "        # pad not same length tokens\n",
    "        tensors_padded = pad(batches, lengths.tolist(), model, pad_idx=pad_idx)\n",
    "    else:\n",
    "        # just stack the splitted tensors\n",
    "        tensors_padded = torch.stack(batches)\n",
    "    return tensors_padded, lengths.tolist()"
   ]
  },
  {
   "cell_type": "code",
   "execution_count": 377,
   "id": "362cd799-285e-4dff-9668-64bf1904c981",
   "metadata": {},
   "outputs": [],
   "source": [
    "question_padded, question_lengths = get_decoder_batches(encode_output, input_question_mask, model_bert, pad_idx=tokenizer_bert.pad_token_id)\n",
    "table_padded, table_lengths = get_decoder_batches(encode_output, input_table_mask, model_bert, pad_idx=tokenizer_bert.pad_token_id)\n",
    "header_padded, header_lengths = get_decoder_batches(encode_output, input_header_mask, model_bert, pad_idx=tokenizer_bert.pad_token_id)\n",
    "col_padded, col_lengths = get_decoder_batches(encode_output, input_col_mask, model_bert, pad_idx=tokenizer_bert.pad_token_id)"
   ]
  },
  {
   "cell_type": "code",
   "execution_count": 378,
   "id": "558303f5-2d06-4270-9f8e-cc188c5605b5",
   "metadata": {},
   "outputs": [
    {
     "data": {
      "text/plain": [
       "(torch.Size([2, 12, 768]),\n",
       " torch.Size([2, 8, 768]),\n",
       " torch.Size([2, 181, 768]),\n",
       " torch.Size([2, 20, 768]))"
      ]
     },
     "execution_count": 378,
     "metadata": {},
     "output_type": "execute_result"
    }
   ],
   "source": [
    "question_padded.size(), table_padded.size(), header_padded.size(), col_padded.size()"
   ]
  },
  {
   "cell_type": "code",
   "execution_count": 125,
   "id": "1cb7cd5a-211e-4f77-b95f-91a3ad278010",
   "metadata": {},
   "outputs": [],
   "source": [
    "def get_g(sql_i):\n",
    "    \"\"\"\n",
    "    for backward compatibility, separated with get_g\n",
    "    \n",
    "    sc: select column\n",
    "    sa: select agg\n",
    "    wn: where number\n",
    "    wc: where column\n",
    "    wo: where operator\n",
    "    wv: where value\n",
    "    \"\"\"\n",
    "    g_sc = []\n",
    "    g_sa = []\n",
    "    g_wn = []\n",
    "    g_wc = []\n",
    "    g_wo = []\n",
    "    g_wv = []\n",
    "    for b, psql_i1 in enumerate(sql_i):\n",
    "        g_sc.append( psql_i1[\"sel\"] )\n",
    "        g_sa.append( psql_i1[\"agg\"])\n",
    "\n",
    "        conds = psql_i1['conds']\n",
    "        if not psql_i1[\"agg\"] < 0:\n",
    "            g_wn.append( len( conds ) )\n",
    "            g_wc.append( get_wc1(conds) )\n",
    "            g_wo.append( get_wo1(conds) )\n",
    "            g_wv.append( get_wv1(conds) )\n",
    "        else:\n",
    "            raise EnvironmentError\n",
    "    return g_sc, g_sa, g_wn, g_wc, g_wo, g_wv"
   ]
  },
  {
   "cell_type": "code",
   "execution_count": 126,
   "id": "b8a23619-efd3-433a-bc02-c13f7e8c5c5f",
   "metadata": {},
   "outputs": [],
   "source": [
    "g_sc, g_sa, g_wn, g_wc, g_wo, g_wv = get_g(batch_sqls)\n"
   ]
  },
  {
   "cell_type": "code",
   "execution_count": 424,
   "id": "704f9cc3-c7c3-43c2-9032-008f58af57b8",
   "metadata": {},
   "outputs": [
    {
     "data": {
      "text/plain": [
       "[0, 0]"
      ]
     },
     "execution_count": 424,
     "metadata": {},
     "output_type": "execute_result"
    }
   ],
   "source": [
    "g_sa"
   ]
  },
  {
   "cell_type": "code",
   "execution_count": 418,
   "id": "f47db66c-03d1-4f12-b421-bc2441771319",
   "metadata": {},
   "outputs": [],
   "source": [
    "class ColumnAttention(nn.Module):\n",
    "    r\"\"\"Decoder Column Attention Module\"\"\"\n",
    "    def __init__(self, in_features, out_features):\n",
    "        super().__init__()\n",
    "        r\"\"\"\n",
    "        Attention Module\n",
    "        $$ S(a, b) = a x ( W x b ) $$\n",
    "        \"\"\"\n",
    "        self.linear = nn.Linear(in_features, out_features)\n",
    "        self.softmax = nn.Softmax(dim=2)\n",
    "        \n",
    "    def forward(self, o_q, o_c):\n",
    "        r\"\"\"\n",
    "        Calculate for each column tokens, How much related to question tokens?\n",
    "        o_q: LSTM output of question \n",
    "        o_c: LSTM output of column\n",
    "        \n",
    "        return context atttended to question tokens\n",
    "        \"\"\"\n",
    "        o_q_transform = self.linear(o_q)  # (B, T_q, H)\n",
    "        s_col2question = torch.bmm(o_c, o_q_transform.transpose(1, 2))  # (B, T_c, H) x (B, H, T_q) = (B, T_c, T_q)\n",
    "        p_col2question = self.softmax(s_col2question)\n",
    "        \n",
    "        # p_col2question: (B, T_c, T_q) -> (B, T_c, T_q, 1)\n",
    "        # o_q: (B, 1, T_q, H)\n",
    "        # p_col2question \\odot o_q = (B, T_c, T_q, 1) \\odot (B, 1, T_q, H) = (B, T_c, T_q, H)\n",
    "        # -> reduce sum to T_q to get context for each column (B, T_c, H)\n",
    "        context = torch.mul(p_col2question.unsqueeze(3), o_q.unsqueeze(1)).sum(dim=2)\n",
    "        return context\n",
    "\n",
    "class SelectDecoder(nn.Module):\n",
    "    r\"\"\"SELECT Decoder\"\"\"\n",
    "    def __init__(self, input_size: int, hidden_size: int, output_size: int, num_layers: int=2, dropout_ratio:float=0.3) -> None:\n",
    "        super().__init__()\n",
    "        self.input_size = input_size\n",
    "        self.hidden_size = hidden_size\n",
    "        self.num_layers = num_layers\n",
    "        self.dropout_ratio = dropout_ratio\n",
    "        \n",
    "        self.lstm_q = nn.LSTM(input_size, int(hidden_size / 2), num_layers, dropout=dropout_ratio, batch_first=True, bidirectional=True)\n",
    "        self.lstm_h = nn.LSTM(input_size, int(hidden_size / 2), num_layers, dropout=dropout_ratio, batch_first=True, bidirectional=True)\n",
    "        \n",
    "        self.col2question_attn = ColumnAttention(hidden_size, hidden_size)\n",
    "        self.output_layer = nn.Sequential(\n",
    "            nn.Linear(2*hidden_size, 2*hidden_size),\n",
    "            nn.Tanh(),\n",
    "            nn.Linear(2*hidden_size, output_size)\n",
    "        )\n",
    "\n",
    "    def forward(self, question_padded, table_padded, header_padded, col_padded):\n",
    "        r\"\"\"\n",
    "        predict column index\n",
    "        \"\"\"\n",
    "        o_q, (h_q, c_q) = self.lstm_q(question_padded)  # o_q: (B, T_q, H)\n",
    "        o_c, (h_c, c_c) = self.lstm_h(col_padded)  # o_c: (B, T_c, H)\n",
    "        o_h, (h_h, c_h) = self.lstm_h(header_padded)  # h_h: (n_direc*num_layers, B, H/2)\n",
    "        \n",
    "        context = self.col2question_attn(o_q, o_c)  # (B, T_c, H)\n",
    "        header_summary = torch.cat([h for h in h_h[-2:]], dim=1).unsqueeze(1).repeat(1, context.size(1), 1) # (B, T_C, H)\n",
    "        vec = torch.cat([context, header_summary], dim=2)\n",
    "        output = self.output_layer(vec)\n",
    "        return output.squeeze(-1)\n",
    "    \n",
    "\n",
    "class AggDecoder(nn.Module):\n",
    "    r\"\"\"AGG Decoder\"\"\"\n",
    "    def __init__(self, input_size: int, hidden_size: int, output_size: int, num_layers: int=2, dropout_ratio:float=0.3) -> None:\n",
    "        super().__init__()\n",
    "        self.input_size = input_size\n",
    "        self.hidden_size = hidden_size\n",
    "        self.num_layers = num_layers\n",
    "        self.dropout_ratio = dropout_ratio\n",
    "        \n",
    "        self.lstm_q = nn.LSTM(input_size, int(hidden_size / 2), num_layers, dropout=dropout_ratio, batch_first=True, bidirectional=True)\n",
    "        self.lstm_h = nn.LSTM(input_size, int(hidden_size / 2), num_layers, dropout=dropout_ratio, batch_first=True, bidirectional=True)\n",
    "        \n",
    "        self.col2question_attn = ColumnAttention(hidden_size, hidden_size)\n",
    "        self.output_layer = nn.Sequential(\n",
    "            nn.Linear(2*hidden_size, 2*hidden_size),\n",
    "            nn.Tanh(),\n",
    "            nn.Linear(2*hidden_size, output_size)\n",
    "        )\n",
    "\n",
    "    def forward(self, question_padded, table_padded, header_padded, col_padded, select_output):\n",
    "        r\"\"\"\n",
    "        predict agg index\n",
    "        \"\"\"\n",
    "        select_prob = torch.softmax(select_output, 1) # (B, T_c)\n",
    "        \n",
    "        o_q, (h_q, c_q) = self.lstm_q(question_padded)  # o_q: (B, T_q, H)\n",
    "        o_c, (h_c, c_c) = self.lstm_h(col_padded)  # o_c: (B, T_c, H)\n",
    "        o_h, (h_h, c_h) = self.lstm_h(header_padded)  # h_h: (n_direc*num_layers, B, H/2)\n",
    "        \n",
    "        context = self.col2question_attn(o_q, o_c)  # (B, T_c, H)\n",
    "        header_summary = torch.cat([h for h in h_h[-2:]], dim=1).unsqueeze(1).repeat(1, context.size(1), 1) # (B, T_C, H)\n",
    "        vec = torch.cat([context, header_summary], dim=2)\n",
    "        output = self.output_layer(vec)\n",
    "        return output.squeeze(-1)"
   ]
  },
  {
   "cell_type": "code",
   "execution_count": 380,
   "id": "177144ac-74e0-4f99-9425-a769d850ec67",
   "metadata": {},
   "outputs": [],
   "source": [
    "input_size = config_bert.hidden_size\n",
    "hidden_size = 100\n",
    "num_layers = 2\n",
    "dropout_ratio = 0.3\n",
    "output_size = 1"
   ]
  },
  {
   "cell_type": "code",
   "execution_count": 421,
   "id": "ee1b1739-9566-4f20-a9a3-393972eb6f20",
   "metadata": {},
   "outputs": [],
   "source": [
    "select_decoder = SelectDecoder(input_size, hidden_size, output_size=1, num_layers=num_layers, dropout_ratio=dropout_ratio)"
   ]
  },
  {
   "cell_type": "code",
   "execution_count": 422,
   "id": "4d95176a-a8ef-474f-b073-ad3553da9117",
   "metadata": {},
   "outputs": [],
   "source": [
    "select_output = select_decoder(question_padded, table_padded, header_padded, col_padded)"
   ]
  },
  {
   "cell_type": "code",
   "execution_count": 434,
   "id": "672e8ff0-f196-47ff-a39f-d7656657ffce",
   "metadata": {},
   "outputs": [
    {
     "data": {
      "text/plain": [
       "tensor([[-0.0040, -0.0039, -0.0040, -0.0039, -0.0038, -0.0039, -0.0039, -0.0040,\n",
       "         -0.0041, -0.0040, -0.0041, -0.0039, -0.0039, -0.0040, -0.0041, -0.0041,\n",
       "         -0.0041, -0.0042, -0.0041, -0.0044],\n",
       "        [-0.0380, -0.0380, -0.0380, -0.0379, -0.0379, -0.0379, -0.0379, -0.0380,\n",
       "         -0.0380, -0.0379, -0.0379, -0.0379, -0.0380, -0.0380, -0.0380, -0.0380,\n",
       "         -0.0380, -0.0380, -0.0380, -0.0380]], grad_fn=<SqueezeBackward1>)"
      ]
     },
     "execution_count": 434,
     "metadata": {},
     "output_type": "execute_result"
    }
   ],
   "source": [
    "select_output"
   ]
  },
  {
   "cell_type": "code",
   "execution_count": 435,
   "id": "0fa16a90-c8be-4486-ac41-ad813b375ab6",
   "metadata": {},
   "outputs": [
    {
     "data": {
      "text/plain": [
       "tensor([[0.0500, 0.0500, 0.0500, 0.0500, 0.0500, 0.0500, 0.0500, 0.0500, 0.0500,\n",
       "         0.0500, 0.0500, 0.0500, 0.0500, 0.0500, 0.0500, 0.0500, 0.0500, 0.0500,\n",
       "         0.0500, 0.0500],\n",
       "        [0.0500, 0.0500, 0.0500, 0.0500, 0.0500, 0.0500, 0.0500, 0.0500, 0.0500,\n",
       "         0.0500, 0.0500, 0.0500, 0.0500, 0.0500, 0.0500, 0.0500, 0.0500, 0.0500,\n",
       "         0.0500, 0.0500]], grad_fn=<SoftmaxBackward>)"
      ]
     },
     "execution_count": 435,
     "metadata": {},
     "output_type": "execute_result"
    }
   ],
   "source": [
    "torch.softmax(select_output, 1)"
   ]
  },
  {
   "cell_type": "code",
   "execution_count": 423,
   "id": "aef7372d-e6ca-4df1-a0e3-27fbc1a57b74",
   "metadata": {},
   "outputs": [
    {
     "data": {
      "text/plain": [
       "torch.Size([2, 20])"
      ]
     },
     "execution_count": 423,
     "metadata": {},
     "output_type": "execute_result"
    }
   ],
   "source": [
    "select_output.size()"
   ]
  }
 ],
 "metadata": {
  "kernelspec": {
   "display_name": "Python 3",
   "language": "python",
   "name": "python3"
  },
  "language_info": {
   "codemirror_mode": {
    "name": "ipython",
    "version": 3
   },
   "file_extension": ".py",
   "mimetype": "text/x-python",
   "name": "python",
   "nbconvert_exporter": "python",
   "pygments_lexer": "ipython3",
   "version": "3.8.10"
  }
 },
 "nbformat": 4,
 "nbformat_minor": 5
}
