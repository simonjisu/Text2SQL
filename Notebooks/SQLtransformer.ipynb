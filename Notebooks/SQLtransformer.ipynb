{
 "cells": [
  {
   "cell_type": "markdown",
   "id": "970a0e9f",
   "metadata": {},
   "source": [
    "# TEXT2SQL with transformers\n",
    "\n",
    "Lee Woo Chul, Jang Ji Soo"
   ]
  },
  {
   "cell_type": "markdown",
   "id": "6b4274b7",
   "metadata": {},
   "source": [
    "---"
   ]
  },
  {
   "cell_type": "code",
   "execution_count": 1,
   "id": "ff09947f",
   "metadata": {},
   "outputs": [
    {
     "name": "stdout",
     "output_type": "stream",
     "text": [
      "PyTroch Version: 1.8.1\n",
      "Transfomers Version: 4.6.1\n"
     ]
    }
   ],
   "source": [
    "import json\n",
    "import torch\n",
    "from pathlib import Path\n",
    "from tqdm.notebook import tqdm\n",
    "\n",
    "import torch\n",
    "import torch.nn as nn\n",
    "import torch.optim as optim\n",
    "import transformers\n",
    "\n",
    "from typing import Tuple, Dict, List, Union, Any\n",
    "import os\n",
    "\n",
    "from dbengine import DBEngine\n",
    "# multiprocessing lib doesn’t have it implemented on Windows\n",
    "# https://discuss.pytorch.org/t/cant-pickle-local-object-dataloader-init-locals-lambda/31857/14\n",
    "num_workers = 0 if os.name == \"nt\" else 4\n",
    "\n",
    "print(f\"PyTroch Version: {torch.__version__}\")\n",
    "print(f\"Transfomers Version: {transformers.__version__}\")\n",
    "\n",
    "from KoBertTokenizer import KoBertTokenizer\n",
    "from transformers import BertModel, BertConfig"
   ]
  },
  {
   "cell_type": "markdown",
   "id": "adcdf43f",
   "metadata": {},
   "source": [
    "# Data Description\n",
    "\n",
    "`NLSQL.jsonl` and `\"table.jsonl` contains the data like following format same with [WikiSQL](https://github.com/salesforce/WikiSQL), Please follow the [link](https://github.com/salesforce/WikiSQL#content-and-format) to see what are the keys mean.\n",
    "\n",
    "```json\n",
    "// example of 'NLSQL.jsonl'\n",
    "{\n",
    "    \"phase\": 1, \n",
    "    \"question\": \"2015 삼성전자 유동자산은 어떻게 돼?\", \n",
    "    \"table_id\": \"receipts\", \n",
    "    \"sql\": {\n",
    "        \"sel\": 16, \n",
    "        \"agg\": 0, \n",
    "        \"conds\": [[10, 0, \"유동자산\"], [3, 0, 2016]]\n",
    "    }\n",
    "}\n",
    "```"
   ]
  },
  {
   "cell_type": "code",
   "execution_count": 2,
   "id": "f902b8e2",
   "metadata": {},
   "outputs": [],
   "source": [
    "def load_data(sql_path, table_path):\n",
    "    path_sql = Path(sql_path)\n",
    "    path_table = Path(table_path)\n",
    "\n",
    "    dataset = []\n",
    "    table = {}\n",
    "    with path_sql.open(\"r\", encoding=\"utf-8\") as f:\n",
    "        for idx, line in enumerate(f):\n",
    "            x = json.loads(line.strip())\n",
    "            dataset.append(x)\n",
    "\n",
    "    with path_table.open(\"r\", encoding=\"utf-8\") as f:\n",
    "        for idx, line in enumerate(f):\n",
    "            x = json.loads(line.strip())\n",
    "            table[x['id']] = x\n",
    "            \n",
    "    return dataset, table"
   ]
  },
  {
   "cell_type": "code",
   "execution_count": 32,
   "id": "9d3ee514",
   "metadata": {},
   "outputs": [],
   "source": [
    "data, table = load_data(\"./olddata/NLSQL.jsonl\", \"./olddata/table.jsonl\")\n",
    "data_loader = torch.utils.data.DataLoader(\n",
    "    batch_size=2,\n",
    "    dataset=data,\n",
    "    shuffle=True,\n",
    "    num_workers=num_workers,\n",
    "    collate_fn=lambda x: x # now dictionary values are not merged!\n",
    ")\n",
    "# Load DBEngine\n",
    "db_path = Path(\"./private\")\n",
    "dbengine = DBEngine(db_path / \"samsung_new.db\")"
   ]
  },
  {
   "cell_type": "code",
   "execution_count": 3,
   "id": "6ae31ab1-a0fa-4c48-a92b-4cbc88cf4eb7",
   "metadata": {},
   "outputs": [],
   "source": [
    "data, table = load_data(\"./newdata/train/train.jsonl\", \"./newdata/train/train_table.jsonl\")\n",
    "data_loader = torch.utils.data.DataLoader(\n",
    "    batch_size=2,\n",
    "    dataset=data,\n",
    "    shuffle=True,\n",
    "    num_workers=num_workers,\n",
    "    collate_fn=lambda x: x # now dictionary values are not merged!\n",
    ")\n",
    "# Load DBEngine\n",
    "db_path = Path(\"./private\")\n",
    "dbengine = DBEngine(db_path / \"kospi.db\")"
   ]
  },
  {
   "cell_type": "code",
   "execution_count": 43,
   "id": "bf3555a4",
   "metadata": {},
   "outputs": [
    {
     "data": {
      "application/vnd.jupyter.widget-view+json": {
       "model_id": "de144d4ab6f44548a95b754a5a8c1575",
       "version_major": 2,
       "version_minor": 0
      },
      "text/plain": [
       "Test with toy data:   0%|          | 0/231432 [00:00<?, ?it/s]"
      ]
     },
     "metadata": {},
     "output_type": "display_data"
    }
   ],
   "source": [
    "for i, batch_data in enumerate(tqdm(data_loader, desc=\"Test with toy data\")):\n",
    "    break"
   ]
  },
  {
   "cell_type": "code",
   "execution_count": 44,
   "id": "febdc63d-b102-4ff2-8fbe-6dbaa7077c67",
   "metadata": {},
   "outputs": [
    {
     "data": {
      "text/plain": [
       "[{'phase': 1,\n",
       "  'question': '003520의 제 58 기 자본금은 얼마야?',\n",
       "  'table_id': '003520',\n",
       "  'sql': {'sel': 13, 'agg': 0, 'conds': [[11, 0, '제 58 기'], [10, 0, '자본금']]}},\n",
       " {'phase': 1,\n",
       "  'question': '2020년 000890의 유동부채는 얼마야?',\n",
       "  'table_id': '000890',\n",
       "  'sql': {'sel': 13, 'agg': 0, 'conds': [[10, 0, '유동부채'], [3, 0, 2020]]}}]"
      ]
     },
     "execution_count": 44,
     "metadata": {},
     "output_type": "execute_result"
    }
   ],
   "source": [
    "batch_data"
   ]
  },
  {
   "cell_type": "markdown",
   "id": "7358070c",
   "metadata": {},
   "source": [
    "# Model\n",
    "\n",
    "## Encoder\n",
    "\n",
    "Used BERT in hugging Face with KoBERT\n",
    "\n",
    "- https://github.com/SKTBrain/KoBERT\n",
    "- https://github.com/monologg/KoBERT-Transformers"
   ]
  },
  {
   "cell_type": "code",
   "execution_count": 45,
   "id": "a75b7c08",
   "metadata": {},
   "outputs": [],
   "source": [
    "def get_bert(model_path: str, output_hidden_states: bool=False):\n",
    "    special_tokens = [\"[S]\", \"[E]\", \"[COL]\"] # sequence start, sequence end, column tokens\n",
    "    tokenizer = KoBertTokenizer.from_pretrained(model_path, add_special_tokens=True, additional_special_tokens=special_tokens)\n",
    "    config = BertConfig.from_pretrained(model_path)\n",
    "    config.output_hidden_states = output_hidden_states\n",
    "    \n",
    "    model = BertModel.from_pretrained(model_path)\n",
    "    model.resize_token_embeddings(len(tokenizer))\n",
    "    model.config.output_hidden_states = output_hidden_states\n",
    "    \n",
    "    return model, tokenizer, config"
   ]
  },
  {
   "cell_type": "code",
   "execution_count": 46,
   "id": "b10ad1f6",
   "metadata": {},
   "outputs": [
    {
     "name": "stderr",
     "output_type": "stream",
     "text": [
      "Special tokens have been added in the vocabulary, make sure the associated word embeddings are fine-tuned or trained.\n"
     ]
    }
   ],
   "source": [
    "model_path = \"monologg/kobert\"\n",
    "device = \"cpu\" # \"cuda\" if torch.cuda.is_available() else \"cpu\" \n",
    "\n",
    "model_bert, tokenizer_bert, config_bert = get_bert(model_path=model_path)"
   ]
  },
  {
   "cell_type": "code",
   "execution_count": 47,
   "id": "454c85c2",
   "metadata": {},
   "outputs": [],
   "source": [
    "# def get_batch_data(data, dbengine):\n",
    "#     batch_qs = [jsonl[\"question\"] for jsonl in data]\n",
    "#     tid = [jsonl[\"table_id\"] for jsonl in data]\n",
    "#     batch_sqls = [jsonl[\"sql\"] for jsonl in data]\n",
    "#     batch_ts = []\n",
    "#     for table_id in tid:\n",
    "#         dbengine.get_schema_info(table_id)\n",
    "#         table_str = f\"{table_id}\" + \"\".join([\n",
    "#             f\"[COL]{col}\" for col in dbengine.schema\n",
    "#         ]) \n",
    "#         batch_ts.append(table_str)\n",
    "    \n",
    "#     return batch_qs, batch_sqls, batch_ts\n",
    "\n",
    "def get_batch_data(data: List[Dict[str, Any]], table: Dict[str, Dict[str, List[Any]]], start_tkn=\"[S]\", end_tkn=\"[E]\") -> Tuple[List[str], List[str], List[Dict[str, Any]]]:\n",
    "    batch_qs = [jsonl[\"question\"] for jsonl in data]\n",
    "    tid = [jsonl[\"table_id\"] for jsonl in data]\n",
    "    batch_sqls = [jsonl[\"sql\"] for jsonl in data]\n",
    "    batch_ts = []\n",
    "    for table_id in tid:\n",
    "        table_str = f\"{table_id}\" + \"\".join([\n",
    "            f\"[COL]{col}\" for col in table[table_id][\"header\"]\n",
    "        ])\n",
    "        # TODO: [EXP] Experiment for generate column directly\n",
    "        # table_str = f\"{start_tkn}{table_id}{end_tkn}\" + \"\".join([\n",
    "        #     f\"{col_tkn}{start_tkn}{col}{end_tkn}\" for col in dbengine.schema\n",
    "        # ]) \n",
    "        batch_ts.append(table_str)\n",
    "\n",
    "    return batch_qs, batch_ts, batch_sqls"
   ]
  },
  {
   "cell_type": "code",
   "execution_count": 48,
   "id": "4680d061",
   "metadata": {},
   "outputs": [],
   "source": [
    "batch_qs, batch_ts, batch_sqls = get_batch_data(batch_data, table)"
   ]
  },
  {
   "cell_type": "code",
   "execution_count": 49,
   "id": "eb328353",
   "metadata": {},
   "outputs": [],
   "source": [
    "# Get Input\n",
    "encode_inputs = tokenizer_bert(\n",
    "    batch_qs, batch_ts, \n",
    "    max_length=256, padding=True, truncation=True, return_tensors=\"pt\", \n",
    "    return_attention_mask=True, \n",
    ")"
   ]
  },
  {
   "cell_type": "code",
   "execution_count": 50,
   "id": "ea1619c3",
   "metadata": {},
   "outputs": [
    {
     "name": "stdout",
     "output_type": "stream",
     "text": [
      "[CLS] 003520의 제 58 기 자본금은 얼마야?[SEP] 003520 [COL] index [COL] rcept_no [COL] reprt_code [COL] bsns_year [COL] corp_code [COL] stock_code [COL] fs_div [COL] fs_nm [COL] sj_div [COL] sj_nm [COL] account_nm [COL] thstrm_nm [COL] thstrm_dt [COL] thstrm_amount[SEP][PAD]\n"
     ]
    }
   ],
   "source": [
    "# Show an Example of Input\n",
    "print(tokenizer_bert.decode(encode_inputs[\"input_ids\"][0]))"
   ]
  },
  {
   "cell_type": "code",
   "execution_count": 51,
   "id": "dc99c8fa-2a71-47b0-b7e4-3b8e351d3618",
   "metadata": {},
   "outputs": [],
   "source": [
    "x = encode_inputs[\"input_ids\"]"
   ]
  },
  {
   "cell_type": "markdown",
   "id": "60ad3f48",
   "metadata": {},
   "source": [
    "## Prepare for decoder Inputs: Createing masks"
   ]
  },
  {
   "cell_type": "code",
   "execution_count": 52,
   "id": "24fb6d3a-ec48-494c-a9eb-bd58b9e982bb",
   "metadata": {},
   "outputs": [],
   "source": [
    "batch_size, max_length = encode_inputs[\"input_ids\"].size()\n",
    "sep_tkn_mask = encode_inputs[\"input_ids\"] == tokenizer_bert.sep_token_id\n",
    "start_tkn_id, end_tkn_id, col_tkn_id = tokenizer_bert.additional_special_tokens_ids\n",
    "\n",
    "input_question_mask = torch.bitwise_and(encode_inputs[\"token_type_ids\"] == 0, encode_inputs[\"attention_mask\"].bool())\n",
    "input_question_mask = torch.bitwise_and(input_question_mask, ~sep_tkn_mask) # [SEP] mask out\n",
    "input_question_mask[:, 0] = False  # [CLS] mask out\n",
    "\n",
    "db_mask = torch.bitwise_and(encode_inputs[\"token_type_ids\"] == 1, encode_inputs[\"attention_mask\"].bool())\n",
    "col_tkn_mask = encode_inputs[\"input_ids\"] == col_tkn_id\n",
    "db_mask = torch.bitwise_and(db_mask, ~col_tkn_mask)\n",
    "db_mask = torch.bitwise_xor(db_mask, torch.bitwise_and(sep_tkn_mask, encode_inputs[\"token_type_ids\"] == 1))"
   ]
  },
  {
   "cell_type": "code",
   "execution_count": 53,
   "id": "be7c035a-2c0a-4c6f-a75a-bfd34e35b61e",
   "metadata": {},
   "outputs": [
    {
     "data": {
      "text/plain": [
       "'003520의 제 58 기 자본금은 얼마야? 2020년 000890의 유동부채는 얼마야?'"
      ]
     },
     "execution_count": 53,
     "metadata": {},
     "output_type": "execute_result"
    }
   ],
   "source": [
    "tokenizer_bert.decode(x[input_question_mask])"
   ]
  },
  {
   "cell_type": "code",
   "execution_count": 54,
   "id": "344ffdb5-a098-4c2b-a20a-92adf623e2df",
   "metadata": {},
   "outputs": [
    {
     "data": {
      "text/plain": [
       "'003520 index rcept_no reprt_code bsns_year corp_code stock_code fs_div fs_nm sj_div sj_nm account_nm thstrm_nm thstrm_dt thstrm_amount 000890 index rcept_no reprt_code bsns_year corp_code stock_code fs_div fs_nm sj_div sj_nm account_nm thstrm_nm thstrm_dt thstrm_amount'"
      ]
     },
     "execution_count": 54,
     "metadata": {},
     "output_type": "execute_result"
    }
   ],
   "source": [
    "tokenizer_bert.decode(x[db_mask])"
   ]
  },
  {
   "cell_type": "code",
   "execution_count": 55,
   "id": "755713a9-6679-4d72-a03e-4ab97b339a34",
   "metadata": {},
   "outputs": [
    {
     "data": {
      "text/plain": [
       "'[COL] [COL] [COL] [COL] [COL] [COL] [COL] [COL] [COL] [COL] [COL] [COL] [COL] [COL] [COL] [COL] [COL] [COL] [COL] [COL] [COL] [COL] [COL] [COL] [COL] [COL] [COL] [COL]'"
      ]
     },
     "execution_count": 55,
     "metadata": {},
     "output_type": "execute_result"
    }
   ],
   "source": [
    "tokenizer_bert.decode(x[col_tkn_mask])"
   ]
  },
  {
   "cell_type": "code",
   "execution_count": 56,
   "id": "9e9b0a71-2653-4433-b5ef-ada05b95addb",
   "metadata": {},
   "outputs": [],
   "source": [
    "def get_input_mask(encode_inputs):\n",
    "    sep_tkn_mask = encode_inputs[\"input_ids\"] == tokenizer_bert.sep_token_id\n",
    "    col_tkn_id = tokenizer_bert.additional_special_tokens_ids[2]\n",
    "\n",
    "    input_question_mask = torch.bitwise_and(encode_inputs[\"token_type_ids\"] == 0, encode_inputs[\"attention_mask\"].bool())\n",
    "    input_question_mask = torch.bitwise_and(input_question_mask, ~sep_tkn_mask) # [SEP] mask out\n",
    "    input_question_mask[:, 0] = False  # [CLS] mask out\n",
    "\n",
    "    db_mask = torch.bitwise_and(encode_inputs[\"token_type_ids\"] == 1, encode_inputs[\"attention_mask\"].bool())\n",
    "    col_tkn_mask = encode_inputs[\"input_ids\"] == col_tkn_id\n",
    "    db_mask = torch.bitwise_and(db_mask, ~col_tkn_mask)\n",
    "    db_mask = torch.bitwise_xor(db_mask, torch.bitwise_and(sep_tkn_mask, encode_inputs[\"token_type_ids\"] == 1))\n",
    "    \n",
    "    return input_question_mask, db_mask, col_tkn_mask"
   ]
  },
  {
   "cell_type": "code",
   "execution_count": 57,
   "id": "8f21e12e",
   "metadata": {},
   "outputs": [],
   "source": [
    "# def get_decoder_input_mask(input_ids, mask, batch_size, start_tkn_id, end_tkn_id):\n",
    "#     r\"\"\"\n",
    "#     input should only contains word tokens:\n",
    "#     \"\"\"\n",
    "#     start_tkn_mask = input_ids == start_tkn_id\n",
    "#     end_tkn_mask = input_ids == end_tkn_id\n",
    "#     start_end_mask = torch.bitwise_or(start_tkn_mask, end_tkn_mask)\n",
    "#     index = torch.arange(input_ids.size(1)).repeat(batch_size)[start_end_mask.view(-1)].view(batch_size, -1)\n",
    "#     return mask.scatter(1, index, False)\n",
    "\n",
    "# def get_input_mask_and_answer(encode_input, tokenizer):\n",
    "#     r\"\"\"\n",
    "#     table -> database table name(id)\n",
    "#     header -> database header\n",
    "    \n",
    "#     returns:\n",
    "#         input_question_mask, input_table_mask, input_header_mask, answer_table_tkns, answer_header_tkns\n",
    "#     \"\"\"\n",
    "#     batch_size, max_length = encode_input[\"input_ids\"].size()\n",
    "#     sep_tkn_mask = encode_input[\"input_ids\"] == tokenizer.sep_token_id\n",
    "#     start_tkn_id, end_tkn_id, col_tkn_id = tokenizer.additional_special_tokens_ids\n",
    "    \n",
    "#     input_question_mask = torch.bitwise_and(encode_input[\"token_type_ids\"] == 0, encode_input[\"attention_mask\"].bool())\n",
    "#     input_question_mask = torch.bitwise_and(input_question_mask, ~sep_tkn_mask) # [SEP] mask out\n",
    "#     input_question_mask[:, 0] = False  # [CLS] mask out\n",
    "\n",
    "#     db_mask = torch.bitwise_and(encode_input[\"token_type_ids\"] == 1, encode_input[\"attention_mask\"].bool())\n",
    "#     db_mask = torch.bitwise_xor(db_mask, sep_tkn_mask)\n",
    "#     col_tkn_mask = encode_input[\"input_ids\"] == col_tkn_id\n",
    "#     db_mask = torch.bitwise_and(db_mask, ~col_tkn_mask)\n",
    "#     # split table_mask and header_mask\n",
    "#     input_idx = torch.arange(max_length).repeat(batch_size, 1)\n",
    "#     db_idx = input_idx[db_mask]\n",
    "#     table_header_tkn_idx = db_idx[db_idx > 0]\n",
    "#     table_start_idx = table_header_tkn_idx.view(batch_size, -1)[:, 0] + 1\n",
    "#     start_idx = table_header_tkn_idx[1:][table_header_tkn_idx.diff() == 2].view(batch_size, -1)\n",
    "#     table_end_sep_idx = start_idx[:, 0] - 1\n",
    "#     split_size = torch.stack([\n",
    "#         table_end_sep_idx-table_start_idx+1, table_header_tkn_idx.view(batch_size, -1).size(1)-(table_end_sep_idx-table_start_idx+1)\n",
    "#     ]).transpose(0, 1)\n",
    "\n",
    "#     # Token idx\n",
    "#     table_tkn_idx, header_tkn_idx = map(\n",
    "#         lambda x: torch.stack(x), \n",
    "#         zip(*[torch.split(x, size.tolist()) for x, size in zip(table_header_tkn_idx.view(batch_size, -1), split_size)])\n",
    "#     )\n",
    "\n",
    "#     table_tkn_idx = table_tkn_idx[:, 1:]\n",
    "#     # Mask include [S] & [E] tokens\n",
    "#     table_tkn_mask = torch.zeros_like(encode_input[\"input_ids\"], dtype=torch.bool).scatter(1, table_tkn_idx, True)\n",
    "#     header_tkn_mask = torch.zeros_like(encode_input[\"input_ids\"], dtype=torch.bool).scatter(1, header_tkn_idx, True)\n",
    "\n",
    "#     # For Decoder Input, Maskout [S], [E] for table & header  \n",
    "#     input_table_mask = get_decoder_input_mask(\n",
    "#         encode_input[\"input_ids\"], table_tkn_mask, batch_size, start_tkn_id, end_tkn_id\n",
    "#     )\n",
    "#     input_header_mask = get_decoder_input_mask(\n",
    "#         encode_input[\"input_ids\"], header_tkn_mask, batch_size, start_tkn_id, end_tkn_id\n",
    "#     )\n",
    "#     # [COL] token mask: this is for attention\n",
    "#     col_tkn_idx = input_idx[col_tkn_mask].view(batch_size, -1)\n",
    "#     input_col_mask = torch.zeros_like(encode_input[\"input_ids\"], dtype=torch.bool).scatter(1, col_tkn_idx, True)\n",
    "\n",
    "#     return input_question_mask, input_table_mask, input_header_mask, input_col_mask # , answer_table_tkns, answer_header_tkns\n",
    "\n",
    "# input_question_mask, input_table_mask, input_header_mask, input_col_mask = get_input_mask_and_answer(encode_input, tokenizer_bert)"
   ]
  },
  {
   "cell_type": "code",
   "execution_count": 58,
   "id": "6a74e2cc",
   "metadata": {},
   "outputs": [],
   "source": [
    "input_question_mask, input_db_mask, input_col_mask = get_input_mask(encode_inputs)"
   ]
  },
  {
   "cell_type": "code",
   "execution_count": 59,
   "id": "a106f020",
   "metadata": {},
   "outputs": [
    {
     "name": "stdout",
     "output_type": "stream",
     "text": [
      "Question Tokens for Decoder\n",
      "-------------------------\n",
      "003520의 제 58 기 자본금은 얼마야? 2020년 000890의 유동부채는 얼마야?\n",
      "\n",
      "DB Tokens for Decoder\n",
      "-------------------------\n",
      "003520 index rcept_no reprt_code bsns_year corp_code stock_code fs_div fs_nm sj_div sj_nm account_nm thstrm_nm thstrm_dt thstrm_amount 000890 index rcept_no reprt_code bsns_year corp_code stock_code fs_div fs_nm sj_div sj_nm account_nm thstrm_nm thstrm_dt thstrm_amount\n",
      "\n",
      "Column(Index of Headers) Tokens for Decoder\n",
      "-------------------------\n",
      "[COL] [COL] [COL] [COL] [COL] [COL] [COL] [COL] [COL] [COL] [COL] [COL] [COL] [COL] [COL] [COL] [COL] [COL] [COL] [COL] [COL] [COL] [COL] [COL] [COL] [COL] [COL] [COL]\n",
      "\n"
     ]
    }
   ],
   "source": [
    "for m, t in zip(\n",
    "        [input_question_mask, input_db_mask, input_col_mask], \n",
    "        [\"Question Tokens for Decoder\", \"DB Tokens for Decoder\", \"Column(Index of Headers) Tokens for Decoder\"]\n",
    "    ):\n",
    "    print(t)\n",
    "    print(\"-----\"*5)\n",
    "    print(tokenizer_bert.decode(encode_inputs[\"input_ids\"][m]))\n",
    "    print()"
   ]
  },
  {
   "cell_type": "code",
   "execution_count": 60,
   "id": "52f05a63",
   "metadata": {},
   "outputs": [],
   "source": [
    "# Feed to BERT Model\n",
    "encode_outputs = model_bert(**encode_inputs)"
   ]
  },
  {
   "cell_type": "markdown",
   "id": "ed8275be",
   "metadata": {},
   "source": [
    "\n",
    "The `encode_outputs` will be selected by 4 types of masks\n",
    "```\n",
    "encode_outputs\n",
    "-> Question\n",
    "-> Table\n",
    "-> Header\n",
    "-> Column(Index of Headers)\n",
    "```\n",
    "\n",
    "And pad batches which has less tokens than max length with \"\\[PAD\\]\"  for Decoder Input\n"
   ]
  },
  {
   "cell_type": "code",
   "execution_count": 61,
   "id": "977a6518",
   "metadata": {},
   "outputs": [],
   "source": [
    "def pad(batches: Tuple[torch.Tensor], lengths: List[int], model: BertModel, pad_idx: int=1) -> torch.Tensor:\n",
    "    padded = []\n",
    "    max_length = max(lengths)\n",
    "    for x in batches:\n",
    "        if len(x) < max_length:\n",
    "            pad_tensor = model.embeddings.word_embeddings(torch.LongTensor([pad_idx]*(max_length - len(x))))\n",
    "            padded.append(torch.cat([x, pad_tensor]))\n",
    "        else:\n",
    "            padded.append(x)\n",
    "    return torch.stack(padded)\n",
    "\n",
    "def get_decoder_batches(encode_outputs, mask, model, pad_idx):\n",
    "    lengths = mask.sum(1)\n",
    "    tensors = encode_outputs.last_hidden_state[mask, :]\n",
    "    batches = torch.split(tensors, lengths.tolist())\n",
    "    if lengths.ne(lengths.max()).sum() != 0:\n",
    "        # pad not same length tokens\n",
    "        tensors_padded = pad(batches, lengths.tolist(), model, pad_idx=pad_idx)\n",
    "    else:\n",
    "        # just stack the splitted tensors\n",
    "        tensors_padded = torch.stack(batches)\n",
    "    return tensors_padded, lengths.tolist()"
   ]
  },
  {
   "cell_type": "code",
   "execution_count": 62,
   "id": "b477c987",
   "metadata": {},
   "outputs": [],
   "source": [
    "question_padded, question_lengths = get_decoder_batches(encode_outputs, input_question_mask, model_bert, pad_idx=tokenizer_bert.pad_token_id)\n",
    "db_padded, db_lengths = get_decoder_batches(encode_outputs, input_db_mask, model_bert, pad_idx=tokenizer_bert.pad_token_id)\n",
    "col_padded, col_lengths = get_decoder_batches(encode_outputs, input_col_mask, model_bert, pad_idx=tokenizer_bert.pad_token_id)"
   ]
  },
  {
   "cell_type": "code",
   "execution_count": 63,
   "id": "8fddd660-e02c-4adf-be72-4bdec5294c8d",
   "metadata": {},
   "outputs": [
    {
     "data": {
      "text/plain": [
       "([15, 16], [112, 112], [14, 14])"
      ]
     },
     "execution_count": 63,
     "metadata": {},
     "output_type": "execute_result"
    }
   ],
   "source": [
    "question_lengths, db_lengths, col_lengths"
   ]
  },
  {
   "cell_type": "markdown",
   "id": "d109fa17",
   "metadata": {},
   "source": [
    "## Create the Answers for decoder output"
   ]
  },
  {
   "cell_type": "code",
   "execution_count": 64,
   "id": "f874bb1f",
   "metadata": {},
   "outputs": [],
   "source": [
    "def get_sql_answers(batch_sqls, tokenizer, end_tkn_idx=1):\n",
    "    \"\"\"\n",
    "    for backward compatibility, separated with get_g\n",
    "    \n",
    "    sc: select column\n",
    "    sa: select agg\n",
    "    wn: where number\n",
    "    wc: where column\n",
    "    wo: where operator\n",
    "    wv: where value\n",
    "    \"\"\"\n",
    "\n",
    "    get_ith_element = lambda li, i: [x[i] for x in li]\n",
    "    g_sc = []\n",
    "    g_sa = []\n",
    "    g_wn = []\n",
    "    g_wc = []\n",
    "    g_wo = []\n",
    "    g_wv = []\n",
    "    for b, sql_dict in enumerate(batch_sqls):\n",
    "        g_sc.append( sql_dict[\"sel\"] )\n",
    "        g_sa.append( sql_dict[\"agg\"])\n",
    "\n",
    "        conds = sql_dict[\"conds\"]\n",
    "        if not sql_dict[\"agg\"] < 0:\n",
    "            g_wn.append( len(conds) )\n",
    "            g_wc.append( get_ith_element(conds, 0) )\n",
    "            g_wo.append( get_ith_element(conds, 1) )\n",
    "            g_wv.append( get_ith_element(conds, 2) )\n",
    "        else:\n",
    "            raise EnvironmentError\n",
    "    \n",
    "    \n",
    "    # get where value tokenized \n",
    "    end_tkn = tokenizer.additional_special_tokens[end_tkn_idx]\n",
    "    pad_tkn_id = tokenizer.pad_token_id\n",
    "    g_wv_tkns = [[f\"{s}{end_tkn}\" for s in batch_wv] for batch_wv in g_wv]\n",
    "    g_wv_tkns = [tokenizer(batch_wv, add_special_tokens=False)[\"input_ids\"] if len(batch_wv) > 0 else batch_wv for batch_wv in g_wv_tkns]\n",
    "    # add empty list if batch has different where column number\n",
    "    max_where_cols = max([len(batch_wv) for batch_wv in g_wv_tkns])\n",
    "    g_wv_tkns = [batch_wv + [[]]*(max_where_cols-len(batch_wv)) if len(batch_wv) < max_where_cols else batch_wv for batch_wv in g_wv_tkns]\n",
    "    temp = []\n",
    "    for batch_wv in list(zip(*g_wv_tkns)):\n",
    "        batch_max_len = max(map(len, batch_wv))\n",
    "        batch_temp = []\n",
    "        for wv_tkns in batch_wv:  # iter by number of where clause\n",
    "            if len(wv_tkns) < batch_max_len:\n",
    "                batch_temp.append(wv_tkns + [pad_tkn_id]*(batch_max_len - len(wv_tkns)))\n",
    "            else:\n",
    "                batch_temp.append(wv_tkns)\n",
    "        temp.append(batch_temp)\n",
    "    g_wv_tkns = list(zip(*temp))\n",
    "    g_wv_tkns = list(map(list, g_wv_tkns))\n",
    "    return g_sc, g_sa, g_wn, g_wc, g_wo, g_wv, g_wv_tkns"
   ]
  },
  {
   "cell_type": "code",
   "execution_count": 65,
   "id": "6b6bcd9e",
   "metadata": {},
   "outputs": [
    {
     "data": {
      "text/plain": [
       "([13, 13],\n",
       " [0, 0],\n",
       " [2, 2],\n",
       " [[11, 10], [10, 3]],\n",
       " [[0, 0], [0, 0]],\n",
       " [['제 58 기', '자본금'], ['유동부채', 2020]],\n",
       " [[[4128, 517, 186, 1258, 8003], [3902, 5550, 8003]],\n",
       "  [[3574, 5872, 6398, 7405, 8003], [554, 127, 8003]]])"
      ]
     },
     "execution_count": 65,
     "metadata": {},
     "output_type": "execute_result"
    }
   ],
   "source": [
    "g_sc, g_sa, g_wn, g_wc, g_wo, g_wv, g_wv_tkns = get_sql_answers(batch_sqls, tokenizer_bert, 1)\n",
    "g_sc, g_sa, g_wn, g_wc, g_wo, g_wv, g_wv_tkns"
   ]
  },
  {
   "cell_type": "markdown",
   "id": "0e8fe9c3",
   "metadata": {},
   "source": [
    "## Decoder\n",
    "\n",
    "Similar structure in SQLova but a little difference in here.\n",
    "\n",
    "- SQLova is a neural semantic parser translating natural language utterance to SQL query.\n",
    "- Official Github: [https://github.com/naver/sqlova](https://github.com/naver/sqlova)\n",
    "- Paper: [A Comprehensive Exploration on WikiSQL with Table-Aware Word Contextualization](https://arxiv.org/abs/1902.01069)\n",
    "\n",
    "<img src=\"https://drive.google.com/uc?id=1PW9oAXfW-ZI-jxGn5q9O_gzUIZnNYaet\" alt=\"Sqlova Decoder Architecture \" width=\"50%\" height=\"auto\">\n",
    "\n",
    "## Attention Layers"
   ]
  },
  {
   "cell_type": "code",
   "execution_count": 152,
   "id": "410b3775",
   "metadata": {},
   "outputs": [],
   "source": [
    "import numpy as np\n",
    "\n",
    "class AttentionBase(nn.Module):\n",
    "    def __init__(self):\n",
    "        super().__init__()\n",
    "    \n",
    "    def wipe_out_pad_tkn_score(self, score, lengths, dim=2):\n",
    "        mask = torch.zeros_like(score, dtype=torch.bool)\n",
    "        max_len = max(lengths)\n",
    "        for batch_idx in range(batch_size):\n",
    "            l = lengths[batch_idx]\n",
    "            if l < max_len:\n",
    "                if dim == 2:\n",
    "                    mask[batch_idx, :, l:] = True\n",
    "                elif dim == 1:\n",
    "                    mask[batch_idx, l:, :] = True\n",
    "                else:\n",
    "                    raise ValueError(f\"`dim` in wipe_out_pad_tkn_score should be 1 or 2\")\n",
    "            if l == 0 and dim == 1:\n",
    "                # for 0 where numbers\n",
    "                mask[batch_idx, l:, :] = True\n",
    "        if dim == 2:\n",
    "            score = score.masked_fill(mask, -np.inf)\n",
    "        elif dim == 1:\n",
    "            score = score.masked_fill(mask, 0.0)\n",
    "        else:\n",
    "            raise ValueError(f\"`dim` in wipe_out_pad_tkn_score should be 1 or 2\")\n",
    "        \n",
    "        return score\n",
    "\n",
    "class C2QAttention(AttentionBase):\n",
    "    r\"\"\"Decoder Column to Question Attention Module\"\"\"\n",
    "    def __init__(self, in_features, out_features):\n",
    "        super().__init__()\n",
    "        self.linear = nn.Linear(in_features, out_features)\n",
    "        self.softmax = nn.Softmax(dim=2)\n",
    "        \n",
    "    def forward(self, o_c, o_q, q_lengths, c_lengths=None, rt_attn=False):\n",
    "        r\"\"\"\n",
    "        Calculate for each column tokens, How much related to question tokens?\n",
    "        \n",
    "        o_c: LSTM output of column\n",
    "        o_q: LSTM output of question \n",
    "        \n",
    "        c_lengths: wipe out row length\n",
    "        return context atttended to question tokens\n",
    "        \"\"\"\n",
    "        sqrt_H = np.sqrt(o_c.size(-1)) # Apply Attention is All you Need Technique\n",
    "        o_q_transform = self.linear(o_q)  # (B, T_q, H)\n",
    "        score_c2q = torch.bmm(o_c, o_q_transform.transpose(1, 2)) / sqrt_H  # (B, T_c, H) x (B, H, T_q) = (B, T_c, T_q)\n",
    "        score_c2q = self.wipe_out_pad_tkn_score(score_c2q, q_lengths, dim=2)\n",
    "        \n",
    "        prob_c2q = self.softmax(score_c2q)\n",
    "        if c_lengths is not None:\n",
    "            prob_c2q = self.wipe_out_pad_tkn_score(prob_c2q, c_lengths, dim=1)\n",
    "        # prob_c2q: (B, T_c, T_q) -> (B, T_c, T_q, 1)\n",
    "        # o_q: (B, 1, T_q, H)\n",
    "        # p_col2question \\odot o_q = (B, T_c, T_q, 1) \\odot (B, 1, T_q, H) = (B, T_c, T_q, H)\n",
    "        # -> reduce sum to T_q to get context for each column (B, T_c, H)\n",
    "        context = torch.mul(prob_c2q.unsqueeze(3), o_q.unsqueeze(1)).sum(dim=2)\n",
    "        if rt_attn:\n",
    "            attn = prob_c2q\n",
    "        else:\n",
    "            attn = None\n",
    "        return context, attn\n",
    "\n",
    "class SelfAttention(AttentionBase):\n",
    "    r\"\"\"Decoder Self Attention Module\"\"\"\n",
    "    def __init__(self, in_features, out_features=1):\n",
    "        super().__init__()\n",
    "        self.linear = nn.Linear(in_features, out_features)\n",
    "        self.softmax = nn.Softmax(dim=1)\n",
    "        \n",
    "    def forward(self, o, lengths, rt_attn=False):\n",
    "        r\"\"\"\n",
    "        Calculate for each o tokens, How much related to o tokens?\n",
    "        \n",
    "        return attended summary of o\n",
    "        \"\"\"\n",
    "        o_transform = self.linear(o)  # (B, T_o, H) -> (B, T_o, 1)\n",
    "        o_transform = self.wipe_out_pad_tkn_score(o_transform, lengths) \n",
    "        o_prob = self.softmax(o_transform)  # (B, T_o, 1)\n",
    "        \n",
    "        o_summary = torch.mul(o, o_prob).sum(1)  # (B, T_o, H) \\odot (B, T_o, 1) -> (B, H)\n",
    "\n",
    "        if rt_attn:\n",
    "            attn = o_prob\n",
    "        else:\n",
    "            attn = None\n",
    "        return o_summary, attn"
   ]
  },
  {
   "cell_type": "markdown",
   "id": "ee42ec6e",
   "metadata": {},
   "source": [
    "## Decoder Sub Layers"
   ]
  },
  {
   "cell_type": "code",
   "execution_count": 153,
   "id": "ae7cf78e",
   "metadata": {},
   "outputs": [],
   "source": [
    "from copy import deepcopy"
   ]
  },
  {
   "cell_type": "code",
   "execution_count": 202,
   "id": "6dfb6fc4",
   "metadata": {},
   "outputs": [],
   "source": [
    "class SelectDecoder(nn.Module):\n",
    "    r\"\"\"SELECT Decoder\"\"\"\n",
    "    def __init__(self, input_size: int, hidden_size: int, output_size: int, num_layers: int=2, dropout_ratio:float=0.3) -> None:\n",
    "        super().__init__()\n",
    "        self.input_size = input_size\n",
    "        self.hidden_size = hidden_size\n",
    "        self.output_size = output_size\n",
    "        self.num_layers = num_layers\n",
    "        self.dropout_ratio = dropout_ratio\n",
    "        \n",
    "        self.lstm_q = nn.LSTM(input_size, int(hidden_size / 2), num_layers, dropout=dropout_ratio, batch_first=True, bidirectional=True)\n",
    "        self.lstm_h = nn.LSTM(input_size, int(hidden_size / 2), num_layers, dropout=dropout_ratio, batch_first=True, bidirectional=True)\n",
    "        \n",
    "        self.col_context_linear = nn.Linear(2*hidden_size, hidden_size)\n",
    "        self.col2question_attn = C2QAttention(hidden_size, hidden_size)\n",
    "        self.output_layer = nn.Sequential(\n",
    "            nn.Linear(2*hidden_size, 2*hidden_size),\n",
    "            nn.Tanh(),\n",
    "            nn.Linear(2*hidden_size, output_size)\n",
    "        )\n",
    "\n",
    "    def forward(self, question_padded, db_padded, col_padded, question_lengths: List[int], col_lengths: List[int], rt_attn=False):\n",
    "        r\"\"\"\n",
    "        predict column index\n",
    "        \"\"\"\n",
    "        batch_size, n_col, _ = col_padded.size()\n",
    "        o_q, _ = self.lstm_q(question_padded)  # o_q: (B, T_q, H)\n",
    "        o_c, _ = self.lstm_h(col_padded)  # o_c: (B, T_c, H)\n",
    "        _, (h_h, _) = self.lstm_h(db_padded)  # h_h: (n_direc*num_layers, B, H/2)\n",
    "        \n",
    "        header_summary = torch.cat([h for h in h_h[-2:]], dim=1).unsqueeze(1).expand(batch_size, n_col, -1)  # (B, T_c, H)\n",
    "        col_context = torch.cat([o_c, header_summary], dim=2)  # (B, T_c, 2H)\n",
    "        col_context = self.col_context_linear(col_context)  # (B, T_c, H)\n",
    "        col_q_context, attn = self.col2question_attn(col_context, o_q, question_lengths, col_lengths, rt_attn)  # (B, T_c, H), (B, T_c, T_q)\n",
    "        \n",
    "        vec = torch.cat([col_q_context, col_context], dim=2)  # (B, T_c, 2H)\n",
    "        output = self.output_layer(vec)\n",
    "        # TODO: add penalty for padded header(column) information\n",
    "        \n",
    "        return output.squeeze(-1), attn\n",
    "    \n",
    "\n",
    "class AggDecoder(nn.Module):\n",
    "    r\"\"\"AGG Decoder\"\"\"\n",
    "    def __init__(self, input_size: int, hidden_size: int, output_size: int, num_layers: int=2, dropout_ratio:float=0.3) -> None:\n",
    "        super().__init__()\n",
    "        self.input_size = input_size\n",
    "        self.hidden_size = hidden_size\n",
    "        self.output_size = output_size\n",
    "        self.num_layers = num_layers\n",
    "        self.dropout_ratio = dropout_ratio\n",
    "        \n",
    "        self.lstm_q = nn.LSTM(input_size, int(hidden_size / 2), num_layers, dropout=dropout_ratio, batch_first=True, bidirectional=True)\n",
    "        self.lstm_h = nn.LSTM(input_size, int(hidden_size / 2), num_layers, dropout=dropout_ratio, batch_first=True, bidirectional=True)\n",
    "        \n",
    "        self.col_context_linear = nn.Linear(2*hidden_size, hidden_size)\n",
    "        self.col2question_attn = C2QAttention(hidden_size, hidden_size)\n",
    "        self.output_layer = nn.Sequential(\n",
    "            nn.Linear(hidden_size, hidden_size),\n",
    "            nn.Tanh(),\n",
    "            nn.Linear(hidden_size, output_size)\n",
    "        )\n",
    "                \n",
    "    def forward(self, question_padded, db_padded, col_padded, question_lengths: List[int], col_lengths: List[int], select_idxes: List[int], rt_attn=False):\n",
    "        r\"\"\"\n",
    "        predict agg index\n",
    "        select_prob: selected argmax indices of select_output score\n",
    "        \"\"\"\n",
    "        batch_size, n_col, _ = col_padded.size()\n",
    "        o_q, _ = self.lstm_q(question_padded)  # o_q: (B, T_q, H)\n",
    "        o_c, _ = self.lstm_h(col_padded)  # o_c: (B, T_c, H)\n",
    "        _, (h_h, _) = self.lstm_h(db_padded)  # h_h: (n_direc*num_layers, B, H/2)\n",
    "        \n",
    "        header_summary = torch.cat([h for h in h_h[-2:]], dim=1).unsqueeze(1).expand(batch_size, n_col, -1)  # (B, T_c, H)\n",
    "        col_context = torch.cat([o_c, header_summary], dim=2)  # (B, T_c, 2H)\n",
    "        col_context = self.col_context_linear(col_context)  # (B, T_c, H)\n",
    "        \n",
    "        col_selected = col_context[list(range(batch_size)), select_idxes].unsqueeze(1)  # col_selected: (B, 1, H)\n",
    "        \n",
    "        col_q_context, attn = self.col2question_attn(col_selected, o_q, question_lengths, col_lengths, rt_attn)  # (B, 1, H), (B, 1, T_q)\n",
    "        output = self.output_layer(col_q_context.squeeze(1))\n",
    "        \n",
    "        return output, attn\n",
    "    \n",
    "    \n",
    "class WhereNumDecoder(nn.Module):\n",
    "    r\"\"\"WHERE number Decoder\"\"\"\n",
    "    def __init__(self, input_size: int, hidden_size: int, output_size: int, num_layers: int=2, dropout_ratio:float=0.3, max_where_conds=4) -> None:\n",
    "        super().__init__()\n",
    "        self.input_size = input_size\n",
    "        self.hidden_size = hidden_size\n",
    "        self.output_size = output_size\n",
    "        self.num_layers = num_layers\n",
    "        self.dropout_ratio = dropout_ratio\n",
    "        self.max_where_conds = max_where_conds\n",
    "        if self.output_size > self.max_where_conds+1:\n",
    "            # HERE output will be dilivered to cross-entropy loss, not guessing the real number of where clause\n",
    "            raise ValueError(f\"`WhereNumDecoder` only support maximum {max_where_conds} where clause\")\n",
    "        \n",
    "        self.lstm_q = nn.LSTM(input_size, int(hidden_size / 2), num_layers, dropout=dropout_ratio, batch_first=True, bidirectional=True)\n",
    "        self.lstm_h = nn.LSTM(input_size, int(hidden_size / 2), num_layers, dropout=dropout_ratio, batch_first=True, bidirectional=True)\n",
    "        \n",
    "        self.col_self_attn = SelfAttention(2*hidden_size, 1)\n",
    "        self.lstm_q_hidden_init_linear = nn.Linear(2*hidden_size, 2*hidden_size)\n",
    "        self.lstm_q_cell_init_linear = nn.Linear(2*hidden_size, 2*hidden_size)\n",
    "        \n",
    "        self.context_self_attn = SelfAttention(hidden_size, 1)\n",
    "        \n",
    "        self.output_layer = nn.Sequential(\n",
    "            nn.Linear(hidden_size, hidden_size),\n",
    "            nn.Tanh(),\n",
    "            nn.Linear(hidden_size, output_size)\n",
    "        )\n",
    "        \n",
    "    def forward(self, question_padded, db_padded, col_padded, question_lengths: List[int], col_lengths: List[int], rt_attn=False):\n",
    "        r\"\"\"\n",
    "        predict agg index\n",
    "        select_prob: selected argmax indices of select_output score\n",
    "        \"\"\"\n",
    "        batch_size, n_col, _ = col_padded.size()\n",
    "        o_c, _ = self.lstm_h(col_padded)  # o_c: (B, T_c, H)\n",
    "        _, (h_h, _) = self.lstm_h(db_padded)  # h_h: (n_direc*num_layers, B, H/2)\n",
    "        \n",
    "        header_summary = torch.cat([h for h in h_h[-2:]], dim=1).unsqueeze(1).expand(batch_size, n_col, -1)  # (B, T_c, H)\n",
    "        col_context = torch.cat([o_c, header_summary], dim=2)  # (B, T_c, 2H)\n",
    "\n",
    "        col_self_attn, col_attn = self.col_self_attn(col_context, col_lengths, rt_attn)  # (B, 2H), (B, T_c)\n",
    "\n",
    "        h_0 = self.lstm_q_hidden_init_linear(col_self_attn)  # (B, 2H)\n",
    "        h_0 = h_0.view(batch_size, 2*self.num_layers, -1).transpose(0, 1).contiguous()  # (B, n_direc*num_layers, H/2) -> (n_direc*num_layers, B, H/2)\n",
    "        c_0 = self.lstm_q_cell_init_linear(col_self_attn)  # (B, 2H)\n",
    "        c_0 = c_0.view(batch_size, 2*self.num_layers, -1).transpose(0, 1).contiguous()  # (B, n_direc*num_layers, H/2) -> (n_direc*num_layers, B, H/2)\n",
    "        \n",
    "        o_q, _ = self.lstm_q(question_padded, (h_0, c_0))  # o_q: (B, T_q, H)\n",
    "        o_summary, o_attn = self.context_self_attn(o_q, question_lengths, rt_attn)  # (B, H), (B, T_q)\n",
    "        output = self.output_layer(o_summary)\n",
    "        \n",
    "        return output, (col_attn, o_attn)\n",
    "\n",
    "    \n",
    "class WhereColumnDecoder(nn.Module):\n",
    "    r\"\"\"WHERE Column Decoder\"\"\"\n",
    "    def __init__(self, input_size: int, hidden_size: int, output_size: int=1, num_layers: int=2, dropout_ratio:float=0.3, max_where_conds: int=4) -> None:\n",
    "        super().__init__()\n",
    "        self.input_size = input_size\n",
    "        self.hidden_size = hidden_size\n",
    "        self.output_size = output_size\n",
    "        self.num_layers = num_layers\n",
    "        self.dropout_ratio = dropout_ratio\n",
    "        self.max_where_conds = max_where_conds\n",
    "\n",
    "        self.lstm_q = nn.LSTM(input_size, int(hidden_size / 2), num_layers, dropout=dropout_ratio, batch_first=True, bidirectional=True)\n",
    "        self.lstm_h = nn.LSTM(input_size, int(hidden_size / 2), num_layers, dropout=dropout_ratio, batch_first=True, bidirectional=True)\n",
    "        \n",
    "        self.col_context_linear = nn.Linear(2*hidden_size, hidden_size)\n",
    "        self.col2question_attn = C2QAttention(hidden_size, hidden_size)\n",
    "        self.output_layer = nn.Sequential(\n",
    "            nn.Linear(2*hidden_size, 2*hidden_size),\n",
    "            nn.Tanh(),\n",
    "            nn.Linear(2*hidden_size, output_size)\n",
    "        )\n",
    "\n",
    "    def forward(self, question_padded, db_padded, col_padded, question_lengths: List[int], col_lengths: List[int], rt_attn=False):\n",
    "        r\"\"\"\n",
    "        predict column index\n",
    "        \"\"\"\n",
    "        batch_size, n_col, _ = col_padded.size()\n",
    "        o_q, _ = self.lstm_q(question_padded)  # o_q: (B, T_q, H)\n",
    "        o_c, _ = self.lstm_h(col_padded)  # o_c: (B, T_c, H)\n",
    "        _, (h_h, _) = self.lstm_h(db_padded)  # h_h: (n_direc*num_layers, B, H/2)\n",
    "        \n",
    "        header_summary = torch.cat([h for h in h_h[-2:]], dim=1).unsqueeze(1).expand(batch_size, n_col, -1)  # (B, T_c, H)\n",
    "        col_context = torch.cat([o_c, header_summary], dim=2)  # (B, T_c, 2H)\n",
    "        col_context = self.col_context_linear(col_context)  # (B, T_c, H)\n",
    "        col_q_context, attn = self.col2question_attn(col_context, o_q, question_lengths, col_lengths, rt_attn)  # (B, T_c, H), (B, T_c, T_q)\n",
    "        \n",
    "        vec = torch.cat([col_q_context, col_context], dim=2)  # (B, T_c, 2H)\n",
    "        output = self.output_layer(vec)\n",
    "        # TODO: add penalty for padded header(column) information\n",
    "        \n",
    "        return output.squeeze(-1), attn\n",
    "    \n",
    "    \n",
    "class WhereOpDecoder(nn.Module):\n",
    "    r\"\"\"WHERE Opperator Decoder\"\"\"\n",
    "    def __init__(self, input_size: int, hidden_size: int, output_size: int, num_layers: int=2, dropout_ratio: float=0.3, max_where_conds: int=4) -> None:\n",
    "        super().__init__()\n",
    "        self.input_size = input_size\n",
    "        self.hidden_size = hidden_size\n",
    "        self.output_size = output_size\n",
    "        self.num_layers = num_layers\n",
    "        self.dropout_ratio = dropout_ratio\n",
    "        self.max_where_conds = max_where_conds\n",
    "        \n",
    "        self.lstm_q = nn.LSTM(input_size, int(hidden_size / 2), num_layers, dropout=dropout_ratio, batch_first=True, bidirectional=True)\n",
    "        self.lstm_h = nn.LSTM(input_size, int(hidden_size / 2), num_layers, dropout=dropout_ratio, batch_first=True, bidirectional=True)\n",
    "        \n",
    "        self.col_context_linear = nn.Linear(2*hidden_size, hidden_size)\n",
    "        self.col2question_attn = C2QAttention(hidden_size, hidden_size)\n",
    "        self.output_layer = nn.Sequential(\n",
    "            nn.Linear(2*hidden_size, 2*hidden_size),\n",
    "            nn.Tanh(),\n",
    "            nn.Linear(2*hidden_size, output_size)\n",
    "        )\n",
    "    \n",
    "    def forward(self, question_padded, db_padded, col_padded, question_lengths: List[int], where_nums: List[int], where_col_idxes: List[List[int]], rt_attn=False):\n",
    "        r\"\"\"\n",
    "        predict agg index\n",
    "        select_prob: selected argmax indices of select_output score\n",
    "        max_where_col_nums is settled at WhereColumnDecoder, but it can be lower than or equal to `max_where_conds`\n",
    "        \"\"\"\n",
    "        device = col_padded.device\n",
    "        batch_size, n_col, _ = col_padded.size()\n",
    "        o_q, _ = self.lstm_q(question_padded)  # o_q: (B, T_q, H)\n",
    "        o_c, _ = self.lstm_h(col_padded)  # o_c: (B, T_c, H)\n",
    "        _, (h_h, _) = self.lstm_h(db_padded)  # h_h: (n_direc*num_layers, B, H/2)\n",
    "        \n",
    "        header_summary = torch.cat([h for h in h_h[-2:]], dim=1).unsqueeze(1).expand(batch_size, n_col, -1)  # (B, T_c, H)\n",
    "        col_context = torch.cat([o_c, header_summary], dim=2)  # (B, T_c, 2H)\n",
    "        col_context = self.col_context_linear(col_context)  # (B, T_c, H)\n",
    "        # (B, max_where_col_nums, H), (B,)\n",
    "        col_context_padded = self.get_context_padded(col_context, where_col_idxes, device)\n",
    "        \n",
    "        # (B, max_where_col_nums, H), (B, max_where_col_nums, T_q)\n",
    "        col_q_context, attn = self.col2question_attn(col_context_padded, o_q, question_lengths, where_nums, rt_attn)  \n",
    "        vec = torch.cat([col_q_context, col_context_padded], dim=2)  # (B, max_where_col_nums, 2H)\n",
    "        output = self.output_layer(vec)  # (B, max_where_col_nums, n_cond_ops)\n",
    "        # TODO: add penalty for padded header(column) information\n",
    "#         for i, l in enumerate(where_nums):\n",
    "#             output[:, i, :] = -1e10\n",
    "        return output, attn\n",
    "        \n",
    "    def get_context_padded(self, col_context, where_col_idxes, device: str=\"cpu\"):\n",
    "        r\"\"\"\n",
    "        Select the where column index and pad if some batch doesn't match the max length of tensor\n",
    "        In case for have different where column lengths\n",
    "        \"\"\"\n",
    "        hidden_size = col_context.size(2)\n",
    "        max_where_col_nums = self.max_where_conds # max(where_nums) \n",
    "        batches = [col_context[i, batch_col] for i, batch_col in enumerate(where_col_idxes)]  # [(where_col_nums, hidden_size), ...]  len = B\n",
    "        batches_padded = []\n",
    "        for b in batches:\n",
    "            where_col_nums = b.size(0)\n",
    "            if where_col_nums < max_where_col_nums:\n",
    "                \n",
    "#                 self.register_buffer(\"pad_zeros_context\", torch.zeros((max_where_col_nums-where_col_nums), hidden_size, device=device))\n",
    "#                 b_padded = torch.cat([b, self.pad_zeros_context], dim=0)\n",
    "                # Use Register Buffer to code following code for PyTroch Lightning\n",
    "                b_padded = torch.cat([b, torch.zeros((max_where_col_nums-where_col_nums), hidden_size, device=device).contiguous()], dim=0)\n",
    "            else:\n",
    "                b_padded = b\n",
    "            batches_padded.append(b_padded)  # (max_where_col_nums, hidden_size)\n",
    "        return torch.stack(batches_padded) # (B, max_where_col_nums, hidden_size), (B,)\n",
    "    \n",
    "    \n",
    "class WhereValueDecoder(nn.Module):\n",
    "    r\"\"\"WHERE Value Decoder\"\"\"\n",
    "    def __init__(self, input_size: int, hidden_size: int, output_size: int, num_layers: int=2, dropout_ratio: float=0.3, max_where_conds: int=4, n_cond_ops: int=4,\n",
    "                 start_tkn_id=8002, end_tkn_id=8003, embedding_layer=None) -> None:\n",
    "        super().__init__()\n",
    "        self.input_size = input_size\n",
    "        self.hidden_size = hidden_size\n",
    "        self.output_size = output_size\n",
    "        self.num_layers = num_layers\n",
    "        self.dropout_ratio = dropout_ratio\n",
    "        self.max_where_conds = max_where_conds\n",
    "        self.n_cond_ops = n_cond_ops\n",
    "        \n",
    "        self.start_tkn_id = start_tkn_id\n",
    "        self.end_tkn_id = end_tkn_id\n",
    "        \n",
    "        self.lstm_q = nn.LSTM(input_size, int(hidden_size / 2), num_layers, dropout=dropout_ratio, batch_first=True, bidirectional=True)\n",
    "        self.lstm_h = nn.LSTM(input_size, int(hidden_size / 2), num_layers, dropout=dropout_ratio, batch_first=True, bidirectional=True)\n",
    "        \n",
    "        self.col_context_linear = nn.Linear(2*hidden_size, hidden_size)\n",
    "        self.where_op_linear = nn.Linear(n_cond_ops, hidden_size)\n",
    "        self.col2question_attn = C2QAttention(hidden_size, hidden_size)\n",
    "        if embedding_layer is None:\n",
    "            raise KeyError(\"Must initialize the embedding_layer to BertModel's word embedding layer\")\n",
    "        else:\n",
    "            if not isinstance(embedding_layer, torch.nn.modules.sparse.Embedding):\n",
    "                embedding_layer = embedding_layer.word_embeddings\n",
    "            self.embedding_layer = embedding_layer\n",
    "            vocab_size, bert_hidden_size = embedding_layer.weight.data.size()\n",
    "            self.output_lstm_hidden_init_linear = nn.Linear(3*hidden_size, bert_hidden_size)\n",
    "            self.output_lstm_cell_init_linear = nn.Linear(3*hidden_size, bert_hidden_size)\n",
    "            self.output_lstm = nn.LSTM(bert_hidden_size, bert_hidden_size, 1, batch_first=True)\n",
    "            self.output_linear = nn.Linear(bert_hidden_size, vocab_size)\n",
    "            self.output_linear.weight.data = embedding_layer.weight.data\n",
    "        \n",
    "    def forward(self, question_padded, db_padded, col_padded, question_lengths: List[int], where_nums: List[int], where_col_idxes: List[List[int]], where_op_idxes: List[List[int]], value_tkn_max_len=None, g_wv_tkns=None, rt_attn=False):\n",
    "        r\"\"\"\n",
    "        predict agg index\n",
    "        select_prob: selected argmax indices of select_output score\n",
    "        max_where_col_nums is setted at WhereColumnDecoder\n",
    "        value_tkn_max_len = Train if None else Test\n",
    "        g_wv_tkns = When Train should not be None\n",
    "        \n",
    "        \"\"\"\n",
    "        \n",
    "        device = col_padded.device\n",
    "        batch_size, n_col, _ = col_padded.size()\n",
    "        o_q, _ = self.lstm_q(question_padded)  # o_q: (B, T_q, H)\n",
    "        o_c, _ = self.lstm_h(col_padded)  # o_c: (B, T_c, H)\n",
    "        _, (h_h, _) = self.lstm_h(db_padded)  # h_h: (n_direc*num_layers, B, H/2)\n",
    "        \n",
    "        header_summary = torch.cat([h for h in h_h[-2:]], dim=1).unsqueeze(1).expand(batch_size, n_col, -1)  # (B, T_c, H)\n",
    "        col_context = torch.cat([o_c, header_summary], dim=2)  # (B, T_c, 2H)\n",
    "        col_context = self.col_context_linear(col_context)  # (B, T_c, H)\n",
    "        col_context_padded = self.get_context_padded(col_context, where_col_idxes, device)  # (B, max_where_col_nums, H)\n",
    "\n",
    "        col_q_context, attn = self.col2question_attn(col_context_padded, o_q, question_lengths, where_nums, rt_attn)  # (B, max_where_col_nums, H), (B, max_where_col_nums, T_q)\n",
    "        where_op_one_hot_padded = self.get_where_op_one_hot_padded(\n",
    "            where_op_idxes, where_nums, where_col_idxes, n_cond_ops=self.n_cond_ops, device=device)  # (B, max_where_col_nums, n_cond_ops)\n",
    "\n",
    "        where_op = self.where_op_linear(where_op_one_hot_padded)  # (B, max_where_col_nums, H)\n",
    "\n",
    "        vec = torch.cat([col_q_context, col_context_padded, where_op], dim=2)  # (B, max_where_col_nums, 3H)\n",
    "        \n",
    "        # predict each where_col\n",
    "        total_scores = []\n",
    "        # max_where_col_nums = vec.size(1)\n",
    "        # for i in range(max_where_col_nums):\n",
    "        if g_wv_tkns is not None:\n",
    "            g_wv_tkns = deepcopy(g_wv_tkns)\n",
    "            g_max_len_where_num = len(list(zip(*g_wv_tkns)))\n",
    "            if g_max_len_where_num < self.max_where_conds:\n",
    "                for b in range(batch_size):\n",
    "                    g_wv_tkns[b].extend([[self.end_tkn_id]]*(self.max_where_conds-g_max_len_where_num))\n",
    "\n",
    "        for i in range(self.max_where_conds):\n",
    "            g_wv_tkns_i = torch.LongTensor([g_wv_tkns[b_idx][i] for b_idx in range(batch_size)]).to(device).contiguous() if g_wv_tkns is not None else None  # (B, T_d_i)\n",
    "            vec_i = vec[:, i, :]  # (B, 3H)\n",
    "            \n",
    "            h_0 = self.output_lstm_hidden_init_linear(vec_i).unsqueeze(1).transpose(0, 1).contiguous()  # (B, 3H) -> (B, bert_H) -> (1, B, bert_H)\n",
    "            c_0 = self.output_lstm_cell_init_linear(vec_i).unsqueeze(1).transpose(0, 1).contiguous()  # (B, 3H) -> (B, bert_H) -> (1, B, bert_H)\n",
    "            \n",
    "            scores = self.decode_single_where_col(batch_size, h_0, c_0, value_tkn_max_len=value_tkn_max_len, g_wv_tkns_i=g_wv_tkns_i, device=device)  # (B, T_d_i, vocab_size)\n",
    "            total_scores.append(scores)\n",
    "        \n",
    "        # total_scores: [(B, T_d_i, vocab_size)] x max_where_col_nums\n",
    "        return total_scores, attn\n",
    "    \n",
    "    def start_token(self, batch_size, device):\n",
    "#         self.register_buffer(\"sos\", torch.LongTensor([self.start_tkn_id]*batch_size).to(device).unsqueeze(1))\n",
    "        sos = torch.LongTensor([self.start_tkn_id]*batch_size).unsqueeze(1).to(device).contiguous()  # (B, 1)\n",
    "        return sos\n",
    "    \n",
    "    def decode_single_where_col(self, batch_size, h_0, c_0, value_tkn_max_len=None, g_wv_tkns_i=None, device: str=\"cpu\"):\n",
    "        if value_tkn_max_len is None:\n",
    "            # [Training] set the max length to gold token max length (already padded)\n",
    "            max_len = len(g_wv_tkns_i[0])\n",
    "        else:\n",
    "            # [Testing]  don't know the max length\n",
    "            max_len = value_tkn_max_len\n",
    "            \n",
    "        # Version2: left_batch_size = batch_size\n",
    "        \n",
    "        sos = self.start_token(batch_size, device)  # (B, 1)\n",
    "        emb = self.embedding_layer(sos)  # (B, 1, bert_H)\n",
    "        scores = [] \n",
    "        for i in range(max_len):\n",
    "            _, (h, _) = self.output_lstm(emb, (h_0, c_0))  # h: (1, B, bert_H)  \n",
    "            s = self.output_linear(h[-1, :]) # select last layer if use multiple rnn layers, h: (1, B, bert_H) -> (B, bert_H) -> s: (B, vocab_size)\n",
    "            scores.append(s)\n",
    "            if g_wv_tkns_i is not None:\n",
    "                # [Training] Teacher Force model\n",
    "                pred = g_wv_tkns_i[:, i]  # (B, )\n",
    "            else:\n",
    "                # [Testing]\n",
    "                pred = s.argmax(1)  # (B, )\n",
    "                if (pred == self.end_tkn_id).sum() == batch_size:  # all stop\n",
    "                    break\n",
    "                # Version2: Seperate all tokens\n",
    "                # if (pred == dd.end_tkn_id).sum() == left_batch_size:  # all stop\n",
    "                #     scores.append(s)\n",
    "                #     break\n",
    "                # else:\n",
    "                #     stop_mask = pred == dd.end_tkn_id\n",
    "                #     pred = pred[~stop_mask]\n",
    "                #     scores.append(pred)\n",
    "                #     left_batch_size -= stop_mask.sum().item()\n",
    "                    \n",
    "            emb = self.embedding_layer(pred.unsqueeze(1))  # (B, 1, bert_H)\n",
    "            \n",
    "        return torch.stack(scores).transpose(0, 1).contiguous() # (T_d_i, B, vocab_size) -> (B, T_d_i, vocab_size)\n",
    "        \n",
    "    def get_context_padded(self, col_context: torch.Tensor, where_col_idxes: List[List[int]], device: str=\"cpu\"):\n",
    "        r\"\"\"\n",
    "        Select the where column index and pad if some batch doesn't match the max length of tensor\n",
    "        In case for have different where column lengths\n",
    "        \"\"\"\n",
    "        hidden_size = col_context.size(2)\n",
    "        max_where_col_nums = self.max_where_conds # max(where_nums)\n",
    "        batches = [col_context[i, batch_col] for i, batch_col in enumerate(where_col_idxes)]  # [(where_col_nums, hidden_size), ...]  len = B\n",
    "        batches_padded = []\n",
    "        for b in batches:\n",
    "            where_col_nums = b.size(0)\n",
    "            if where_col_nums < max_where_col_nums:\n",
    "\n",
    "#                 self.register_buffer(\"pad_zeros_context\", torch.zeros((max_where_col_nums-where_col_nums), hidden_size, device=device))\n",
    "#                 b_padded = torch.cat([b, self.pad_zeros_context], dim=0)\n",
    "                b_padded = torch.cat([b, torch.zeros((max_where_col_nums-where_col_nums), hidden_size, device=device).contiguous()], dim=0)\n",
    "            else:\n",
    "                b_padded = b\n",
    "            batches_padded.append(b_padded)  # (max_where_col_nums, hidden_size)\n",
    "        return torch.stack(batches_padded) # (B, max_where_col_nums, hidden_size)\n",
    "    \n",
    "    def get_where_op_one_hot_padded(self, where_op_idxes: List[List[int]], where_nums: List[int], where_col_idxes: List[List[int]], n_cond_ops: int, device: str=\"cpu\"):\n",
    "        r\"\"\"\n",
    "        Turn where operation indexs into one hot encoded vectors\n",
    "        In case for have different where column lengths\n",
    "        \"\"\"\n",
    "        max_where_col_nums = self.max_where_conds # max(where_nums)\n",
    "        batches = [\n",
    "            torch.zeros(where_num, n_cond_ops).scatter(1, torch.LongTensor(batch_col).unsqueeze(1), 1).to(device).contiguous() \n",
    "            for where_num, batch_col in zip(where_nums, where_op_idxes)\n",
    "        ]  \n",
    "        # batches = [(where_col_nums, n_cond_ops), ...]  len = B\n",
    "        batches_padded = []\n",
    "        for b in batches:\n",
    "            where_col_nums = b.size(0)\n",
    "            if where_col_nums < max_where_col_nums:\n",
    "#                 self.register_buffer(\"pad_zeros_where_op\", torch.zeros((max_where_col_nums-where_col_nums), n_cond_ops, device=device))\n",
    "#                 b_padded = torch.cat([b, self.pad_zeros_where_op], dim=0)\n",
    "                b_padded = torch.cat([b, torch.zeros((max_where_col_nums-where_col_nums), n_cond_ops, device=device).contiguous()], dim=0)\n",
    "            else:\n",
    "                b_padded = b\n",
    "            batches_padded.append(b_padded)  # (max_where_col_nums, hidden_size)\n",
    "            \n",
    "        return torch.stack(batches_padded) # (B, max_where_col_nums, hidden_size)"
   ]
  },
  {
   "cell_type": "markdown",
   "id": "42a5671a-3dec-49c9-9197-44b4548491e0",
   "metadata": {},
   "source": [
    "---"
   ]
  },
  {
   "cell_type": "markdown",
   "id": "06dc9ba1",
   "metadata": {},
   "source": [
    "## Decoder Module"
   ]
  },
  {
   "cell_type": "markdown",
   "id": "f1dafc75",
   "metadata": {},
   "source": [
    "### Variables"
   ]
  },
  {
   "cell_type": "code",
   "execution_count": 204,
   "id": "439ba85b",
   "metadata": {},
   "outputs": [],
   "source": [
    "input_size = config_bert.hidden_size\n",
    "hidden_size = 100\n",
    "num_layers = 2\n",
    "dropout_ratio = 0.3\n",
    "max_where_conds = 4\n",
    "n_agg_ops = len(dbengine.agg_ops)\n",
    "n_cond_ops = len(dbengine.cond_ops)\n",
    "start_tkn_id = tokenizer_bert.additional_special_tokens_ids[0]\n",
    "end_tkn_id = tokenizer_bert.additional_special_tokens_ids[1]\n",
    "embedding_layer = model_bert.embeddings.word_embeddings\n",
    "train = True\n",
    "if train:\n",
    "    value_tkn_max_len = None\n",
    "else:\n",
    "    value_tkn_max_len = 20"
   ]
  },
  {
   "cell_type": "code",
   "execution_count": 205,
   "id": "2b26b9ea",
   "metadata": {},
   "outputs": [],
   "source": [
    "class Decoder(nn.Module):\n",
    "    def __init__(self, input_size, hidden_size, num_layers, dropout_ratio, max_where_conds, n_agg_ops, n_cond_ops, start_tkn_id, end_tkn_id, embedding_layer):\n",
    "        super().__init__()\n",
    "        self.max_where_conds = max_where_conds\n",
    "        \n",
    "        self.select_decoder = SelectDecoder(\n",
    "            input_size, hidden_size, output_size=1, num_layers=num_layers, dropout_ratio=dropout_ratio\n",
    "        )\n",
    "        self.agg_decoder = AggDecoder(\n",
    "            input_size, hidden_size, output_size=n_agg_ops, num_layers=num_layers, dropout_ratio=dropout_ratio\n",
    "        )\n",
    "        self.where_num_decoder = WhereNumDecoder(\n",
    "            input_size, hidden_size, output_size=(max_where_conds+1), num_layers=num_layers, dropout_ratio=dropout_ratio\n",
    "        )\n",
    "        self.where_col_decoder = WhereColumnDecoder(\n",
    "            input_size, hidden_size, output_size=1, num_layers=num_layers, dropout_ratio=dropout_ratio, max_where_conds=max_where_conds\n",
    "        )\n",
    "        self.where_op_decoder = WhereOpDecoder(\n",
    "            input_size, hidden_size, output_size=n_cond_ops, num_layers=num_layers, dropout_ratio=dropout_ratio, max_where_conds=max_where_conds\n",
    "        )\n",
    "        self.where_value_decoder = WhereValueDecoder(\n",
    "            input_size, hidden_size, output_size=n_cond_ops, num_layers=num_layers, dropout_ratio=dropout_ratio, max_where_conds=max_where_conds, \n",
    "            n_cond_ops=n_cond_ops, start_tkn_id=start_tkn_id, end_tkn_id=end_tkn_id, embedding_layer=embedding_layer\n",
    "        )\n",
    "    \n",
    "    \n",
    "    def forward(self, question_padded, db_padded, col_padded, question_lengths, col_lengths, value_tkn_max_len=None, gold=None):\n",
    "        \"\"\"\n",
    "        # Outputs Size\n",
    "        # sc = (B, T_c)\n",
    "        # sa = (B, n_agg_ops)\n",
    "        # wn = (B, max_where_conds+1)\n",
    "        # wc = (B, T_c): binary\n",
    "        # wo = (B, max_where_col_nums, n_cond_ops)\n",
    "        # wv = [(B, T_d_i, vocab_size)] x max_where_col_nums / T_d_i = may have different length for answer\n",
    "        \"\"\"\n",
    "        if gold is None:\n",
    "            g_sc, g_sa, g_wn, g_wc, g_wo, g_wv_tkns = [None] * 6\n",
    "        else:\n",
    "            g_sc, g_sa, g_wn, g_wc, g_wo, g_wv_tkns = gold\n",
    "        decoder_outputs = {}\n",
    "\n",
    "        select_outputs, _ = self.select_decoder(question_padded, db_padded, col_padded, question_lengths, col_lengths)\n",
    "        select_idxes = g_sc if g_sc else self.predict_decoder(\"sc\", select_outputs=select_outputs)\n",
    "\n",
    "        agg_outputs, _ = self.agg_decoder(question_padded, db_padded, col_padded, question_lengths, col_lengths, select_idxes)\n",
    "\n",
    "        where_num_outputs, _  = self.where_num_decoder(question_padded, db_padded, col_padded, question_lengths, col_lengths)\n",
    "        where_nums = g_wn if g_wn else self.predict_decoder(\"wn\", where_num_outputs=where_num_outputs)\n",
    "\n",
    "        where_col_outputs, _ = self.where_col_decoder(question_padded, db_padded, col_padded, question_lengths, col_lengths)\n",
    "        where_col_idxes = g_wc if g_wc else self.predict_decoder(\"wc\", where_col_outputs=where_col_outputs, where_nums=where_nums)\n",
    "\n",
    "        where_op_outputs, _ = self.where_op_decoder(question_padded, db_padded, col_padded, question_lengths, where_nums, where_col_idxes)\n",
    "        where_op_idxes = g_wo if g_wo else self.predict_decoder(\"wo\", where_op_outputs=where_op_outputs, where_nums=where_nums)\n",
    "\n",
    "        where_value_outputs, _ = self.where_value_decoder(question_padded, db_padded, col_padded, question_lengths, where_nums, where_col_idxes, where_op_idxes, value_tkn_max_len, g_wv_tkns)\n",
    "        \n",
    "        decoder_outputs = {\n",
    "            \"sc\": select_outputs,  # cross entropy\n",
    "            \"sa\": agg_outputs,  # cross entropy\n",
    "            \"wn\": where_num_outputs,  # cross entropy\n",
    "            \"wc\": where_col_outputs,  # binary cross entropy\n",
    "            \"wo\": where_op_outputs,  # cross entropy\n",
    "            \"wv\": where_value_outputs  # cross entropy\n",
    "        }\n",
    "        \n",
    "        return decoder_outputs\n",
    "        \n",
    "    def predict_decoder(self, typ, **kwargs):\n",
    "        r\"\"\"\n",
    "        if not using teacher force model will use this function to predict answer\n",
    "        # Outputs Size\n",
    "        # sc = (B, T_c)\n",
    "        # sa = (B, n_agg_ops)\n",
    "        # wn = (B, max_where_conds+1)\n",
    "        # wc = (B, T_c): binary\n",
    "        # wo = (B, max_where_col_nums, n_cond_ops)\n",
    "        # wv = [(B, T_d_i, vocab_size)] x max_where_col_nums / T_d_i = may have different length for answer\n",
    "        \"\"\"\n",
    "        if typ == \"sc\":  # SELECT column\n",
    "            select_outputs = kwargs[\"select_outputs\"]\n",
    "            return select_outputs.argmax(1).tolist()\n",
    "        elif typ == \"sa\":  # SELECT aggregation operator\n",
    "            agg_outputs = kwargs[\"agg_outputs\"]\n",
    "            return agg_outputs.argmax(1).tolist()\n",
    "        elif typ == \"wn\":  # WHERE number\n",
    "            where_num_outputs = kwargs[\"where_num_outputs\"]\n",
    "            return where_num_outputs.argmax(1).tolist()\n",
    "        elif typ == \"wc\":  # WHERE clause column\n",
    "            where_col_outputs = kwargs[\"where_col_outputs\"]\n",
    "            where_col_argsort = torch.sigmoid(where_col_outputs).argsort(1)\n",
    "            where_nums = kwargs[\"where_nums\"]\n",
    "            where_col_idxes = [where_col_argsort[b_idx, :w_num].tolist() for b_idx, w_num in enumerate(where_nums)]\n",
    "            return where_col_idxes\n",
    "        elif typ == \"wo\":  # WHERE clause operator\n",
    "            where_op_outputs = kwargs[\"where_op_outputs\"]\n",
    "            where_nums = kwargs[\"where_nums\"]\n",
    "            where_op_idxes = []\n",
    "            for b_idx, w_num in enumerate(where_nums):\n",
    "                if w_num == 0:  # means no where number\n",
    "                    where_op_idxes.append([])\n",
    "                else:\n",
    "                    where_op_idxes.append(where_op_outputs.argmax(2)[b_idx, :w_num].tolist())\n",
    "            return where_op_idxes\n",
    "        elif typ == \"wv\":  # WHERE clause value\n",
    "            where_value_outputs = kwargs[\"where_value_outputs\"]\n",
    "            return [o.argmax(2).tolist() for o in where_value_outputs]  # iter with each where clause\n",
    "        else:\n",
    "            raise KeyError(\"`typ` must be in ['sc', 'sa', 'wn', 'wc', 'wo', 'wv']\")"
   ]
  },
  {
   "cell_type": "code",
   "execution_count": 206,
   "id": "bbf82326",
   "metadata": {},
   "outputs": [],
   "source": [
    "# predicts = {}\n",
    "# predicts[\"sc\"] = model_decoder.predict_decoder(\"sc\", select_outputs=outputs[\"sc\"])\n",
    "# predicts[\"sa\"] = model_decoder.predict_decoder(\"sa\", agg_outputs=outputs[\"sa\"])\n",
    "# predicts[\"wn\"] = model_decoder.predict_decoder(\"wn\", where_num_outputs=outputs[\"wn\"])\n",
    "# predicts[\"wc\"] = model_decoder.predict_decoder(\"wc\", where_col_outputs=outputs[\"wc\"], where_nums=predicts[\"wn\"])\n",
    "# predicts[\"wo\"] = model_decoder.predict_decoder(\"wo\", where_op_outputs=outputs[\"wo\"], where_nums=predicts[\"wn\"])\n",
    "# predicts[\"wv\"] = model_decoder.predict_decoder(\"wv\", where_value_outputs=outputs[\"wv\"])"
   ]
  },
  {
   "cell_type": "code",
   "execution_count": 207,
   "id": "95405fd5",
   "metadata": {},
   "outputs": [],
   "source": [
    "model_decoder = Decoder(input_size, hidden_size, num_layers, dropout_ratio, max_where_conds, n_agg_ops, n_cond_ops, start_tkn_id, end_tkn_id, embedding_layer)"
   ]
  },
  {
   "cell_type": "markdown",
   "id": "167b5c65",
   "metadata": {},
   "source": [
    "TRAIN"
   ]
  },
  {
   "cell_type": "code",
   "execution_count": 208,
   "id": "825b8ebd",
   "metadata": {
    "tags": []
   },
   "outputs": [
    {
     "name": "stdout",
     "output_type": "stream",
     "text": [
      "[[[4128, 517, 186, 1258, 8003], [3902, 5550, 8003]], [[3574, 5872, 6398, 7405, 8003], [554, 127, 8003]]]\n"
     ]
    },
    {
     "data": {
      "text/plain": [
       "{'sc': tensor([[0.0394, 0.0380, 0.0330, 0.0351, 0.0335, 0.0285, 0.0312, 0.0279, 0.0264,\n",
       "          0.0290, 0.0320, 0.0319, 0.0297, 0.0316],\n",
       "         [0.0381, 0.0368, 0.0369, 0.0359, 0.0367, 0.0411, 0.0406, 0.0389, 0.0375,\n",
       "          0.0341, 0.0370, 0.0305, 0.0347, 0.0382]], grad_fn=<SqueezeBackward1>),\n",
       " 'sa': tensor([[0.0180, 0.0805, 0.0246, 0.0177, 0.0424, 0.0117],\n",
       "         [0.0096, 0.0930, 0.0359, 0.0037, 0.0368, 0.0248]],\n",
       "        grad_fn=<AddmmBackward>),\n",
       " 'wn': tensor([[ 0.0554, -0.0047, -0.0129, -0.0310,  0.0719],\n",
       "         [ 0.0437, -0.0001, -0.0135, -0.0339,  0.0903]],\n",
       "        grad_fn=<AddmmBackward>),\n",
       " 'wc': tensor([[0.0552, 0.0513, 0.0519, 0.0610, 0.0561, 0.0624, 0.0617, 0.0526, 0.0534,\n",
       "          0.0556, 0.0497, 0.0510, 0.0415, 0.0488],\n",
       "         [0.0588, 0.0567, 0.0571, 0.0592, 0.0601, 0.0520, 0.0597, 0.0620, 0.0623,\n",
       "          0.0665, 0.0561, 0.0506, 0.0481, 0.0495]], grad_fn=<SqueezeBackward1>),\n",
       " 'wo': tensor([[[-0.0444,  0.0352, -0.0596, -0.0496],\n",
       "          [-0.0498,  0.0331, -0.0588, -0.0472],\n",
       "          [-0.0378,  0.0412, -0.0434, -0.0079],\n",
       "          [-0.0378,  0.0412, -0.0434, -0.0079]],\n",
       " \n",
       "         [[-0.0490,  0.0341, -0.0623, -0.0420],\n",
       "          [-0.0444,  0.0415, -0.0603, -0.0455],\n",
       "          [-0.0494,  0.0487, -0.0411, -0.0058],\n",
       "          [-0.0494,  0.0487, -0.0411, -0.0058]]], grad_fn=<AddBackward0>),\n",
       " 'wv': [tensor([[[ 0.0094, -0.0547, -0.0287,  ..., -0.0327, -0.0138,  0.0363],\n",
       "           [ 0.0155, -0.0731, -0.0226,  ..., -0.0311, -0.0243,  0.0401],\n",
       "           [ 0.0140, -0.0519, -0.0200,  ..., -0.0217, -0.0205,  0.0403],\n",
       "           [ 0.0180, -0.0594, -0.0322,  ..., -0.0281, -0.0220,  0.0339],\n",
       "           [ 0.0310, -0.0643, -0.0222,  ..., -0.0296, -0.0188,  0.0372]],\n",
       "  \n",
       "          [[ 0.0149, -0.0617, -0.0294,  ..., -0.0331, -0.0128,  0.0413],\n",
       "           [ 0.0055, -0.0800, -0.0316,  ..., -0.0265, -0.0086,  0.0445],\n",
       "           [ 0.0258, -0.0458, -0.0201,  ..., -0.0256, -0.0226,  0.0506],\n",
       "           [ 0.0061, -0.0807, -0.0330,  ..., -0.0395, -0.0152,  0.0390],\n",
       "           [ 0.0142, -0.0672, -0.0225,  ..., -0.0340, -0.0146,  0.0452]]],\n",
       "         grad_fn=<CopyBackwards>),\n",
       "  tensor([[[ 0.0136, -0.0581, -0.0282,  ..., -0.0326, -0.0137,  0.0362],\n",
       "           [ 0.0075, -0.0637, -0.0252,  ..., -0.0436, -0.0062,  0.0345],\n",
       "           [ 0.0091, -0.0636, -0.0266,  ..., -0.0340, -0.0127,  0.0464]],\n",
       "  \n",
       "          [[ 0.0106, -0.0560, -0.0280,  ..., -0.0323, -0.0141,  0.0424],\n",
       "           [-0.0028, -0.0535, -0.0249,  ..., -0.0265, -0.0180,  0.0412],\n",
       "           [-0.0016, -0.0581, -0.0307,  ..., -0.0284, -0.0176,  0.0426]]],\n",
       "         grad_fn=<CopyBackwards>),\n",
       "  tensor([[[-0.0295,  0.0663, -0.0272,  ..., -0.0342, -0.0267,  0.0424]],\n",
       "  \n",
       "          [[-0.0302,  0.0654, -0.0265,  ..., -0.0347, -0.0249,  0.0462]]],\n",
       "         grad_fn=<TransposeBackward0>),\n",
       "  tensor([[[-0.0295,  0.0663, -0.0272,  ..., -0.0342, -0.0267,  0.0424]],\n",
       "  \n",
       "          [[-0.0302,  0.0654, -0.0265,  ..., -0.0347, -0.0249,  0.0462]]],\n",
       "         grad_fn=<TransposeBackward0>)]}"
      ]
     },
     "execution_count": 208,
     "metadata": {},
     "output_type": "execute_result"
    }
   ],
   "source": [
    "g_sc, g_sa, g_wn, g_wc, g_wo, g_wv, g_wv_tkns = get_sql_answers(batch_sqls, tokenizer_bert)\n",
    "gold = g_sc, g_sa, g_wn, g_wc, g_wo, g_wv_tkns\n",
    "print(g_wv_tkns)\n",
    "decoder_outputs = model_decoder(question_padded, db_padded, col_padded, question_lengths, col_lengths, value_tkn_max_len=None, gold=gold)\n",
    "decoder_outputs"
   ]
  },
  {
   "cell_type": "code",
   "execution_count": 212,
   "id": "25e64e1f",
   "metadata": {},
   "outputs": [
    {
     "name": "stdout",
     "output_type": "stream",
     "text": [
      "sc torch.Size([2, 14])\n",
      "sa torch.Size([2, 6])\n",
      "wn torch.Size([2, 5])\n",
      "wc torch.Size([2, 14])\n",
      "wo torch.Size([2, 4, 4])\n",
      "wv\n",
      "torch.Size([2, 20, 8005])\n",
      "torch.Size([2, 20, 8005])\n",
      "torch.Size([2, 20, 8005])\n",
      "torch.Size([2, 20, 8005])\n"
     ]
    }
   ],
   "source": [
    "for k, v in decoder_outputs.items():\n",
    "    if k != \"wv\":\n",
    "        print(k, v.size())\n",
    "    else:\n",
    "        print(k)\n",
    "        for x in v:\n",
    "            print(x.size())"
   ]
  },
  {
   "cell_type": "markdown",
   "id": "4d0cf208",
   "metadata": {},
   "source": [
    "TEST"
   ]
  },
  {
   "cell_type": "code",
   "execution_count": 213,
   "id": "6aaea99a",
   "metadata": {
    "tags": []
   },
   "outputs": [
    {
     "data": {
      "text/plain": [
       "{'sc': tensor([[0.0444, 0.0442, 0.0399, 0.0348, 0.0345, 0.0305, 0.0369, 0.0375, 0.0369,\n",
       "          0.0338, 0.0334, 0.0348, 0.0314, 0.0377],\n",
       "         [0.0449, 0.0438, 0.0423, 0.0370, 0.0410, 0.0384, 0.0398, 0.0441, 0.0373,\n",
       "          0.0398, 0.0370, 0.0381, 0.0419, 0.0451]], grad_fn=<SqueezeBackward1>),\n",
       " 'sa': tensor([[ 0.0160,  0.0801,  0.0382,  0.0270,  0.0417,  0.0002],\n",
       "         [ 0.0274,  0.0877,  0.0318, -0.0024,  0.0381,  0.0256]],\n",
       "        grad_fn=<AddmmBackward>),\n",
       " 'wn': tensor([[ 0.0551, -0.0109, -0.0143, -0.0350,  0.0764],\n",
       "         [ 0.0487, -0.0026, -0.0131, -0.0447,  0.0978]],\n",
       "        grad_fn=<AddmmBackward>),\n",
       " 'wc': tensor([[0.0482, 0.0490, 0.0532, 0.0494, 0.0581, 0.0603, 0.0551, 0.0578, 0.0589,\n",
       "          0.0587, 0.0534, 0.0540, 0.0530, 0.0476],\n",
       "         [0.0418, 0.0347, 0.0400, 0.0388, 0.0417, 0.0424, 0.0420, 0.0436, 0.0433,\n",
       "          0.0490, 0.0468, 0.0344, 0.0294, 0.0249]], grad_fn=<SqueezeBackward1>),\n",
       " 'wo': tensor([[[-0.0656,  0.0525, -0.0559, -0.0537],\n",
       "          [-0.0458,  0.0359, -0.0559, -0.0612],\n",
       "          [-0.0427,  0.0358, -0.0577, -0.0581],\n",
       "          [-0.0510,  0.0404, -0.0608, -0.0529]],\n",
       " \n",
       "         [[-0.0537,  0.0444, -0.0552, -0.0337],\n",
       "          [-0.0519,  0.0353, -0.0602, -0.0354],\n",
       "          [-0.0539,  0.0394, -0.0627, -0.0366],\n",
       "          [-0.0485,  0.0262, -0.0565, -0.0399]]], grad_fn=<AddBackward0>),\n",
       " 'wv': [tensor([[[-0.0420,  0.0738, -0.0278,  ..., -0.0520, -0.0104,  0.0282],\n",
       "           [-0.0407,  0.0460, -0.0357,  ..., -0.0608, -0.0112,  0.0346],\n",
       "           [-0.0506,  0.0760, -0.0317,  ..., -0.0555, -0.0055,  0.0331],\n",
       "           ...,\n",
       "           [-0.0263,  0.0839, -0.0320,  ..., -0.0522,  0.0039,  0.0323],\n",
       "           [-0.0506,  0.0760, -0.0317,  ..., -0.0555, -0.0055,  0.0331],\n",
       "           [-0.0263,  0.0839, -0.0320,  ..., -0.0522,  0.0039,  0.0323]],\n",
       "  \n",
       "          [[-0.0426,  0.0816, -0.0275,  ..., -0.0539, -0.0089,  0.0319],\n",
       "           [-0.0411,  0.0541, -0.0354,  ..., -0.0627, -0.0094,  0.0385],\n",
       "           [-0.0411,  0.0541, -0.0354,  ..., -0.0627, -0.0094,  0.0385],\n",
       "           ...,\n",
       "           [-0.0411,  0.0541, -0.0354,  ..., -0.0627, -0.0094,  0.0385],\n",
       "           [-0.0411,  0.0541, -0.0354,  ..., -0.0627, -0.0094,  0.0385],\n",
       "           [-0.0411,  0.0541, -0.0354,  ..., -0.0627, -0.0094,  0.0385]]],\n",
       "         grad_fn=<CopyBackwards>),\n",
       "  tensor([[[-0.0392,  0.0795, -0.0282,  ..., -0.0527, -0.0095,  0.0292],\n",
       "           [-0.0474,  0.0817, -0.0322,  ..., -0.0561, -0.0045,  0.0342],\n",
       "           [-0.0474,  0.0817, -0.0322,  ..., -0.0561, -0.0045,  0.0342],\n",
       "           ...,\n",
       "           [-0.0474,  0.0817, -0.0322,  ..., -0.0561, -0.0045,  0.0342],\n",
       "           [-0.0474,  0.0817, -0.0322,  ..., -0.0561, -0.0045,  0.0342],\n",
       "           [-0.0474,  0.0817, -0.0322,  ..., -0.0561, -0.0045,  0.0342]],\n",
       "  \n",
       "          [[-0.0399,  0.0830, -0.0286,  ..., -0.0541, -0.0078,  0.0315],\n",
       "           [-0.0384,  0.0555, -0.0365,  ..., -0.0630, -0.0084,  0.0379],\n",
       "           [-0.0384,  0.0555, -0.0365,  ..., -0.0630, -0.0084,  0.0379],\n",
       "           ...,\n",
       "           [-0.0384,  0.0555, -0.0365,  ..., -0.0630, -0.0084,  0.0379],\n",
       "           [-0.0384,  0.0555, -0.0365,  ..., -0.0630, -0.0084,  0.0379],\n",
       "           [-0.0384,  0.0555, -0.0365,  ..., -0.0630, -0.0084,  0.0379]]],\n",
       "         grad_fn=<CopyBackwards>),\n",
       "  tensor([[[-0.0420,  0.0798, -0.0282,  ..., -0.0522, -0.0093,  0.0286],\n",
       "           [-0.0503,  0.0819, -0.0321,  ..., -0.0556, -0.0043,  0.0336],\n",
       "           [-0.0503,  0.0819, -0.0321,  ..., -0.0556, -0.0043,  0.0336],\n",
       "           ...,\n",
       "           [-0.0503,  0.0819, -0.0321,  ..., -0.0556, -0.0043,  0.0336],\n",
       "           [-0.0503,  0.0819, -0.0321,  ..., -0.0556, -0.0043,  0.0336],\n",
       "           [-0.0503,  0.0819, -0.0321,  ..., -0.0556, -0.0043,  0.0336]],\n",
       "  \n",
       "          [[-0.0401,  0.0842, -0.0288,  ..., -0.0550, -0.0077,  0.0321],\n",
       "           [-0.0385,  0.0568, -0.0368,  ..., -0.0639, -0.0082,  0.0386],\n",
       "           [-0.0385,  0.0568, -0.0368,  ..., -0.0639, -0.0082,  0.0386],\n",
       "           ...,\n",
       "           [-0.0385,  0.0568, -0.0368,  ..., -0.0639, -0.0082,  0.0386],\n",
       "           [-0.0385,  0.0568, -0.0368,  ..., -0.0639, -0.0082,  0.0386],\n",
       "           [-0.0385,  0.0568, -0.0368,  ..., -0.0639, -0.0082,  0.0386]]],\n",
       "         grad_fn=<CopyBackwards>),\n",
       "  tensor([[[-0.0396,  0.0780, -0.0268,  ..., -0.0514, -0.0106,  0.0298],\n",
       "           [-0.0479,  0.0803, -0.0306,  ..., -0.0548, -0.0056,  0.0348],\n",
       "           [-0.0479,  0.0803, -0.0306,  ..., -0.0548, -0.0056,  0.0348],\n",
       "           ...,\n",
       "           [-0.0479,  0.0803, -0.0306,  ..., -0.0548, -0.0056,  0.0348],\n",
       "           [-0.0479,  0.0803, -0.0306,  ..., -0.0548, -0.0056,  0.0348],\n",
       "           [-0.0479,  0.0803, -0.0306,  ..., -0.0548, -0.0056,  0.0348]],\n",
       "  \n",
       "          [[-0.0460,  0.0874, -0.0268,  ..., -0.0529, -0.0104,  0.0329],\n",
       "           [-0.0441,  0.0596, -0.0348,  ..., -0.0619, -0.0109,  0.0394],\n",
       "           [-0.0441,  0.0596, -0.0348,  ..., -0.0619, -0.0109,  0.0394],\n",
       "           ...,\n",
       "           [-0.0441,  0.0596, -0.0348,  ..., -0.0619, -0.0109,  0.0394],\n",
       "           [-0.0441,  0.0596, -0.0348,  ..., -0.0619, -0.0109,  0.0394],\n",
       "           [-0.0441,  0.0596, -0.0348,  ..., -0.0619, -0.0109,  0.0394]]],\n",
       "         grad_fn=<CopyBackwards>)]}"
      ]
     },
     "execution_count": 213,
     "metadata": {},
     "output_type": "execute_result"
    }
   ],
   "source": [
    "decoder_outputs = model_decoder(question_padded, db_padded, col_padded, question_lengths, col_lengths, value_tkn_max_len=20, gold=None)\n",
    "decoder_outputs"
   ]
  },
  {
   "cell_type": "code",
   "execution_count": 214,
   "id": "ca28e173",
   "metadata": {},
   "outputs": [
    {
     "name": "stdout",
     "output_type": "stream",
     "text": [
      "sc torch.Size([2, 14])\n",
      "sa torch.Size([2, 6])\n",
      "wn torch.Size([2, 5])\n",
      "wc torch.Size([2, 14])\n",
      "wo torch.Size([2, 4, 4])\n",
      "wv\n",
      "torch.Size([2, 20, 8005])\n",
      "torch.Size([2, 20, 8005])\n",
      "torch.Size([2, 20, 8005])\n",
      "torch.Size([2, 20, 8005])\n"
     ]
    }
   ],
   "source": [
    "for k, v in decoder_outputs.items():\n",
    "    if k != \"wv\":\n",
    "        print(k, v.size())\n",
    "    else:\n",
    "        print(k)\n",
    "        for x in v:\n",
    "            print(x.size())"
   ]
  },
  {
   "cell_type": "markdown",
   "id": "fbbbfc38",
   "metadata": {},
   "source": [
    "---"
   ]
  },
  {
   "cell_type": "markdown",
   "id": "9936bc2b",
   "metadata": {},
   "source": [
    "# TODO : Loss add ignore index 1"
   ]
  },
  {
   "cell_type": "markdown",
   "id": "9586f79f",
   "metadata": {},
   "source": [
    "# Loss"
   ]
  },
  {
   "cell_type": "markdown",
   "id": "c3ed1e08",
   "metadata": {},
   "source": [
    "TRAIN for example"
   ]
  },
  {
   "cell_type": "code",
   "execution_count": 215,
   "id": "aab7564b",
   "metadata": {},
   "outputs": [
    {
     "data": {
      "text/plain": [
       "([13, 16],\n",
       " [0, 0],\n",
       " [2, 0],\n",
       " [[10, 3], []],\n",
       " [[0, 0], []],\n",
       " [['이익잉여금', 2015], []],\n",
       " [[[3736, 7144, 6916, 5550, 8003], [576, 8003]], [[1, 1, 1, 1, 1], [1, 1]]])"
      ]
     },
     "execution_count": 215,
     "metadata": {},
     "output_type": "execute_result"
    }
   ],
   "source": [
    "t = [{'sel': 13, 'agg': 0, 'conds': [[10, 0, '이익잉여금'], [3, 0, 2015]]},\n",
    " {'sel': 16, 'agg': 0, 'conds': []}]\n",
    "g_sc, g_sa, g_wn, g_wc, g_wo, g_wv, g_wv_tkns = get_sql_answers(t, tokenizer_bert, 1)\n",
    "g_sc, g_sa, g_wn, g_wc, g_wo, g_wv, g_wv_tkns"
   ]
  },
  {
   "cell_type": "code",
   "execution_count": 219,
   "id": "d2b862b5",
   "metadata": {},
   "outputs": [],
   "source": [
    "g_sc, g_sa, g_wn, g_wc, g_wo, g_wv, g_wv_tkns = \\\n",
    "    ([13, 16],\n",
    "     [0, 0],\n",
    "     [3, 1],\n",
    "     [[10, 3, 3], [10]],\n",
    "     [[0, 0, 0], [0]],\n",
    "     [['유동부채', 2018, 2018], ['유동자산']],\n",
    "     [([3574, 5872, 6398, 7405, 8003], [554, 115, 8003], [554, 115, 8003]),\n",
    "      ([3574, 5872, 7162, 8003, 1], [1, 1, 1], [1, 1, 1])])"
   ]
  },
  {
   "cell_type": "code",
   "execution_count": 146,
   "id": "1049b4e9",
   "metadata": {},
   "outputs": [
    {
     "data": {
      "text/plain": [
       "([13, 13],\n",
       " [0, 0],\n",
       " [2, 2],\n",
       " [[10, 11], [10, 11]],\n",
       " [[0, 0], [0, 0]],\n",
       " [['비유동부채', '제 62 기'], ['부채총계', '제 4 기']],\n",
       " [[[2514, 7063, 5872, 6398, 7405, 8003], [4128, 517, 194, 1258, 8003]],\n",
       "  [[2455, 7452, 5436, 8003, 1, 1], [4128, 605, 1258, 8003, 1]]])"
      ]
     },
     "execution_count": 146,
     "metadata": {},
     "output_type": "execute_result"
    }
   ],
   "source": [
    "g_sc, g_sa, g_wn, g_wc, g_wo, g_wv, g_wv_tkns"
   ]
  },
  {
   "cell_type": "code",
   "execution_count": 217,
   "id": "29080862",
   "metadata": {},
   "outputs": [],
   "source": [
    "device = \"cpu\"\n",
    "totensor = lambda x: torch.LongTensor(x).to(device)\n",
    "batch_size = 2"
   ]
  },
  {
   "cell_type": "code",
   "execution_count": null,
   "id": "bc0938ab-91b3-4621-9912-db70b05805f8",
   "metadata": {},
   "outputs": [],
   "source": []
  },
  {
   "cell_type": "code",
   "execution_count": 168,
   "id": "cccf2c1c",
   "metadata": {},
   "outputs": [
    {
     "data": {
      "text/plain": [
       "tensor(105.6646, grad_fn=<DivBackward0>)"
      ]
     },
     "execution_count": 168,
     "metadata": {},
     "output_type": "execute_result"
    }
   ],
   "source": [
    "pp_wv = Perplexity()\n",
    "cross_entropy = nn.CrossEntropyLoss(reduction=\"sum\")\n",
    "cross_entropy_wv = nn.CrossEntropyLoss(reduction=\"sum\", ignore_index=1)\n",
    "\n",
    "binary_cross_entropy = nn.BCEWithLogitsLoss(reduction=\"sum\")\n",
    "vocab_size = len(tokenizer_bert)\n",
    "hparam_wn_penalty = 2.0  # scale up for guessing where number\n",
    "hparam_wo_penalty = 4.0\n",
    "hparam_wv_penalty = 5.0\n",
    "# Outputs Size\n",
    "# sc = (B, T_c)\n",
    "# sa = (B, n_agg_ops)\n",
    "# wn = (B, 5)\n",
    "# wc = (B, T_c): binary\n",
    "# wo = (B, max_where_col_nums, n_cond_ops)\n",
    "# wv = [(B, T_d_i, vocab_size)] x max_where_col_nums / T_d_i = may have different length for answer\n",
    "loss_sc = cross_entropy(decoder_outputs[\"sc\"], totensor(g_sc))\n",
    "loss_sa = cross_entropy(decoder_outputs[\"sa\"], totensor(g_sa))\n",
    "loss_wn = cross_entropy(decoder_outputs[\"wn\"], totensor(g_wn)) * hparam_wn_penalty\n",
    "loss_wc = 0\n",
    "loss_wo = 0\n",
    "loss_wv = 0\n",
    "for batch_idx, where_num in enumerate(g_wn):  # iter by batch_size: B\n",
    "\n",
    "    one_hot_dist = torch.zeros_like(decoder_outputs[\"wc\"][batch_idx], device=device).scatter(0, totensor(g_wc[batch_idx]), 1.0)\n",
    "    loss_wc += binary_cross_entropy(decoder_outputs[\"wc\"][batch_idx], one_hot_dist)\n",
    "\n",
    "    batch_g_wo = g_wo[batch_idx]  # (where_num,)\n",
    "    batch_wo = decoder_outputs[\"wo\"][batch_idx, :where_num, :]  # (where_num, n_cond_ops)\n",
    "    loss_wo += cross_entropy(batch_wo, totensor(batch_g_wo))\n",
    "    \n",
    "#     if (len(batch_wo) == 0 and where_num != 0):\n",
    "#         # if predict nothing where clause and answer is not, what loss should be added?\n",
    "#         # simply giving big loss will be enough?\n",
    "#         loss_wo += loss_wn * 100\n",
    "#     else:\n",
    "#         give_wo_penalty = False\n",
    "#         if len(batch_wo) > len(batch_g_wo): \n",
    "#             wo_penalty = hparam_wo_penalty / 2\n",
    "#             give_wo_penalty = True\n",
    "#             batch_wo = batch_wo[:len(batch_g_wo), :]  # (where_num_predict, n_cond_ops)\n",
    "#         elif len(batch_wo) < len(batch_g_wo):\n",
    "#             # giving penalty if not guessed right where numbers\n",
    "#             # It becomes problem when reduce the gold tokens but predicted corrected \n",
    "#             # Then `loss_wo_base` will be 0, if simply multiply by `loss_wv_base` to loss_base will be zero\n",
    "#             wo_penalty = hparam_wo_penalty\n",
    "#             give_wo_penalty = True\n",
    "#             batch_g_wo = batch_g_wo[:len(batch_wo)]  # (where_num_gold,)\n",
    "#         else:\n",
    "#             wo_penalty = 1.0\n",
    "#             give_wo_penalty = False\n",
    "#         loss_wo_base = cross_entropy(batch_wo, totensor(batch_g_wo))\n",
    "#         if give_wo_penalty:\n",
    "#             loss_wo += loss_wo_base + loss_wn * wo_penalty\n",
    "#         else:\n",
    "#             loss_wo += loss_wo_base\n",
    "\n",
    "    batch_g_wv = g_wv_tkns[batch_idx][:where_num]  # (where_num, T_d_i)\n",
    "    batch_wv = [wv[batch_idx] for wv in decoder_outputs[\"wv\"]][:where_num]  # (where_num, T_d_i, vocab_size)\n",
    "    for wv, g_wv_i in zip(batch_wv, batch_g_wv):\n",
    "        if len(wv) > len(g_wv_i):\n",
    "            g_wv_i = g_wv_i + [tokenizer_bert.pad_token_id]*(len(wv) - len(g_wv_i))\n",
    "#             give_wv_penalty = True\n",
    "        elif len(wv) < len(g_wv_i):\n",
    "            g_wv_i = g_wv_i[:len(wv)] \n",
    "#             give_wv_penalty = True\n",
    "        else:\n",
    "            wv_penalty = 1.0\n",
    "#             give_wv_penalty = False\n",
    "#         if give_wv_penalty:\n",
    "#             loss_wv += loss_wv_base + loss_wn * wv_penalty\n",
    "#         else:\n",
    "#             loss_wv += loss_wv_base\n",
    "            \n",
    "        loss_wv += cross_entropy_wv(wv, totensor(g_wv_i))\n",
    "#     if len(batch_wo) == 0 and where_num != 0:\n",
    "#         # if predict nothing where clause and answer is not, what loss should be added?\n",
    "#         loss_wv += loss_wn * 100\n",
    "#     else:\n",
    "#         for wv, g_wv_i in zip(batch_wv, batch_g_wv):  # will iter by where_num\n",
    "#             give_wv_penalty = False\n",
    "#             if len(wv) > len(g_wv_i):\n",
    "#                 wv_penalty = hparam_wo_penalty / 2\n",
    "#                 give_wv_penalty = True\n",
    "#                 wv = wv[:len(g_wv_i), :]  # (T_d_gold, vocab_size)\n",
    "#             elif len(wv) < len(g_wv_i):\n",
    "#                 # giving penalty if not generate enough tokens\n",
    "#                 # It becomes problem when reduce the gold tokens but predicted corrected \n",
    "#                 # Then `loss_wv_base` will be 0, if simply multiply by `loss_wv_base` to loss_base will be zero\n",
    "#                 wv_penalty = hparam_wo_penalty\n",
    "#                 give_wv_penalty = True\n",
    "#                 g_wv_i = g_wv_i[:len(wv)]  # (T_d_predict,)\n",
    "#             else:\n",
    "#                 wv_penalty = 1.0\n",
    "#                 give_wv_penalty = False\n",
    "#             # now have the same T_d size, ignore all over lengthed\n",
    "#             loss_wv_base = cross_entropy(wv, totensor(g_wv_i))\n",
    "#             pp_wv.update(torch.exp(loss_wv_base))\n",
    "#             if give_wv_penalty:\n",
    "#                 loss_wv += loss_wv_base + loss_wn * wv_penalty\n",
    "#             else:\n",
    "#                 loss_wv += loss_wv_base\n",
    "\n",
    "pp_wv.update(torch.exp(loss_wv) / batch_size) \n",
    "loss = (loss_sc + loss_sa + loss_wn + loss_wc + loss_wo + loss_wv) / batch_size\n",
    "loss"
   ]
  },
  {
   "cell_type": "code",
   "execution_count": 169,
   "id": "d2663e85-fd72-4b91-af6d-085b8d60a914",
   "metadata": {},
   "outputs": [],
   "source": [
    "g_sc, g_sa, g_wn, g_wc, g_wo, g_wv, g_wv_tkns = model.get_sql_answers(batch_sqls)\n",
    "predicts = model.predict_to_dict(decoder_outputs)"
   ]
  },
  {
   "cell_type": "markdown",
   "id": "93c1074d",
   "metadata": {},
   "source": [
    "# Whole Model"
   ]
  },
  {
   "cell_type": "code",
   "execution_count": 7,
   "id": "bde1b44c",
   "metadata": {},
   "outputs": [
    {
     "name": "stdout",
     "output_type": "stream",
     "text": [
      "PyTroch Version: 1.8.1\n",
      "Transfomers Version: 4.6.1\n"
     ]
    }
   ],
   "source": [
    "import json\n",
    "import torch\n",
    "from pathlib import Path\n",
    "from tqdm.notebook import tqdm\n",
    "\n",
    "import torch\n",
    "import torch.nn as nn\n",
    "import torch.optim as optim\n",
    "import transformers\n",
    "\n",
    "from typing import Tuple, Dict, List, Union, Any\n",
    "import os \n",
    "import pytorch_lightning as pl\n",
    "from copy import deepcopy\n",
    "from dbengine import DBEngine\n",
    "# multiprocessing lib doesn’t have it implemented on Windows\n",
    "# https://discuss.pytorch.org/t/cant-pickle-local-object-dataloader-init-locals-lambda/31857/14\n",
    "num_workers = 0 if os.name == \"nt\" else 4\n",
    "\n",
    "print(f\"PyTroch Version: {torch.__version__}\")\n",
    "print(f\"Transfomers Version: {transformers.__version__}\")\n",
    "\n",
    "from KoBertTokenizer import KoBertTokenizer\n",
    "from transformers import BertModel, BertConfig\n",
    "import torchmetrics\n",
    "\n",
    "class Perplexity(torchmetrics.Metric):\n",
    "    def __init__(self, dist_sync_on_step=False):\n",
    "        super().__init__(dist_sync_on_step=dist_sync_on_step)\n",
    "        \n",
    "        self.add_state(\"pp\", default=torch.FloatTensor([0]), dist_reduce_fx=\"sum\")\n",
    "\n",
    "    def update(self, pp: torch.Tensor):\n",
    "        self.pp += pp\n",
    "\n",
    "    def compute(self):\n",
    "        return self.pp"
   ]
  },
  {
   "cell_type": "code",
   "execution_count": 84,
   "id": "efdb54e3",
   "metadata": {},
   "outputs": [],
   "source": [
    "class Text2SQL(pl.LightningModule):\n",
    "    def __init__(self, **kwargs) -> None:\n",
    "        super().__init__()\n",
    "        self.save_hyperparameters()\n",
    "        self.dbengine = DBEngine(Path(self.hparams.db_path))\n",
    "        self.n_agg_ops = len(self.dbengine.agg_ops)\n",
    "        self.n_cond_ops = len(self.dbengine.cond_ops)\n",
    "        # Encoder\n",
    "        self.model_bert, self.tokenizer_bert, self.config_bert = self.get_bert(model_path=self.hparams.model_bert_path)\n",
    "        # Decoder\n",
    "        self.model_decoder = Decoder(\n",
    "            input_size=self.config_bert.hidden_size, \n",
    "            hidden_size=self.hparams.hidden_size,\n",
    "            num_layers=self.hparams.num_layers,\n",
    "            dropout_ratio=self.hparams.dropout_ratio,\n",
    "            max_where_conds=self.hparams.max_where_conds,\n",
    "            n_agg_ops=self.n_agg_ops,\n",
    "            n_cond_ops=self.n_cond_ops,\n",
    "            start_tkn_id = self.tokenizer_bert.additional_special_tokens_ids[0],\n",
    "            end_tkn_id = self.tokenizer_bert.additional_special_tokens_ids[1],\n",
    "            embedding_layer = self.model_bert.embeddings.word_embeddings\n",
    "        )\n",
    "        \n",
    "        # Loss function & Metrics\n",
    "        self.vocab_size = len(self.tokenizer_bert)\n",
    "        self.totensor = lambda x: torch.LongTensor(x).to(self.device)\n",
    "        self.totensor_cpu = lambda x: torch.LongTensor(x).to(\"cpu\")\n",
    "        self.table_dict = {\"train\": None, \"eval\": None}\n",
    "        self.create_metrics()\n",
    "\n",
    "    def get_bert(self, model_path: str, output_hidden_states: bool=False):\n",
    "        self.special_tokens = [self.hparams.special_start_tkn, self.hparams.special_end_tkn, self.hparams.special_col_tkn] # sequence start, sequence end, column tokens\n",
    "        tokenizer = KoBertTokenizer.from_pretrained(model_path, add_special_tokens=True, additional_special_tokens=self.special_tokens)\n",
    "        config = BertConfig.from_pretrained(model_path)\n",
    "        config.output_hidden_states = output_hidden_states\n",
    "\n",
    "        model = BertModel.from_pretrained(model_path)\n",
    "        model.resize_token_embeddings(len(tokenizer))\n",
    "        model.config.output_hidden_states = output_hidden_states\n",
    "\n",
    "        return model, tokenizer, config\n",
    "    \n",
    "    def create_metrics(self):\n",
    "        self.cross_entropy = nn.CrossEntropyLoss(reduction=\"sum\")\n",
    "        self.binary_cross_entropy = nn.BCEWithLogitsLoss(reduction=\"sum\")\n",
    "        self.cross_entropy_wv = nn.CrossEntropyLoss(reduction=\"sum\", ignore_index=1)\n",
    "\n",
    "        self.acc_sc = torchmetrics.Accuracy()\n",
    "        self.acc_sa = torchmetrics.Accuracy(num_classes=self.n_agg_ops)\n",
    "        self.acc_wn = torchmetrics.Accuracy(num_classes=self.hparams.max_where_conds+1)\n",
    "        self.acc_wo = torchmetrics.Accuracy(num_classes=self.n_cond_ops+1) # add one to calculate if where number is missing\n",
    "        self.pp_wv = Perplexity()\n",
    "\n",
    "    def reset_metrics_epoch_end(self):\n",
    "        self.acc_sc.reset()\n",
    "        self.acc_sa.reset()\n",
    "        self.acc_wn.reset()\n",
    "        self.acc_wo.reset()\n",
    "        self.pp_wv.reset()\n",
    "        \n",
    "    def forward(self, batch_qs, batch_ts, batch_sqls=None, value_tkn_max_len=None, train=True):\n",
    "        outputs = self.forward_outputs(batch_qs, batch_ts, batch_sqls, value_tkn_max_len, train)\n",
    "        g_sc, g_sa, g_wn, g_wc, g_wo, _, g_wv_tkns = self.get_sql_answers(batch_sqls)\n",
    "        gold = [g_sc, g_sa, g_wn, g_wc, g_wo, g_wv_tkns]\n",
    "        loss = self.calculate_loss(outputs, gold)  # when calculate loss must need gold answer\n",
    "        return loss, outputs\n",
    "            \n",
    "    def forward_outputs(self, batch_qs, batch_ts, batch_sqls=None, value_tkn_max_len=None, train=True):\n",
    "        # --- Get Answer & Variables ---\n",
    "        if train:\n",
    "            assert value_tkn_max_len is None, \"In train phase, `value_tkn_max_len` must be None\"\n",
    "            assert batch_sqls is not None, \"In train phase, `batch_sqls` must not be None\"\n",
    "            g_sc, g_sa, g_wn, g_wc, g_wo, _, g_wv_tkns = self.get_sql_answers(batch_sqls)\n",
    "            gold = [g_sc, g_sa, g_wn, g_wc, g_wo, g_wv_tkns]\n",
    "        else:\n",
    "            assert value_tkn_max_len is not None, \"In validation Phase, `value_tkn_max_len` must not be None\"\n",
    "            gold = None\n",
    "            value_tkn_max_len = value_tkn_max_len\n",
    "            \n",
    "        # --- Get Inputs for Encoder --- \n",
    "        encode_inputs = self.tokenizer_bert(\n",
    "            batch_qs, batch_ts, \n",
    "            max_length=self.hparams.max_length, padding=True, truncation=True, return_tensors=\"pt\", \n",
    "            return_attention_mask=True, \n",
    "            return_special_tokens_mask=False, \n",
    "        ).to(self.device)  # encode_input doesn't return the cuda device\n",
    "        \n",
    "        # --- Forward Encoder ---\n",
    "        encode_outputs = self.model_bert(**encode_inputs)\n",
    "        \n",
    "        # --- Get Inputs for Decoder ---\n",
    "        input_question_mask, input_db_mask, input_col_mask = self.get_input_mask(encode_inputs)\n",
    "        question_padded, question_lengths = self.get_decoder_batches(encode_outputs, input_question_mask, pad_idx=self.tokenizer_bert.pad_token_id)\n",
    "        db_padded, db_lengths = self.get_decoder_batches(encode_outputs, input_db_mask, pad_idx=self.tokenizer_bert.pad_token_id)\n",
    "        col_padded, col_lengths = self.get_decoder_batches(encode_outputs, input_col_mask, pad_idx=self.tokenizer_bert.pad_token_id)\n",
    "        \n",
    "        # --- Forward Decoder ---\n",
    "        decoder_outputs = self.model_decoder(\n",
    "            question_padded, \n",
    "            db_padded, \n",
    "            col_padded, \n",
    "            question_lengths, \n",
    "            col_lengths, \n",
    "            value_tkn_max_len, \n",
    "            gold\n",
    "        )\n",
    "        \n",
    "        return decoder_outputs\n",
    "\n",
    "    def get_input_mask(self, encode_inputs):\n",
    "        sep_tkn_mask = encode_inputs[\"input_ids\"] == self.tokenizer_bert.sep_token_id\n",
    "        col_tkn_id = self.tokenizer_bert.additional_special_tokens_ids[2]\n",
    "\n",
    "        input_question_mask = torch.bitwise_and(encode_inputs[\"token_type_ids\"] == 0, encode_inputs[\"attention_mask\"].bool())\n",
    "        input_question_mask = torch.bitwise_and(input_question_mask, ~sep_tkn_mask) # [SEP] mask out\n",
    "        input_question_mask[:, 0] = False  # [CLS] mask out\n",
    "\n",
    "        db_mask = torch.bitwise_and(encode_inputs[\"token_type_ids\"] == 1, encode_inputs[\"attention_mask\"].bool())\n",
    "        col_tkn_mask = encode_inputs[\"input_ids\"] == col_tkn_id\n",
    "        db_mask = torch.bitwise_and(db_mask, ~col_tkn_mask)\n",
    "        db_mask = torch.bitwise_xor(db_mask, torch.bitwise_and(sep_tkn_mask, encode_inputs[\"token_type_ids\"] == 1))\n",
    "        \n",
    "        return input_question_mask, db_mask, col_tkn_mask\n",
    "\n",
    "\n",
    "    # def get_input_mask_and_answer(self, encode_input: transformers.tokenization_utils_base.BatchEncoding, tokenizer: KoBertTokenizer) -> Tuple[torch.BoolTensor, torch.BoolTensor, torch.BoolTensor, torch.BoolTensor]:\n",
    "    #     \"\"\"[summary]\n",
    "\n",
    "    #     In this code 'table' means database table name(id), 'header' means database header, 'col' means index of header \n",
    "\n",
    "    #     Args:\n",
    "    #         encode_input (transformers.tokenization_utils_base.BatchEncoding): [description]\n",
    "    #         tokenizer (KoBertTokenizer): [description]\n",
    "\n",
    "    #     Returns:\n",
    "    #         Tuple[torch.BoolTensor, torch.BoolTensor, torch.BoolTensor, torch.BoolTensor]: [description]\n",
    "    #     \"\"\"\n",
    "\n",
    "    #     batch_size, max_length = encode_input[\"input_ids\"].size()\n",
    "    #     sep_tkn_mask = encode_input[\"input_ids\"] == tokenizer.sep_token_id\n",
    "    #     start_tkn_id, end_tkn_id, col_tkn_id = tokenizer.additional_special_tokens_ids\n",
    "\n",
    "    #     input_question_mask = torch.bitwise_and(encode_input[\"token_type_ids\"] == 0, encode_input[\"attention_mask\"].bool()).contiguous()\n",
    "    #     input_question_mask = torch.bitwise_and(input_question_mask, ~sep_tkn_mask).contiguous() # [SEP] mask out\n",
    "    #     input_question_mask[:, 0] = False  # [CLS] mask out\n",
    "\n",
    "    #     db_mask = torch.bitwise_and(encode_input[\"token_type_ids\"] == 1, encode_input[\"attention_mask\"].bool()).contiguous()\n",
    "    #     db_mask = torch.bitwise_xor(db_mask, sep_tkn_mask).contiguous()\n",
    "    #     col_tkn_mask = encode_input[\"input_ids\"] == col_tkn_id\n",
    "    #     db_mask = torch.bitwise_and(db_mask, ~col_tkn_mask).contiguous()\n",
    "    #     # split table_mask and header_mask\n",
    "    #     input_idx = torch.arange(max_length).repeat(batch_size, 1).to(self.device).contiguous()\n",
    "    #     db_idx = input_idx[db_mask]\n",
    "    #     table_header_tkn_idx = db_idx[db_idx > 0]\n",
    "    #     table_start_idx = table_header_tkn_idx.view(batch_size, -1)[:, 0] + 1\n",
    "    #     start_idx = table_header_tkn_idx[1:][table_header_tkn_idx.diff() == 2].view(batch_size, -1)\n",
    "    #     table_end_sep_idx = start_idx[:, 0] - 1\n",
    "    #     split_size = torch.stack([\n",
    "    #         table_end_sep_idx-table_start_idx+1, table_header_tkn_idx.view(batch_size, -1).size(1)-(table_end_sep_idx-table_start_idx+1)\n",
    "    #     ]).transpose(0, 1)\n",
    "\n",
    "    #     # Token idx\n",
    "    #     table_tkn_idx, header_tkn_idx = map(\n",
    "    #         lambda x: torch.stack(x).to(self.device), \n",
    "    #         zip(*[torch.split(x, size.tolist()) for x, size in zip(table_header_tkn_idx.view(batch_size, -1), split_size)])\n",
    "    #     )\n",
    "\n",
    "    #     table_tkn_idx = table_tkn_idx[:, 1:]\n",
    "\n",
    "    #     # TODO: [EXP] Experiment for generate column directly\n",
    "    #     # If [EXP], `table_tkn_mask` and `header_tkn_mask` should include [S] & [E] tokens\n",
    "    #     table_tkn_mask = torch.zeros_like(encode_input[\"input_ids\"], dtype=torch.bool, device=self.device).scatter(1, table_tkn_idx, True).contiguous()\n",
    "    #     header_tkn_mask = torch.zeros_like(encode_input[\"input_ids\"], dtype=torch.bool, device=self.device).scatter(1, header_tkn_idx, True).contiguous()\n",
    "\n",
    "    #     # TODO: [EXP] Experiment for generate column directly\n",
    "    #     # For Decoder Input, Maskout [S], [E] for table & header -> will be done automatically\n",
    "    #     input_table_mask = self.get_decoder_input_mask(\n",
    "    #         encode_input[\"input_ids\"], table_tkn_mask, batch_size, start_tkn_id, end_tkn_id\n",
    "    #     )\n",
    "    #     input_header_mask = self.get_decoder_input_mask(\n",
    "    #         encode_input[\"input_ids\"], header_tkn_mask, batch_size, start_tkn_id, end_tkn_id\n",
    "    #     )\n",
    "\n",
    "    #     # [COL] token mask: this is for attention\n",
    "    #     col_tkn_idx = input_idx[col_tkn_mask].view(batch_size, -1)\n",
    "    #     input_col_mask = torch.zeros_like(encode_input[\"input_ids\"], device=self.device, dtype=torch.bool).scatter(1, col_tkn_idx, True).contiguous()\n",
    "\n",
    "    #     # TODO: [EXP] Experiment for generate column directly\n",
    "    #     # For Answer, Maskout [S] for table & header \n",
    "    #     # answer_table_tkns = get_answer(\n",
    "    #     #     encode_input[\"input_ids\"], table_tkn_mask, batch_size, start_tkn_id, end_tkn_id\n",
    "    #     # )\n",
    "    #     # answer_header_tkns = get_answer(\n",
    "    #     #     encode_input[\"input_ids\"], header_tkn_mask, batch_size, start_tkn_id, end_tkn_id\n",
    "    #     # )\n",
    "\n",
    "    #     return input_question_mask, input_table_mask, input_header_mask, input_col_mask # , answer_table_tkns, answer_header_tkns    \n",
    "\n",
    "    ## Masks\n",
    "    # TODO: [EXP] Experiment for generate column directly\n",
    "    # def get_answer(input_ids, mask, batch_size, start_tkn_id, end_tkn_id):\n",
    "    #     r\"\"\"\n",
    "    #     answer should include end token: [E]\n",
    "    #     \"\"\"\n",
    "    #     masked_input_ids = input_ids[mask]\n",
    "    #     start_tkn_mask = masked_input_ids == start_tkn_id\n",
    "    #     end_tkn_mask = masked_input_ids == end_tkn_id\n",
    "    #     table_col_length = masked_input_ids.view(batch_size, -1).size(1)\n",
    "    #     start_end_mask = torch.bitwise_or(start_tkn_mask, end_tkn_mask)\n",
    "    #     index = torch.arange(table_col_length).repeat(batch_size)[start_end_mask].view(batch_size, -1, 2)\n",
    "    #     tkn_lengths = index[:, :, 1] - index[:, :, 0]\n",
    "    #     answer_col_tkns = [x.split(tkn_length.tolist()) for x, tkn_length in zip(\n",
    "    #         masked_input_ids[~start_tkn_mask].view(batch_size, -1), tkn_lengths)]\n",
    "    #     return answer_col_tkns\n",
    "\n",
    "    # def get_decoder_input_mask(self, input_ids: torch.Tensor, mask: torch.BoolTensor, batch_size: int, start_tkn_id: int, end_tkn_id: int) -> torch.BoolTensor:\n",
    "    #     \"\"\"[summary]\n",
    "\n",
    "    #     Args:\n",
    "    #         input_ids (torch.Tensor): [description]\n",
    "    #         mask (torch.BoolTensor): [description]\n",
    "    #         batch_size (int): [description]\n",
    "    #         start_tkn_id (int): [description]\n",
    "    #         end_tkn_id (int): [description]\n",
    "\n",
    "    #     Returns:\n",
    "    #         torch.BoolTensor: [description]\n",
    "    #     \"\"\"    \n",
    "    #     start_tkn_mask = input_ids == start_tkn_id\n",
    "    #     end_tkn_mask = input_ids == end_tkn_id\n",
    "    #     start_end_mask = torch.bitwise_or(start_tkn_mask, end_tkn_mask)\n",
    "    #     index = torch.arange(input_ids.size(1)).repeat(batch_size)[start_end_mask.view(-1)].view(batch_size, -1).contiguous()\n",
    "    #     return mask.scatter(1, index, False)\n",
    "    \n",
    "    def get_decoder_batches(self, encode_output: transformers.modeling_outputs.BaseModelOutputWithPoolingAndCrossAttentions, mask: torch.BoolTensor, pad_idx: int) -> Tuple[torch.Tensor, List[int]]:\n",
    "        \"\"\"[summary]\n",
    "\n",
    "        Args:\n",
    "            encode_output (transformers.modeling_outputs.BaseModelOutputWithPoolingAndCrossAttentions): [description]\n",
    "            mask (torch.BoolTensor): [description]\n",
    "            model (BertModel): [description]\n",
    "            pad_idx (int): [description]\n",
    "\n",
    "        Returns:\n",
    "            Tuple[torch.Tensor, List[int]]: [description]\n",
    "        \"\"\"    \n",
    "        lengths = mask.sum(1)\n",
    "        tensors = encode_output.last_hidden_state[mask, :]\n",
    "        batches = torch.split(tensors, lengths.tolist())\n",
    "        if lengths.ne(lengths.max()).sum() != 0:\n",
    "            # pad not same length tokens\n",
    "            tensors_padded = self.pad(batches, lengths.tolist(), pad_idx=pad_idx)\n",
    "        else:\n",
    "            # just stack the splitted tensors\n",
    "            tensors_padded = torch.stack(batches)\n",
    "        return tensors_padded, lengths.tolist()\n",
    "\n",
    "    def pad(self, batches: Tuple[torch.Tensor], lengths: List[int], pad_idx: int=1) -> torch.Tensor:\n",
    "        \"\"\"Pad for decoder inputs\n",
    "\n",
    "        Args:\n",
    "            batches (Tuple[torch.Tensor]): [description]\n",
    "            lengths (List[int]): [description]\n",
    "            model (transformers.models.bert.modeling_bert.BertModel): [description]\n",
    "            pad_idx (int, optional): [description]. Defaults to 1.\n",
    "\n",
    "        Returns:\n",
    "            torch.Tensor: [description]\n",
    "        \"\"\"       \n",
    "        padded = []\n",
    "        max_length = max(lengths)\n",
    "        for x in batches:\n",
    "            if len(x) < max_length:\n",
    "                idxes = self.totensor([pad_idx]*(max_length - len(x)))\n",
    "                pad_tensor = self.model_bert.embeddings.word_embeddings(idxes)\n",
    "                padded.append(torch.cat([x, pad_tensor]))\n",
    "            else:\n",
    "                padded.append(x)\n",
    "        return torch.stack(padded)\n",
    "\n",
    "    def get_sql_answers(self, batch_sqls: List[Dict[str, Any]]):\n",
    "        \"\"\"[summary]\n",
    "        sc: select column\n",
    "        sa: select agg\n",
    "        wn: where number\n",
    "        wc: where column\n",
    "        wo: where operator\n",
    "        wv: where value\n",
    "\n",
    "        Args:\n",
    "            batch_sqls (List[Dict[str, Any]]): [description]\n",
    "            tokenizer (KoBertTokenizer): [description]\n",
    "\n",
    "        Raises:\n",
    "            EnvironmentError: [description]\n",
    "\n",
    "        Returns:\n",
    "            [type]: [description]\n",
    "        \"\"\"\n",
    "        get_ith_element = lambda li, i: [x[i] for x in li]\n",
    "        g_sc = []\n",
    "        g_sa = []\n",
    "        g_wn = []\n",
    "        g_wc = []\n",
    "        g_wo = []\n",
    "        g_wv = []\n",
    "        for b, sql_dict in enumerate(batch_sqls):\n",
    "            g_sc.append( sql_dict[\"sel\"] )\n",
    "            g_sa.append( sql_dict[\"agg\"])\n",
    "\n",
    "            conds = sql_dict[\"conds\"]\n",
    "            if not sql_dict[\"agg\"] < 0:\n",
    "                g_wn.append( len(conds) )\n",
    "                g_wc.append( get_ith_element(conds, 0) )\n",
    "                g_wo.append( get_ith_element(conds, 1) )\n",
    "                g_wv.append( get_ith_element(conds, 2) )\n",
    "            else:\n",
    "                raise EnvironmentError\n",
    "\n",
    "        # get where value tokenized \n",
    "        pad_tkn_id = self.tokenizer_bert.pad_token_id\n",
    "        g_wv_tkns = [[f\"{s}{self.hparams.special_end_tkn}\" for s in batch_wv] for batch_wv in g_wv]\n",
    "        g_wv_tkns = [self.tokenizer_bert(batch_wv, add_special_tokens=False)[\"input_ids\"] if len(batch_wv) > 0 else batch_wv for batch_wv in g_wv_tkns]\n",
    "        # add empty list if batch has different where column number\n",
    "        max_where_cols = max([len(batch_wv) for batch_wv in g_wv_tkns])\n",
    "        g_wv_tkns = [batch_wv + [[]]*(max_where_cols-len(batch_wv)) if len(batch_wv) < max_where_cols else batch_wv for batch_wv in g_wv_tkns]\n",
    "        temp = []\n",
    "        for batch_wv in list(zip(*g_wv_tkns)):\n",
    "            batch_max_len = max(map(len, batch_wv))\n",
    "            batch_temp = []\n",
    "            for wv_tkns in batch_wv:  # iter by number of where clause\n",
    "                if len(wv_tkns) < batch_max_len:\n",
    "                    batch_temp.append(wv_tkns + [pad_tkn_id]*(batch_max_len - len(wv_tkns)))\n",
    "                else:\n",
    "                    batch_temp.append(wv_tkns)\n",
    "            temp.append(batch_temp)\n",
    "        g_wv_tkns = list(zip(*temp))\n",
    "        g_wv_tkns = list(map(list, g_wv_tkns))\n",
    "        return g_sc, g_sa, g_wn, g_wc, g_wo, g_wv, g_wv_tkns\n",
    "        \n",
    "        \n",
    "    def calculate_loss(self, decoder_outputs, gold):\n",
    "        \"\"\"\n",
    "        # Outputs Size\n",
    "        sc = (B, T_c)\n",
    "        sa = (B, n_agg_ops)\n",
    "        wn = (B, 5)\n",
    "        wc = (B, T_c): binary\n",
    "        wo = (B, max_where_col_nums, n_cond_ops)\n",
    "        wv = [(B, T_d_i, vocab_size)] x max_where_col_nums / T_d_i = may have different length for answer\n",
    "        \"\"\"\n",
    "        # Loss Calculation\n",
    "        g_sc, g_sa, g_wn, g_wc, g_wo, g_wv_tkns = gold\n",
    "        # g_wv_tkns = list(zip(*g_wv_tkns))  # (B, where_col_num, T_d_i) -> (where_col_num, B, T_d_i)\n",
    "\n",
    "        batch_size = decoder_outputs[\"sc\"].size(0)\n",
    "        loss_sc = self.cross_entropy(decoder_outputs[\"sc\"], self.totensor(g_sc))\n",
    "        loss_sa = self.cross_entropy(decoder_outputs[\"sa\"], self.totensor(g_sa))\n",
    "        loss_wn = self.cross_entropy(decoder_outputs[\"wn\"], self.totensor(g_wn)) * self.hparams.wn_penalty\n",
    "\n",
    "        # need consider: might have different length of where numers\n",
    "        # So when calculate scores looping by where numbers, ignore the out of length tokens\n",
    "        loss_wc = 0\n",
    "        loss_wo = 0\n",
    "        loss_wv = 0\n",
    "        for batch_idx, where_num in enumerate(g_wn):  # iter by batch_size: B\n",
    "\n",
    "            one_hot_dist = torch.zeros_like(decoder_outputs[\"wc\"][batch_idx], device=self.device).scatter(0, self.totensor(g_wc[batch_idx]), 1.0)\n",
    "            loss_wc += self.binary_cross_entropy(decoder_outputs[\"wc\"][batch_idx], one_hot_dist)\n",
    "\n",
    "            batch_g_wo = g_wo[batch_idx]  # (where_num,)\n",
    "            batch_wo = decoder_outputs[\"wo\"][batch_idx, :where_num, :]  # (where_num, n_cond_ops)\n",
    "            loss_wo += self.cross_entropy(batch_wo, self.totensor(batch_g_wo))\n",
    "            \n",
    "            batch_g_wv = g_wv_tkns[batch_idx][:where_num]  # (where_num, T_d_i)\n",
    "            batch_wv = [wv[batch_idx] for wv in decoder_outputs[\"wv\"]]  # (where_num, T_d_i, vocab_size)\n",
    "            for wv, g_wv_i in zip(batch_wv, batch_g_wv):\n",
    "                if len(wv) > len(g_wv_i):\n",
    "#                     g_wv_i = g_wv_i + [self.tokenizer_bert.pad_token_id]*(len(wv) - len(g_wv_i))\n",
    "                    wv = wv[:len(g_wv_i)]\n",
    "                elif len(wv) < len(g_wv_i):\n",
    "                    g_wv_i = g_wv_i[:len(wv)] \n",
    "                loss_wv += self.cross_entropy_wv(wv, self.totensor(g_wv_i))\n",
    "        self.pp_wv.update(torch.exp(loss_wv) / batch_size)     \n",
    "        loss = (loss_sc + loss_sa + loss_wn + loss_wc + loss_wo + loss_wv) / batch_size\n",
    "        return loss\n",
    "\n",
    "    def calculate_metrics(self, decoder_outputs, batch_sqls) -> None:\n",
    "        # Predict tokens\n",
    "        g_sc, g_sa, g_wn, g_wc, g_wo, g_wv, g_wv_tkns = self.get_sql_answers(batch_sqls)\n",
    "        predicts = self.predict_to_dict(decoder_outputs)\n",
    "        p_sc, p_sa, p_wn, p_wo = predicts[\"sc\"], predicts[\"sa\"], predicts[\"wn\"], predicts[\"wo\"]\n",
    "        \n",
    "        p_wo, g_wo = self.pad_empty_predict_gold(p_wo, g_wo, pad_idx=self.n_cond_ops)  # (B, where_col_num)\n",
    "        \n",
    "        acc_sc = self.acc_sc(*map(self.totensor_cpu, [p_sc, g_sc]))\n",
    "        acc_sa = self.acc_sa(*map(self.totensor_cpu, [p_sa, g_sa]))\n",
    "        acc_wn = self.acc_wn(*map(self.totensor_cpu, [p_wn, g_wn]))\n",
    "        \n",
    "        for batch_idx, where_num in enumerate(g_wn):\n",
    "            batch_g_wo = g_wo[batch_idx]  # (where_num_gold,)\n",
    "            batch_wo = p_wo[batch_idx]  # (where_num_predict,)\n",
    "            acc_wo = self.acc_wo(*map(self.totensor_cpu, [batch_wo, batch_g_wo]))\n",
    "        \n",
    "    def pad_empty_predict_gold(self, predict, gold, pad_idx):\n",
    "        res = []\n",
    "        for p, g in zip(predict, gold):            \n",
    "            if len(p) < len(g):\n",
    "                p.extend([pad_idx]*(len(g)-len(p)))\n",
    "            elif len(p) > len(g):\n",
    "                g.extend([pad_idx]*(len(p)-len(g)))\n",
    "\n",
    "            res.append([p, g])\n",
    "\n",
    "        return list(zip(*res))\n",
    "    \n",
    "    def get_batch_data(self, data: List[Dict[str, Any]], table: Dict[str, Dict[str, List[Any]]], start_tkn=\"[S]\", end_tkn=\"[E]\", only_question=False) -> Tuple[List[str], List[str], List[Dict[str, Any]]]:\n",
    "        \"\"\"[summary]\n",
    "\n",
    "        Args:\n",
    "            data (List[Dict[str, Any]]): [description]\n",
    "            dbengine (DBEngine): [description]\n",
    "            start_tkn (str, optional): [description]. Defaults to \"[S]\".\n",
    "            end_tkn (str, optional): [description]. Defaults to \"[E]\".\n",
    "\n",
    "        Returns:\n",
    "            Tuple[List[str], List[str], List[Dict[str, Any]]]: [description]\n",
    "        \"\"\"    \n",
    "        batch_qs = [jsonl[\"question\"] for jsonl in data]\n",
    "        \n",
    "        tid = [jsonl[\"table_id\"] for jsonl in data]\n",
    "        batch_ts = []\n",
    "        for table_id in tid:\n",
    "            table_str = f\"{table_id}\" + \"\".join([\n",
    "                f\"{self.hparams.special_col_tkn}{col}\" for col in table[table_id][\"header\"]\n",
    "            ])\n",
    "            # TODO: [EXP] Experiment for generate column directly\n",
    "            # table_str = f\"{start_tkn}{table_id}{end_tkn}\" + \"\".join([\n",
    "            #     f\"{col_tkn}{start_tkn}{col}{end_tkn}\" for col in dbengine.schema\n",
    "            # ]) \n",
    "            batch_ts.append(table_str)\n",
    "        if only_question:\n",
    "            return batch_qs, batch_ts\n",
    "        \n",
    "        batch_sqls = [jsonl[\"sql\"] for jsonl in data]\n",
    "        return batch_qs, batch_ts, batch_sqls\n",
    "    \n",
    "    def compute_all_metrics(self):\n",
    "        acc_sc = self.acc_sc.compute()\n",
    "        acc_sa = self.acc_sa.compute()\n",
    "        acc_wn = self.acc_wn.compute()\n",
    "        acc_wo = self.acc_wo.compute()\n",
    "        pp_wv = self.pp_wv.compute()\n",
    "        return acc_sc, acc_sa, acc_wn, acc_wo, pp_wv\n",
    "\n",
    "    def training_step(self, batch, batch_idx, optimizer_idx):\n",
    "        batch_qs, batch_ts, batch_sqls = self.get_batch_data(batch, self.table_dict[\"train\"], self.hparams.special_start_tkn, self.hparams.special_end_tkn)\n",
    "        loss, outputs = self(\n",
    "            batch_qs=batch_qs, \n",
    "            batch_ts=batch_ts, \n",
    "            batch_sqls=batch_sqls, \n",
    "            value_tkn_max_len=None, \n",
    "            train=True\n",
    "        )\n",
    "        self.calculate_metrics(outputs, batch_sqls)\n",
    "\n",
    "        acc_sc, acc_sa, acc_wn, acc_wo, pp_wv = self.compute_all_metrics()\n",
    "        self.log(\"train_step_loss\", loss, prog_bar=True, logger=True)\n",
    "        self.log(\"train_step_acc_sc\", acc_sc, prog_bar=True, logger=True)\n",
    "        self.log(\"train_step_acc_sa\", acc_sa, prog_bar=True, logger=True)\n",
    "        self.log(\"train_step_acc_wn\", acc_wn, prog_bar=True, logger=True)\n",
    "        self.log(\"train_step_acc_wo\", acc_wo, prog_bar=True, logger=True)\n",
    "        self.log(\"train_step_pp_wv\", pp_wv, prog_bar=True, logger=True)\n",
    "\n",
    "        return  {\"loss\": loss}\n",
    "\n",
    "    def train_epoch_end(self, outputs):\n",
    "        loss = torch.tensor(0, dtype=torch.float)\n",
    "        for out in outputs:\n",
    "            loss += out[\"loss\"].detach().cpu()\n",
    "        loss = loss / len(outputs)\n",
    "        \n",
    "        \n",
    "        acc_sc, acc_sa, acc_wn, acc_wo, pp_wv = self.compute_all_metrics()\n",
    "        self.log(\"train_loss\", loss, prog_bar=False, logger=True)\n",
    "        self.log(\"train_acc_sc\", acc_sc, prog_bar=False, logger=True)\n",
    "        self.log(\"train_acc_sa\", acc_sa, prog_bar=False, logger=True)\n",
    "        self.log(\"train_acc_wn\", acc_wn, prog_bar=True, logger=True)\n",
    "        self.log(\"train_acc_wo\", acc_wo,  prog_bar=False, logger=True)\n",
    "        self.log(\"train_pp_wv\", pp_wv, prog_bar=False, logger=True)\n",
    "    \n",
    "        self.reset_metrics_epoch_end()\n",
    "        # return {\"train_loss\": loss, \"train_acc_sc\": acc_sc, \"train_acc_sa\": acc_sa, \"train_acc_wn\": acc_wn, \"train_acc_wo\": acc_wo, \"train_pp_wv\": pp_wv}\n",
    "    \n",
    "    def validation_step(self, batch, batch_idx):\n",
    "        batch_qs, batch_ts, batch_sqls = self.get_batch_data(batch, self.table_dict[\"eval\"], self.hparams.special_start_tkn, self.hparams.special_end_tkn)\n",
    "        loss, outputs = self(\n",
    "            batch_qs=batch_qs, \n",
    "            batch_ts=batch_ts, \n",
    "            batch_sqls=batch_sqls, \n",
    "            value_tkn_max_len=self.hparams.value_tkn_max_len, \n",
    "            train=False\n",
    "        )\n",
    "        self.calculate_metrics(outputs, batch_sqls)\n",
    "\n",
    "        return {\"loss\": loss}\n",
    "    \n",
    "    def validation_epoch_end(self, outputs):\n",
    "        loss = torch.tensor(0, dtype=torch.float)\n",
    "        for out in outputs:\n",
    "            loss += out[\"loss\"].detach().cpu()\n",
    "        loss = loss / len(outputs)\n",
    "\n",
    "        acc_sc, acc_sa, acc_wn, acc_wo, pp_wv = self.compute_all_metrics()\n",
    "        self.log(\"val_loss\", loss, prog_bar=True, logger=True)\n",
    "        self.log(\"val_acc_sc\", acc_sc, prog_bar=True, logger=True)\n",
    "        self.log(\"val_acc_sa\", acc_sa, prog_bar=True, logger=True)\n",
    "        self.log(\"val_acc_wn\", acc_wn, prog_bar=True, logger=True)\n",
    "        self.log(\"val_acc_wo\", acc_wo, prog_bar=True, logger=True)\n",
    "        self.log(\"val_pp_wv\", pp_wv, prog_bar=True, logger=True)\n",
    "        self.reset_metrics_epoch_end()\n",
    "\n",
    "    def load_data(self, sql_path: Union[Path, str], table_path: Union[Path, str]) -> Tuple[List[Dict[str, Any]], Dict[str, Any]]:\n",
    "        \"\"\"Load data from path\n",
    "\n",
    "        Args:\n",
    "            sql_path (Union[Path, str]): dataset path which contains NL with SQL queries (+answers)\n",
    "            table_path (Union[Path, str]): table information contains table name, header and values\n",
    "\n",
    "        Returns:\n",
    "            Tuple[List[Dict[str, Any]], Dict[str, Any]]: [description]\n",
    "        \"\"\"    \n",
    "        path_sql = Path(sql_path)\n",
    "        path_table = Path(table_path)\n",
    "\n",
    "        dataset = self.load_sqls(path_sql)\n",
    "        table = self.load_tables(path_table)\n",
    "\n",
    "        return dataset, table\n",
    "    \n",
    "    def load_sqls(self, path_sql):\n",
    "        dataset = []\n",
    "        with path_sql.open(\"r\", encoding=\"utf-8\") as f:\n",
    "            for line in f:\n",
    "                x = json.loads(line.strip())\n",
    "                dataset.append(x)\n",
    "        return dataset\n",
    "    \n",
    "    def load_tables(self, path_table):\n",
    "        table = {}\n",
    "        with path_table.open(\"r\", encoding=\"utf-8\") as f:\n",
    "            for line in f:\n",
    "                x = json.loads(line.strip())\n",
    "                table[x['id']] = x\n",
    "        return table\n",
    "    \n",
    "    def create_dataloader(self, mode):\n",
    "        num_workers = 0 if os.name == \"nt\" else self.hparams.num_workers\n",
    "        if mode == \"train\":\n",
    "            shuffle = True\n",
    "            batch_size = self.hparams.train_batch_size\n",
    "            sql_file = self.hparams.train_sql_file\n",
    "            table_file = self.hparams.train_table_file\n",
    "        else:\n",
    "            shuffle = False\n",
    "            batch_size = self.hparams.eval_batch_size\n",
    "            sql_file = self.hparams.eval_sql_file\n",
    "            table_file = self.hparams.eval_table_file\n",
    "        \n",
    "        dataset, table = self.load_data(sql_file, table_file)\n",
    "        self.table_dict[mode] = table\n",
    "        data_loader = torch.utils.data.DataLoader(\n",
    "            batch_size=batch_size,\n",
    "            dataset=dataset,\n",
    "            shuffle=shuffle,\n",
    "            num_workers=num_workers,\n",
    "            pin_memory=True if num_workers > 0 else False,\n",
    "            collate_fn=self._collate_fn # now dictionary values are not merged!\n",
    "        )\n",
    "        return data_loader\n",
    "\n",
    "    def _collate_fn(self, x):\n",
    "        return x\n",
    "\n",
    "    def train_dataloader(self):\n",
    "        return self.create_dataloader(mode=\"train\")\n",
    "\n",
    "    def val_dataloader(self):\n",
    "        return self.create_dataloader(mode=\"eval\")\n",
    "    \n",
    "    def configure_optimizers(self):\n",
    "        opt = torch.optim.AdamW(filter(lambda p: p.requires_grad, self.model_decoder.parameters()),\n",
    "                                       lr=self.hparams.lr, weight_decay=0)\n",
    "        opt_bert = torch.optim.AdamW(filter(lambda p: p.requires_grad, self.model_bert.parameters()),\n",
    "                                    lr=self.hparams.lr_bert, weight_decay=0)\n",
    "        \n",
    "        optimizers = [opt, opt_bert]\n",
    "        return optimizers\n",
    "    \n",
    "    def predict_to_dict(self, outputs):        \n",
    "        predicts = {}\n",
    "        predicts[\"sc\"] = self.model_decoder.predict_decoder(\"sc\", select_outputs=outputs[\"sc\"])\n",
    "        predicts[\"sa\"] = self.model_decoder.predict_decoder(\"sa\", agg_outputs=outputs[\"sa\"])\n",
    "        predicts[\"wn\"] = self.model_decoder.predict_decoder(\"wn\", where_num_outputs=outputs[\"wn\"])\n",
    "        predicts[\"wc\"] = self.model_decoder.predict_decoder(\"wc\", where_col_outputs=outputs[\"wc\"], where_nums=predicts[\"wn\"])\n",
    "        predicts[\"wo\"] = self.model_decoder.predict_decoder(\"wo\", where_op_outputs=outputs[\"wo\"], where_nums=predicts[\"wn\"])\n",
    "        predicts[\"wv_tkns\"] = self.model_decoder.predict_decoder(\"wv\", where_value_outputs=outputs[\"wv\"])  # (B, value_tkn_max_len) x where_nums\n",
    "        # internally wv means wv_tkns, will convert to string here using tokenizer\n",
    "        predicts[\"wv\"] = []\n",
    "        for where_idx, wv_tkns in enumerate(predicts[\"wv_tkns\"]): # iter: (B, value_tkn_max_len)\n",
    "            predicts[\"wv\"].append([self.tokenizer_bert.decode(self.totensor(batch_wv)) for batch_wv in wv_tkns])\n",
    "                \n",
    "        predicts[\"wv\"] = list(zip(*predicts[\"wv\"]))\n",
    "        \n",
    "        return predicts\n",
    "\n",
    "    def predict_outputs(self, data, table):\n",
    "        batch_qs, batch_ts = self.get_batch_data(data, table, only_question=True)\n",
    "        outputs = self.forward_outputs(batch_qs, batch_ts, batch_sqls=None, value_tkn_max_len=self.hparams.value_tkn_max_len, train=False)\n",
    "        return self.predict_to_dict(outputs)"
   ]
  },
  {
   "cell_type": "markdown",
   "id": "c950e057",
   "metadata": {},
   "source": [
    "---\n",
    "\n",
    "# PyTorch Ligthtning"
   ]
  },
  {
   "cell_type": "markdown",
   "id": "7eabc2ad",
   "metadata": {},
   "source": [
    "# Training"
   ]
  },
  {
   "cell_type": "code",
   "execution_count": 85,
   "id": "c61d458b",
   "metadata": {},
   "outputs": [],
   "source": [
    "args_dict = dict(\n",
    "    db_path = \"./private/kospi.db\",\n",
    "    model_bert_path = \"monologg/kobert\",\n",
    "    # Dataloader\n",
    "    train_sql_file = \"./newdata/train/train.jsonl\",\n",
    "    train_table_file = \"./newdata/train/train_table.jsonl\",\n",
    "    train_batch_size = 5,\n",
    "    eval_sql_file = \"./newdata/test/test.jsonl\",\n",
    "    eval_table_file = \"./newdata/test/test_table.jsonl\",\n",
    "    eval_batch_size = 5,\n",
    "    num_workers = 4,\n",
    "    # Model-decoder\n",
    "    hidden_size = 100,\n",
    "    num_layers = 2,\n",
    "    dropout_ratio = 0.3,\n",
    "    max_where_conds = 4,\n",
    "    value_tkn_max_len = 20, \n",
    "    # Tokenizer\n",
    "    max_length = 256,\n",
    "    special_start_tkn = \"[S]\", \n",
    "    special_end_tkn = \"[E]\",\n",
    "    special_col_tkn = \"[COL]\",\n",
    "    # Loss Function\n",
    "    wn_penalty = 2.0,  # scale up for guessing where number\n",
    "    # Optimizer\n",
    "    num_train = 10,\n",
    "    lr = 1e-3,\n",
    "    lr_bert = 1e-5,\n",
    "    # Seed\n",
    "    seed = 88,\n",
    "    # Records\n",
    "    task = \"TEXT2SQL_v1\",\n",
    "    ckpt_path = \"./ckpt\"\n",
    ")"
   ]
  },
  {
   "cell_type": "code",
   "execution_count": 86,
   "id": "a3319cc6",
   "metadata": {
    "tags": []
   },
   "outputs": [
    {
     "name": "stderr",
     "output_type": "stream",
     "text": [
      "Global seed set to 88\n",
      "Special tokens have been added in the vocabulary, make sure the associated word embeddings are fine-tuned or trained.\n",
      "GPU available: True, used: True\n",
      "TPU available: False, using: 0 TPU cores\n",
      "LOCAL_RANK: 0 - CUDA_VISIBLE_DEVICES: [0]\n",
      "\n",
      "  | Name                 | Type              | Params\n",
      "-----------------------------------------------------------\n",
      "0 | model_bert           | BertModel         | 92.2 M\n",
      "1 | model_decoder        | Decoder           | 22.5 M\n",
      "2 | cross_entropy        | CrossEntropyLoss  | 0     \n",
      "3 | binary_cross_entropy | BCEWithLogitsLoss | 0     \n",
      "4 | cross_entropy_wv     | CrossEntropyLoss  | 0     \n",
      "5 | acc_sc               | Accuracy          | 0     \n",
      "6 | acc_sa               | Accuracy          | 0     \n",
      "7 | acc_wn               | Accuracy          | 0     \n",
      "8 | acc_wo               | Accuracy          | 0     \n",
      "9 | pp_wv                | Perplexity        | 0     \n",
      "-----------------------------------------------------------\n",
      "108 M     Trainable params\n",
      "0         Non-trainable params\n",
      "108 M     Total params\n",
      "434.292   Total estimated model params size (MB)\n",
      "C:\\Users\\simon\\miniconda3\\envs\\venv\\lib\\site-packages\\pytorch_lightning\\utilities\\distributed.py:69: UserWarning: The dataloader, train dataloader, does not have many workers which may be a bottleneck. Consider increasing the value of the `num_workers` argument` (try 4 which is the number of cpus on this machine) in the `DataLoader` init to improve performance.\n",
      "  warnings.warn(*args, **kwargs)\n",
      "C:\\Users\\simon\\miniconda3\\envs\\venv\\lib\\site-packages\\pytorch_lightning\\utilities\\distributed.py:69: UserWarning: The dataloader, val dataloader 0, does not have many workers which may be a bottleneck. Consider increasing the value of the `num_workers` argument` (try 4 which is the number of cpus on this machine) in the `DataLoader` init to improve performance.\n",
      "  warnings.warn(*args, **kwargs)\n"
     ]
    },
    {
     "data": {
      "application/vnd.jupyter.widget-view+json": {
       "model_id": "c2bc14de4f40401a8a1cbef2f3cdf8ca",
       "version_major": 2,
       "version_minor": 0
      },
      "text/plain": [
       "Training: 0it [00:00, ?it/s]"
      ]
     },
     "metadata": {},
     "output_type": "display_data"
    },
    {
     "ename": "RuntimeError",
     "evalue": "one of the variables needed for gradient computation has been modified by an inplace operation: [torch.cuda.FloatTensor [5, 4, 18]], which is output 0 of SoftmaxBackward, is at version 2; expected version 0 instead. Hint: the backtrace further above shows the operation that failed to compute its gradient. The variable in question was changed in there or anywhere later. Good luck!",
     "output_type": "error",
     "traceback": [
      "\u001b[1;31m---------------------------------------------------------------------------\u001b[0m",
      "\u001b[1;31mRuntimeError\u001b[0m                              Traceback (most recent call last)",
      "\u001b[1;32m<ipython-input-86-de076ea095a2>\u001b[0m in \u001b[0;36m<module>\u001b[1;34m\u001b[0m\n\u001b[0;32m     18\u001b[0m     \u001b[0mlogger\u001b[0m\u001b[1;33m=\u001b[0m\u001b[0mlogger\u001b[0m\u001b[1;33m\u001b[0m\u001b[1;33m\u001b[0m\u001b[0m\n\u001b[0;32m     19\u001b[0m )\n\u001b[1;32m---> 20\u001b[1;33m \u001b[0mtrainer\u001b[0m\u001b[1;33m.\u001b[0m\u001b[0mfit\u001b[0m\u001b[1;33m(\u001b[0m\u001b[0mmodel\u001b[0m\u001b[1;33m)\u001b[0m\u001b[1;33m\u001b[0m\u001b[1;33m\u001b[0m\u001b[0m\n\u001b[0m",
      "\u001b[1;32m~\\miniconda3\\envs\\venv\\lib\\site-packages\\pytorch_lightning\\trainer\\trainer.py\u001b[0m in \u001b[0;36mfit\u001b[1;34m(self, model, train_dataloader, val_dataloaders, datamodule)\u001b[0m\n\u001b[0;32m    456\u001b[0m         )\n\u001b[0;32m    457\u001b[0m \u001b[1;33m\u001b[0m\u001b[0m\n\u001b[1;32m--> 458\u001b[1;33m         \u001b[0mself\u001b[0m\u001b[1;33m.\u001b[0m\u001b[0m_run\u001b[0m\u001b[1;33m(\u001b[0m\u001b[0mmodel\u001b[0m\u001b[1;33m)\u001b[0m\u001b[1;33m\u001b[0m\u001b[1;33m\u001b[0m\u001b[0m\n\u001b[0m\u001b[0;32m    459\u001b[0m \u001b[1;33m\u001b[0m\u001b[0m\n\u001b[0;32m    460\u001b[0m         \u001b[1;32massert\u001b[0m \u001b[0mself\u001b[0m\u001b[1;33m.\u001b[0m\u001b[0mstate\u001b[0m\u001b[1;33m.\u001b[0m\u001b[0mstopped\u001b[0m\u001b[1;33m\u001b[0m\u001b[1;33m\u001b[0m\u001b[0m\n",
      "\u001b[1;32m~\\miniconda3\\envs\\venv\\lib\\site-packages\\pytorch_lightning\\trainer\\trainer.py\u001b[0m in \u001b[0;36m_run\u001b[1;34m(self, model)\u001b[0m\n\u001b[0;32m    754\u001b[0m \u001b[1;33m\u001b[0m\u001b[0m\n\u001b[0;32m    755\u001b[0m         \u001b[1;31m# dispatch `start_training` or `start_evaluating` or `start_predicting`\u001b[0m\u001b[1;33m\u001b[0m\u001b[1;33m\u001b[0m\u001b[1;33m\u001b[0m\u001b[0m\n\u001b[1;32m--> 756\u001b[1;33m         \u001b[0mself\u001b[0m\u001b[1;33m.\u001b[0m\u001b[0mdispatch\u001b[0m\u001b[1;33m(\u001b[0m\u001b[1;33m)\u001b[0m\u001b[1;33m\u001b[0m\u001b[1;33m\u001b[0m\u001b[0m\n\u001b[0m\u001b[0;32m    757\u001b[0m \u001b[1;33m\u001b[0m\u001b[0m\n\u001b[0;32m    758\u001b[0m         \u001b[1;31m# plugin will finalized fitting (e.g. ddp_spawn will load trained model)\u001b[0m\u001b[1;33m\u001b[0m\u001b[1;33m\u001b[0m\u001b[1;33m\u001b[0m\u001b[0m\n",
      "\u001b[1;32m~\\miniconda3\\envs\\venv\\lib\\site-packages\\pytorch_lightning\\trainer\\trainer.py\u001b[0m in \u001b[0;36mdispatch\u001b[1;34m(self)\u001b[0m\n\u001b[0;32m    795\u001b[0m             \u001b[0mself\u001b[0m\u001b[1;33m.\u001b[0m\u001b[0maccelerator\u001b[0m\u001b[1;33m.\u001b[0m\u001b[0mstart_predicting\u001b[0m\u001b[1;33m(\u001b[0m\u001b[0mself\u001b[0m\u001b[1;33m)\u001b[0m\u001b[1;33m\u001b[0m\u001b[1;33m\u001b[0m\u001b[0m\n\u001b[0;32m    796\u001b[0m         \u001b[1;32melse\u001b[0m\u001b[1;33m:\u001b[0m\u001b[1;33m\u001b[0m\u001b[1;33m\u001b[0m\u001b[0m\n\u001b[1;32m--> 797\u001b[1;33m             \u001b[0mself\u001b[0m\u001b[1;33m.\u001b[0m\u001b[0maccelerator\u001b[0m\u001b[1;33m.\u001b[0m\u001b[0mstart_training\u001b[0m\u001b[1;33m(\u001b[0m\u001b[0mself\u001b[0m\u001b[1;33m)\u001b[0m\u001b[1;33m\u001b[0m\u001b[1;33m\u001b[0m\u001b[0m\n\u001b[0m\u001b[0;32m    798\u001b[0m \u001b[1;33m\u001b[0m\u001b[0m\n\u001b[0;32m    799\u001b[0m     \u001b[1;32mdef\u001b[0m \u001b[0mrun_stage\u001b[0m\u001b[1;33m(\u001b[0m\u001b[0mself\u001b[0m\u001b[1;33m)\u001b[0m\u001b[1;33m:\u001b[0m\u001b[1;33m\u001b[0m\u001b[1;33m\u001b[0m\u001b[0m\n",
      "\u001b[1;32m~\\miniconda3\\envs\\venv\\lib\\site-packages\\pytorch_lightning\\accelerators\\accelerator.py\u001b[0m in \u001b[0;36mstart_training\u001b[1;34m(self, trainer)\u001b[0m\n\u001b[0;32m     94\u001b[0m \u001b[1;33m\u001b[0m\u001b[0m\n\u001b[0;32m     95\u001b[0m     \u001b[1;32mdef\u001b[0m \u001b[0mstart_training\u001b[0m\u001b[1;33m(\u001b[0m\u001b[0mself\u001b[0m\u001b[1;33m,\u001b[0m \u001b[0mtrainer\u001b[0m\u001b[1;33m:\u001b[0m \u001b[1;34m'pl.Trainer'\u001b[0m\u001b[1;33m)\u001b[0m \u001b[1;33m->\u001b[0m \u001b[1;32mNone\u001b[0m\u001b[1;33m:\u001b[0m\u001b[1;33m\u001b[0m\u001b[1;33m\u001b[0m\u001b[0m\n\u001b[1;32m---> 96\u001b[1;33m         \u001b[0mself\u001b[0m\u001b[1;33m.\u001b[0m\u001b[0mtraining_type_plugin\u001b[0m\u001b[1;33m.\u001b[0m\u001b[0mstart_training\u001b[0m\u001b[1;33m(\u001b[0m\u001b[0mtrainer\u001b[0m\u001b[1;33m)\u001b[0m\u001b[1;33m\u001b[0m\u001b[1;33m\u001b[0m\u001b[0m\n\u001b[0m\u001b[0;32m     97\u001b[0m \u001b[1;33m\u001b[0m\u001b[0m\n\u001b[0;32m     98\u001b[0m     \u001b[1;32mdef\u001b[0m \u001b[0mstart_evaluating\u001b[0m\u001b[1;33m(\u001b[0m\u001b[0mself\u001b[0m\u001b[1;33m,\u001b[0m \u001b[0mtrainer\u001b[0m\u001b[1;33m:\u001b[0m \u001b[1;34m'pl.Trainer'\u001b[0m\u001b[1;33m)\u001b[0m \u001b[1;33m->\u001b[0m \u001b[1;32mNone\u001b[0m\u001b[1;33m:\u001b[0m\u001b[1;33m\u001b[0m\u001b[1;33m\u001b[0m\u001b[0m\n",
      "\u001b[1;32m~\\miniconda3\\envs\\venv\\lib\\site-packages\\pytorch_lightning\\plugins\\training_type\\training_type_plugin.py\u001b[0m in \u001b[0;36mstart_training\u001b[1;34m(self, trainer)\u001b[0m\n\u001b[0;32m    142\u001b[0m     \u001b[1;32mdef\u001b[0m \u001b[0mstart_training\u001b[0m\u001b[1;33m(\u001b[0m\u001b[0mself\u001b[0m\u001b[1;33m,\u001b[0m \u001b[0mtrainer\u001b[0m\u001b[1;33m:\u001b[0m \u001b[1;34m'pl.Trainer'\u001b[0m\u001b[1;33m)\u001b[0m \u001b[1;33m->\u001b[0m \u001b[1;32mNone\u001b[0m\u001b[1;33m:\u001b[0m\u001b[1;33m\u001b[0m\u001b[1;33m\u001b[0m\u001b[0m\n\u001b[0;32m    143\u001b[0m         \u001b[1;31m# double dispatch to initiate the training loop\u001b[0m\u001b[1;33m\u001b[0m\u001b[1;33m\u001b[0m\u001b[1;33m\u001b[0m\u001b[0m\n\u001b[1;32m--> 144\u001b[1;33m         \u001b[0mself\u001b[0m\u001b[1;33m.\u001b[0m\u001b[0m_results\u001b[0m \u001b[1;33m=\u001b[0m \u001b[0mtrainer\u001b[0m\u001b[1;33m.\u001b[0m\u001b[0mrun_stage\u001b[0m\u001b[1;33m(\u001b[0m\u001b[1;33m)\u001b[0m\u001b[1;33m\u001b[0m\u001b[1;33m\u001b[0m\u001b[0m\n\u001b[0m\u001b[0;32m    145\u001b[0m \u001b[1;33m\u001b[0m\u001b[0m\n\u001b[0;32m    146\u001b[0m     \u001b[1;32mdef\u001b[0m \u001b[0mstart_evaluating\u001b[0m\u001b[1;33m(\u001b[0m\u001b[0mself\u001b[0m\u001b[1;33m,\u001b[0m \u001b[0mtrainer\u001b[0m\u001b[1;33m:\u001b[0m \u001b[1;34m'pl.Trainer'\u001b[0m\u001b[1;33m)\u001b[0m \u001b[1;33m->\u001b[0m \u001b[1;32mNone\u001b[0m\u001b[1;33m:\u001b[0m\u001b[1;33m\u001b[0m\u001b[1;33m\u001b[0m\u001b[0m\n",
      "\u001b[1;32m~\\miniconda3\\envs\\venv\\lib\\site-packages\\pytorch_lightning\\trainer\\trainer.py\u001b[0m in \u001b[0;36mrun_stage\u001b[1;34m(self)\u001b[0m\n\u001b[0;32m    805\u001b[0m         \u001b[1;32mif\u001b[0m \u001b[0mself\u001b[0m\u001b[1;33m.\u001b[0m\u001b[0mpredicting\u001b[0m\u001b[1;33m:\u001b[0m\u001b[1;33m\u001b[0m\u001b[1;33m\u001b[0m\u001b[0m\n\u001b[0;32m    806\u001b[0m             \u001b[1;32mreturn\u001b[0m \u001b[0mself\u001b[0m\u001b[1;33m.\u001b[0m\u001b[0mrun_predict\u001b[0m\u001b[1;33m(\u001b[0m\u001b[1;33m)\u001b[0m\u001b[1;33m\u001b[0m\u001b[1;33m\u001b[0m\u001b[0m\n\u001b[1;32m--> 807\u001b[1;33m         \u001b[1;32mreturn\u001b[0m \u001b[0mself\u001b[0m\u001b[1;33m.\u001b[0m\u001b[0mrun_train\u001b[0m\u001b[1;33m(\u001b[0m\u001b[1;33m)\u001b[0m\u001b[1;33m\u001b[0m\u001b[1;33m\u001b[0m\u001b[0m\n\u001b[0m\u001b[0;32m    808\u001b[0m \u001b[1;33m\u001b[0m\u001b[0m\n\u001b[0;32m    809\u001b[0m     \u001b[1;32mdef\u001b[0m \u001b[0m_pre_training_routine\u001b[0m\u001b[1;33m(\u001b[0m\u001b[0mself\u001b[0m\u001b[1;33m)\u001b[0m\u001b[1;33m:\u001b[0m\u001b[1;33m\u001b[0m\u001b[1;33m\u001b[0m\u001b[0m\n",
      "\u001b[1;32m~\\miniconda3\\envs\\venv\\lib\\site-packages\\pytorch_lightning\\trainer\\trainer.py\u001b[0m in \u001b[0;36mrun_train\u001b[1;34m(self)\u001b[0m\n\u001b[0;32m    867\u001b[0m                 \u001b[1;32mwith\u001b[0m \u001b[0mself\u001b[0m\u001b[1;33m.\u001b[0m\u001b[0mprofiler\u001b[0m\u001b[1;33m.\u001b[0m\u001b[0mprofile\u001b[0m\u001b[1;33m(\u001b[0m\u001b[1;34m\"run_training_epoch\"\u001b[0m\u001b[1;33m)\u001b[0m\u001b[1;33m:\u001b[0m\u001b[1;33m\u001b[0m\u001b[1;33m\u001b[0m\u001b[0m\n\u001b[0;32m    868\u001b[0m                     \u001b[1;31m# run train epoch\u001b[0m\u001b[1;33m\u001b[0m\u001b[1;33m\u001b[0m\u001b[1;33m\u001b[0m\u001b[0m\n\u001b[1;32m--> 869\u001b[1;33m                     \u001b[0mself\u001b[0m\u001b[1;33m.\u001b[0m\u001b[0mtrain_loop\u001b[0m\u001b[1;33m.\u001b[0m\u001b[0mrun_training_epoch\u001b[0m\u001b[1;33m(\u001b[0m\u001b[1;33m)\u001b[0m\u001b[1;33m\u001b[0m\u001b[1;33m\u001b[0m\u001b[0m\n\u001b[0m\u001b[0;32m    870\u001b[0m \u001b[1;33m\u001b[0m\u001b[0m\n\u001b[0;32m    871\u001b[0m                 \u001b[1;32mif\u001b[0m \u001b[0mself\u001b[0m\u001b[1;33m.\u001b[0m\u001b[0mmax_steps\u001b[0m \u001b[1;32mand\u001b[0m \u001b[0mself\u001b[0m\u001b[1;33m.\u001b[0m\u001b[0mmax_steps\u001b[0m \u001b[1;33m<=\u001b[0m \u001b[0mself\u001b[0m\u001b[1;33m.\u001b[0m\u001b[0mglobal_step\u001b[0m\u001b[1;33m:\u001b[0m\u001b[1;33m\u001b[0m\u001b[1;33m\u001b[0m\u001b[0m\n",
      "\u001b[1;32m~\\miniconda3\\envs\\venv\\lib\\site-packages\\pytorch_lightning\\trainer\\training_loop.py\u001b[0m in \u001b[0;36mrun_training_epoch\u001b[1;34m(self)\u001b[0m\n\u001b[0;32m    487\u001b[0m             \u001b[1;31m# ------------------------------------\u001b[0m\u001b[1;33m\u001b[0m\u001b[1;33m\u001b[0m\u001b[1;33m\u001b[0m\u001b[0m\n\u001b[0;32m    488\u001b[0m             \u001b[1;32mwith\u001b[0m \u001b[0mself\u001b[0m\u001b[1;33m.\u001b[0m\u001b[0mtrainer\u001b[0m\u001b[1;33m.\u001b[0m\u001b[0mprofiler\u001b[0m\u001b[1;33m.\u001b[0m\u001b[0mprofile\u001b[0m\u001b[1;33m(\u001b[0m\u001b[1;34m\"run_training_batch\"\u001b[0m\u001b[1;33m)\u001b[0m\u001b[1;33m:\u001b[0m\u001b[1;33m\u001b[0m\u001b[1;33m\u001b[0m\u001b[0m\n\u001b[1;32m--> 489\u001b[1;33m                 \u001b[0mbatch_output\u001b[0m \u001b[1;33m=\u001b[0m \u001b[0mself\u001b[0m\u001b[1;33m.\u001b[0m\u001b[0mrun_training_batch\u001b[0m\u001b[1;33m(\u001b[0m\u001b[0mbatch\u001b[0m\u001b[1;33m,\u001b[0m \u001b[0mbatch_idx\u001b[0m\u001b[1;33m,\u001b[0m \u001b[0mdataloader_idx\u001b[0m\u001b[1;33m)\u001b[0m\u001b[1;33m\u001b[0m\u001b[1;33m\u001b[0m\u001b[0m\n\u001b[0m\u001b[0;32m    490\u001b[0m \u001b[1;33m\u001b[0m\u001b[0m\n\u001b[0;32m    491\u001b[0m             \u001b[1;31m# when returning -1 from train_step, we end epoch early\u001b[0m\u001b[1;33m\u001b[0m\u001b[1;33m\u001b[0m\u001b[1;33m\u001b[0m\u001b[0m\n",
      "\u001b[1;32m~\\miniconda3\\envs\\venv\\lib\\site-packages\\pytorch_lightning\\trainer\\training_loop.py\u001b[0m in \u001b[0;36mrun_training_batch\u001b[1;34m(self, batch, batch_idx, dataloader_idx)\u001b[0m\n\u001b[0;32m    726\u001b[0m \u001b[1;33m\u001b[0m\u001b[0m\n\u001b[0;32m    727\u001b[0m                         \u001b[1;31m# optimizer step\u001b[0m\u001b[1;33m\u001b[0m\u001b[1;33m\u001b[0m\u001b[1;33m\u001b[0m\u001b[0m\n\u001b[1;32m--> 728\u001b[1;33m                         \u001b[0mself\u001b[0m\u001b[1;33m.\u001b[0m\u001b[0moptimizer_step\u001b[0m\u001b[1;33m(\u001b[0m\u001b[0moptimizer\u001b[0m\u001b[1;33m,\u001b[0m \u001b[0mopt_idx\u001b[0m\u001b[1;33m,\u001b[0m \u001b[0mbatch_idx\u001b[0m\u001b[1;33m,\u001b[0m \u001b[0mtrain_step_and_backward_closure\u001b[0m\u001b[1;33m)\u001b[0m\u001b[1;33m\u001b[0m\u001b[1;33m\u001b[0m\u001b[0m\n\u001b[0m\u001b[0;32m    729\u001b[0m                         \u001b[1;32mif\u001b[0m \u001b[0mlen\u001b[0m\u001b[1;33m(\u001b[0m\u001b[0mself\u001b[0m\u001b[1;33m.\u001b[0m\u001b[0mtrainer\u001b[0m\u001b[1;33m.\u001b[0m\u001b[0moptimizers\u001b[0m\u001b[1;33m)\u001b[0m \u001b[1;33m>\u001b[0m \u001b[1;36m1\u001b[0m\u001b[1;33m:\u001b[0m\u001b[1;33m\u001b[0m\u001b[1;33m\u001b[0m\u001b[0m\n\u001b[0;32m    730\u001b[0m                             \u001b[1;31m# revert back to previous state\u001b[0m\u001b[1;33m\u001b[0m\u001b[1;33m\u001b[0m\u001b[1;33m\u001b[0m\u001b[0m\n",
      "\u001b[1;32m~\\miniconda3\\envs\\venv\\lib\\site-packages\\pytorch_lightning\\trainer\\training_loop.py\u001b[0m in \u001b[0;36moptimizer_step\u001b[1;34m(self, optimizer, opt_idx, batch_idx, train_step_and_backward_closure)\u001b[0m\n\u001b[0;32m    422\u001b[0m \u001b[1;33m\u001b[0m\u001b[0m\n\u001b[0;32m    423\u001b[0m         \u001b[1;31m# model hook\u001b[0m\u001b[1;33m\u001b[0m\u001b[1;33m\u001b[0m\u001b[1;33m\u001b[0m\u001b[0m\n\u001b[1;32m--> 424\u001b[1;33m         model_ref.optimizer_step(\n\u001b[0m\u001b[0;32m    425\u001b[0m             \u001b[0mself\u001b[0m\u001b[1;33m.\u001b[0m\u001b[0mtrainer\u001b[0m\u001b[1;33m.\u001b[0m\u001b[0mcurrent_epoch\u001b[0m\u001b[1;33m,\u001b[0m\u001b[1;33m\u001b[0m\u001b[1;33m\u001b[0m\u001b[0m\n\u001b[0;32m    426\u001b[0m             \u001b[0mbatch_idx\u001b[0m\u001b[1;33m,\u001b[0m\u001b[1;33m\u001b[0m\u001b[1;33m\u001b[0m\u001b[0m\n",
      "\u001b[1;32m~\\miniconda3\\envs\\venv\\lib\\site-packages\\pytorch_lightning\\core\\lightning.py\u001b[0m in \u001b[0;36moptimizer_step\u001b[1;34m(self, epoch, batch_idx, optimizer, optimizer_idx, optimizer_closure, on_tpu, using_native_amp, using_lbfgs)\u001b[0m\n\u001b[0;32m   1401\u001b[0m \u001b[1;33m\u001b[0m\u001b[0m\n\u001b[0;32m   1402\u001b[0m         \"\"\"\n\u001b[1;32m-> 1403\u001b[1;33m         \u001b[0moptimizer\u001b[0m\u001b[1;33m.\u001b[0m\u001b[0mstep\u001b[0m\u001b[1;33m(\u001b[0m\u001b[0mclosure\u001b[0m\u001b[1;33m=\u001b[0m\u001b[0moptimizer_closure\u001b[0m\u001b[1;33m)\u001b[0m\u001b[1;33m\u001b[0m\u001b[1;33m\u001b[0m\u001b[0m\n\u001b[0m\u001b[0;32m   1404\u001b[0m \u001b[1;33m\u001b[0m\u001b[0m\n\u001b[0;32m   1405\u001b[0m     \u001b[1;32mdef\u001b[0m \u001b[0moptimizer_zero_grad\u001b[0m\u001b[1;33m(\u001b[0m\u001b[0mself\u001b[0m\u001b[1;33m,\u001b[0m \u001b[0mepoch\u001b[0m\u001b[1;33m:\u001b[0m \u001b[0mint\u001b[0m\u001b[1;33m,\u001b[0m \u001b[0mbatch_idx\u001b[0m\u001b[1;33m:\u001b[0m \u001b[0mint\u001b[0m\u001b[1;33m,\u001b[0m \u001b[0moptimizer\u001b[0m\u001b[1;33m:\u001b[0m \u001b[0mOptimizer\u001b[0m\u001b[1;33m,\u001b[0m \u001b[0moptimizer_idx\u001b[0m\u001b[1;33m:\u001b[0m \u001b[0mint\u001b[0m\u001b[1;33m)\u001b[0m\u001b[1;33m:\u001b[0m\u001b[1;33m\u001b[0m\u001b[1;33m\u001b[0m\u001b[0m\n",
      "\u001b[1;32m~\\miniconda3\\envs\\venv\\lib\\site-packages\\pytorch_lightning\\core\\optimizer.py\u001b[0m in \u001b[0;36mstep\u001b[1;34m(self, closure, *args, **kwargs)\u001b[0m\n\u001b[0;32m    212\u001b[0m             \u001b[0mprofiler_name\u001b[0m \u001b[1;33m=\u001b[0m \u001b[1;34mf\"optimizer_step_and_closure_{self._optimizer_idx}\"\u001b[0m\u001b[1;33m\u001b[0m\u001b[1;33m\u001b[0m\u001b[0m\n\u001b[0;32m    213\u001b[0m \u001b[1;33m\u001b[0m\u001b[0m\n\u001b[1;32m--> 214\u001b[1;33m         \u001b[0mself\u001b[0m\u001b[1;33m.\u001b[0m\u001b[0m__optimizer_step\u001b[0m\u001b[1;33m(\u001b[0m\u001b[1;33m*\u001b[0m\u001b[0margs\u001b[0m\u001b[1;33m,\u001b[0m \u001b[0mclosure\u001b[0m\u001b[1;33m=\u001b[0m\u001b[0mclosure\u001b[0m\u001b[1;33m,\u001b[0m \u001b[0mprofiler_name\u001b[0m\u001b[1;33m=\u001b[0m\u001b[0mprofiler_name\u001b[0m\u001b[1;33m,\u001b[0m \u001b[1;33m**\u001b[0m\u001b[0mkwargs\u001b[0m\u001b[1;33m)\u001b[0m\u001b[1;33m\u001b[0m\u001b[1;33m\u001b[0m\u001b[0m\n\u001b[0m\u001b[0;32m    215\u001b[0m         \u001b[0mself\u001b[0m\u001b[1;33m.\u001b[0m\u001b[0m_total_optimizer_step_calls\u001b[0m \u001b[1;33m+=\u001b[0m \u001b[1;36m1\u001b[0m\u001b[1;33m\u001b[0m\u001b[1;33m\u001b[0m\u001b[0m\n\u001b[0;32m    216\u001b[0m \u001b[1;33m\u001b[0m\u001b[0m\n",
      "\u001b[1;32m~\\miniconda3\\envs\\venv\\lib\\site-packages\\pytorch_lightning\\core\\optimizer.py\u001b[0m in \u001b[0;36m__optimizer_step\u001b[1;34m(self, closure, profiler_name, **kwargs)\u001b[0m\n\u001b[0;32m    132\u001b[0m \u001b[1;33m\u001b[0m\u001b[0m\n\u001b[0;32m    133\u001b[0m         \u001b[1;32mwith\u001b[0m \u001b[0mtrainer\u001b[0m\u001b[1;33m.\u001b[0m\u001b[0mprofiler\u001b[0m\u001b[1;33m.\u001b[0m\u001b[0mprofile\u001b[0m\u001b[1;33m(\u001b[0m\u001b[0mprofiler_name\u001b[0m\u001b[1;33m)\u001b[0m\u001b[1;33m:\u001b[0m\u001b[1;33m\u001b[0m\u001b[1;33m\u001b[0m\u001b[0m\n\u001b[1;32m--> 134\u001b[1;33m             \u001b[0mtrainer\u001b[0m\u001b[1;33m.\u001b[0m\u001b[0maccelerator\u001b[0m\u001b[1;33m.\u001b[0m\u001b[0moptimizer_step\u001b[0m\u001b[1;33m(\u001b[0m\u001b[0moptimizer\u001b[0m\u001b[1;33m,\u001b[0m \u001b[0mself\u001b[0m\u001b[1;33m.\u001b[0m\u001b[0m_optimizer_idx\u001b[0m\u001b[1;33m,\u001b[0m \u001b[0mlambda_closure\u001b[0m\u001b[1;33m=\u001b[0m\u001b[0mclosure\u001b[0m\u001b[1;33m,\u001b[0m \u001b[1;33m**\u001b[0m\u001b[0mkwargs\u001b[0m\u001b[1;33m)\u001b[0m\u001b[1;33m\u001b[0m\u001b[1;33m\u001b[0m\u001b[0m\n\u001b[0m\u001b[0;32m    135\u001b[0m \u001b[1;33m\u001b[0m\u001b[0m\n\u001b[0;32m    136\u001b[0m     \u001b[1;32mdef\u001b[0m \u001b[0mstep\u001b[0m\u001b[1;33m(\u001b[0m\u001b[0mself\u001b[0m\u001b[1;33m,\u001b[0m \u001b[1;33m*\u001b[0m\u001b[0margs\u001b[0m\u001b[1;33m,\u001b[0m \u001b[0mclosure\u001b[0m\u001b[1;33m:\u001b[0m \u001b[0mOptional\u001b[0m\u001b[1;33m[\u001b[0m\u001b[0mCallable\u001b[0m\u001b[1;33m]\u001b[0m \u001b[1;33m=\u001b[0m \u001b[1;32mNone\u001b[0m\u001b[1;33m,\u001b[0m \u001b[1;33m**\u001b[0m\u001b[0mkwargs\u001b[0m\u001b[1;33m)\u001b[0m\u001b[1;33m:\u001b[0m\u001b[1;33m\u001b[0m\u001b[1;33m\u001b[0m\u001b[0m\n",
      "\u001b[1;32m~\\miniconda3\\envs\\venv\\lib\\site-packages\\pytorch_lightning\\accelerators\\accelerator.py\u001b[0m in \u001b[0;36moptimizer_step\u001b[1;34m(self, optimizer, opt_idx, lambda_closure, **kwargs)\u001b[0m\n\u001b[0;32m    327\u001b[0m         )\n\u001b[0;32m    328\u001b[0m         \u001b[1;32mif\u001b[0m \u001b[0mmake_optimizer_step\u001b[0m\u001b[1;33m:\u001b[0m\u001b[1;33m\u001b[0m\u001b[1;33m\u001b[0m\u001b[0m\n\u001b[1;32m--> 329\u001b[1;33m             \u001b[0mself\u001b[0m\u001b[1;33m.\u001b[0m\u001b[0mrun_optimizer_step\u001b[0m\u001b[1;33m(\u001b[0m\u001b[0moptimizer\u001b[0m\u001b[1;33m,\u001b[0m \u001b[0mopt_idx\u001b[0m\u001b[1;33m,\u001b[0m \u001b[0mlambda_closure\u001b[0m\u001b[1;33m,\u001b[0m \u001b[1;33m**\u001b[0m\u001b[0mkwargs\u001b[0m\u001b[1;33m)\u001b[0m\u001b[1;33m\u001b[0m\u001b[1;33m\u001b[0m\u001b[0m\n\u001b[0m\u001b[0;32m    330\u001b[0m         \u001b[0mself\u001b[0m\u001b[1;33m.\u001b[0m\u001b[0mprecision_plugin\u001b[0m\u001b[1;33m.\u001b[0m\u001b[0mpost_optimizer_step\u001b[0m\u001b[1;33m(\u001b[0m\u001b[0moptimizer\u001b[0m\u001b[1;33m,\u001b[0m \u001b[0mopt_idx\u001b[0m\u001b[1;33m)\u001b[0m\u001b[1;33m\u001b[0m\u001b[1;33m\u001b[0m\u001b[0m\n\u001b[0;32m    331\u001b[0m         \u001b[0mself\u001b[0m\u001b[1;33m.\u001b[0m\u001b[0mtraining_type_plugin\u001b[0m\u001b[1;33m.\u001b[0m\u001b[0mpost_optimizer_step\u001b[0m\u001b[1;33m(\u001b[0m\u001b[0moptimizer\u001b[0m\u001b[1;33m,\u001b[0m \u001b[0mopt_idx\u001b[0m\u001b[1;33m,\u001b[0m \u001b[1;33m**\u001b[0m\u001b[0mkwargs\u001b[0m\u001b[1;33m)\u001b[0m\u001b[1;33m\u001b[0m\u001b[1;33m\u001b[0m\u001b[0m\n",
      "\u001b[1;32m~\\miniconda3\\envs\\venv\\lib\\site-packages\\pytorch_lightning\\accelerators\\accelerator.py\u001b[0m in \u001b[0;36mrun_optimizer_step\u001b[1;34m(self, optimizer, optimizer_idx, lambda_closure, **kwargs)\u001b[0m\n\u001b[0;32m    334\u001b[0m         \u001b[0mself\u001b[0m\u001b[1;33m,\u001b[0m \u001b[0moptimizer\u001b[0m\u001b[1;33m:\u001b[0m \u001b[0mOptimizer\u001b[0m\u001b[1;33m,\u001b[0m \u001b[0moptimizer_idx\u001b[0m\u001b[1;33m:\u001b[0m \u001b[0mint\u001b[0m\u001b[1;33m,\u001b[0m \u001b[0mlambda_closure\u001b[0m\u001b[1;33m:\u001b[0m \u001b[0mCallable\u001b[0m\u001b[1;33m,\u001b[0m \u001b[1;33m**\u001b[0m\u001b[0mkwargs\u001b[0m\u001b[1;33m:\u001b[0m \u001b[0mAny\u001b[0m\u001b[1;33m\u001b[0m\u001b[1;33m\u001b[0m\u001b[0m\n\u001b[0;32m    335\u001b[0m     ) -> None:\n\u001b[1;32m--> 336\u001b[1;33m         \u001b[0mself\u001b[0m\u001b[1;33m.\u001b[0m\u001b[0mtraining_type_plugin\u001b[0m\u001b[1;33m.\u001b[0m\u001b[0moptimizer_step\u001b[0m\u001b[1;33m(\u001b[0m\u001b[0moptimizer\u001b[0m\u001b[1;33m,\u001b[0m \u001b[0mlambda_closure\u001b[0m\u001b[1;33m=\u001b[0m\u001b[0mlambda_closure\u001b[0m\u001b[1;33m,\u001b[0m \u001b[1;33m**\u001b[0m\u001b[0mkwargs\u001b[0m\u001b[1;33m)\u001b[0m\u001b[1;33m\u001b[0m\u001b[1;33m\u001b[0m\u001b[0m\n\u001b[0m\u001b[0;32m    337\u001b[0m \u001b[1;33m\u001b[0m\u001b[0m\n\u001b[0;32m    338\u001b[0m     \u001b[1;32mdef\u001b[0m \u001b[0moptimizer_zero_grad\u001b[0m\u001b[1;33m(\u001b[0m\u001b[0mself\u001b[0m\u001b[1;33m,\u001b[0m \u001b[0mcurrent_epoch\u001b[0m\u001b[1;33m:\u001b[0m \u001b[0mint\u001b[0m\u001b[1;33m,\u001b[0m \u001b[0mbatch_idx\u001b[0m\u001b[1;33m:\u001b[0m \u001b[0mint\u001b[0m\u001b[1;33m,\u001b[0m \u001b[0moptimizer\u001b[0m\u001b[1;33m:\u001b[0m \u001b[0mOptimizer\u001b[0m\u001b[1;33m,\u001b[0m \u001b[0mopt_idx\u001b[0m\u001b[1;33m:\u001b[0m \u001b[0mint\u001b[0m\u001b[1;33m)\u001b[0m \u001b[1;33m->\u001b[0m \u001b[1;32mNone\u001b[0m\u001b[1;33m:\u001b[0m\u001b[1;33m\u001b[0m\u001b[1;33m\u001b[0m\u001b[0m\n",
      "\u001b[1;32m~\\miniconda3\\envs\\venv\\lib\\site-packages\\pytorch_lightning\\plugins\\training_type\\training_type_plugin.py\u001b[0m in \u001b[0;36moptimizer_step\u001b[1;34m(self, optimizer, lambda_closure, **kwargs)\u001b[0m\n\u001b[0;32m    191\u001b[0m \u001b[1;33m\u001b[0m\u001b[0m\n\u001b[0;32m    192\u001b[0m     \u001b[1;32mdef\u001b[0m \u001b[0moptimizer_step\u001b[0m\u001b[1;33m(\u001b[0m\u001b[0mself\u001b[0m\u001b[1;33m,\u001b[0m \u001b[0moptimizer\u001b[0m\u001b[1;33m:\u001b[0m \u001b[0mtorch\u001b[0m\u001b[1;33m.\u001b[0m\u001b[0moptim\u001b[0m\u001b[1;33m.\u001b[0m\u001b[0mOptimizer\u001b[0m\u001b[1;33m,\u001b[0m \u001b[0mlambda_closure\u001b[0m\u001b[1;33m:\u001b[0m \u001b[0mCallable\u001b[0m\u001b[1;33m,\u001b[0m \u001b[1;33m**\u001b[0m\u001b[0mkwargs\u001b[0m\u001b[1;33m)\u001b[0m\u001b[1;33m:\u001b[0m\u001b[1;33m\u001b[0m\u001b[1;33m\u001b[0m\u001b[0m\n\u001b[1;32m--> 193\u001b[1;33m         \u001b[0moptimizer\u001b[0m\u001b[1;33m.\u001b[0m\u001b[0mstep\u001b[0m\u001b[1;33m(\u001b[0m\u001b[0mclosure\u001b[0m\u001b[1;33m=\u001b[0m\u001b[0mlambda_closure\u001b[0m\u001b[1;33m,\u001b[0m \u001b[1;33m**\u001b[0m\u001b[0mkwargs\u001b[0m\u001b[1;33m)\u001b[0m\u001b[1;33m\u001b[0m\u001b[1;33m\u001b[0m\u001b[0m\n\u001b[0m\u001b[0;32m    194\u001b[0m \u001b[1;33m\u001b[0m\u001b[0m\n\u001b[0;32m    195\u001b[0m     \u001b[1;33m@\u001b[0m\u001b[0mproperty\u001b[0m\u001b[1;33m\u001b[0m\u001b[1;33m\u001b[0m\u001b[0m\n",
      "\u001b[1;32m~\\miniconda3\\envs\\venv\\lib\\site-packages\\torch\\optim\\optimizer.py\u001b[0m in \u001b[0;36mwrapper\u001b[1;34m(*args, **kwargs)\u001b[0m\n\u001b[0;32m     87\u001b[0m                 \u001b[0mprofile_name\u001b[0m \u001b[1;33m=\u001b[0m \u001b[1;34m\"Optimizer.step#{}.step\"\u001b[0m\u001b[1;33m.\u001b[0m\u001b[0mformat\u001b[0m\u001b[1;33m(\u001b[0m\u001b[0mobj\u001b[0m\u001b[1;33m.\u001b[0m\u001b[0m__class__\u001b[0m\u001b[1;33m.\u001b[0m\u001b[0m__name__\u001b[0m\u001b[1;33m)\u001b[0m\u001b[1;33m\u001b[0m\u001b[1;33m\u001b[0m\u001b[0m\n\u001b[0;32m     88\u001b[0m                 \u001b[1;32mwith\u001b[0m \u001b[0mtorch\u001b[0m\u001b[1;33m.\u001b[0m\u001b[0mautograd\u001b[0m\u001b[1;33m.\u001b[0m\u001b[0mprofiler\u001b[0m\u001b[1;33m.\u001b[0m\u001b[0mrecord_function\u001b[0m\u001b[1;33m(\u001b[0m\u001b[0mprofile_name\u001b[0m\u001b[1;33m)\u001b[0m\u001b[1;33m:\u001b[0m\u001b[1;33m\u001b[0m\u001b[1;33m\u001b[0m\u001b[0m\n\u001b[1;32m---> 89\u001b[1;33m                     \u001b[1;32mreturn\u001b[0m \u001b[0mfunc\u001b[0m\u001b[1;33m(\u001b[0m\u001b[1;33m*\u001b[0m\u001b[0margs\u001b[0m\u001b[1;33m,\u001b[0m \u001b[1;33m**\u001b[0m\u001b[0mkwargs\u001b[0m\u001b[1;33m)\u001b[0m\u001b[1;33m\u001b[0m\u001b[1;33m\u001b[0m\u001b[0m\n\u001b[0m\u001b[0;32m     90\u001b[0m             \u001b[1;32mreturn\u001b[0m \u001b[0mwrapper\u001b[0m\u001b[1;33m\u001b[0m\u001b[1;33m\u001b[0m\u001b[0m\n\u001b[0;32m     91\u001b[0m \u001b[1;33m\u001b[0m\u001b[0m\n",
      "\u001b[1;32m~\\miniconda3\\envs\\venv\\lib\\site-packages\\torch\\autograd\\grad_mode.py\u001b[0m in \u001b[0;36mdecorate_context\u001b[1;34m(*args, **kwargs)\u001b[0m\n\u001b[0;32m     25\u001b[0m         \u001b[1;32mdef\u001b[0m \u001b[0mdecorate_context\u001b[0m\u001b[1;33m(\u001b[0m\u001b[1;33m*\u001b[0m\u001b[0margs\u001b[0m\u001b[1;33m,\u001b[0m \u001b[1;33m**\u001b[0m\u001b[0mkwargs\u001b[0m\u001b[1;33m)\u001b[0m\u001b[1;33m:\u001b[0m\u001b[1;33m\u001b[0m\u001b[1;33m\u001b[0m\u001b[0m\n\u001b[0;32m     26\u001b[0m             \u001b[1;32mwith\u001b[0m \u001b[0mself\u001b[0m\u001b[1;33m.\u001b[0m\u001b[0m__class__\u001b[0m\u001b[1;33m(\u001b[0m\u001b[1;33m)\u001b[0m\u001b[1;33m:\u001b[0m\u001b[1;33m\u001b[0m\u001b[1;33m\u001b[0m\u001b[0m\n\u001b[1;32m---> 27\u001b[1;33m                 \u001b[1;32mreturn\u001b[0m \u001b[0mfunc\u001b[0m\u001b[1;33m(\u001b[0m\u001b[1;33m*\u001b[0m\u001b[0margs\u001b[0m\u001b[1;33m,\u001b[0m \u001b[1;33m**\u001b[0m\u001b[0mkwargs\u001b[0m\u001b[1;33m)\u001b[0m\u001b[1;33m\u001b[0m\u001b[1;33m\u001b[0m\u001b[0m\n\u001b[0m\u001b[0;32m     28\u001b[0m         \u001b[1;32mreturn\u001b[0m \u001b[0mcast\u001b[0m\u001b[1;33m(\u001b[0m\u001b[0mF\u001b[0m\u001b[1;33m,\u001b[0m \u001b[0mdecorate_context\u001b[0m\u001b[1;33m)\u001b[0m\u001b[1;33m\u001b[0m\u001b[1;33m\u001b[0m\u001b[0m\n\u001b[0;32m     29\u001b[0m \u001b[1;33m\u001b[0m\u001b[0m\n",
      "\u001b[1;32m~\\miniconda3\\envs\\venv\\lib\\site-packages\\torch\\optim\\adamw.py\u001b[0m in \u001b[0;36mstep\u001b[1;34m(self, closure)\u001b[0m\n\u001b[0;32m     63\u001b[0m         \u001b[1;32mif\u001b[0m \u001b[0mclosure\u001b[0m \u001b[1;32mis\u001b[0m \u001b[1;32mnot\u001b[0m \u001b[1;32mNone\u001b[0m\u001b[1;33m:\u001b[0m\u001b[1;33m\u001b[0m\u001b[1;33m\u001b[0m\u001b[0m\n\u001b[0;32m     64\u001b[0m             \u001b[1;32mwith\u001b[0m \u001b[0mtorch\u001b[0m\u001b[1;33m.\u001b[0m\u001b[0menable_grad\u001b[0m\u001b[1;33m(\u001b[0m\u001b[1;33m)\u001b[0m\u001b[1;33m:\u001b[0m\u001b[1;33m\u001b[0m\u001b[1;33m\u001b[0m\u001b[0m\n\u001b[1;32m---> 65\u001b[1;33m                 \u001b[0mloss\u001b[0m \u001b[1;33m=\u001b[0m \u001b[0mclosure\u001b[0m\u001b[1;33m(\u001b[0m\u001b[1;33m)\u001b[0m\u001b[1;33m\u001b[0m\u001b[1;33m\u001b[0m\u001b[0m\n\u001b[0m\u001b[0;32m     66\u001b[0m \u001b[1;33m\u001b[0m\u001b[0m\n\u001b[0;32m     67\u001b[0m         \u001b[1;32mfor\u001b[0m \u001b[0mgroup\u001b[0m \u001b[1;32min\u001b[0m \u001b[0mself\u001b[0m\u001b[1;33m.\u001b[0m\u001b[0mparam_groups\u001b[0m\u001b[1;33m:\u001b[0m\u001b[1;33m\u001b[0m\u001b[1;33m\u001b[0m\u001b[0m\n",
      "\u001b[1;32m~\\miniconda3\\envs\\venv\\lib\\site-packages\\pytorch_lightning\\trainer\\training_loop.py\u001b[0m in \u001b[0;36mtrain_step_and_backward_closure\u001b[1;34m()\u001b[0m\n\u001b[0;32m    720\u001b[0m \u001b[1;33m\u001b[0m\u001b[0m\n\u001b[0;32m    721\u001b[0m                         \u001b[1;32mdef\u001b[0m \u001b[0mtrain_step_and_backward_closure\u001b[0m\u001b[1;33m(\u001b[0m\u001b[1;33m)\u001b[0m\u001b[1;33m:\u001b[0m\u001b[1;33m\u001b[0m\u001b[1;33m\u001b[0m\u001b[0m\n\u001b[1;32m--> 722\u001b[1;33m                             result = self.training_step_and_backward(\n\u001b[0m\u001b[0;32m    723\u001b[0m                                 \u001b[0msplit_batch\u001b[0m\u001b[1;33m,\u001b[0m \u001b[0mbatch_idx\u001b[0m\u001b[1;33m,\u001b[0m \u001b[0mopt_idx\u001b[0m\u001b[1;33m,\u001b[0m \u001b[0moptimizer\u001b[0m\u001b[1;33m,\u001b[0m \u001b[0mself\u001b[0m\u001b[1;33m.\u001b[0m\u001b[0mtrainer\u001b[0m\u001b[1;33m.\u001b[0m\u001b[0mhiddens\u001b[0m\u001b[1;33m\u001b[0m\u001b[1;33m\u001b[0m\u001b[0m\n\u001b[0;32m    724\u001b[0m                             )\n",
      "\u001b[1;32m~\\miniconda3\\envs\\venv\\lib\\site-packages\\pytorch_lightning\\trainer\\training_loop.py\u001b[0m in \u001b[0;36mtraining_step_and_backward\u001b[1;34m(self, split_batch, batch_idx, opt_idx, optimizer, hiddens)\u001b[0m\n\u001b[0;32m    824\u001b[0m                 \u001b[1;32mif\u001b[0m \u001b[0mresult\u001b[0m \u001b[1;32mis\u001b[0m \u001b[1;32mnot\u001b[0m \u001b[1;32mNone\u001b[0m\u001b[1;33m:\u001b[0m\u001b[1;33m\u001b[0m\u001b[1;33m\u001b[0m\u001b[0m\n\u001b[0;32m    825\u001b[0m                     \u001b[1;32mwith\u001b[0m \u001b[0mself\u001b[0m\u001b[1;33m.\u001b[0m\u001b[0mtrainer\u001b[0m\u001b[1;33m.\u001b[0m\u001b[0mprofiler\u001b[0m\u001b[1;33m.\u001b[0m\u001b[0mprofile\u001b[0m\u001b[1;33m(\u001b[0m\u001b[1;34m\"backward\"\u001b[0m\u001b[1;33m)\u001b[0m\u001b[1;33m:\u001b[0m\u001b[1;33m\u001b[0m\u001b[1;33m\u001b[0m\u001b[0m\n\u001b[1;32m--> 826\u001b[1;33m                         \u001b[0mself\u001b[0m\u001b[1;33m.\u001b[0m\u001b[0mbackward\u001b[0m\u001b[1;33m(\u001b[0m\u001b[0mresult\u001b[0m\u001b[1;33m,\u001b[0m \u001b[0moptimizer\u001b[0m\u001b[1;33m,\u001b[0m \u001b[0mopt_idx\u001b[0m\u001b[1;33m)\u001b[0m\u001b[1;33m\u001b[0m\u001b[1;33m\u001b[0m\u001b[0m\n\u001b[0m\u001b[0;32m    827\u001b[0m \u001b[1;33m\u001b[0m\u001b[0m\n\u001b[0;32m    828\u001b[0m                     \u001b[1;31m# hook - call this hook only\u001b[0m\u001b[1;33m\u001b[0m\u001b[1;33m\u001b[0m\u001b[1;33m\u001b[0m\u001b[0m\n",
      "\u001b[1;32m~\\miniconda3\\envs\\venv\\lib\\site-packages\\pytorch_lightning\\trainer\\training_loop.py\u001b[0m in \u001b[0;36mbackward\u001b[1;34m(self, result, optimizer, opt_idx, *args, **kwargs)\u001b[0m\n\u001b[0;32m    857\u001b[0m             \u001b[0mself\u001b[0m\u001b[1;33m.\u001b[0m\u001b[0mtrainer\u001b[0m\u001b[1;33m.\u001b[0m\u001b[0maccelerator\u001b[0m\u001b[1;33m.\u001b[0m\u001b[0mbackward\u001b[0m\u001b[1;33m(\u001b[0m\u001b[0mresult\u001b[0m\u001b[1;33m,\u001b[0m \u001b[0moptimizer\u001b[0m\u001b[1;33m,\u001b[0m \u001b[0mopt_idx\u001b[0m\u001b[1;33m,\u001b[0m \u001b[0mshould_accumulate\u001b[0m\u001b[1;33m,\u001b[0m \u001b[1;33m*\u001b[0m\u001b[0margs\u001b[0m\u001b[1;33m,\u001b[0m \u001b[1;33m**\u001b[0m\u001b[0mkwargs\u001b[0m\u001b[1;33m)\u001b[0m\u001b[1;33m\u001b[0m\u001b[1;33m\u001b[0m\u001b[0m\n\u001b[0;32m    858\u001b[0m         \u001b[1;32melse\u001b[0m\u001b[1;33m:\u001b[0m\u001b[1;33m\u001b[0m\u001b[1;33m\u001b[0m\u001b[0m\n\u001b[1;32m--> 859\u001b[1;33m             result.closure_loss = self.trainer.accelerator.backward(\n\u001b[0m\u001b[0;32m    860\u001b[0m                 \u001b[0mresult\u001b[0m\u001b[1;33m.\u001b[0m\u001b[0mclosure_loss\u001b[0m\u001b[1;33m,\u001b[0m \u001b[0moptimizer\u001b[0m\u001b[1;33m,\u001b[0m \u001b[0mopt_idx\u001b[0m\u001b[1;33m,\u001b[0m \u001b[0mshould_accumulate\u001b[0m\u001b[1;33m,\u001b[0m \u001b[1;33m*\u001b[0m\u001b[0margs\u001b[0m\u001b[1;33m,\u001b[0m \u001b[1;33m**\u001b[0m\u001b[0mkwargs\u001b[0m\u001b[1;33m\u001b[0m\u001b[1;33m\u001b[0m\u001b[0m\n\u001b[0;32m    861\u001b[0m             )\n",
      "\u001b[1;32m~\\miniconda3\\envs\\venv\\lib\\site-packages\\pytorch_lightning\\accelerators\\accelerator.py\u001b[0m in \u001b[0;36mbackward\u001b[1;34m(self, closure_loss, optimizer, optimizer_idx, should_accumulate, *args, **kwargs)\u001b[0m\n\u001b[0;32m    306\u001b[0m         \u001b[0mself\u001b[0m\u001b[1;33m.\u001b[0m\u001b[0mtraining_type_plugin\u001b[0m\u001b[1;33m.\u001b[0m\u001b[0mpre_backward\u001b[0m\u001b[1;33m(\u001b[0m\u001b[0mclosure_loss\u001b[0m\u001b[1;33m,\u001b[0m \u001b[0mshould_accumulate\u001b[0m\u001b[1;33m,\u001b[0m \u001b[0moptimizer\u001b[0m\u001b[1;33m,\u001b[0m \u001b[0moptimizer_idx\u001b[0m\u001b[1;33m)\u001b[0m\u001b[1;33m\u001b[0m\u001b[1;33m\u001b[0m\u001b[0m\n\u001b[0;32m    307\u001b[0m \u001b[1;33m\u001b[0m\u001b[0m\n\u001b[1;32m--> 308\u001b[1;33m         output = self.precision_plugin.backward(\n\u001b[0m\u001b[0;32m    309\u001b[0m             \u001b[0mself\u001b[0m\u001b[1;33m.\u001b[0m\u001b[0mlightning_module\u001b[0m\u001b[1;33m,\u001b[0m \u001b[0mclosure_loss\u001b[0m\u001b[1;33m,\u001b[0m \u001b[0moptimizer\u001b[0m\u001b[1;33m,\u001b[0m \u001b[0moptimizer_idx\u001b[0m\u001b[1;33m,\u001b[0m \u001b[0mshould_accumulate\u001b[0m\u001b[1;33m,\u001b[0m \u001b[1;33m*\u001b[0m\u001b[0margs\u001b[0m\u001b[1;33m,\u001b[0m \u001b[1;33m**\u001b[0m\u001b[0mkwargs\u001b[0m\u001b[1;33m\u001b[0m\u001b[1;33m\u001b[0m\u001b[0m\n\u001b[0;32m    310\u001b[0m         )\n",
      "\u001b[1;32m~\\miniconda3\\envs\\venv\\lib\\site-packages\\pytorch_lightning\\plugins\\precision\\precision_plugin.py\u001b[0m in \u001b[0;36mbackward\u001b[1;34m(self, model, closure_loss, optimizer, opt_idx, should_accumulate, *args, **kwargs)\u001b[0m\n\u001b[0;32m     77\u001b[0m         \u001b[1;31m# do backward pass\u001b[0m\u001b[1;33m\u001b[0m\u001b[1;33m\u001b[0m\u001b[1;33m\u001b[0m\u001b[0m\n\u001b[0;32m     78\u001b[0m         \u001b[1;32mif\u001b[0m \u001b[0mautomatic_optimization\u001b[0m\u001b[1;33m:\u001b[0m\u001b[1;33m\u001b[0m\u001b[1;33m\u001b[0m\u001b[0m\n\u001b[1;32m---> 79\u001b[1;33m             \u001b[0mmodel\u001b[0m\u001b[1;33m.\u001b[0m\u001b[0mbackward\u001b[0m\u001b[1;33m(\u001b[0m\u001b[0mclosure_loss\u001b[0m\u001b[1;33m,\u001b[0m \u001b[0moptimizer\u001b[0m\u001b[1;33m,\u001b[0m \u001b[0mopt_idx\u001b[0m\u001b[1;33m)\u001b[0m\u001b[1;33m\u001b[0m\u001b[1;33m\u001b[0m\u001b[0m\n\u001b[0m\u001b[0;32m     80\u001b[0m         \u001b[1;32melse\u001b[0m\u001b[1;33m:\u001b[0m\u001b[1;33m\u001b[0m\u001b[1;33m\u001b[0m\u001b[0m\n\u001b[0;32m     81\u001b[0m             \u001b[0mclosure_loss\u001b[0m\u001b[1;33m.\u001b[0m\u001b[0mbackward\u001b[0m\u001b[1;33m(\u001b[0m\u001b[1;33m*\u001b[0m\u001b[0margs\u001b[0m\u001b[1;33m,\u001b[0m \u001b[1;33m**\u001b[0m\u001b[0mkwargs\u001b[0m\u001b[1;33m)\u001b[0m\u001b[1;33m\u001b[0m\u001b[1;33m\u001b[0m\u001b[0m\n",
      "\u001b[1;32m~\\miniconda3\\envs\\venv\\lib\\site-packages\\pytorch_lightning\\core\\lightning.py\u001b[0m in \u001b[0;36mbackward\u001b[1;34m(self, loss, optimizer, optimizer_idx, *args, **kwargs)\u001b[0m\n\u001b[0;32m   1273\u001b[0m         \"\"\"\n\u001b[0;32m   1274\u001b[0m         \u001b[1;32mif\u001b[0m \u001b[0mself\u001b[0m\u001b[1;33m.\u001b[0m\u001b[0mautomatic_optimization\u001b[0m \u001b[1;32mor\u001b[0m \u001b[0mself\u001b[0m\u001b[1;33m.\u001b[0m\u001b[0m_running_manual_backward\u001b[0m\u001b[1;33m:\u001b[0m\u001b[1;33m\u001b[0m\u001b[1;33m\u001b[0m\u001b[0m\n\u001b[1;32m-> 1275\u001b[1;33m             \u001b[0mloss\u001b[0m\u001b[1;33m.\u001b[0m\u001b[0mbackward\u001b[0m\u001b[1;33m(\u001b[0m\u001b[1;33m*\u001b[0m\u001b[0margs\u001b[0m\u001b[1;33m,\u001b[0m \u001b[1;33m**\u001b[0m\u001b[0mkwargs\u001b[0m\u001b[1;33m)\u001b[0m\u001b[1;33m\u001b[0m\u001b[1;33m\u001b[0m\u001b[0m\n\u001b[0m\u001b[0;32m   1276\u001b[0m \u001b[1;33m\u001b[0m\u001b[0m\n\u001b[0;32m   1277\u001b[0m     \u001b[1;32mdef\u001b[0m \u001b[0mtoggle_optimizer\u001b[0m\u001b[1;33m(\u001b[0m\u001b[0mself\u001b[0m\u001b[1;33m,\u001b[0m \u001b[0moptimizer\u001b[0m\u001b[1;33m:\u001b[0m \u001b[0mOptimizer\u001b[0m\u001b[1;33m,\u001b[0m \u001b[0moptimizer_idx\u001b[0m\u001b[1;33m:\u001b[0m \u001b[0mint\u001b[0m\u001b[1;33m)\u001b[0m\u001b[1;33m:\u001b[0m\u001b[1;33m\u001b[0m\u001b[1;33m\u001b[0m\u001b[0m\n",
      "\u001b[1;32m~\\miniconda3\\envs\\venv\\lib\\site-packages\\torch\\tensor.py\u001b[0m in \u001b[0;36mbackward\u001b[1;34m(self, gradient, retain_graph, create_graph, inputs)\u001b[0m\n\u001b[0;32m    243\u001b[0m                 \u001b[0mcreate_graph\u001b[0m\u001b[1;33m=\u001b[0m\u001b[0mcreate_graph\u001b[0m\u001b[1;33m,\u001b[0m\u001b[1;33m\u001b[0m\u001b[1;33m\u001b[0m\u001b[0m\n\u001b[0;32m    244\u001b[0m                 inputs=inputs)\n\u001b[1;32m--> 245\u001b[1;33m         \u001b[0mtorch\u001b[0m\u001b[1;33m.\u001b[0m\u001b[0mautograd\u001b[0m\u001b[1;33m.\u001b[0m\u001b[0mbackward\u001b[0m\u001b[1;33m(\u001b[0m\u001b[0mself\u001b[0m\u001b[1;33m,\u001b[0m \u001b[0mgradient\u001b[0m\u001b[1;33m,\u001b[0m \u001b[0mretain_graph\u001b[0m\u001b[1;33m,\u001b[0m \u001b[0mcreate_graph\u001b[0m\u001b[1;33m,\u001b[0m \u001b[0minputs\u001b[0m\u001b[1;33m=\u001b[0m\u001b[0minputs\u001b[0m\u001b[1;33m)\u001b[0m\u001b[1;33m\u001b[0m\u001b[1;33m\u001b[0m\u001b[0m\n\u001b[0m\u001b[0;32m    246\u001b[0m \u001b[1;33m\u001b[0m\u001b[0m\n\u001b[0;32m    247\u001b[0m     \u001b[1;32mdef\u001b[0m \u001b[0mregister_hook\u001b[0m\u001b[1;33m(\u001b[0m\u001b[0mself\u001b[0m\u001b[1;33m,\u001b[0m \u001b[0mhook\u001b[0m\u001b[1;33m)\u001b[0m\u001b[1;33m:\u001b[0m\u001b[1;33m\u001b[0m\u001b[1;33m\u001b[0m\u001b[0m\n",
      "\u001b[1;32m~\\miniconda3\\envs\\venv\\lib\\site-packages\\torch\\autograd\\__init__.py\u001b[0m in \u001b[0;36mbackward\u001b[1;34m(tensors, grad_tensors, retain_graph, create_graph, grad_variables, inputs)\u001b[0m\n\u001b[0;32m    143\u001b[0m         \u001b[0mretain_graph\u001b[0m \u001b[1;33m=\u001b[0m \u001b[0mcreate_graph\u001b[0m\u001b[1;33m\u001b[0m\u001b[1;33m\u001b[0m\u001b[0m\n\u001b[0;32m    144\u001b[0m \u001b[1;33m\u001b[0m\u001b[0m\n\u001b[1;32m--> 145\u001b[1;33m     Variable._execution_engine.run_backward(\n\u001b[0m\u001b[0;32m    146\u001b[0m         \u001b[0mtensors\u001b[0m\u001b[1;33m,\u001b[0m \u001b[0mgrad_tensors_\u001b[0m\u001b[1;33m,\u001b[0m \u001b[0mretain_graph\u001b[0m\u001b[1;33m,\u001b[0m \u001b[0mcreate_graph\u001b[0m\u001b[1;33m,\u001b[0m \u001b[0minputs\u001b[0m\u001b[1;33m,\u001b[0m\u001b[1;33m\u001b[0m\u001b[1;33m\u001b[0m\u001b[0m\n\u001b[0;32m    147\u001b[0m         allow_unreachable=True, accumulate_grad=True)  # allow_unreachable flag\n",
      "\u001b[1;31mRuntimeError\u001b[0m: one of the variables needed for gradient computation has been modified by an inplace operation: [torch.cuda.FloatTensor [5, 4, 18]], which is output 0 of SoftmaxBackward, is at version 2; expected version 0 instead. Hint: the backtrace further above shows the operation that failed to compute its gradient. The variable in question was changed in there or anywhere later. Good luck!"
     ]
    }
   ],
   "source": [
    "checkpoint_callback = pl.callbacks.ModelCheckpoint(\n",
    "    filename=\"epoch{epoch:02d}-{val_loss:.3f}-{val_acc_sc:.3f}-{val_acc_sa:.3f}-{val_acc_wn:.3f}-{val_acc_wo:.3f}\",\n",
    "    monitor=\"val_loss\",\n",
    "    save_top_k=3,\n",
    "    mode=\"min\",\n",
    ")\n",
    "earlystop_callback = pl.callbacks.EarlyStopping(\"val_loss\", mode=\"min\")\n",
    "pl.seed_everything(args_dict[\"seed\"])\n",
    "model = Text2SQL(**args_dict)\n",
    "logger = pl.loggers.TensorBoardLogger(args_dict[\"ckpt_path\"], name=args_dict[\"task\"])\n",
    "trainer = pl.Trainer(\n",
    "    callbacks=[checkpoint_callback, earlystop_callback],\n",
    "    default_root_dir=args_dict[\"ckpt_path\"],\n",
    "    max_epochs=args_dict[\"num_train\"],\n",
    "    deterministic=torch.cuda.is_available(),\n",
    "    gpus=-1 if torch.cuda.is_available() else None,\n",
    "    num_sanity_val_steps=0,\n",
    "    logger=logger\n",
    ")\n",
    "trainer.fit(model)"
   ]
  },
  {
   "cell_type": "code",
   "execution_count": 27,
   "id": "1a3d5c50-871b-4d69-8fa2-72520363919f",
   "metadata": {},
   "outputs": [
    {
     "data": {
      "text/plain": [
       "<torch.autograd.anomaly_mode.set_detect_anomaly at 0x1a2a85b2f70>"
      ]
     },
     "execution_count": 27,
     "metadata": {},
     "output_type": "execute_result"
    }
   ],
   "source": [
    "torch.autograd.set_detect_anomaly(True)"
   ]
  },
  {
   "cell_type": "code",
   "execution_count": 56,
   "id": "b63aa490-c9ea-4a49-88ef-fbb718c5f675",
   "metadata": {},
   "outputs": [
    {
     "name": "stderr",
     "output_type": "stream",
     "text": [
      "Global seed set to 88\n"
     ]
    }
   ],
   "source": [
    "pl.seed_everything(args_dict[\"seed\"])\n",
    "loader = model.train_dataloader()"
   ]
  },
  {
   "cell_type": "code",
   "execution_count": 57,
   "id": "a843188e-3f28-469e-a31f-04e6a31b1995",
   "metadata": {},
   "outputs": [],
   "source": [
    "for x in loader:\n",
    "    break"
   ]
  },
  {
   "cell_type": "code",
   "execution_count": 58,
   "id": "831b7ef7-c105-4c4a-aa2d-bd5a7d471f94",
   "metadata": {},
   "outputs": [],
   "source": [
    "batch_qs, batch_ts, batch_sqls = model.get_batch_data(x, model.table_dict[\"train\"])"
   ]
  },
  {
   "cell_type": "code",
   "execution_count": 59,
   "id": "7b7128b7-b0ac-430b-bcbf-f1f6e0cbdbd8",
   "metadata": {},
   "outputs": [],
   "source": [
    "g_sc, g_sa, g_wn, g_wc, g_wo, _, g_wv_tkns = model.get_sql_answers(batch_sqls)\n",
    "gold = [g_sc, g_sa, g_wn, g_wc, g_wo, g_wv_tkns]"
   ]
  },
  {
   "cell_type": "code",
   "execution_count": 60,
   "id": "b40b458d-8367-4fa7-9963-0149be70f299",
   "metadata": {},
   "outputs": [],
   "source": [
    "encode_inputs = model.tokenizer_bert(\n",
    "    batch_qs, batch_ts, \n",
    "    max_length=model.hparams.max_length, padding=True, truncation=True, return_tensors=\"pt\", \n",
    "    return_attention_mask=True, \n",
    "    return_special_tokens_mask=False, \n",
    ").to(model.device)"
   ]
  },
  {
   "cell_type": "code",
   "execution_count": 61,
   "id": "06a4fd64-4958-456c-b058-3716c71560d8",
   "metadata": {},
   "outputs": [],
   "source": [
    "encode_outputs = model.model_bert(**encode_inputs)"
   ]
  },
  {
   "cell_type": "code",
   "execution_count": 62,
   "id": "7500927b-9e28-410b-87a8-d70bad35dbc5",
   "metadata": {},
   "outputs": [],
   "source": [
    "input_question_mask, input_db_mask, input_col_mask = model.get_input_mask(encode_inputs)"
   ]
  },
  {
   "cell_type": "code",
   "execution_count": 63,
   "id": "c8061905-70a3-4afb-805a-d012f9ff216b",
   "metadata": {},
   "outputs": [],
   "source": [
    "question_padded, question_lengths = model.get_decoder_batches(encode_outputs, input_question_mask, pad_idx=model.tokenizer_bert.pad_token_id)\n",
    "db_padded, db_lengths = model.get_decoder_batches(encode_outputs, input_db_mask, pad_idx=model.tokenizer_bert.pad_token_id)\n",
    "col_padded, col_lengths = model.get_decoder_batches(encode_outputs, input_col_mask, pad_idx=model.tokenizer_bert.pad_token_id)"
   ]
  },
  {
   "cell_type": "code",
   "execution_count": 64,
   "id": "f54b69ec-f0e6-4983-8197-413e50450997",
   "metadata": {},
   "outputs": [
    {
     "data": {
      "text/plain": [
       "(torch.Size([5, 16, 768]), torch.Size([5, 112, 768]), torch.Size([5, 14, 768]))"
      ]
     },
     "execution_count": 64,
     "metadata": {},
     "output_type": "execute_result"
    }
   ],
   "source": [
    "question_padded.size(), db_padded.size(), col_padded.size()"
   ]
  },
  {
   "cell_type": "code",
   "execution_count": 68,
   "id": "d230d712-529b-4c46-bbe1-78e3c3da6dda",
   "metadata": {},
   "outputs": [],
   "source": [
    "select_outputs, at1 = model.model_decoder.select_decoder(question_padded, db_padded, col_padded, question_lengths, col_lengths, True)\n",
    "select_idxes = g_sc if g_sc else model.model_decoder.predict_decoder(\"sc\", select_outputs=select_outputs)\n",
    "# select_idxes = self.predict_decoder(\"sc\", select_outputs=select_outputs)\n",
    "\n",
    "agg_outputs, at2 = model.model_decoder.agg_decoder(question_padded, db_padded, col_padded, question_lengths, col_lengths, select_idxes, True)\n",
    "\n",
    "where_num_outputs, at3  = model.model_decoder.where_num_decoder(question_padded, db_padded, col_padded, question_lengths, col_lengths, True)\n",
    "where_nums = g_wn if g_wn else model.model_decoder.predict_decoder(\"wn\", where_num_outputs=where_num_outputs)\n",
    "# where_nums = self.predict_decoder(\"wn\", where_num_outputs=where_num_outputs)\n",
    "\n",
    "where_col_outputs, at4 = model.model_decoder.where_col_decoder(question_padded, db_padded, col_padded, question_lengths, col_lengths, True)\n",
    "where_col_idxes = g_wc if g_wc else model.model_decoder.predict_decoder(\"wc\", where_col_outputs=where_col_outputs, where_nums=where_nums)\n",
    "# where_col_idxes = self.predict_decoder(\"wc\", where_col_outputs=where_col_outputs, where_nums=where_nums)\n",
    "\n",
    "where_op_outputs, at5 = model.model_decoder.where_op_decoder(question_padded, db_padded, col_padded, question_lengths, where_nums, where_col_idxes, True)\n",
    "where_op_idxes = g_wo if g_wo else model.model_decoder.predict_decoder(\"wo\", where_op_outputs=where_op_outputs, where_nums=where_nums)\n",
    "# where_op_idxes = self.predict_decoder(\"wo\", where_op_outputs=where_op_outputs, where_nums=where_nums)\n",
    "where_value_outputs, at6 = model.model_decoder.where_value_decoder(question_padded, db_padded, col_padded, question_lengths, where_nums, where_col_idxes, where_op_idxes, None, g_wv_tkns, True)\n"
   ]
  },
  {
   "cell_type": "code",
   "execution_count": 74,
   "id": "08c6532b-8993-42b8-bb86-3b7328586473",
   "metadata": {},
   "outputs": [
    {
     "data": {
      "text/plain": [
       "[16, 14, 16, 13, 14]"
      ]
     },
     "execution_count": 74,
     "metadata": {},
     "output_type": "execute_result"
    }
   ],
   "source": [
    "question_lengths"
   ]
  },
  {
   "cell_type": "code",
   "execution_count": 71,
   "id": "cded53af-32d1-4fed-a0fb-5c94fa7dc37b",
   "metadata": {},
   "outputs": [],
   "source": [
    "import matplotlib.pyplot as plt"
   ]
  },
  {
   "cell_type": "code",
   "execution_count": 83,
   "id": "60a46d58-0be6-4ee1-8af0-4cabb652991e",
   "metadata": {},
   "outputs": [
    {
     "data": {
      "text/plain": [
       "<matplotlib.image.AxesImage at 0x1a3bd066d00>"
      ]
     },
     "execution_count": 83,
     "metadata": {},
     "output_type": "execute_result"
    },
    {
     "data": {
      "image/png": "[encoded data removed]",
      "text/plain": [
       "<Figure size 1152x144 with 1 Axes>"
      ]
     },
     "metadata": {
      "needs_background": "light"
     },
     "output_type": "display_data"
    }
   ],
   "source": [
    "plt.matshow(at2[1].detach().cpu().numpy())"
   ]
  },
  {
   "cell_type": "code",
   "execution_count": 76,
   "id": "6ace54ac-c9f3-4b33-8950-85f6ca8776f6",
   "metadata": {},
   "outputs": [
    {
     "data": {
      "text/plain": [
       "tensor([[0.0716, 0.0716, 0.0716, 0.0715, 0.0714, 0.0712, 0.0712, 0.0713, 0.0713,\n",
       "         0.0714, 0.0715, 0.0716, 0.0715, 0.0714, 0.0000, 0.0000],\n",
       "        [0.0716, 0.0716, 0.0716, 0.0715, 0.0714, 0.0712, 0.0712, 0.0713, 0.0713,\n",
       "         0.0714, 0.0715, 0.0716, 0.0715, 0.0714, 0.0000, 0.0000],\n",
       "        [0.0715, 0.0715, 0.0716, 0.0715, 0.0714, 0.0712, 0.0712, 0.0713, 0.0713,\n",
       "         0.0714, 0.0715, 0.0716, 0.0715, 0.0715, 0.0000, 0.0000],\n",
       "        [0.0715, 0.0715, 0.0715, 0.0714, 0.0714, 0.0713, 0.0712, 0.0713, 0.0713,\n",
       "         0.0714, 0.0715, 0.0716, 0.0715, 0.0715, 0.0000, 0.0000],\n",
       "        [0.0715, 0.0715, 0.0715, 0.0714, 0.0714, 0.0712, 0.0712, 0.0713, 0.0713,\n",
       "         0.0714, 0.0715, 0.0716, 0.0715, 0.0715, 0.0000, 0.0000],\n",
       "        [0.0715, 0.0715, 0.0715, 0.0714, 0.0714, 0.0713, 0.0712, 0.0714, 0.0713,\n",
       "         0.0714, 0.0715, 0.0716, 0.0715, 0.0715, 0.0000, 0.0000],\n",
       "        [0.0715, 0.0715, 0.0715, 0.0714, 0.0714, 0.0712, 0.0712, 0.0714, 0.0713,\n",
       "         0.0714, 0.0715, 0.0716, 0.0716, 0.0716, 0.0000, 0.0000],\n",
       "        [0.0715, 0.0715, 0.0714, 0.0714, 0.0714, 0.0713, 0.0712, 0.0714, 0.0713,\n",
       "         0.0714, 0.0715, 0.0716, 0.0715, 0.0716, 0.0000, 0.0000],\n",
       "        [0.0715, 0.0715, 0.0715, 0.0715, 0.0714, 0.0712, 0.0712, 0.0714, 0.0713,\n",
       "         0.0714, 0.0715, 0.0716, 0.0715, 0.0715, 0.0000, 0.0000],\n",
       "        [0.0715, 0.0715, 0.0715, 0.0715, 0.0714, 0.0712, 0.0712, 0.0714, 0.0713,\n",
       "         0.0714, 0.0715, 0.0716, 0.0715, 0.0715, 0.0000, 0.0000],\n",
       "        [0.0714, 0.0715, 0.0715, 0.0715, 0.0714, 0.0712, 0.0712, 0.0714, 0.0713,\n",
       "         0.0714, 0.0715, 0.0716, 0.0716, 0.0715, 0.0000, 0.0000],\n",
       "        [0.0715, 0.0715, 0.0715, 0.0715, 0.0714, 0.0712, 0.0712, 0.0714, 0.0714,\n",
       "         0.0714, 0.0715, 0.0715, 0.0715, 0.0715, 0.0000, 0.0000],\n",
       "        [0.0715, 0.0715, 0.0715, 0.0715, 0.0714, 0.0712, 0.0712, 0.0714, 0.0714,\n",
       "         0.0714, 0.0715, 0.0716, 0.0715, 0.0715, 0.0000, 0.0000],\n",
       "        [0.0715, 0.0715, 0.0715, 0.0715, 0.0714, 0.0712, 0.0712, 0.0714, 0.0714,\n",
       "         0.0714, 0.0715, 0.0716, 0.0715, 0.0714, 0.0000, 0.0000]],\n",
       "       device='cuda:0', grad_fn=<SelectBackward>)"
      ]
     },
     "execution_count": 76,
     "metadata": {},
     "output_type": "execute_result"
    }
   ],
   "source": [
    "# loss 구할때 "
   ]
  },
  {
   "cell_type": "code",
   "execution_count": null,
   "id": "51401f07-5063-4a44-80b5-42ce4c5948c7",
   "metadata": {},
   "outputs": [],
   "source": []
  },
  {
   "cell_type": "code",
   "execution_count": null,
   "id": "ac1f0f2d-324a-44d8-8e2c-29114e634498",
   "metadata": {},
   "outputs": [],
   "source": []
  },
  {
   "cell_type": "code",
   "execution_count": 65,
   "id": "2486e6ba-bbad-4541-bcb3-bfe9c240fab8",
   "metadata": {},
   "outputs": [],
   "source": [
    "decoder_outputs = model.model_decoder(\n",
    "    question_padded, \n",
    "    db_padded, \n",
    "    col_padded, \n",
    "    question_lengths, \n",
    "    col_lengths, \n",
    "    None, \n",
    "    gold\n",
    ")"
   ]
  },
  {
   "cell_type": "code",
   "execution_count": 66,
   "id": "973ffdfb-c145-4936-baad-35eee0c5b4ab",
   "metadata": {},
   "outputs": [
    {
     "name": "stdout",
     "output_type": "stream",
     "text": [
      "sc torch.Size([5, 14])\n",
      "sa torch.Size([5, 6])\n",
      "wn torch.Size([5, 5])\n",
      "wc torch.Size([5, 14])\n",
      "wo torch.Size([5, 4, 4])\n",
      "wv\n",
      "torch.Size([5, 5, 8005])\n",
      "torch.Size([5, 5, 8005])\n",
      "torch.Size([5, 1, 8005])\n",
      "torch.Size([5, 1, 8005])\n"
     ]
    }
   ],
   "source": [
    "for k, v in decoder_outputs.items():\n",
    "    if k != \"wv\":\n",
    "        print(k, v.size())\n",
    "    else:\n",
    "        print(k)\n",
    "        for x in v:\n",
    "            print(x.size())"
   ]
  },
  {
   "cell_type": "markdown",
   "id": "72a2c632",
   "metadata": {},
   "source": [
    "---"
   ]
  },
  {
   "cell_type": "markdown",
   "id": "5506e3a7",
   "metadata": {},
   "source": [
    "## Testing: Execution-guided beam decoding"
   ]
  },
  {
   "cell_type": "code",
   "execution_count": 47,
   "id": "ba3cfb36",
   "metadata": {},
   "outputs": [],
   "source": [
    "beam_size = 4"
   ]
  },
  {
   "cell_type": "markdown",
   "id": "eaa5837d",
   "metadata": {},
   "source": [
    "### SELECT beam search"
   ]
  },
  {
   "cell_type": "code",
   "execution_count": 136,
   "id": "507f2a97",
   "metadata": {},
   "outputs": [
    {
     "data": {
      "text/plain": [
       "torch.Size([2, 20])"
      ]
     },
     "execution_count": 136,
     "metadata": {},
     "output_type": "execute_result"
    }
   ],
   "source": [
    "select_outputs, _ = model_decoder.select_decoder(question_padded, header_padded, col_padded, question_lengths, col_lengths)\n",
    "select_outputs.size()"
   ]
  },
  {
   "cell_type": "markdown",
   "id": "15594c83",
   "metadata": {},
   "source": [
    "construct all possible select + (agg) score"
   ]
  },
  {
   "cell_type": "code",
   "execution_count": 137,
   "id": "2c5274c9",
   "metadata": {},
   "outputs": [
    {
     "name": "stdout",
     "output_type": "stream",
     "text": [
      "torch.Size([2, 4, 6])\n"
     ]
    }
   ],
   "source": [
    "batch_size, n_col = select_output.size()\n",
    "\n",
    "select_prob = torch.softmax(select_output, 1)  # prob_sc\n",
    "if n_col < beam_size:\n",
    "    beam_size_max_col = n_col\n",
    "else:\n",
    "    beam_size_max_col = beam_size\n",
    "\n",
    "prob_sc_sa = torch.zeros([batch_size, beam_size_max_col, n_agg_ops])\n",
    "prob_sca = torch.zeros_like(prob_sc_sa)\n",
    "print(prob_sca.size())  # (B, beam-size, n_agg_ops)"
   ]
  },
  {
   "cell_type": "code",
   "execution_count": 138,
   "id": "46fb9de7",
   "metadata": {},
   "outputs": [
    {
     "name": "stdout",
     "output_type": "stream",
     "text": [
      "sc top k: [[14, 5, 2, 4], [2, 18, 0, 19]]\n"
     ]
    }
   ],
   "source": [
    "# beamseacrh\n",
    "_, pr_sc_beam = select_outputs.topk(k=beam_size_max_col) # pr_sc_beam: (B, beam_size)\n",
    "print(f\"sc top k: {pr_sc_beam.tolist()}\")\n",
    "\n",
    "for i_beam in range(beam_size_max_col):\n",
    "    select_idxes = pr_sc_beam[:, i_beam].tolist()  # select one of predicted index\n",
    "    agg_outputs, _ = model_decoder.agg_decoder(question_padded, header_padded, col_padded, question_lengths, col_lengths, select_idxes)\n",
    "    agg_prob = torch.softmax(agg_outputs, dim=-1)  # prob_sa: (B, n_agg_ops)\n",
    "    prob_sc_sa[:, i_beam, :] = agg_prob\n",
    "    \n",
    "    prob_sc_selected = select_prob[range(batch_size), select_idx]  # (B,)\n",
    "    prob_sca[:, i_beam, :] = (agg_prob.t() * prob_sc_selected).t()  # (n_agg_ops, B) \\odot (1, B) (broadcast) -> (B, max_col)"
   ]
  },
  {
   "cell_type": "code",
   "execution_count": 139,
   "id": "824eeda2",
   "metadata": {},
   "outputs": [
    {
     "data": {
      "text/plain": [
       "tensor([0.0503, 0.0503], grad_fn=<IndexBackward>)"
      ]
     },
     "execution_count": 139,
     "metadata": {},
     "output_type": "execute_result"
    }
   ],
   "source": [
    "prob_sc_selected"
   ]
  },
  {
   "cell_type": "code",
   "execution_count": 140,
   "id": "86866173",
   "metadata": {},
   "outputs": [
    {
     "name": "stdout",
     "output_type": "stream",
     "text": [
      "tensor([[[0.1524, 0.1822, 0.1478, 0.1937, 0.1536, 0.1703],\n",
      "         [0.1514, 0.1820, 0.1485, 0.1943, 0.1518, 0.1720],\n",
      "         [0.1518, 0.1816, 0.1489, 0.1934, 0.1524, 0.1720],\n",
      "         [0.1512, 0.1826, 0.1473, 0.1951, 0.1527, 0.1711]],\n",
      "\n",
      "        [[0.1536, 0.1789, 0.1471, 0.1923, 0.1539, 0.1742],\n",
      "         [0.1520, 0.1789, 0.1463, 0.1936, 0.1533, 0.1758],\n",
      "         [0.1519, 0.1782, 0.1498, 0.1938, 0.1528, 0.1734],\n",
      "         [0.1532, 0.1790, 0.1466, 0.1933, 0.1541, 0.1738]]])\n"
     ]
    }
   ],
   "source": [
    "print(prob_sc_sa.data)"
   ]
  },
  {
   "cell_type": "code",
   "execution_count": 141,
   "id": "64d864ed",
   "metadata": {},
   "outputs": [
    {
     "name": "stdout",
     "output_type": "stream",
     "text": [
      "torch.Size([2, 4, 6])\n",
      "tensor([[[0.0077, 0.0092, 0.0074, 0.0097, 0.0077, 0.0086],\n",
      "         [0.0076, 0.0092, 0.0075, 0.0098, 0.0076, 0.0087],\n",
      "         [0.0076, 0.0091, 0.0075, 0.0097, 0.0077, 0.0087],\n",
      "         [0.0076, 0.0092, 0.0074, 0.0098, 0.0077, 0.0086]],\n",
      "\n",
      "        [[0.0077, 0.0090, 0.0074, 0.0097, 0.0077, 0.0088],\n",
      "         [0.0077, 0.0090, 0.0074, 0.0097, 0.0077, 0.0089],\n",
      "         [0.0076, 0.0090, 0.0075, 0.0098, 0.0077, 0.0087],\n",
      "         [0.0077, 0.0090, 0.0074, 0.0097, 0.0078, 0.0087]]])\n"
     ]
    }
   ],
   "source": [
    "print(prob_sca.size())  # (B, beam_size, prob_sc * prob_agg)\n",
    "print(prob_sca.data)"
   ]
  },
  {
   "cell_type": "code",
   "execution_count": 142,
   "id": "af9cdcc7",
   "metadata": {},
   "outputs": [],
   "source": [
    "def topk_multi_dim(tensor, n_topk):\n",
    "    batch_size = tensor.size(0)\n",
    "    values_1d, idxes_1d = tensor.view(batch_size, -1).topk(n_topk)\n",
    "    idxes = np.stack(np.unravel_index(idxes_1d, tensor.size()[1:])).transpose(1, 2, 0)\n",
    "    values = tensor.view(batch_size, -1).gather(1, idxes_1d).numpy()\n",
    "    return idxes, values"
   ]
  },
  {
   "cell_type": "code",
   "execution_count": 143,
   "id": "e4bf2964",
   "metadata": {
    "tags": []
   },
   "outputs": [],
   "source": [
    "# First flatten to 1-d\n",
    "if np.prod(prob_sca.shape[1:]) < beam_size:\n",
    "    beam_size_sca = np.prod(prob_sca.shape[1:])\n",
    "else:\n",
    "    beam_size_sca = beam_size\n",
    "# Now as sc_idx is already sorted, re-map them properly.\n",
    "# idxes: [sc_beam_idx, sa_idx] -> sca_idxes: [sc_idx, sa_idx]\n",
    "idxes, values = topk_multi_dim(prob_sca.detach().cpu(), n_topk=beam_size_sca)\n",
    "sc_beam_idxes = idxes[:, :, 0]\n",
    "sc_idxes = np.stack([pr_sc_beam.numpy()[i, sc_beam_idx] for i, sc_beam_idx in enumerate(sc_beam_idxes)]) # (B, beam_size)\n",
    "sca_idxes = np.stack([sc_idxes, idxes[:, :, 1]]).transpose(1, 2, 0)  # (B, beam_size, sc+sa=2)"
   ]
  },
  {
   "cell_type": "code",
   "execution_count": 144,
   "id": "cd3bf9bb",
   "metadata": {},
   "outputs": [
    {
     "data": {
      "text/plain": [
       "array([[[ 4,  3],\n",
       "        [ 5,  3],\n",
       "        [14,  3],\n",
       "        [ 2,  3]],\n",
       "\n",
       "       [[ 0,  3],\n",
       "        [18,  3],\n",
       "        [19,  3],\n",
       "        [ 2,  3]]])"
      ]
     },
     "execution_count": 144,
     "metadata": {},
     "output_type": "execute_result"
    }
   ],
   "source": [
    "sca_idxes"
   ]
  },
  {
   "cell_type": "code",
   "execution_count": 145,
   "id": "07d83b20",
   "metadata": {},
   "outputs": [],
   "source": [
    "def check_sc_sa_pairs(tb, pr_sc, pr_sa):\n",
    "    \"\"\"\n",
    "    tb = single table json\n",
    "    Check whether pr_sc, pr_sa are allowed pairs or not.\n",
    "    agg_ops = ['', 'MAX', 'MIN', 'COUNT', 'SUM', 'AVG']\n",
    "    \"\"\"\n",
    "    batch_size = len(pr_sc)\n",
    "    check = [False] * batch_size\n",
    "    \n",
    "    for b, b_pr_sc in enumerate(pr_sc):\n",
    "        if len(tb['types']) <= b_pr_sc:\n",
    "            check[b] = False\n",
    "            continue\n",
    "        b_pr_sa = pr_sa[b]\n",
    "        header_types = tb['types']\n",
    "        header_type_sc = header_types[b_pr_sc].lower()\n",
    "        if header_type_sc == 'text':\n",
    "            if b_pr_sa == 0 or b_pr_sa == 3: \n",
    "                check[b] = True\n",
    "            else:\n",
    "                check[b] = False\n",
    "\n",
    "        elif header_type_sc == 'integer' or header_type_sc == 'float':\n",
    "            check[b] = True\n",
    "        else:\n",
    "            raise Exception(\"New TYPE!!\")\n",
    "\n",
    "    return check"
   ]
  },
  {
   "cell_type": "code",
   "execution_count": 146,
   "id": "20f5b6ac",
   "metadata": {},
   "outputs": [],
   "source": [
    "# Calculate prob_sca, a joint probability\n",
    "beam_idx_sca = [0] * batch_size\n",
    "beam_meet_the_final = [False] * batch_size"
   ]
  },
  {
   "cell_type": "code",
   "execution_count": 147,
   "id": "ea739c87",
   "metadata": {},
   "outputs": [],
   "source": [
    "while True:\n",
    "    pr_sc = sca_idxes[range(batch_size), beam_idx_sca, 0]\n",
    "    pr_sa = sca_idxes[range(batch_size), beam_idx_sca, 1]\n",
    "    check = check_sc_sa_pairs(table[\"receipts\"], pr_sc, pr_sa)\n",
    "    if sum(check) == batch_size:\n",
    "        break\n",
    "    else:\n",
    "        for b, b_check in enumerate(check):\n",
    "            if not b_check: # wrong pair\n",
    "                beam_idx_sca[b] += 1\n",
    "                if beam_idx_sca[b] >= beam_size_sca:\n",
    "                    beam_meet_the_final[b] = True\n",
    "                    beam_idx_sca[b] -= 1\n",
    "            else:\n",
    "                beam_meet_the_final[b] = True\n",
    "\n",
    "    if sum(beam_meet_the_final) == batch_size:\n",
    "        break"
   ]
  },
  {
   "cell_type": "code",
   "execution_count": 148,
   "id": "9c676e0c",
   "metadata": {},
   "outputs": [],
   "source": [
    "pr_sc_best = list(pr_sc)\n",
    "pr_sa_best = list(pr_sa)"
   ]
  },
  {
   "cell_type": "markdown",
   "id": "624d5e70",
   "metadata": {},
   "source": [
    "## WHERE clause beam search"
   ]
  },
  {
   "cell_type": "code",
   "execution_count": 149,
   "id": "3312ba93",
   "metadata": {},
   "outputs": [],
   "source": [
    "where_num_outputs, _  = model_decoder.where_num_decoder(question_padded, header_padded, col_padded, question_lengths, col_lengths)\n",
    "prob_wn = torch.softmax(where_num_outputs, dim=-1).detach().cpu().numpy()"
   ]
  },
  {
   "cell_type": "code",
   "execution_count": 150,
   "id": "75d4fb27",
   "metadata": {},
   "outputs": [
    {
     "data": {
      "text/plain": [
       "array([[0.19943994, 0.21269168, 0.19114491, 0.21635418, 0.18036927],\n",
       "       [0.1970151 , 0.21438198, 0.19467372, 0.21400847, 0.17992072]],\n",
       "      dtype=float32)"
      ]
     },
     "execution_count": 150,
     "metadata": {},
     "output_type": "execute_result"
    }
   ],
   "source": [
    "prob_wn"
   ]
  },
  {
   "cell_type": "code",
   "execution_count": 151,
   "id": "f0efd2f7",
   "metadata": {},
   "outputs": [],
   "source": [
    "where_col_outputs, _ = model_decoder.where_col_decoder(question_padded, header_padded, col_padded, question_lengths, col_lengths)\n",
    "where_nums = model_decoder.predict_decoder(\"wn\", where_num_outputs=where_num_outputs)\n",
    "prob_wc = torch.sigmoid(where_col_outputs).detach().cpu().numpy()"
   ]
  },
  {
   "cell_type": "code",
   "execution_count": 152,
   "id": "88f0b28c",
   "metadata": {},
   "outputs": [
    {
     "data": {
      "text/plain": [
       "array([[0.49202684, 0.4923531 , 0.49339655, 0.4926352 , 0.4921672 ,\n",
       "        0.49323654, 0.4927438 , 0.4918207 , 0.4921981 , 0.49224687,\n",
       "        0.49229336, 0.49169996, 0.48907605, 0.4890667 , 0.48958477,\n",
       "        0.4892638 , 0.48943475, 0.4897049 , 0.4910051 , 0.49259278],\n",
       "       [0.4946221 , 0.49537787, 0.49438062, 0.49485302, 0.4945096 ,\n",
       "        0.49569654, 0.49484485, 0.49506623, 0.4936429 , 0.49399838,\n",
       "        0.49496365, 0.4929868 , 0.49419218, 0.49251673, 0.49326468,\n",
       "        0.4935392 , 0.4941137 , 0.4930429 , 0.49313435, 0.4940745 ]],\n",
       "      dtype=float32)"
      ]
     },
     "execution_count": 152,
     "metadata": {},
     "output_type": "execute_result"
    }
   ],
   "source": [
    "prob_wc"
   ]
  },
  {
   "cell_type": "code",
   "execution_count": 157,
   "id": "9a0b97d5",
   "metadata": {},
   "outputs": [],
   "source": [
    "pr_wn_max = [max_where_conds]*batch_size\n",
    "where_col_idxes = model_decoder.predict_decoder(\"wc\", where_col_outputs=where_col_outputs, where_nums=where_nums)"
   ]
  },
  {
   "cell_type": "code",
   "execution_count": 167,
   "id": "260a2fd4",
   "metadata": {},
   "outputs": [
    {
     "data": {
      "text/plain": [
       "array([0.4890667 , 0.48907605, 0.4892638 ], dtype=float32)"
      ]
     },
     "execution_count": 167,
     "metadata": {},
     "output_type": "execute_result"
    }
   ],
   "source": [
    "prob_wc[b, b_where_col_idxes]"
   ]
  },
  {
   "cell_type": "code",
   "execution_count": 168,
   "id": "b6f7eb4a",
   "metadata": {},
   "outputs": [],
   "source": [
    "prob_wc_max = np.zeros([batch_size, max_where_conds])\n",
    "for b, b_where_col_idxes in enumerate(where_col_idxes):\n",
    "    prob_wc_max[b, :] = list(prob_wc[b, b_where_col_idxes]) + [0.0]*(max_where_conds - len(b_where_col_idxes))"
   ]
  },
  {
   "cell_type": "code",
   "execution_count": 171,
   "id": "0347c9a3",
   "metadata": {},
   "outputs": [],
   "source": [
    "where_op_outputs = model_decoder.where_op_decoder(question_padded, header_padded, col_padded, question_lengths, where_nums, where_col_idxes)\n",
    "where_op_idxes = model_decoder.predict_decoder(\"wo\", where_op_outputs=where_op_outputs, where_nums=where_nums)\n",
    "prob_wo = torch.softmax(where_op_outputs, dim=-1).detach().cpu().numpy()  # (B, max_where_num, )"
   ]
  },
  {
   "cell_type": "markdown",
   "id": "53cd9c54",
   "metadata": {},
   "source": [
    "writing ..."
   ]
  },
  {
   "cell_type": "code",
   "execution_count": 161,
   "id": "aef96354",
   "metadata": {},
   "outputs": [
    {
     "data": {
      "text/plain": [
       "array([0.4890667 , 0.48907605, 0.4892638 ], dtype=float32)"
      ]
     },
     "execution_count": 161,
     "metadata": {},
     "output_type": "execute_result"
    }
   ],
   "source": [
    "prob_wc[0, [13, 12, 15]]"
   ]
  },
  {
   "cell_type": "code",
   "execution_count": null,
   "id": "766f20eb",
   "metadata": {},
   "outputs": [],
   "source": []
  },
  {
   "cell_type": "code",
   "execution_count": null,
   "id": "22dd117b",
   "metadata": {},
   "outputs": [],
   "source": [
    "# First flatten to 1-d\n",
    "if np.prod(prob_sca.shape[1:]) < beam_size:\n",
    "    beam_size_sca = np.prod(prob_sca.shape[1:])\n",
    "else:\n",
    "    beam_size_sca = beam_size\n",
    "idxs_s, values_s = topk_multi_dim(torch.tensor(prob_sca), n_topk=beam_size_sca, batch_exist=True)\n",
    "# Now as sc_idx is already sorted, re-map them properly.\n",
    "\n",
    "idxs_s = remap_sc_idx(idxs_s, pr_sc_beam) # [sc_beam_idx, sa_idx] -> [sc_idx, sa_idx]\n",
    "idxs_arr = array(idxs_s)\n",
    "# [B, beam_size, remainig dim]\n",
    "# idxs[b][0] gives first probable [sc_idx, sa_idx] pairs.\n",
    "# idxs[b][1] gives of second.\n",
    "\n",
    "# Calculate prob_sca, a joint probability\n",
    "beam_idx_sca = [0] * bS\n",
    "beam_meet_the_final = [False] * bS\n",
    "while True:\n",
    "    pr_sc = idxs_arr[range(bS),beam_idx_sca,0]\n",
    "    pr_sa = idxs_arr[range(bS),beam_idx_sca,1]\n",
    "\n",
    "    # map index properly\n",
    "\n",
    "    check = check_sc_sa_pairs(tb, pr_sc, pr_sa)\n",
    "\n",
    "    if sum(check) == bS:\n",
    "        break\n",
    "    else:\n",
    "        for b, check1 in enumerate(check):\n",
    "            if not check1: # wrong pair\n",
    "                beam_idx_sca[b] += 1\n",
    "                if beam_idx_sca[b] >= beam_size_sca:\n",
    "                    beam_meet_the_final[b] = True\n",
    "                    beam_idx_sca[b] -= 1\n",
    "            else:\n",
    "                beam_meet_the_final[b] = True\n",
    "\n",
    "    if sum(beam_meet_the_final) == bS:\n",
    "        break"
   ]
  }
 ],
 "metadata": {
  "kernelspec": {
   "display_name": "Python 3",
   "language": "python",
   "name": "python3"
  },
  "language_info": {
   "codemirror_mode": {
    "name": "ipython",
    "version": 3
   },
   "file_extension": ".py",
   "mimetype": "text/x-python",
   "name": "python",
   "nbconvert_exporter": "python",
   "pygments_lexer": "ipython3",
   "version": "3.8.10"
  }
 },
 "nbformat": 4,
 "nbformat_minor": 5
}
