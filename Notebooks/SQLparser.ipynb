{
 "cells": [
  {
   "cell_type": "markdown",
   "id": "registered-berkeley",
   "metadata": {},
   "source": [
    "# SQL parser Tutorial\n",
    "\n",
    "[https://github.com/mozilla/moz-sql-parser](https://github.com/mozilla/moz-sql-parser)\n",
    "\n",
    "```\n",
    "$ pip install moz-sql-parser\n",
    "```"
   ]
  },
  {
   "cell_type": "code",
   "execution_count": 8,
   "id": "hourly-prophet",
   "metadata": {},
   "outputs": [],
   "source": [
    "import json\n",
    "from moz_sql_parser import parse\n",
    "from pprint import PrettyPrinter"
   ]
  },
  {
   "cell_type": "code",
   "execution_count": 14,
   "id": "first-conditioning",
   "metadata": {},
   "outputs": [
    {
     "name": "stdout",
     "output_type": "stream",
     "text": [
      "'{\"select\": {\"value\": {\"count\": \"empolyee\"}}, \"from\": \"embtable\"}'\n"
     ]
    }
   ],
   "source": [
    "query = \"SELECT count(empolyee) FROM embtable\"\n",
    "pp = PrettyPrinter()\n",
    "pp.pprint(json.dumps(parse(query)))"
   ]
  }
 ],
 "metadata": {
  "kernelspec": {
   "display_name": "Python 3",
   "language": "python",
   "name": "python3"
  },
  "language_info": {
   "codemirror_mode": {
    "name": "ipython",
    "version": 3
   },
   "file_extension": ".py",
   "mimetype": "text/x-python",
   "name": "python",
   "nbconvert_exporter": "python",
   "pygments_lexer": "ipython3",
   "version": "3.7.10"
  }
 },
 "nbformat": 4,
 "nbformat_minor": 5
}
