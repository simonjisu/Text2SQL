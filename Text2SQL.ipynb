{
 "cells": [
  {
   "cell_type": "markdown",
   "id": "3324f38d",
   "metadata": {},
   "source": [
    "# Text2SQL Test Notebook"
   ]
  },
  {
   "cell_type": "code",
   "execution_count": 1,
   "id": "6a20c649",
   "metadata": {},
   "outputs": [
    {
     "name": "stderr",
     "output_type": "stream",
     "text": [
      "Special tokens have been added in the vocabulary, make sure the associated word embeddings are fine-tuned or trained.\n"
     ]
    },
    {
     "name": "stdout",
     "output_type": "stream",
     "text": [
      "\n"
     ]
    }
   ],
   "source": [
    "from pathlib import Path\n",
    "from main import argument_parsing\n",
    "from src.model import Text2SQL\n",
    "# import pytorch_lightning as pl\n",
    "# import numpy as np\n",
    "\n",
    "# pl.seed_everything(np.random.randint(0, 100))\n",
    "args_parser = argument_parsing(preparse=True)\n",
    "args = args_parser.parse_known_args()[0]\n",
    "\n",
    "model = Text2SQL.load_from_checkpoint(Path(args.ckpt_dir) / \"epochepoch=05-val_loss=35.578-val_acc_sc=0.545-val_acc_sa=1.000-val_acc_wn=1.000-val_acc_wo=1.000.ckpt\")\n",
    "model.eval()\n",
    "print()"
   ]
  },
  {
   "cell_type": "code",
   "execution_count": 2,
   "id": "5be6fd40",
   "metadata": {},
   "outputs": [],
   "source": [
    "def get_predict_sql(header, model, predicts):\n",
    "    \n",
    "    p_sc = header[predicts['sc'][0]]\n",
    "    p_sa = model.dbengine.agg_ops[predicts['sa'][0]]\n",
    "    where_num = predicts['wn'][0]\n",
    "    predict_SQL = f\"SELECT {p_sa}({p_sc}) FROM receipts WHERE \"\n",
    "\n",
    "    wcs = predicts['wc'][0]\n",
    "    wos = predicts['wo'][0]\n",
    "    wvs = predicts['wv'][0]\n",
    "    for i, (wc, wo, wv) in enumerate(zip(wcs, wos, wvs)):\n",
    "        p_wc = header[wc]\n",
    "        p_wo = model.dbengine.cond_ops[wo]\n",
    "        p_wv = wv.replace(\"[E]\", \"\").strip()\n",
    "        s = f\"{p_wc} {p_wo} '{p_wv}'\"\n",
    "        if i == where_num-1:\n",
    "            predict_SQL += s\n",
    "        else:\n",
    "            s += \" AND \"\n",
    "            predict_SQL += s\n",
    "    return predict_SQL\n"
   ]
  },
  {
   "cell_type": "code",
   "execution_count": 3,
   "id": "56b82d53",
   "metadata": {},
   "outputs": [
    {
     "data": {
      "text/html": [
       "<div>\n",
       "<style scoped>\n",
       "    .dataframe tbody tr th:only-of-type {\n",
       "        vertical-align: middle;\n",
       "    }\n",
       "\n",
       "    .dataframe tbody tr th {\n",
       "        vertical-align: top;\n",
       "    }\n",
       "\n",
       "    .dataframe thead th {\n",
       "        text-align: right;\n",
       "    }\n",
       "</style>\n",
       "<table border=\"1\" class=\"dataframe\">\n",
       "  <thead>\n",
       "    <tr style=\"text-align: right;\">\n",
       "      <th></th>\n",
       "      <th>index</th>\n",
       "      <th>rcept_no</th>\n",
       "      <th>reprt_code</th>\n",
       "      <th>bsns_year</th>\n",
       "      <th>corp_code</th>\n",
       "      <th>stock_code</th>\n",
       "      <th>fs_div</th>\n",
       "      <th>fs_nm</th>\n",
       "      <th>sj_div</th>\n",
       "      <th>sj_nm</th>\n",
       "      <th>account_nm</th>\n",
       "      <th>thstrm_nm</th>\n",
       "      <th>thstrm_dt</th>\n",
       "      <th>thstrm_amount</th>\n",
       "      <th>frmtrm_nm</th>\n",
       "      <th>frmtrm_dt</th>\n",
       "      <th>frmtrm_amount</th>\n",
       "      <th>bfefrmtrm_nm</th>\n",
       "      <th>bfefrmtrm_dt</th>\n",
       "      <th>bfefrmtrm_amount</th>\n",
       "    </tr>\n",
       "  </thead>\n",
       "  <tbody>\n",
       "    <tr>\n",
       "      <th>65</th>\n",
       "      <td>5</td>\n",
       "      <td>20210309000744</td>\n",
       "      <td>11011</td>\n",
       "      <td>2020</td>\n",
       "      <td>00126380</td>\n",
       "      <td>005930</td>\n",
       "      <td>CFS</td>\n",
       "      <td>연결재무제표</td>\n",
       "      <td>BS</td>\n",
       "      <td>재무상태표</td>\n",
       "      <td>부채총계</td>\n",
       "      <td>제 52 기</td>\n",
       "      <td>2020.12.31 현재</td>\n",
       "      <td>102287702000000</td>\n",
       "      <td>제 51 기</td>\n",
       "      <td>2019.12.31 현재</td>\n",
       "      <td>89684076000000</td>\n",
       "      <td>제 50 기</td>\n",
       "      <td>2018.12.31 현재</td>\n",
       "      <td>91604067000000</td>\n",
       "    </tr>\n",
       "    <tr>\n",
       "      <th>66</th>\n",
       "      <td>6</td>\n",
       "      <td>20210309000744</td>\n",
       "      <td>11011</td>\n",
       "      <td>2020</td>\n",
       "      <td>00126380</td>\n",
       "      <td>005930</td>\n",
       "      <td>CFS</td>\n",
       "      <td>연결재무제표</td>\n",
       "      <td>BS</td>\n",
       "      <td>재무상태표</td>\n",
       "      <td>자본금</td>\n",
       "      <td>제 52 기</td>\n",
       "      <td>2020.12.31 현재</td>\n",
       "      <td>897514000000</td>\n",
       "      <td>제 51 기</td>\n",
       "      <td>2019.12.31 현재</td>\n",
       "      <td>897514000000</td>\n",
       "      <td>제 50 기</td>\n",
       "      <td>2018.12.31 현재</td>\n",
       "      <td>897514000000</td>\n",
       "    </tr>\n",
       "    <tr>\n",
       "      <th>67</th>\n",
       "      <td>7</td>\n",
       "      <td>20210309000744</td>\n",
       "      <td>11011</td>\n",
       "      <td>2020</td>\n",
       "      <td>00126380</td>\n",
       "      <td>005930</td>\n",
       "      <td>CFS</td>\n",
       "      <td>연결재무제표</td>\n",
       "      <td>BS</td>\n",
       "      <td>재무상태표</td>\n",
       "      <td>이익잉여금</td>\n",
       "      <td>제 52 기</td>\n",
       "      <td>2020.12.31 현재</td>\n",
       "      <td>271068211000000</td>\n",
       "      <td>제 51 기</td>\n",
       "      <td>2019.12.31 현재</td>\n",
       "      <td>254582894000000</td>\n",
       "      <td>제 50 기</td>\n",
       "      <td>2018.12.31 현재</td>\n",
       "      <td>242698956000000</td>\n",
       "    </tr>\n",
       "    <tr>\n",
       "      <th>68</th>\n",
       "      <td>8</td>\n",
       "      <td>20210309000744</td>\n",
       "      <td>11011</td>\n",
       "      <td>2020</td>\n",
       "      <td>00126380</td>\n",
       "      <td>005930</td>\n",
       "      <td>CFS</td>\n",
       "      <td>연결재무제표</td>\n",
       "      <td>BS</td>\n",
       "      <td>재무상태표</td>\n",
       "      <td>자본총계</td>\n",
       "      <td>제 52 기</td>\n",
       "      <td>2020.12.31 현재</td>\n",
       "      <td>275948016000000</td>\n",
       "      <td>제 51 기</td>\n",
       "      <td>2019.12.31 현재</td>\n",
       "      <td>262880421000000</td>\n",
       "      <td>제 50 기</td>\n",
       "      <td>2018.12.31 현재</td>\n",
       "      <td>247753177000000</td>\n",
       "    </tr>\n",
       "    <tr>\n",
       "      <th>69</th>\n",
       "      <td>9</td>\n",
       "      <td>20210309000744</td>\n",
       "      <td>11011</td>\n",
       "      <td>2020</td>\n",
       "      <td>00126380</td>\n",
       "      <td>005930</td>\n",
       "      <td>CFS</td>\n",
       "      <td>연결재무제표</td>\n",
       "      <td>IS</td>\n",
       "      <td>손익계산서</td>\n",
       "      <td>매출액</td>\n",
       "      <td>제 52 기</td>\n",
       "      <td>2020.01.01 ~ 2020.12.31</td>\n",
       "      <td>236806988000000</td>\n",
       "      <td>제 51 기</td>\n",
       "      <td>2019.01.01 ~ 2019.12.31</td>\n",
       "      <td>230400881000000</td>\n",
       "      <td>제 50 기</td>\n",
       "      <td>2018.01.01 ~ 2018.12.31</td>\n",
       "      <td>243771415000000</td>\n",
       "    </tr>\n",
       "    <tr>\n",
       "      <th>70</th>\n",
       "      <td>10</td>\n",
       "      <td>20210309000744</td>\n",
       "      <td>11011</td>\n",
       "      <td>2020</td>\n",
       "      <td>00126380</td>\n",
       "      <td>005930</td>\n",
       "      <td>CFS</td>\n",
       "      <td>연결재무제표</td>\n",
       "      <td>IS</td>\n",
       "      <td>손익계산서</td>\n",
       "      <td>영업이익</td>\n",
       "      <td>제 52 기</td>\n",
       "      <td>2020.01.01 ~ 2020.12.31</td>\n",
       "      <td>35993876000000</td>\n",
       "      <td>제 51 기</td>\n",
       "      <td>2019.01.01 ~ 2019.12.31</td>\n",
       "      <td>27768509000000</td>\n",
       "      <td>제 50 기</td>\n",
       "      <td>2018.01.01 ~ 2018.12.31</td>\n",
       "      <td>58886669000000</td>\n",
       "    </tr>\n",
       "    <tr>\n",
       "      <th>71</th>\n",
       "      <td>11</td>\n",
       "      <td>20210309000744</td>\n",
       "      <td>11011</td>\n",
       "      <td>2020</td>\n",
       "      <td>00126380</td>\n",
       "      <td>005930</td>\n",
       "      <td>CFS</td>\n",
       "      <td>연결재무제표</td>\n",
       "      <td>IS</td>\n",
       "      <td>손익계산서</td>\n",
       "      <td>법인세차감전 순이익</td>\n",
       "      <td>제 52 기</td>\n",
       "      <td>2020.01.01 ~ 2020.12.31</td>\n",
       "      <td>36345117000000</td>\n",
       "      <td>제 51 기</td>\n",
       "      <td>2019.01.01 ~ 2019.12.31</td>\n",
       "      <td>30432189000000</td>\n",
       "      <td>제 50 기</td>\n",
       "      <td>2018.01.01 ~ 2018.12.31</td>\n",
       "      <td>61159958000000</td>\n",
       "    </tr>\n",
       "  </tbody>\n",
       "</table>\n",
       "</div>"
      ],
      "text/plain": [
       "    index        rcept_no reprt_code  bsns_year corp_code stock_code fs_div  \\\n",
       "65      5  20210309000744      11011       2020  00126380     005930    CFS   \n",
       "66      6  20210309000744      11011       2020  00126380     005930    CFS   \n",
       "67      7  20210309000744      11011       2020  00126380     005930    CFS   \n",
       "68      8  20210309000744      11011       2020  00126380     005930    CFS   \n",
       "69      9  20210309000744      11011       2020  00126380     005930    CFS   \n",
       "70     10  20210309000744      11011       2020  00126380     005930    CFS   \n",
       "71     11  20210309000744      11011       2020  00126380     005930    CFS   \n",
       "\n",
       "     fs_nm sj_div  sj_nm  account_nm thstrm_nm                thstrm_dt  \\\n",
       "65  연결재무제표     BS  재무상태표        부채총계    제 52 기            2020.12.31 현재   \n",
       "66  연결재무제표     BS  재무상태표         자본금    제 52 기            2020.12.31 현재   \n",
       "67  연결재무제표     BS  재무상태표       이익잉여금    제 52 기            2020.12.31 현재   \n",
       "68  연결재무제표     BS  재무상태표        자본총계    제 52 기            2020.12.31 현재   \n",
       "69  연결재무제표     IS  손익계산서         매출액    제 52 기  2020.01.01 ~ 2020.12.31   \n",
       "70  연결재무제표     IS  손익계산서        영업이익    제 52 기  2020.01.01 ~ 2020.12.31   \n",
       "71  연결재무제표     IS  손익계산서  법인세차감전 순이익    제 52 기  2020.01.01 ~ 2020.12.31   \n",
       "\n",
       "      thstrm_amount frmtrm_nm                frmtrm_dt    frmtrm_amount  \\\n",
       "65  102287702000000    제 51 기            2019.12.31 현재   89684076000000   \n",
       "66     897514000000    제 51 기            2019.12.31 현재     897514000000   \n",
       "67  271068211000000    제 51 기            2019.12.31 현재  254582894000000   \n",
       "68  275948016000000    제 51 기            2019.12.31 현재  262880421000000   \n",
       "69  236806988000000    제 51 기  2019.01.01 ~ 2019.12.31  230400881000000   \n",
       "70   35993876000000    제 51 기  2019.01.01 ~ 2019.12.31   27768509000000   \n",
       "71   36345117000000    제 51 기  2019.01.01 ~ 2019.12.31   30432189000000   \n",
       "\n",
       "   bfefrmtrm_nm             bfefrmtrm_dt  bfefrmtrm_amount  \n",
       "65       제 50 기            2018.12.31 현재    91604067000000  \n",
       "66       제 50 기            2018.12.31 현재      897514000000  \n",
       "67       제 50 기            2018.12.31 현재   242698956000000  \n",
       "68       제 50 기            2018.12.31 현재   247753177000000  \n",
       "69       제 50 기  2018.01.01 ~ 2018.12.31   243771415000000  \n",
       "70       제 50 기  2018.01.01 ~ 2018.12.31    58886669000000  \n",
       "71       제 50 기  2018.01.01 ~ 2018.12.31    61159958000000  "
      ]
     },
     "execution_count": 3,
     "metadata": {},
     "output_type": "execute_result"
    }
   ],
   "source": [
    "table = model.load_tables(Path(args.train_table_file))\n",
    "header = table[\"receipts\"][\"header\"]\n",
    "\n",
    "table_id = \"receipts\"\n",
    "res = model.dbengine.db.query(f\"SELECT * FROM {table_id}\").export(\"df\")\n",
    "res.loc[65:]"
   ]
  },
  {
   "cell_type": "markdown",
   "id": "32404114",
   "metadata": {},
   "source": [
    "## Example 1"
   ]
  },
  {
   "cell_type": "code",
   "execution_count": 4,
   "id": "f68a0224",
   "metadata": {},
   "outputs": [
    {
     "data": {
      "text/plain": [
       "[{'question': '2020년도에서 삼성전자의 법인세 차감전순 이익은 얼마니 ???', 'table_id': 'receipts'}]"
      ]
     },
     "execution_count": 4,
     "metadata": {},
     "output_type": "execute_result"
    }
   ],
   "source": [
    "Q = \"2020년도에서 삼성전자의 법인세 차감전순 이익은 얼마니 ???\"\n",
    "data = [{\"question\": Q, \"table_id\": table_id}]\n",
    "data"
   ]
  },
  {
   "cell_type": "code",
   "execution_count": 5,
   "id": "0628c422",
   "metadata": {},
   "outputs": [
    {
     "data": {
      "text/plain": [
       "\"SELECT (thstrm_amount) FROM receipts WHERE bfefrmtrm_nm = '부채총계' AND frmtrm_amount = '부채총계'\""
      ]
     },
     "execution_count": 5,
     "metadata": {},
     "output_type": "execute_result"
    }
   ],
   "source": [
    "predicts = model.predict_outputs(data, table)\n",
    "# ANSWER: \"SELECT thstrm_amount FROM receipts WHERE account_nm = '이익잉여금' AND bsns_year = 2020\"\n",
    "get_predict_sql(header, model, predicts)"
   ]
  },
  {
   "cell_type": "code",
   "execution_count": 6,
   "id": "0926e9a0",
   "metadata": {},
   "outputs": [
    {
     "data": {
      "text/plain": [
       "{'sc': [13],\n",
       " 'sa': [0],\n",
       " 'wn': [2],\n",
       " 'wc': [[17, 16]],\n",
       " 'wo': [[0, 0]],\n",
       " 'wv_tkns': [[[2455, 7452, 5436, 8003]], [[2455, 7452, 5436, 8003]]],\n",
       " 'wv': [('부채총계 [E]', '부채총계 [E]')]}"
      ]
     },
     "execution_count": 6,
     "metadata": {},
     "output_type": "execute_result"
    }
   ],
   "source": [
    "predicts"
   ]
  },
  {
   "cell_type": "markdown",
   "id": "4d830583",
   "metadata": {},
   "source": [
    "Reason: \n",
    "- data is too simple\n",
    "- loss function issue\n",
    "\n",
    "Result: May need execution - guided decoding"
   ]
  }
 ],
 "metadata": {
  "kernelspec": {
   "display_name": "Python 3",
   "language": "python",
   "name": "python3"
  },
  "language_info": {
   "codemirror_mode": {
    "name": "ipython",
    "version": 3
   },
   "file_extension": ".py",
   "mimetype": "text/x-python",
   "name": "python",
   "nbconvert_exporter": "python",
   "pygments_lexer": "ipython3",
   "version": "3.7.10"
  }
 },
 "nbformat": 4,
 "nbformat_minor": 5
}
