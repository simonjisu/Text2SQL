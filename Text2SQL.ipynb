{
 "cells": [
  {
   "cell_type": "markdown",
   "id": "c7a14651",
   "metadata": {},
   "source": [
    "# Text2SQL Test Notebook"
   ]
  },
  {
   "cell_type": "code",
   "execution_count": 1,
   "id": "72c2723c",
   "metadata": {},
   "outputs": [
    {
     "name": "stdout",
     "output_type": "stream",
     "text": [
      "\n"
     ]
    }
   ],
   "source": [
    "import numpy as np\n",
    "from pathlib import Path\n",
    "from main import argument_parsing\n",
    "from src.model import Text2SQL\n",
    "# import pytorch_lightning as pl\n",
    "# import numpy as np\n",
    "\n",
    "# pl.seed_everything(np.random.randint(0, 100))\n",
    "args_parser = argument_parsing(preparse=True)\n",
    "args = args_parser.parse_known_args()[0]\n",
    "\n",
    "model = Text2SQL.load_from_checkpoint(Path(args.ckpt_dir) / \"epochepoch=00-val_loss=63.102-val_acc_sc=0.949-val_acc_sa=1.000-val_acc_wn=0.985-val_acc_wo=0.992.ckpt\")\n",
    "model.eval()\n",
    "print()"
   ]
  },
  {
   "cell_type": "markdown",
   "id": "17a78e48",
   "metadata": {},
   "source": [
    "```\n",
    "  | Name                 | Type              | Params\n",
    "-----------------------------------------------------------\n",
    "0 | model_bert           | BertModel         | 92.2 M\n",
    "1 | model_decoder        | Decoder           | 22.5 M\n",
    "2 | cross_entropy        | CrossEntropyLoss  | 0\n",
    "3 | binary_cross_entropy | BCEWithLogitsLoss | 0\n",
    "4 | cross_entropy_wv     | CrossEntropyLoss  | 0\n",
    "5 | acc_sc               | Accuracy          | 0\n",
    "6 | acc_sa               | Accuracy          | 0\n",
    "7 | acc_wn               | Accuracy          | 0\n",
    "8 | acc_wo               | Accuracy          | 0\n",
    "9 | pp_wv                | Perplexity        | 0\n",
    "-----------------------------------------------------------\n",
    "108 M     Trainable params\n",
    "0         Non-trainable params\n",
    "108 M     Total params\n",
    "434.292   Total estimated model params size (MB)\n",
    "```"
   ]
  },
  {
   "cell_type": "code",
   "execution_count": 17,
   "id": "02f0c51c",
   "metadata": {},
   "outputs": [
    {
     "name": "stdout",
     "output_type": "stream",
     "text": [
      "002100\n",
      "['index', 'rcept_no', 'reprt_code', 'bsns_year', 'corp_code', 'stock_code', 'fs_div', 'fs_nm', 'sj_div', 'sj_nm', 'account_nm', 'thstrm_nm', 'thstrm_dt', 'thstrm_amount']\n"
     ]
    }
   ],
   "source": [
    "table = model.load_tables(Path(args.train_table_file))\n",
    "table_id = np.random.choice(list(table.keys()))\n",
    "header = table[table_id][\"header\"]\n",
    "print(table_id)\n",
    "print(header)"
   ]
  },
  {
   "cell_type": "code",
   "execution_count": 18,
   "id": "7b6902be",
   "metadata": {},
   "outputs": [
    {
     "data": {
      "text/html": [
       "<div>\n",
       "<style scoped>\n",
       "    .dataframe tbody tr th:only-of-type {\n",
       "        vertical-align: middle;\n",
       "    }\n",
       "\n",
       "    .dataframe tbody tr th {\n",
       "        vertical-align: top;\n",
       "    }\n",
       "\n",
       "    .dataframe thead th {\n",
       "        text-align: right;\n",
       "    }\n",
       "</style>\n",
       "<table border=\"1\" class=\"dataframe\">\n",
       "  <thead>\n",
       "    <tr style=\"text-align: right;\">\n",
       "      <th></th>\n",
       "      <th>index</th>\n",
       "      <th>rcept_no</th>\n",
       "      <th>reprt_code</th>\n",
       "      <th>bsns_year</th>\n",
       "      <th>corp_code</th>\n",
       "      <th>stock_code</th>\n",
       "      <th>fs_div</th>\n",
       "      <th>fs_nm</th>\n",
       "      <th>sj_div</th>\n",
       "      <th>sj_nm</th>\n",
       "      <th>account_nm</th>\n",
       "      <th>thstrm_nm</th>\n",
       "      <th>thstrm_dt</th>\n",
       "      <th>thstrm_amount</th>\n",
       "    </tr>\n",
       "  </thead>\n",
       "  <tbody>\n",
       "    <tr>\n",
       "      <th>34</th>\n",
       "      <td>34</td>\n",
       "      <td>20210322000474</td>\n",
       "      <td>11011</td>\n",
       "      <td>2020</td>\n",
       "      <td>00101433</td>\n",
       "      <td>002100</td>\n",
       "      <td>CFS</td>\n",
       "      <td>연결재무제표</td>\n",
       "      <td>BS</td>\n",
       "      <td>재무상태표</td>\n",
       "      <td>자본총계</td>\n",
       "      <td>제 64 기</td>\n",
       "      <td>2020.12.31 현재</td>\n",
       "      <td>918835950</td>\n",
       "    </tr>\n",
       "    <tr>\n",
       "      <th>35</th>\n",
       "      <td>35</td>\n",
       "      <td>20210322000474</td>\n",
       "      <td>11011</td>\n",
       "      <td>2020</td>\n",
       "      <td>00101433</td>\n",
       "      <td>002100</td>\n",
       "      <td>CFS</td>\n",
       "      <td>연결재무제표</td>\n",
       "      <td>IS</td>\n",
       "      <td>손익계산서</td>\n",
       "      <td>매출액</td>\n",
       "      <td>제 64 기</td>\n",
       "      <td>2020.01.01 ~ 2020.12.31</td>\n",
       "      <td>-812579367</td>\n",
       "    </tr>\n",
       "    <tr>\n",
       "      <th>36</th>\n",
       "      <td>36</td>\n",
       "      <td>20210322000474</td>\n",
       "      <td>11011</td>\n",
       "      <td>2020</td>\n",
       "      <td>00101433</td>\n",
       "      <td>002100</td>\n",
       "      <td>CFS</td>\n",
       "      <td>연결재무제표</td>\n",
       "      <td>IS</td>\n",
       "      <td>손익계산서</td>\n",
       "      <td>영업이익</td>\n",
       "      <td>제 64 기</td>\n",
       "      <td>2020.01.01 ~ 2020.12.31</td>\n",
       "      <td>1397074739</td>\n",
       "    </tr>\n",
       "    <tr>\n",
       "      <th>37</th>\n",
       "      <td>37</td>\n",
       "      <td>20210322000474</td>\n",
       "      <td>11011</td>\n",
       "      <td>2020</td>\n",
       "      <td>00101433</td>\n",
       "      <td>002100</td>\n",
       "      <td>CFS</td>\n",
       "      <td>연결재무제표</td>\n",
       "      <td>IS</td>\n",
       "      <td>손익계산서</td>\n",
       "      <td>법인세차감전 순이익</td>\n",
       "      <td>제 64 기</td>\n",
       "      <td>2020.01.01 ~ 2020.12.31</td>\n",
       "      <td>422284310</td>\n",
       "    </tr>\n",
       "    <tr>\n",
       "      <th>38</th>\n",
       "      <td>38</td>\n",
       "      <td>20210322000474</td>\n",
       "      <td>11011</td>\n",
       "      <td>2020</td>\n",
       "      <td>00101433</td>\n",
       "      <td>002100</td>\n",
       "      <td>OFS</td>\n",
       "      <td>재무제표</td>\n",
       "      <td>BS</td>\n",
       "      <td>재무상태표</td>\n",
       "      <td>유동자산</td>\n",
       "      <td>제 64 기</td>\n",
       "      <td>2020.12.31 현재</td>\n",
       "      <td>-1983377738</td>\n",
       "    </tr>\n",
       "  </tbody>\n",
       "</table>\n",
       "</div>"
      ],
      "text/plain": [
       "    index        rcept_no reprt_code  bsns_year corp_code stock_code fs_div  \\\n",
       "34     34  20210322000474      11011       2020  00101433     002100    CFS   \n",
       "35     35  20210322000474      11011       2020  00101433     002100    CFS   \n",
       "36     36  20210322000474      11011       2020  00101433     002100    CFS   \n",
       "37     37  20210322000474      11011       2020  00101433     002100    CFS   \n",
       "38     38  20210322000474      11011       2020  00101433     002100    OFS   \n",
       "\n",
       "     fs_nm sj_div  sj_nm  account_nm thstrm_nm                thstrm_dt  \\\n",
       "34  연결재무제표     BS  재무상태표        자본총계    제 64 기            2020.12.31 현재   \n",
       "35  연결재무제표     IS  손익계산서         매출액    제 64 기  2020.01.01 ~ 2020.12.31   \n",
       "36  연결재무제표     IS  손익계산서        영업이익    제 64 기  2020.01.01 ~ 2020.12.31   \n",
       "37  연결재무제표     IS  손익계산서  법인세차감전 순이익    제 64 기  2020.01.01 ~ 2020.12.31   \n",
       "38    재무제표     BS  재무상태표        유동자산    제 64 기            2020.12.31 현재   \n",
       "\n",
       "    thstrm_amount  \n",
       "34      918835950  \n",
       "35     -812579367  \n",
       "36     1397074739  \n",
       "37      422284310  \n",
       "38    -1983377738  "
      ]
     },
     "execution_count": 18,
     "metadata": {},
     "output_type": "execute_result"
    }
   ],
   "source": [
    "res = model.dbengine.db.query(f'SELECT * FROM \"{table_id}\"').export(\"df\")\n",
    "res.tail()"
   ]
  },
  {
   "cell_type": "code",
   "execution_count": 19,
   "id": "3c3f7c6a",
   "metadata": {},
   "outputs": [],
   "source": [
    "def get_predict_sql(table_id, header, model, predicts):\n",
    "    \n",
    "    p_sc = header[predicts['sc'][0]]\n",
    "    p_sa = model.dbengine.agg_ops[predicts['sa'][0]]\n",
    "    where_num = predicts['wn'][0]\n",
    "    predict_SQL = f\"SELECT {p_sa}({p_sc}) FROM {table_id} WHERE \"\n",
    "\n",
    "    wcs = predicts['wc'][0]\n",
    "    wos = predicts['wo'][0]\n",
    "    wvs = predicts['wv'][0]\n",
    "    for i, (wc, wo, wv) in enumerate(zip(wcs, wos, wvs)):\n",
    "        p_wc = header[wc]\n",
    "        p_wo = model.dbengine.cond_ops[wo]\n",
    "        p_wv = wv.replace(\"[E]\", \"\").strip()\n",
    "        s = f\"{p_wc} {p_wo} '{p_wv}'\"\n",
    "        if i == where_num-1:\n",
    "            predict_SQL += s\n",
    "        else:\n",
    "            s += \" AND \"\n",
    "            predict_SQL += s\n",
    "    return predict_SQL"
   ]
  },
  {
   "cell_type": "markdown",
   "id": "6b5e2749",
   "metadata": {},
   "source": [
    "## Example 1"
   ]
  },
  {
   "cell_type": "code",
   "execution_count": 27,
   "id": "dcdf9491",
   "metadata": {},
   "outputs": [
    {
     "data": {
      "text/plain": [
       "[{'question': '002100의 제 64기 영업이익은 얼마니 ???', 'table_id': '002100'}]"
      ]
     },
     "execution_count": 27,
     "metadata": {},
     "output_type": "execute_result"
    }
   ],
   "source": [
    "Q = f\"{table_id}의 제 64기 영업이익은 얼마니 ???\"\n",
    "data = [{\"question\": Q, \"table_id\": table_id}]\n",
    "data"
   ]
  },
  {
   "cell_type": "code",
   "execution_count": 28,
   "id": "6cabae8e",
   "metadata": {},
   "outputs": [
    {
     "data": {
      "text/plain": [
       "\"SELECT (thstrm_amount) FROM 002100 WHERE fs_div = '2019' AND stock_code = '2019'\""
      ]
     },
     "execution_count": 28,
     "metadata": {},
     "output_type": "execute_result"
    }
   ],
   "source": [
    "predicts, attns = model.predict_outputs(data, table, rt_attn=True)\n",
    "# ANSWER: 'SELECT thstrm_amount FROM \"003490\" WHERE account_nm = \"법인세차감전 순이익\" AND bsns_year = 2020'\n",
    "get_predict_sql(table_id, header, model, predicts)"
   ]
  },
  {
   "cell_type": "code",
   "execution_count": 29,
   "id": "f57b68a4",
   "metadata": {},
   "outputs": [
    {
     "data": {
      "text/plain": [
       "{'sc': [13],\n",
       " 'sa': [0],\n",
       " 'wn': [2],\n",
       " 'wc': [[6, 5]],\n",
       " 'wo': [[0, 0]],\n",
       " 'wv_tkns': [[[554, 116, 8003]],\n",
       "  [[554, 116, 8003]],\n",
       "  [[2514, 7063, 5872, 6398, 7405, 8003]],\n",
       "  [[2514, 7063, 5872, 6398, 7405, 8003]]],\n",
       " 'wv': [('2019 [E]', '2019 [E]', '비유동부채 [E]', '비유동부채 [E]')]}"
      ]
     },
     "execution_count": 29,
     "metadata": {},
     "output_type": "execute_result"
    }
   ],
   "source": [
    "predicts"
   ]
  },
  {
   "cell_type": "code",
   "execution_count": 14,
   "id": "9151210b",
   "metadata": {},
   "outputs": [
    {
     "data": {
      "text/plain": [
       "[{'question': '003490 제 59 기는 언제야 ?', 'table_id': '003490'}]"
      ]
     },
     "execution_count": 14,
     "metadata": {},
     "output_type": "execute_result"
    }
   ],
   "source": [
    "Q = f\"{table_id} 제 59 기는 언제야 ?\"\n",
    "data = [{\"question\": Q, \"table_id\": table_id}]\n",
    "data"
   ]
  },
  {
   "cell_type": "code",
   "execution_count": 15,
   "id": "3c39c325",
   "metadata": {},
   "outputs": [
    {
     "data": {
      "text/plain": [
       "\"SELECT (thstrm_amount) FROM 003490 WHERE fs_div = '2019' AND stock_code = '2019'\""
      ]
     },
     "execution_count": 15,
     "metadata": {},
     "output_type": "execute_result"
    }
   ],
   "source": [
    "predicts, attns = model.predict_outputs(data, table, rt_attn=True)\n",
    "get_predict_sql(table_id, header, model, predicts)"
   ]
  },
  {
   "cell_type": "code",
   "execution_count": null,
   "id": "0e0cbe9b",
   "metadata": {},
   "outputs": [],
   "source": []
  },
  {
   "cell_type": "code",
   "execution_count": 16,
   "id": "a3510396",
   "metadata": {},
   "outputs": [
    {
     "data": {
      "text/plain": [
       "{'sc': [13],\n",
       " 'sa': [0],\n",
       " 'wn': [2],\n",
       " 'wc': [[6, 5]],\n",
       " 'wo': [[0, 0]],\n",
       " 'wv_tkns': [[[554, 116, 8003]],\n",
       "  [[554, 116, 8003]],\n",
       "  [[2514, 7063, 5872, 6398, 7405, 8003]],\n",
       "  [[2514, 7063, 5872, 6398, 7405, 8003]]],\n",
       " 'wv': [('2019 [E]', '2019 [E]', '비유동부채 [E]', '비유동부채 [E]')]}"
      ]
     },
     "execution_count": 16,
     "metadata": {},
     "output_type": "execute_result"
    }
   ],
   "source": [
    "predicts"
   ]
  },
  {
   "cell_type": "markdown",
   "id": "3da7d4b0",
   "metadata": {},
   "source": [
    "Reason: \n",
    "\n",
    "- data is too simple(need diversity)\n",
    "- loss function issue\n",
    "\n",
    "TODO:\n",
    "\n",
    "- May need execution guided decoding(+ beam search)\n",
    "- Extend the dataset to all companies\n",
    "- Improve Model\n",
    "- Code Refactoring\n",
    "- Get the original purpose: resolve the ambigious parts in questions\n",
    "- Build Application with Streamlit"
   ]
  },
  {
   "cell_type": "code",
   "execution_count": null,
   "id": "6fd296f6",
   "metadata": {},
   "outputs": [],
   "source": [
    "tensor_to_img_array(window_grid_mask)"
   ]
  }
 ],
 "metadata": {
  "kernelspec": {
   "display_name": "Python 3",
   "language": "python",
   "name": "python3"
  },
  "language_info": {
   "codemirror_mode": {
    "name": "ipython",
    "version": 3
   },
   "file_extension": ".py",
   "mimetype": "text/x-python",
   "name": "python",
   "nbconvert_exporter": "python",
   "pygments_lexer": "ipython3",
   "version": "3.8.10"
  }
 },
 "nbformat": 4,
 "nbformat_minor": 5
}
